{
 "cells": [
  {
   "cell_type": "code",
   "execution_count": 1,
   "metadata": {},
   "outputs": [],
   "source": [
    "import os\n",
    "os.environ['CUDA_VISIBLE_DEVICES'] = '0'\n",
    "import cv2\n",
    "import numpy as np\n",
    "\n",
    "import torch\n",
    "import torch.nn.functional as F\n",
    "from ctpn_model import CTPN_Model\n",
    "from ctpn_utils import gen_anchor, bbox_transfor_inv, clip_box, filter_bbox,nms, TextProposalConnectorOriented\n",
    "from ctpn_utils import resize\n",
    "import config\n",
    "\n",
    "import matplotlib.pyplot as plt\n",
    "import pandas as pd\n",
    "import warnings\n",
    "warnings.filterwarnings(\"ignore\")"
   ]
  },
  {
   "cell_type": "code",
   "execution_count": 2,
   "metadata": {},
   "outputs": [],
   "source": [
    "prob_thresh = 0.5\n",
    "width = 960\n",
    "device = torch.device('cuda:0' if torch.cuda.is_available() else 'cpu')\n",
    "# weights = '/remote-home/my/final/Code/OCR-code(CTPN+CRNN+CTC Loss)-baidu/checkpoints/v3_ctpn_ep22_0.4395_0.1096_0.5491.pth'#'ctpn_ep17_0.0544_0.1125_0.1669.pth')\n",
    "# weights = '/remote-home/my/final/Code/OCR-code(CTPN+CRNN+CTC Loss)-baidu/CTPN.pth'\n",
    "\n",
    "# model = CTPN_Model()\n",
    "# model.load_state_dict(torch.load(weights, map_location=device)['model_state_dict'])\n",
    "# model.to(device)\n",
    "# model.eval()\n",
    "\n",
    "\n",
    "def dis(image):\n",
    "    cv2.imshow('image', image)\n",
    "    cv2.waitKey(0)\n",
    "    cv2.destroyAllWindows()\n",
    "\n",
    "\n",
    "def get_det_boxes(model, image,display = True):\n",
    "#     image = resize(image, height=720)\n",
    "    image_c = image.copy()\n",
    "    h, w = image.shape[:2]\n",
    "    image = image.astype(np.float32) - config.IMAGE_MEAN\n",
    "    image = torch.from_numpy(image.transpose(2, 0, 1)).unsqueeze(0).float()\n",
    "\n",
    "    with torch.no_grad():\n",
    "        image = image.to(device)\n",
    "        cls, regr = model(image)\n",
    "        cls_prob = F.softmax(cls, dim=-1).cpu().numpy()\n",
    "        regr = regr.cpu().numpy()\n",
    "        anchor = gen_anchor((int(h / 16), int(w / 16)), 16)\n",
    "        bbox = bbox_transfor_inv(anchor, regr)\n",
    "        bbox = clip_box(bbox, [h, w])\n",
    "        # print(bbox.shape)\n",
    "\n",
    "        fg = np.where(cls_prob[0, :, 1] > prob_thresh)[0]\n",
    "        # print(np.max(cls_prob[0, :, 1]))\n",
    "        select_anchor = bbox[fg, :]\n",
    "        select_score = cls_prob[0, fg, 1]\n",
    "        select_anchor = select_anchor.astype(np.int32)\n",
    "        # print(select_anchor.shape)\n",
    "        keep_index = filter_bbox(select_anchor, 16)\n",
    "\n",
    "        # nms\n",
    "        select_anchor = select_anchor[keep_index]\n",
    "        select_score = select_score[keep_index]\n",
    "        select_score = np.reshape(select_score, (select_score.shape[0], 1))\n",
    "        nmsbox = np.hstack((select_anchor, select_score))\n",
    "        keep = nms(nmsbox, 0.3)\n",
    "        # print(keep)\n",
    "        select_anchor = select_anchor[keep]\n",
    "        select_score = select_score[keep]\n",
    "\n",
    "        # text line-\n",
    "        textConn = TextProposalConnectorOriented()\n",
    "        text = textConn.get_text_lines(select_anchor, select_score, [h, w])\n",
    "#         print(text)\n",
    "        if display:\n",
    "            for i in text:\n",
    "                s = str(round(i[-1] * 100, 2)) + '%'\n",
    "                i = [int(j) for j in i]\n",
    "                cv2.line(image_c, (i[0], i[1]), (i[2], i[3]), (0, 0, 255), 2)\n",
    "                cv2.line(image_c, (i[0], i[1]), (i[4], i[5]), (0, 0, 255), 2)\n",
    "                cv2.line(image_c, (i[6], i[7]), (i[2], i[3]), (0, 0, 255), 2)\n",
    "                cv2.line(image_c, (i[4], i[5]), (i[6], i[7]), (0, 0, 255), 2)\n",
    "                cv2.putText(image_c, s, (i[0]+13, i[1]+13),\n",
    "                            cv2.FONT_HERSHEY_SIMPLEX,\n",
    "                            1,\n",
    "                            (255,0,0),\n",
    "                            2,\n",
    "                            cv2.LINE_AA)\n",
    "                \n",
    "\n",
    "        return text,image_c"
   ]
  },
  {
   "cell_type": "code",
   "execution_count": 3,
   "metadata": {},
   "outputs": [],
   "source": [
    "# 计算IOU\n",
    "\n",
    "import numpy as np \n",
    "import shapely\n",
    "from shapely.geometry import Polygon,MultiPoint  #多边形\n",
    " \n",
    "def cal_iou(line1,line2):\n",
    "    # line1=[908,215,934,312,752,355,728,252]   #四边形四个点坐标的一维数组表示，[x,y,x,y....]\n",
    "    a=np.array(line1).reshape(4, 2)   #四边形二维坐标表示\n",
    "    poly1 = Polygon(a).convex_hull  #python四边形对象，会自动计算四个点，最后四个点顺序为：左上 左下  右下 右上 左上\n",
    "\n",
    "    # line2=[923,308,758,342,741,262,907,228]\n",
    "    b=np.array(line2).reshape(4, 2)\n",
    "    poly2 = Polygon(b).convex_hull\n",
    "\n",
    "    union_poly = np.concatenate((a,b))   #合并两个box坐标，变为8*2\n",
    "\n",
    "    if not poly1.intersects(poly2): #如果两四边形不相交\n",
    "        iou = 0\n",
    "    else:\n",
    "        try:\n",
    "            inter_area = poly1.intersection(poly2).area   #相交面积\n",
    "    #         print(inter_area)\n",
    "            #union_area = poly1.area + poly2.area - inter_area\n",
    "            union_area = MultiPoint(union_poly).convex_hull.area\n",
    "    #         print(union_area)\n",
    "            if union_area == 0:\n",
    "                iou= 0\n",
    "            #iou = float(inter_area) / (union_area-inter_area)  #错了\n",
    "            iou=float(inter_area) / union_area\n",
    "    #         iou=float(inter_area) /(poly1.area+poly2.area-inter_area)\n",
    "            # 源码中给出了两种IOU计算方式，第一种计算的是: 交集部分/包含两个四边形最小多边形的面积  \n",
    "            # 第二种： 交集 / 并集（常见矩形框IOU计算方式） \n",
    "        except shapely.geos.TopologicalError:\n",
    "            print('shapely.geos.TopologicalError occured, iou set to 0')\n",
    "            iou = 0\n",
    "\n",
    "    # print(a) \n",
    "#     print(iou)\n",
    "    return iou"
   ]
  },
  {
   "cell_type": "code",
   "execution_count": 4,
   "metadata": {},
   "outputs": [
    {
     "data": {
      "text/plain": [
       "'v3_ctpn_ep12_0.4924_0.1245_0.6169.pth'"
      ]
     },
     "execution_count": 4,
     "metadata": {},
     "output_type": "execute_result"
    }
   ],
   "source": [
    "model_dir = '/remote-home/my/final/Code/OCR-code(CTPN+CRNN+CTC Loss)-baidu/checkpoints/'\n",
    "model_list = os.listdir(model_dir)\n",
    "model_list[0]"
   ]
  },
  {
   "cell_type": "code",
   "execution_count": 5,
   "metadata": {},
   "outputs": [
    {
     "data": {
      "text/plain": [
       "'ep01'"
      ]
     },
     "execution_count": 5,
     "metadata": {},
     "output_type": "execute_result"
    }
   ],
   "source": [
    "model_list.sort()\n",
    "model_list[0].split(\"_\")[2]"
   ]
  },
  {
   "cell_type": "code",
   "execution_count": 6,
   "metadata": {},
   "outputs": [
    {
     "name": "stdout",
     "output_type": "stream",
     "text": [
      "ep04\n",
      "1 3 2\n",
      "1 5 2\n",
      "2 7 3\n",
      "4 17 7\n"
     ]
    },
    {
     "name": "stderr",
     "output_type": "stream",
     "text": [
      "b'Skipping line 17: expected 10 fields, saw 11\\nSkipping line 37: expected 10 fields, saw 11\\n'\n"
     ]
    },
    {
     "name": "stdout",
     "output_type": "stream",
     "text": [
      "4 105 25\n",
      "21 130 47\n",
      "22 135 50\n",
      "22 148 52\n",
      "24 151 54\n",
      "24 210 57\n",
      "24 212 57\n",
      "30 219 63\n",
      "30 221 65\n",
      "34 235 72\n",
      "34 236 72\n",
      "35 243 75\n",
      "36 248 77\n",
      "36 253 79\n",
      "41 267 87\n",
      "41 269 89\n",
      "42 272 91\n",
      "42 281 95\n",
      "42 285 95\n",
      "42 289 95\n",
      "43 290 96\n"
     ]
    },
    {
     "name": "stderr",
     "output_type": "stream",
     "text": [
      "b'Skipping line 3: expected 10 fields, saw 11\\nSkipping line 5: expected 10 fields, saw 11\\n'\n"
     ]
    },
    {
     "name": "stdout",
     "output_type": "stream",
     "text": [
      "44 293 98\n",
      "44 295 98\n",
      "45 351 101\n",
      "45 353 102\n",
      "46 360 105\n"
     ]
    },
    {
     "name": "stderr",
     "output_type": "stream",
     "text": [
      "b'Skipping line 4: expected 10 fields, saw 11\\n'\n"
     ]
    },
    {
     "name": "stdout",
     "output_type": "stream",
     "text": [
      "47 381 106\n",
      "49 410 114\n",
      "50 415 115\n",
      "50 420 115\n",
      "54 469 130\n",
      "56 480 133\n",
      "58 489 137\n",
      "58 493 141\n",
      "62 502 148\n",
      "62 504 148\n",
      "62 509 150\n",
      "63 518 152\n",
      "63 519 152\n",
      "63 520 152\n",
      "63 527 152\n",
      "63 533 154\n",
      "63 534 154\n",
      "63 535 154\n"
     ]
    },
    {
     "name": "stderr",
     "output_type": "stream",
     "text": [
      "b'Skipping line 4: expected 10 fields, saw 11\\n'\n"
     ]
    },
    {
     "name": "stdout",
     "output_type": "stream",
     "text": [
      "68 543 163\n",
      "68 544 163\n",
      "68 571 167\n",
      "68 574 167\n",
      "70 582 172\n",
      "70 583 172\n",
      "72 589 174\n",
      "72 595 176\n",
      "78 627 188\n",
      "78 631 189\n",
      "78 643 190\n",
      "78 647 190\n",
      "79 651 193\n",
      "80 655 195\n",
      "81 656 196\n",
      "82 694 199\n",
      "82 696 201\n",
      "82 698 201\n"
     ]
    },
    {
     "name": "stderr",
     "output_type": "stream",
     "text": [
      "b'Skipping line 8: expected 10 fields, saw 11\\nSkipping line 9: expected 10 fields, saw 11\\nSkipping line 15: expected 10 fields, saw 11\\n'\n"
     ]
    },
    {
     "name": "stdout",
     "output_type": "stream",
     "text": [
      "85 710 205\n",
      "85 711 205\n",
      "85 719 205\n",
      "85 720 205\n",
      "92 796 235\n",
      "92 799 236\n"
     ]
    },
    {
     "name": "stderr",
     "output_type": "stream",
     "text": [
      "b'Skipping line 2: expected 10 fields, saw 11\\n'\n"
     ]
    },
    {
     "name": "stdout",
     "output_type": "stream",
     "text": [
      "93 821 239\n",
      "94 824 240\n",
      "96 828 242\n"
     ]
    },
    {
     "name": "stderr",
     "output_type": "stream",
     "text": [
      "b'Skipping line 8: expected 10 fields, saw 11\\n'\n"
     ]
    },
    {
     "name": "stdout",
     "output_type": "stream",
     "text": [
      "96 841 242\n",
      "96 846 242\n",
      "98 848 244\n",
      "99 861 245\n",
      "99 867 245\n",
      "99 873 245\n",
      "99 876 246\n",
      "100 879 249\n",
      "100 883 250\n",
      "102 888 254\n",
      "102 889 254\n",
      "102 898 256\n",
      "102 907 256\n",
      "103 908 257\n",
      "105 952 271\n",
      "105 963 272\n",
      "107 965 275\n",
      "107 970 275\n",
      "107 992 278\n",
      "108 1007 282\n",
      "108 1012 283\n",
      "108 1017 286\n",
      "108 1025 287\n",
      "114 1075 301\n",
      "115 1081 303\n",
      "116 1088 306\n",
      "116 1089 308\n",
      "116 1092 310\n",
      "116 1096 311\n",
      "116 1099 311\n",
      "116 1104 311\n",
      "118 1108 314\n",
      "118 1126 317\n",
      "119 1151 326\n",
      "119 1155 327\n",
      "120 1160 329\n",
      "123 1168 333\n",
      "124 1170 334\n",
      "129 1176 340\n",
      "129 1179 340\n",
      "129 1183 340\n",
      "130 1189 342\n",
      "133 1196 345\n",
      "133 1197 345\n",
      "133 1201 345\n",
      "133 1224 349\n",
      "133 1229 351\n",
      "133 1237 351\n",
      "136 1243 355\n",
      "136 1244 355\n",
      "137 1247 356\n",
      "137 1251 356\n",
      "151 1270 372\n",
      "153 1272 374\n",
      "153 1280 375\n",
      "153 1281 375\n",
      "154 1284 378\n",
      "154 1287 379\n",
      "154 1289 380\n",
      "154 1291 380\n",
      "156 1307 384\n",
      "156 1312 386\n",
      "156 1339 387\n",
      "156 1349 387\n",
      "156 1353 387\n",
      "157 1399 389\n",
      "157 1403 390\n",
      "157 1409 390\n",
      "157 1414 391\n",
      "158 1418 396\n",
      "158 1420 396\n",
      "158 1424 396\n",
      "159 1440 399\n",
      "159 1442 399\n",
      "159 1449 403\n",
      "161 1455 408\n",
      "161 1462 408\n",
      "164 1489 415\n",
      "165 1491 416\n",
      "165 1494 418\n"
     ]
    },
    {
     "name": "stderr",
     "output_type": "stream",
     "text": [
      "b'Skipping line 4: expected 10 fields, saw 11\\n'\n"
     ]
    },
    {
     "name": "stdout",
     "output_type": "stream",
     "text": [
      "165 1497 418\n",
      "165 1502 418\n",
      "169 1515 430\n",
      "169 1524 431\n",
      "170 1529 433\n",
      "171 1530 434\n",
      "171 1531 435\n",
      "171 1534 435\n",
      "173 1537 437\n",
      "173 1540 437\n",
      "173 1542 438\n",
      "173 1547 438\n",
      "174 1557 441\n",
      "174 1559 441\n",
      "174 1564 444\n",
      "174 1570 446\n",
      "174 1574 447\n",
      "175 1595 454\n",
      "175 1597 455\n",
      "175 1609 457\n",
      "176 1612 460\n",
      "176 1652 461\n",
      "176 1659 462\n",
      "176 1661 463\n",
      "176 1669 464\n",
      "176 1670 465\n",
      "176 1695 465\n",
      "176 1700 467\n",
      "177 1703 468\n"
     ]
    },
    {
     "name": "stderr",
     "output_type": "stream",
     "text": [
      "b'Skipping line 5: expected 10 fields, saw 11\\n'\n"
     ]
    },
    {
     "name": "stdout",
     "output_type": "stream",
     "text": [
      "177 1712 468\n",
      "179 1724 473\n",
      "182 1737 479\n",
      "183 1746 482\n",
      "183 1750 483\n",
      "183 1776 483\n",
      "184 1781 484\n",
      "184 1784 486\n",
      "184 1790 486\n",
      "185 1795 487\n",
      "186 1799 490\n",
      "190 1807 495\n",
      "192 1810 497\n",
      "192 1813 497\n",
      "193 1818 498\n",
      "193 1821 498\n",
      "193 1832 501\n",
      "193 1834 501\n",
      "193 1839 501\n",
      "193 1852 505\n",
      "193 1857 508\n",
      "193 1861 509\n",
      "195 1866 516\n",
      "196 1889 520\n",
      "197 1890 521\n",
      "197 1934 522\n"
     ]
    },
    {
     "name": "stderr",
     "output_type": "stream",
     "text": [
      "b'Skipping line 31: expected 10 fields, saw 11\\nSkipping line 62: expected 10 fields, saw 11\\nSkipping line 68: expected 10 fields, saw 11\\n'\n"
     ]
    },
    {
     "name": "stdout",
     "output_type": "stream",
     "text": [
      "197 2005 524\n",
      "199 2025 527\n",
      "199 2026 531\n",
      "199 2034 534\n",
      "199 2037 537\n",
      "199 2039 541\n",
      "199 2047 549\n",
      "199 2057 549\n",
      "200 2074 552\n",
      "206 2086 565\n",
      "206 2091 565\n",
      "207 2093 568\n",
      "207 2094 572\n",
      "207 2099 575\n",
      "207 2104 575\n",
      "213 2111 581\n",
      "213 2115 581\n",
      "215 2135 587\n",
      "215 2137 588\n",
      "215 2140 592\n",
      "215 2145 592\n",
      "216 2148 593\n",
      "216 2150 594\n"
     ]
    },
    {
     "name": "stderr",
     "output_type": "stream",
     "text": [
      "b'Skipping line 10: expected 10 fields, saw 11\\nSkipping line 20: expected 10 fields, saw 12\\n'\n"
     ]
    },
    {
     "name": "stdout",
     "output_type": "stream",
     "text": [
      "221 2204 614\n",
      "221 2208 615\n",
      "222 2212 616\n",
      "222 2215 618\n"
     ]
    },
    {
     "name": "stderr",
     "output_type": "stream",
     "text": [
      "b'Skipping line 41: expected 10 fields, saw 11\\nSkipping line 42: expected 10 fields, saw 11\\n'\n"
     ]
    },
    {
     "name": "stdout",
     "output_type": "stream",
     "text": [
      "226 2256 630\n",
      "226 2262 632\n",
      "228 2264 634\n",
      "228 2269 634\n",
      "228 2270 635\n",
      "228 2276 636\n",
      "234 2332 651\n",
      "235 2337 652\n",
      "235 2340 652\n",
      "235 2341 652\n",
      "236 2367 654\n"
     ]
    },
    {
     "name": "stderr",
     "output_type": "stream",
     "text": [
      "b'Skipping line 12: expected 10 fields, saw 11\\n'\n"
     ]
    },
    {
     "name": "stdout",
     "output_type": "stream",
     "text": [
      "256 2396 678\n",
      "257 2404 679\n",
      "258 2408 680\n",
      "260 2443 687\n",
      "260 2446 687\n",
      "262 2448 689\n",
      "262 2453 691\n",
      "264 2458 693\n",
      "264 2462 693\n",
      "264 2468 694\n",
      "265 2490 703\n",
      "266 2506 710\n"
     ]
    },
    {
     "name": "stderr",
     "output_type": "stream",
     "text": [
      "b'Skipping line 28: expected 10 fields, saw 11\\n'\n"
     ]
    },
    {
     "name": "stdout",
     "output_type": "stream",
     "text": [
      "278 2582 736\n",
      "279 2584 748\n",
      "279 2606 753\n",
      "279 2612 753\n",
      "286 2626 760\n",
      "286 2627 760\n",
      "289 2642 765\n"
     ]
    },
    {
     "name": "stderr",
     "output_type": "stream",
     "text": [
      "b'Skipping line 7: expected 10 fields, saw 11\\n'\n",
      "b'Skipping line 5: expected 10 fields, saw 11\\nSkipping line 9: expected 10 fields, saw 11\\n'\n"
     ]
    },
    {
     "name": "stdout",
     "output_type": "stream",
     "text": [
      "290 2649 768\n",
      "290 2651 768\n",
      "290 2654 768\n",
      "290 2657 768\n",
      "290 2665 770\n",
      "291 2667 772\n",
      "292 2673 778\n",
      "296 2679 782\n",
      "296 2683 784\n",
      "296 2698 785\n"
     ]
    },
    {
     "name": "stderr",
     "output_type": "stream",
     "text": [
      "b'Skipping line 2: expected 10 fields, saw 11\\n'\n"
     ]
    },
    {
     "name": "stdout",
     "output_type": "stream",
     "text": [
      "296 2706 789\n",
      "300 2712 793\n",
      "300 2713 793\n",
      "303 2723 798\n",
      "303 2727 800\n",
      "303 2730 800\n",
      "304 2734 801\n",
      "304 2737 801\n",
      "304 2743 804\n",
      "304 2749 804\n",
      "304 2750 804\n",
      "304 2753 804\n",
      "304 2757 804\n",
      "307 2763 808\n",
      "307 2769 808\n",
      "309 2772 810\n",
      "311 2774 812\n",
      "313 2808 816\n",
      "313 2810 818\n",
      "313 2821 818\n",
      "314 2828 819\n",
      "314 2847 826\n",
      "314 2852 826\n",
      "314 2855 826\n",
      "316 2859 830\n",
      "316 2863 830\n",
      "316 2865 830\n",
      "316 2869 830\n",
      "316 2875 830\n",
      "317 2878 832\n",
      "317 2879 837\n",
      "317 2882 841\n",
      "317 2887 841\n",
      "318 2904 844\n",
      "319 2911 850\n",
      "319 3070 850\n",
      "319 3075 853\n",
      "320 3081 858\n"
     ]
    },
    {
     "name": "stderr",
     "output_type": "stream",
     "text": [
      "b'Skipping line 10: expected 10 fields, saw 11\\nSkipping line 11: expected 10 fields, saw 11\\nSkipping line 29: expected 10 fields, saw 11\\n'\n"
     ]
    },
    {
     "name": "stdout",
     "output_type": "stream",
     "text": [
      "323 3118 867\n",
      "324 3121 868\n",
      "324 3137 871\n",
      "325 3139 873\n",
      "325 3140 873\n",
      "325 3143 874\n",
      "325 3145 874\n",
      "325 3149 874\n",
      "326 3153 876\n",
      "326 3156 876\n",
      "327 3159 878\n"
     ]
    },
    {
     "name": "stderr",
     "output_type": "stream",
     "text": [
      "b'Skipping line 2: expected 10 fields, saw 11\\n'\n"
     ]
    },
    {
     "name": "stdout",
     "output_type": "stream",
     "text": [
      "327 3162 882\n",
      "327 3166 882\n",
      "327 3167 882\n",
      "332 3197 890\n",
      "332 3204 890\n",
      "332 3221 890\n",
      "332 3223 891\n",
      "333 3226 893\n",
      "333 3229 894\n",
      "335 3235 896\n",
      "335 3239 898\n",
      "335 3244 898\n",
      "335 3248 899\n",
      "335 3289 905\n",
      "335 3297 905\n",
      "336 3307 912\n",
      "337 3311 913\n",
      "337 3313 913\n",
      "338 3320 923\n",
      "338 3329 923\n",
      "338 3331 924\n",
      "339 3332 925\n",
      "340 3344 927\n",
      "341 3347 928\n",
      "343 3459 931\n",
      "344 3467 933\n",
      "344 3469 935\n",
      "344 3472 935\n",
      "344 3476 935\n",
      "344 3480 935\n",
      "349 3486 940\n",
      "352 3509 943\n",
      "353 3517 949\n",
      "356 3521 952\n",
      "357 3526 954\n",
      "357 3534 956\n",
      "359 3550 966\n",
      "359 3553 967\n",
      "359 3558 969\n",
      "359 3561 969\n",
      "359 3562 969\n",
      "359 3574 973\n",
      "359 3576 973\n",
      "359 3577 974\n",
      "359 3578 974\n",
      "362 3597 981\n",
      "363 3674 983\n",
      "364 3680 984\n",
      "364 3687 985\n",
      "366 3697 989\n",
      "366 3699 989\n",
      "366 3704 989\n",
      "366 3708 990\n",
      "366 3714 991\n",
      "369 3718 994\n",
      "369 3726 995\n",
      "369 3734 997\n",
      "369 3738 998\n",
      "370 3742 1000\n",
      "370 3749 1001\n",
      "371 3760 1003\n",
      "371 3766 1005\n",
      "371 3768 1005\n"
     ]
    },
    {
     "name": "stderr",
     "output_type": "stream",
     "text": [
      "b'Skipping line 7: expected 10 fields, saw 11\\n'\n"
     ]
    },
    {
     "name": "stdout",
     "output_type": "stream",
     "text": [
      "380 3803 1017\n",
      "381 3813 1018\n",
      "381 3820 1018\n",
      "399 4034 1068\n",
      "399 4037 1069\n",
      "400 4044 1075\n"
     ]
    },
    {
     "name": "stderr",
     "output_type": "stream",
     "text": [
      "b'Skipping line 14: expected 10 fields, saw 11\\nSkipping line 15: expected 10 fields, saw 11\\n'\n"
     ]
    },
    {
     "name": "stdout",
     "output_type": "stream",
     "text": [
      "408 4065 1090\n",
      "408 4079 1091\n",
      "408 4084 1092\n",
      "410 4090 1094\n",
      "411 4092 1095\n",
      "411 4113 1095\n"
     ]
    },
    {
     "name": "stderr",
     "output_type": "stream",
     "text": [
      "b'Skipping line 6: expected 10 fields, saw 11\\nSkipping line 8: expected 10 fields, saw 11\\n'\n"
     ]
    },
    {
     "name": "stdout",
     "output_type": "stream",
     "text": [
      "414 4121 1103\n",
      "415 4123 1105\n"
     ]
    },
    {
     "name": "stderr",
     "output_type": "stream",
     "text": [
      "b'Skipping line 2: expected 10 fields, saw 11\\n'\n"
     ]
    },
    {
     "name": "stdout",
     "output_type": "stream",
     "text": [
      "415 4125 1106\n",
      "415 4130 1108\n",
      "415 4132 1108\n",
      "415 4134 1108\n",
      "416 4140 1111\n",
      "418 4169 1127\n",
      "418 4170 1127\n",
      "418 4197 1127\n",
      "418 4198 1128\n",
      "418 4202 1128\n",
      "418 4208 1129\n",
      "420 4212 1133\n",
      "422 4218 1135\n",
      "422 4226 1140\n",
      "422 4228 1140\n",
      "422 4235 1141\n",
      "422 4239 1141\n",
      "422 4241 1141\n",
      "422 4242 1141\n",
      "424 4271 1149\n",
      "424 4275 1149\n",
      "424 4277 1151\n",
      "424 4280 1152\n",
      "425 4288 1153\n",
      "425 4292 1153\n",
      "425 4294 1153\n",
      "426 4296 1154\n",
      "426 4302 1155\n",
      "429 4349 1158\n",
      "433 4388 1163\n",
      "433 4394 1165\n",
      "433 4400 1165\n",
      "433 4406 1166\n",
      "436 4418 1175\n",
      "437 4422 1176\n",
      "439 4430 1178\n",
      "439 4433 1178\n",
      "439 4439 1179\n"
     ]
    },
    {
     "name": "stderr",
     "output_type": "stream",
     "text": [
      "b'Skipping line 2: expected 10 fields, saw 11\\nSkipping line 5: expected 10 fields, saw 11\\n'\n"
     ]
    },
    {
     "name": "stdout",
     "output_type": "stream",
     "text": [
      "439 4444 1179\n",
      "439 4445 1179\n",
      "439 4453 1179\n",
      "439 4459 1180\n"
     ]
    },
    {
     "name": "stderr",
     "output_type": "stream",
     "text": [
      "b'Skipping line 2: expected 10 fields, saw 11\\n'\n"
     ]
    },
    {
     "name": "stdout",
     "output_type": "stream",
     "text": [
      "439 4463 1181\n",
      "440 4506 1182\n",
      "445 4517 1194\n",
      "445 4520 1194\n",
      "445 4523 1194\n"
     ]
    },
    {
     "name": "stderr",
     "output_type": "stream",
     "text": [
      "b'Skipping line 12: expected 10 fields, saw 11\\n'\n"
     ]
    },
    {
     "name": "stdout",
     "output_type": "stream",
     "text": [
      "448 4534 1207\n",
      "450 4566 1210\n",
      "450 4568 1211\n",
      "457 4579 1220\n",
      "458 4580 1221\n",
      "461 4588 1226\n",
      "464 4593 1230\n",
      "464 4597 1231\n",
      "466 4618 1239\n",
      "466 4621 1241\n",
      "466 4623 1241\n",
      "467 4634 1245\n",
      "469 4643 1256\n",
      "470 4654 1259\n",
      "474 4714 1269\n",
      "475 4716 1270\n",
      "475 4723 1271\n",
      "476 4732 1272\n"
     ]
    },
    {
     "name": "stderr",
     "output_type": "stream",
     "text": [
      "b'Skipping line 7: expected 10 fields, saw 11\\n'\n"
     ]
    },
    {
     "name": "stdout",
     "output_type": "stream",
     "text": [
      "477 4744 1279\n",
      "479 4749 1282\n",
      "479 4755 1290\n",
      "479 4757 1293\n",
      "484 4781 1304\n",
      "484 4786 1307\n",
      "484 4793 1310\n",
      "485 4796 1312\n",
      "485 4810 1314\n",
      "486 4824 1320\n",
      "489 4870 1327\n",
      "491 4875 1329\n",
      "492 4893 1334\n",
      "494 4896 1336\n",
      "494 4900 1341\n",
      "495 4902 1343\n",
      "496 4922 1347\n",
      "498 4924 1349\n",
      "500 4932 1353\n",
      "501 4941 1354\n",
      "501 4942 1354\n",
      "501 4947 1355\n",
      "502 4949 1356\n",
      "502 4951 1356\n",
      "503 4954 1357\n",
      "505 4978 1361\n",
      "507 4985 1364\n",
      "508 4997 1367\n",
      "508 4999 1367\n",
      "508 5023 1368\n",
      "508 5028 1370\n",
      "508 5038 1370\n",
      "509 5044 1373\n",
      "510 5053 1376\n",
      "511 5057 1380\n",
      "511 5068 1380\n",
      "511 5070 1380\n",
      "511 5071 1380\n",
      "514 5088 1386\n",
      "514 5091 1387\n",
      "514 5093 1387\n",
      "515 5099 1389\n",
      "518 5119 1394\n",
      "518 5123 1397\n"
     ]
    },
    {
     "name": "stderr",
     "output_type": "stream",
     "text": [
      "b'Skipping line 2: expected 10 fields, saw 11\\n'\n"
     ]
    },
    {
     "name": "stdout",
     "output_type": "stream",
     "text": [
      "518 5127 1397\n",
      "518 5131 1397\n",
      "518 5133 1397\n",
      "519 5138 1400\n"
     ]
    },
    {
     "name": "stderr",
     "output_type": "stream",
     "text": [
      "b'Skipping line 4: expected 10 fields, saw 11\\n'\n"
     ]
    },
    {
     "name": "stdout",
     "output_type": "stream",
     "text": [
      "521 5144 1406\n",
      "521 5152 1406\n",
      "521 5153 1407\n",
      "525 5178 1417\n",
      "525 5180 1417\n",
      "526 5182 1418\n"
     ]
    },
    {
     "name": "stderr",
     "output_type": "stream",
     "text": [
      "b'Skipping line 3: expected 10 fields, saw 11\\n'\n"
     ]
    },
    {
     "name": "stdout",
     "output_type": "stream",
     "text": [
      "526 5206 1419\n",
      "527 5215 1423\n",
      "527 5241 1423\n",
      "527 5247 1423\n",
      "527 5250 1423\n",
      "530 5272 1428\n",
      "530 5276 1428\n",
      "531 5281 1431\n",
      "531 5282 1431\n",
      "531 5284 1431\n",
      "532 5297 1434\n",
      "532 5299 1434\n",
      "539 5307 1442\n",
      "540 5316 1444\n",
      "540 5320 1446\n",
      "540 5322 1446\n",
      "543 5329 1454\n",
      "543 5336 1454\n",
      "543 5337 1454\n",
      "545 5343 1456\n",
      "546 5344 1457\n",
      "549 5399 1465\n",
      "549 5411 1465\n",
      "551 5414 1467\n",
      "553 5448 1475\n",
      "554 5458 1478\n",
      "554 5465 1478\n",
      "556 5469 1481\n",
      "556 5473 1485\n",
      "556 5476 1485\n",
      "557 5481 1488\n",
      "557 5486 1489\n"
     ]
    },
    {
     "name": "stderr",
     "output_type": "stream",
     "text": [
      "b'Skipping line 5: expected 10 fields, saw 11\\n'\n"
     ]
    },
    {
     "name": "stdout",
     "output_type": "stream",
     "text": [
      "565 5518 1506\n"
     ]
    },
    {
     "name": "stderr",
     "output_type": "stream",
     "text": [
      "b'Skipping line 33: expected 10 fields, saw 11\\nSkipping line 36: expected 10 fields, saw 11\\n'\n"
     ]
    },
    {
     "name": "stdout",
     "output_type": "stream",
     "text": [
      "569 5571 1518\n",
      "569 5573 1518\n",
      "569 5575 1518\n",
      "569 5585 1518\n",
      "569 5588 1519\n"
     ]
    },
    {
     "name": "stderr",
     "output_type": "stream",
     "text": [
      "b'Skipping line 14: expected 10 fields, saw 11\\n'\n"
     ]
    },
    {
     "name": "stdout",
     "output_type": "stream",
     "text": [
      "569 5602 1532\n",
      "569 5625 1534\n",
      "569 5629 1536\n"
     ]
    },
    {
     "name": "stderr",
     "output_type": "stream",
     "text": [
      "b'Skipping line 9: expected 10 fields, saw 11\\n'\n"
     ]
    },
    {
     "name": "stdout",
     "output_type": "stream",
     "text": [
      "569 5642 1542\n",
      "569 5644 1542\n",
      "570 5645 1543\n",
      "573 5687 1551\n",
      "574 5690 1552\n",
      "579 5704 1570\n",
      "580 5716 1574\n",
      "580 5718 1574\n",
      "580 5721 1575\n",
      "580 5724 1575\n",
      "581 5728 1578\n",
      "588 5737 1585\n",
      "588 5738 1585\n",
      "588 5742 1586\n",
      "588 5745 1586\n",
      "590 5747 1588\n",
      "590 5749 1588\n"
     ]
    },
    {
     "name": "stderr",
     "output_type": "stream",
     "text": [
      "b'Skipping line 50: expected 10 fields, saw 11\\n'\n"
     ]
    },
    {
     "name": "stdout",
     "output_type": "stream",
     "text": [
      "593 5807 1602\n",
      "594 5812 1604\n",
      "594 5813 1604\n",
      "601 5823 1611\n",
      "602 5830 1615\n",
      "602 5832 1616\n",
      "602 5845 1616\n",
      "603 5850 1622\n"
     ]
    },
    {
     "name": "stderr",
     "output_type": "stream",
     "text": [
      "b'Skipping line 3: expected 10 fields, saw 11\\n'\n"
     ]
    },
    {
     "name": "stdout",
     "output_type": "stream",
     "text": [
      "607 5855 1626\n",
      "610 5862 1631\n",
      "610 5868 1635\n",
      "610 5873 1637\n",
      "610 5877 1638\n",
      "619 5927 1659\n",
      "619 5936 1661\n",
      "619 5941 1663\n",
      "619 5943 1664\n"
     ]
    },
    {
     "name": "stderr",
     "output_type": "stream",
     "text": [
      "b'Skipping line 63: expected 10 fields, saw 11\\n'\n"
     ]
    },
    {
     "name": "stdout",
     "output_type": "stream",
     "text": [
      "638 6014 1703\n",
      "638 6023 1703\n",
      "642 6047 1709\n",
      "644 6053 1711\n",
      "644 6059 1711\n",
      "646 6067 1714\n",
      "647 6076 1715\n"
     ]
    },
    {
     "name": "stderr",
     "output_type": "stream",
     "text": [
      "b'Skipping line 53: expected 10 fields, saw 11\\nSkipping line 61: expected 10 fields, saw 11\\nSkipping line 105: expected 10 fields, saw 11\\nSkipping line 106: expected 10 fields, saw 11\\nSkipping line 108: expected 10 fields, saw 11\\n'\n"
     ]
    },
    {
     "name": "stdout",
     "output_type": "stream",
     "text": [
      "658 6190 1743\n",
      "660 6192 1745\n",
      "660 6200 1747\n",
      "660 6208 1748\n",
      "661 6221 1750\n",
      "662 6225 1754\n",
      "664 6229 1756\n"
     ]
    },
    {
     "name": "stderr",
     "output_type": "stream",
     "text": [
      "b'Skipping line 8: expected 10 fields, saw 11\\n'\n"
     ]
    },
    {
     "name": "stdout",
     "output_type": "stream",
     "text": [
      "666 6243 1765\n",
      "666 6244 1765\n",
      "667 6253 1769\n",
      "667 6259 1771\n",
      "668 6260 1772\n",
      "668 6262 1774\n"
     ]
    },
    {
     "name": "stderr",
     "output_type": "stream",
     "text": [
      "b'Skipping line 9: expected 10 fields, saw 11\\nSkipping line 20: expected 10 fields, saw 11\\nSkipping line 22: expected 10 fields, saw 11\\n'\n"
     ]
    },
    {
     "name": "stdout",
     "output_type": "stream",
     "text": [
      "673 6293 1793\n",
      "673 6315 1794\n",
      "673 6319 1794\n",
      "678 6340 1803\n",
      "679 6343 1804\n",
      "679 6344 1805\n"
     ]
    },
    {
     "name": "stderr",
     "output_type": "stream",
     "text": [
      "b'Skipping line 2: expected 10 fields, saw 11\\n'\n"
     ]
    },
    {
     "name": "stdout",
     "output_type": "stream",
     "text": [
      "680 6350 1806\n",
      "680 6357 1806\n",
      "681 6361 1809\n",
      "683 6393 1812\n",
      "684 6398 1814\n",
      "684 6402 1815\n"
     ]
    },
    {
     "name": "stderr",
     "output_type": "stream",
     "text": [
      "b'Skipping line 30: expected 10 fields, saw 12\\nSkipping line 32: expected 10 fields, saw 11\\nSkipping line 92: expected 10 fields, saw 11\\nSkipping line 103: expected 10 fields, saw 11\\n'\n"
     ]
    },
    {
     "name": "stdout",
     "output_type": "stream",
     "text": [
      "704 6537 1857\n",
      "705 6548 1862\n",
      "705 6555 1863\n",
      "707 6561 1867\n"
     ]
    },
    {
     "name": "stderr",
     "output_type": "stream",
     "text": [
      "b'Skipping line 4: expected 10 fields, saw 11\\n'\n"
     ]
    },
    {
     "name": "stdout",
     "output_type": "stream",
     "text": [
      "708 6565 1872\n",
      "710 6570 1874\n",
      "711 6577 1876\n"
     ]
    },
    {
     "name": "stderr",
     "output_type": "stream",
     "text": [
      "b'Skipping line 24: expected 10 fields, saw 11\\n'\n"
     ]
    },
    {
     "name": "stdout",
     "output_type": "stream",
     "text": [
      "719 6639 1896\n",
      "719 6666 1896\n"
     ]
    },
    {
     "name": "stderr",
     "output_type": "stream",
     "text": [
      "b'Skipping line 161: expected 10 fields, saw 11\\n'\n"
     ]
    },
    {
     "name": "stdout",
     "output_type": "stream",
     "text": [
      "740 6828 1946\n",
      "740 6831 1947\n",
      "744 6843 1952\n",
      "744 6849 1952\n",
      "744 6880 1954\n",
      "744 6883 1954\n",
      "744 6885 1954\n",
      "745 6890 1956\n",
      "745 6892 1956\n",
      "745 6895 1956\n",
      "745 6897 1957\n",
      "745 6900 1957\n",
      "745 6917 1960\n",
      "746 6921 1962\n",
      "746 6928 1962\n",
      "746 6929 1962\n",
      "746 6931 1964\n",
      "748 6933 1967\n",
      "748 6975 1968\n",
      "748 6978 1968\n",
      "748 6980 1970\n",
      "748 6983 1970\n",
      "748 6988 1970\n",
      "748 6991 1974\n",
      "749 6995 1976\n"
     ]
    },
    {
     "name": "stderr",
     "output_type": "stream",
     "text": [
      "b'Skipping line 16: expected 10 fields, saw 11\\n'\n"
     ]
    },
    {
     "name": "stdout",
     "output_type": "stream",
     "text": [
      "756 7012 1989\n",
      "756 7013 1989\n",
      "757 7021 1991\n"
     ]
    },
    {
     "name": "stderr",
     "output_type": "stream",
     "text": [
      "b'Skipping line 12: expected 10 fields, saw 11\\n'\n"
     ]
    },
    {
     "name": "stdout",
     "output_type": "stream",
     "text": [
      "761 7038 2000\n",
      "761 7050 2001\n",
      "761 7059 2007\n",
      "762 7068 2010\n",
      "762 7074 2011\n",
      "763 7080 2013\n",
      "764 7083 2016\n"
     ]
    },
    {
     "name": "stderr",
     "output_type": "stream",
     "text": [
      "b'Skipping line 3: expected 10 fields, saw 11\\n'\n"
     ]
    },
    {
     "name": "stdout",
     "output_type": "stream",
     "text": [
      "766 7092 2020\n",
      "766 7095 2020\n",
      "767 7106 2023\n",
      "769 7115 2027\n",
      "770 7133 2036\n",
      "770 7142 2037\n",
      "771 7204 2041\n",
      "771 7206 2042\n",
      "781 7362 2066\n",
      "784 7367 2070\n",
      "784 7368 2070\n",
      "784 7370 2071\n",
      "784 7373 2071\n",
      "784 7384 2071\n",
      "788 7392 2077\n",
      "789 7400 2084\n",
      "789 7403 2088\n",
      "789 7406 2089\n",
      "792 7423 2104\n",
      "792 7424 2104\n",
      "793 7431 2106\n",
      "793 7437 2108\n",
      "794 7445 2111\n",
      "795 7446 2112\n",
      "798 7455 2116\n",
      "800 7494 2125\n",
      "802 7504 2127\n",
      "802 7513 2128\n",
      "802 7516 2130\n",
      "803 7531 2131\n",
      "803 7541 2134\n",
      "803 7544 2134\n",
      "803 7555 2138\n",
      "803 7557 2138\n",
      "803 7559 2138\n",
      "803 7564 2138\n",
      "803 7566 2139\n",
      "803 7569 2139\n",
      "804 7575 2141\n",
      "804 7581 2142\n",
      "804 7585 2144\n",
      "808 7595 2154\n",
      "808 7598 2156\n",
      "808 7601 2157\n",
      "809 7604 2159\n",
      "812 7611 2164\n",
      "812 7612 2166\n",
      "816 7626 2171\n",
      "816 7632 2173\n",
      "817 7636 2176\n",
      "817 7642 2178\n",
      "817 7643 2178\n",
      "817 7647 2180\n",
      "817 7658 2180\n",
      "822 7718 2193\n",
      "832 7732 2208\n",
      "833 7734 2210\n",
      "833 7744 2210\n",
      "833 7750 2212\n",
      "833 7751 2212\n",
      "835 7758 2216\n"
     ]
    },
    {
     "name": "stderr",
     "output_type": "stream",
     "text": [
      "b'Skipping line 22: expected 10 fields, saw 11\\nSkipping line 25: expected 10 fields, saw 11\\n'\n"
     ]
    },
    {
     "name": "stdout",
     "output_type": "stream",
     "text": [
      "837 7783 2220\n",
      "837 7787 2222\n",
      "837 7792 2223\n",
      "838 7800 2225\n",
      "838 7802 2225\n",
      "842 7806 2229\n",
      "848 7836 2247\n",
      "849 7841 2255\n",
      "852 7848 2259\n",
      "852 7851 2260\n",
      "854 7876 2266\n",
      "854 7880 2269\n",
      "854 7883 2269\n",
      "855 7885 2270\n",
      "858 7889 2273\n",
      "858 7896 2275\n",
      "859 7899 2277\n",
      "859 7904 2277\n"
     ]
    },
    {
     "name": "stderr",
     "output_type": "stream",
     "text": [
      "b'Skipping line 27: expected 10 fields, saw 11\\nSkipping line 28: expected 10 fields, saw 11\\n'\n"
     ]
    },
    {
     "name": "stdout",
     "output_type": "stream",
     "text": [
      "865 7940 2290\n",
      "865 7944 2290\n",
      "866 7956 2293\n",
      "867 7975 2299\n",
      "874 7988 2308\n",
      "874 7990 2317\n",
      "875 7993 2320\n",
      "875 8022 2320\n",
      "875 8026 2321\n",
      "875 8038 2321\n",
      "875 8040 2321\n",
      "879 8045 2325\n",
      "883 8049 2329\n",
      "886 8084 2340\n",
      "886 8092 2340\n",
      "886 8099 2342\n",
      "887 8106 2343\n",
      "887 8110 2343\n",
      "892 8131 2352\n",
      "893 8134 2355\n",
      "894 8141 2356\n",
      "897 8188 2362\n",
      "897 8194 2362\n",
      "897 8195 2362\n",
      "897 8200 2364\n",
      "898 8212 2367\n",
      "898 8214 2367\n",
      "898 8230 2376\n",
      "899 8239 2379\n",
      "900 8251 2384\n",
      "902 8254 2386\n",
      "902 8255 2387\n",
      "904 8281 2399\n",
      "905 8285 2401\n",
      "907 8288 2406\n",
      "907 8294 2406\n",
      "908 8300 2407\n",
      "912 8306 2412\n",
      "913 8330 2421\n",
      "915 8348 2428\n",
      "916 8351 2430\n",
      "918 8356 2434\n",
      "ep05\n",
      "1 3 2\n",
      "1 5 2\n",
      "2 7 4\n",
      "3 17 8\n"
     ]
    },
    {
     "name": "stderr",
     "output_type": "stream",
     "text": [
      "b'Skipping line 17: expected 10 fields, saw 11\\nSkipping line 37: expected 10 fields, saw 11\\n'\n"
     ]
    },
    {
     "name": "stdout",
     "output_type": "stream",
     "text": [
      "3 105 26\n",
      "22 130 50\n",
      "23 135 52\n",
      "23 148 54\n",
      "23 151 55\n",
      "23 210 58\n",
      "23 212 59\n",
      "29 219 65\n",
      "29 221 65\n",
      "33 235 72\n",
      "33 236 72\n",
      "33 243 75\n",
      "35 248 77\n",
      "35 253 78\n",
      "40 267 86\n",
      "40 269 88\n",
      "41 272 90\n",
      "41 281 94\n",
      "41 285 94\n",
      "41 289 94\n",
      "42 290 95\n"
     ]
    },
    {
     "name": "stderr",
     "output_type": "stream",
     "text": [
      "b'Skipping line 3: expected 10 fields, saw 11\\nSkipping line 5: expected 10 fields, saw 11\\n'\n"
     ]
    },
    {
     "name": "stdout",
     "output_type": "stream",
     "text": [
      "42 293 99\n",
      "43 295 101\n",
      "44 351 106\n",
      "44 353 107\n",
      "46 360 110\n"
     ]
    },
    {
     "name": "stderr",
     "output_type": "stream",
     "text": [
      "b'Skipping line 4: expected 10 fields, saw 11\\n'\n"
     ]
    },
    {
     "name": "stdout",
     "output_type": "stream",
     "text": [
      "47 381 111\n",
      "52 410 124\n",
      "54 415 127\n",
      "54 420 127\n",
      "58 469 140\n",
      "59 480 143\n",
      "59 489 145\n",
      "59 493 147\n",
      "60 502 153\n",
      "60 504 153\n",
      "60 509 155\n",
      "61 518 157\n",
      "61 519 157\n",
      "61 520 157\n",
      "61 527 157\n",
      "62 533 161\n",
      "62 534 161\n",
      "62 535 161\n"
     ]
    },
    {
     "name": "stderr",
     "output_type": "stream",
     "text": [
      "b'Skipping line 4: expected 10 fields, saw 11\\n'\n"
     ]
    },
    {
     "name": "stdout",
     "output_type": "stream",
     "text": [
      "67 543 171\n",
      "67 544 171\n",
      "67 571 173\n",
      "67 574 173\n",
      "70 582 176\n",
      "70 583 176\n",
      "72 589 178\n",
      "72 595 180\n",
      "81 627 194\n",
      "81 631 198\n",
      "81 643 199\n",
      "81 647 201\n",
      "83 651 204\n",
      "84 655 206\n",
      "85 656 207\n",
      "86 694 209\n",
      "86 696 211\n",
      "86 698 211\n"
     ]
    },
    {
     "name": "stderr",
     "output_type": "stream",
     "text": [
      "b'Skipping line 8: expected 10 fields, saw 11\\nSkipping line 9: expected 10 fields, saw 11\\nSkipping line 15: expected 10 fields, saw 11\\n'\n"
     ]
    },
    {
     "name": "stdout",
     "output_type": "stream",
     "text": [
      "91 710 217\n",
      "91 711 217\n",
      "91 719 217\n",
      "91 720 217\n",
      "101 796 248\n",
      "101 799 249\n"
     ]
    },
    {
     "name": "stderr",
     "output_type": "stream",
     "text": [
      "b'Skipping line 2: expected 10 fields, saw 11\\n'\n"
     ]
    },
    {
     "name": "stdout",
     "output_type": "stream",
     "text": [
      "102 821 251\n",
      "103 824 252\n",
      "105 828 256\n"
     ]
    },
    {
     "name": "stderr",
     "output_type": "stream",
     "text": [
      "b'Skipping line 8: expected 10 fields, saw 11\\n'\n"
     ]
    },
    {
     "name": "stdout",
     "output_type": "stream",
     "text": [
      "105 841 256\n",
      "105 846 256\n",
      "107 848 258\n",
      "108 861 259\n",
      "108 867 259\n",
      "108 873 259\n",
      "108 876 260\n",
      "109 879 266\n",
      "110 883 267\n",
      "114 888 271\n",
      "114 889 271\n",
      "114 898 273\n",
      "114 907 273\n",
      "114 908 276\n",
      "119 952 292\n",
      "119 963 293\n",
      "121 965 296\n",
      "121 970 296\n",
      "121 992 301\n",
      "124 1007 306\n",
      "124 1012 307\n",
      "125 1017 310\n",
      "125 1025 312\n",
      "131 1075 326\n",
      "132 1081 330\n",
      "133 1088 333\n",
      "133 1089 335\n",
      "134 1092 336\n",
      "134 1096 338\n",
      "134 1099 338\n",
      "134 1104 342\n",
      "136 1108 345\n",
      "136 1126 347\n",
      "137 1151 352\n",
      "138 1155 353\n",
      "139 1160 355\n",
      "142 1168 359\n",
      "143 1170 360\n",
      "148 1176 365\n",
      "148 1179 365\n",
      "148 1183 365\n",
      "148 1189 366\n",
      "151 1196 371\n",
      "151 1197 371\n",
      "151 1201 371\n",
      "152 1224 375\n",
      "152 1229 375\n",
      "152 1237 375\n",
      "155 1243 379\n",
      "155 1244 379\n",
      "156 1247 381\n",
      "156 1251 384\n",
      "162 1270 393\n",
      "164 1272 395\n",
      "164 1280 396\n",
      "164 1281 396\n",
      "165 1284 398\n",
      "165 1287 399\n",
      "165 1289 401\n",
      "165 1291 402\n",
      "167 1307 406\n",
      "167 1312 409\n",
      "167 1339 410\n",
      "167 1349 434\n",
      "167 1353 434\n",
      "168 1399 436\n",
      "170 1403 438\n",
      "170 1409 438\n",
      "170 1414 439\n",
      "171 1418 443\n",
      "171 1420 443\n",
      "171 1424 443\n",
      "172 1440 448\n",
      "172 1442 448\n",
      "174 1449 451\n",
      "177 1455 455\n",
      "177 1462 455\n",
      "181 1489 462\n",
      "182 1491 464\n",
      "182 1494 466\n"
     ]
    },
    {
     "name": "stderr",
     "output_type": "stream",
     "text": [
      "b'Skipping line 4: expected 10 fields, saw 11\\n'\n"
     ]
    },
    {
     "name": "stdout",
     "output_type": "stream",
     "text": [
      "182 1497 469\n",
      "182 1502 470\n",
      "185 1515 478\n",
      "186 1524 480\n",
      "187 1529 482\n",
      "187 1530 483\n",
      "187 1531 483\n",
      "187 1534 483\n",
      "189 1537 485\n",
      "189 1540 485\n",
      "189 1542 486\n",
      "189 1547 489\n",
      "189 1557 492\n",
      "189 1559 492\n",
      "189 1564 494\n",
      "189 1570 496\n",
      "189 1574 497\n",
      "191 1595 503\n",
      "191 1597 504\n",
      "191 1609 506\n",
      "192 1612 509\n",
      "192 1652 511\n",
      "192 1659 512\n",
      "192 1661 514\n",
      "192 1669 515\n",
      "192 1670 516\n",
      "192 1695 516\n",
      "192 1700 522\n",
      "193 1703 523\n"
     ]
    },
    {
     "name": "stderr",
     "output_type": "stream",
     "text": [
      "b'Skipping line 5: expected 10 fields, saw 11\\n'\n"
     ]
    },
    {
     "name": "stdout",
     "output_type": "stream",
     "text": [
      "194 1712 525\n",
      "197 1724 529\n",
      "201 1737 535\n",
      "202 1746 538\n",
      "202 1750 540\n",
      "202 1776 540\n",
      "203 1781 542\n",
      "203 1784 545\n",
      "203 1790 547\n",
      "204 1795 548\n",
      "206 1799 551\n",
      "209 1807 556\n",
      "211 1810 559\n",
      "211 1813 559\n",
      "212 1818 560\n",
      "212 1821 560\n",
      "212 1832 562\n",
      "212 1834 562\n",
      "212 1839 562\n",
      "212 1852 567\n",
      "213 1857 570\n",
      "214 1861 572\n",
      "219 1866 579\n",
      "219 1889 584\n",
      "220 1890 585\n",
      "220 1934 586\n"
     ]
    },
    {
     "name": "stderr",
     "output_type": "stream",
     "text": [
      "b'Skipping line 31: expected 10 fields, saw 11\\nSkipping line 62: expected 10 fields, saw 11\\nSkipping line 68: expected 10 fields, saw 11\\n'\n"
     ]
    },
    {
     "name": "stdout",
     "output_type": "stream",
     "text": [
      "220 2005 588\n",
      "224 2025 594\n",
      "224 2026 597\n",
      "224 2034 601\n",
      "226 2037 605\n",
      "226 2039 609\n",
      "226 2047 619\n",
      "227 2057 636\n",
      "227 2074 638\n",
      "233 2086 653\n",
      "233 2091 653\n",
      "233 2093 655\n",
      "233 2094 659\n",
      "235 2099 662\n",
      "235 2104 662\n",
      "241 2111 668\n",
      "241 2115 668\n",
      "243 2135 673\n",
      "243 2137 674\n",
      "243 2140 677\n",
      "243 2145 677\n",
      "243 2148 678\n",
      "243 2150 683\n"
     ]
    },
    {
     "name": "stderr",
     "output_type": "stream",
     "text": [
      "b'Skipping line 10: expected 10 fields, saw 11\\nSkipping line 20: expected 10 fields, saw 12\\n'\n"
     ]
    },
    {
     "name": "stdout",
     "output_type": "stream",
     "text": [
      "249 2204 703\n",
      "249 2208 704\n",
      "250 2212 705\n",
      "250 2215 706\n"
     ]
    },
    {
     "name": "stderr",
     "output_type": "stream",
     "text": [
      "b'Skipping line 41: expected 10 fields, saw 11\\nSkipping line 42: expected 10 fields, saw 11\\n'\n"
     ]
    },
    {
     "name": "stdout",
     "output_type": "stream",
     "text": [
      "256 2256 719\n",
      "256 2262 721\n",
      "258 2264 723\n",
      "258 2269 723\n",
      "258 2270 723\n",
      "258 2276 724\n",
      "265 2332 741\n",
      "266 2337 742\n",
      "266 2340 742\n",
      "266 2341 742\n",
      "266 2367 744\n"
     ]
    },
    {
     "name": "stderr",
     "output_type": "stream",
     "text": [
      "b'Skipping line 12: expected 10 fields, saw 11\\n'\n"
     ]
    },
    {
     "name": "stdout",
     "output_type": "stream",
     "text": [
      "279 2396 762\n",
      "280 2404 763\n",
      "281 2408 764\n",
      "283 2443 768\n",
      "283 2446 768\n",
      "285 2448 770\n",
      "285 2453 772\n",
      "287 2458 774\n",
      "287 2462 774\n",
      "287 2468 778\n",
      "288 2490 785\n",
      "292 2506 798\n"
     ]
    },
    {
     "name": "stderr",
     "output_type": "stream",
     "text": [
      "b'Skipping line 28: expected 10 fields, saw 11\\n'\n"
     ]
    },
    {
     "name": "stdout",
     "output_type": "stream",
     "text": [
      "305 2582 823\n",
      "307 2584 835\n",
      "307 2606 840\n",
      "307 2612 840\n",
      "314 2626 848\n",
      "315 2627 849\n",
      "318 2642 854\n"
     ]
    },
    {
     "name": "stderr",
     "output_type": "stream",
     "text": [
      "b'Skipping line 7: expected 10 fields, saw 11\\n'\n",
      "b'Skipping line 5: expected 10 fields, saw 11\\nSkipping line 9: expected 10 fields, saw 11\\n'\n"
     ]
    },
    {
     "name": "stdout",
     "output_type": "stream",
     "text": [
      "320 2649 857\n",
      "320 2651 858\n",
      "320 2654 858\n",
      "320 2657 858\n",
      "320 2665 859\n",
      "321 2667 861\n",
      "322 2673 868\n",
      "326 2679 872\n",
      "326 2683 873\n",
      "326 2698 874\n"
     ]
    },
    {
     "name": "stderr",
     "output_type": "stream",
     "text": [
      "b'Skipping line 2: expected 10 fields, saw 11\\n'\n"
     ]
    },
    {
     "name": "stdout",
     "output_type": "stream",
     "text": [
      "326 2706 879\n",
      "330 2712 883\n",
      "330 2713 884\n",
      "333 2723 889\n",
      "334 2727 893\n",
      "334 2730 894\n",
      "335 2734 896\n",
      "335 2737 896\n",
      "336 2743 899\n",
      "336 2749 899\n",
      "336 2750 899\n",
      "336 2753 899\n",
      "336 2757 899\n",
      "339 2763 903\n",
      "339 2769 903\n",
      "339 2772 904\n",
      "341 2774 906\n",
      "342 2808 910\n",
      "343 2810 911\n",
      "343 2821 911\n",
      "344 2828 912\n",
      "344 2847 922\n",
      "344 2852 922\n",
      "344 2855 922\n",
      "346 2859 926\n",
      "346 2863 926\n",
      "346 2865 926\n",
      "346 2869 926\n",
      "346 2875 928\n",
      "347 2878 930\n",
      "347 2879 935\n",
      "347 2882 939\n",
      "347 2887 939\n",
      "347 2904 941\n",
      "352 2911 949\n",
      "352 3070 949\n",
      "352 3075 952\n",
      "355 3081 957\n"
     ]
    },
    {
     "name": "stderr",
     "output_type": "stream",
     "text": [
      "b'Skipping line 10: expected 10 fields, saw 11\\nSkipping line 11: expected 10 fields, saw 11\\nSkipping line 29: expected 10 fields, saw 11\\n'\n"
     ]
    },
    {
     "name": "stdout",
     "output_type": "stream",
     "text": [
      "358 3118 965\n",
      "359 3121 966\n",
      "360 3137 969\n",
      "361 3139 971\n",
      "361 3140 971\n",
      "362 3143 973\n",
      "362 3145 973\n",
      "362 3149 973\n",
      "363 3153 974\n",
      "363 3156 974\n",
      "365 3159 976\n"
     ]
    },
    {
     "name": "stderr",
     "output_type": "stream",
     "text": [
      "b'Skipping line 2: expected 10 fields, saw 11\\n'\n"
     ]
    },
    {
     "name": "stdout",
     "output_type": "stream",
     "text": [
      "367 3162 980\n",
      "368 3166 983\n",
      "368 3167 983\n",
      "372 3197 992\n",
      "372 3204 992\n",
      "372 3221 992\n",
      "372 3223 993\n",
      "373 3226 995\n",
      "373 3229 996\n",
      "373 3235 998\n",
      "374 3239 1001\n",
      "374 3244 1001\n",
      "374 3248 1002\n",
      "374 3289 1007\n",
      "374 3297 1007\n",
      "376 3307 1016\n",
      "377 3311 1017\n",
      "377 3313 1017\n",
      "379 3320 1021\n",
      "379 3329 1021\n",
      "379 3331 1022\n",
      "380 3332 1023\n",
      "381 3344 1025\n",
      "382 3347 1026\n",
      "384 3459 1029\n",
      "384 3467 1031\n",
      "384 3469 1033\n",
      "384 3472 1035\n",
      "384 3476 1035\n",
      "384 3480 1037\n",
      "389 3486 1042\n",
      "392 3509 1045\n",
      "393 3517 1051\n",
      "396 3521 1054\n",
      "397 3526 1056\n",
      "397 3534 1058\n",
      "401 3550 1071\n",
      "401 3553 1071\n",
      "401 3558 1073\n",
      "401 3561 1077\n",
      "401 3562 1077\n",
      "401 3574 1081\n",
      "401 3576 1081\n",
      "401 3577 1081\n",
      "401 3578 1081\n",
      "404 3597 1088\n",
      "405 3674 1091\n",
      "406 3680 1092\n",
      "406 3687 1093\n",
      "408 3697 1097\n",
      "408 3699 1097\n",
      "408 3704 1097\n",
      "408 3708 1098\n",
      "408 3714 1099\n",
      "409 3718 1101\n",
      "410 3726 1106\n",
      "410 3734 1107\n",
      "411 3738 1109\n",
      "412 3742 1111\n",
      "413 3749 1114\n",
      "414 3760 1119\n",
      "416 3766 1124\n",
      "416 3768 1124\n"
     ]
    },
    {
     "name": "stderr",
     "output_type": "stream",
     "text": [
      "b'Skipping line 7: expected 10 fields, saw 11\\n'\n"
     ]
    },
    {
     "name": "stdout",
     "output_type": "stream",
     "text": [
      "424 3803 1136\n",
      "425 3813 1137\n",
      "425 3820 1137\n",
      "444 4034 1190\n",
      "446 4037 1193\n",
      "446 4044 1199\n"
     ]
    },
    {
     "name": "stderr",
     "output_type": "stream",
     "text": [
      "b'Skipping line 14: expected 10 fields, saw 11\\nSkipping line 15: expected 10 fields, saw 11\\n'\n"
     ]
    },
    {
     "name": "stdout",
     "output_type": "stream",
     "text": [
      "455 4065 1217\n",
      "455 4079 1218\n",
      "455 4084 1219\n",
      "455 4090 1220\n",
      "456 4092 1221\n",
      "456 4113 1221\n"
     ]
    },
    {
     "name": "stderr",
     "output_type": "stream",
     "text": [
      "b'Skipping line 6: expected 10 fields, saw 11\\nSkipping line 8: expected 10 fields, saw 11\\n'\n"
     ]
    },
    {
     "name": "stdout",
     "output_type": "stream",
     "text": [
      "460 4121 1230\n",
      "461 4123 1232\n"
     ]
    },
    {
     "name": "stderr",
     "output_type": "stream",
     "text": [
      "b'Skipping line 2: expected 10 fields, saw 11\\n'\n"
     ]
    },
    {
     "name": "stdout",
     "output_type": "stream",
     "text": [
      "461 4125 1235\n",
      "461 4130 1236\n",
      "461 4132 1236\n",
      "461 4134 1237\n",
      "463 4140 1240\n",
      "466 4169 1255\n",
      "466 4170 1255\n",
      "466 4197 1255\n",
      "466 4198 1255\n",
      "466 4202 1255\n",
      "466 4208 1256\n",
      "469 4212 1261\n",
      "471 4218 1263\n",
      "472 4226 1267\n",
      "472 4228 1267\n",
      "472 4235 1268\n",
      "472 4239 1268\n",
      "472 4241 1268\n",
      "472 4242 1268\n",
      "474 4271 1277\n",
      "474 4275 1277\n",
      "474 4277 1279\n",
      "476 4280 1281\n",
      "477 4288 1283\n",
      "477 4292 1287\n",
      "477 4294 1287\n",
      "478 4296 1288\n",
      "478 4302 1288\n",
      "481 4349 1291\n",
      "485 4388 1296\n",
      "485 4394 1298\n",
      "485 4400 1300\n",
      "485 4406 1301\n",
      "490 4418 1310\n",
      "491 4422 1313\n",
      "494 4430 1317\n",
      "494 4433 1317\n",
      "494 4439 1318\n"
     ]
    },
    {
     "name": "stderr",
     "output_type": "stream",
     "text": [
      "b'Skipping line 2: expected 10 fields, saw 11\\nSkipping line 5: expected 10 fields, saw 11\\n'\n"
     ]
    },
    {
     "name": "stdout",
     "output_type": "stream",
     "text": [
      "494 4444 1320\n",
      "494 4445 1321\n",
      "494 4453 1321\n",
      "495 4459 1323\n"
     ]
    },
    {
     "name": "stderr",
     "output_type": "stream",
     "text": [
      "b'Skipping line 2: expected 10 fields, saw 11\\n'\n"
     ]
    },
    {
     "name": "stdout",
     "output_type": "stream",
     "text": [
      "495 4463 1324\n",
      "496 4506 1326\n",
      "501 4517 1338\n",
      "501 4520 1338\n",
      "502 4523 1340\n"
     ]
    },
    {
     "name": "stderr",
     "output_type": "stream",
     "text": [
      "b'Skipping line 12: expected 10 fields, saw 11\\n'\n"
     ]
    },
    {
     "name": "stdout",
     "output_type": "stream",
     "text": [
      "505 4534 1351\n",
      "507 4566 1354\n",
      "507 4568 1355\n",
      "514 4579 1365\n",
      "515 4580 1366\n",
      "520 4588 1371\n",
      "524 4593 1375\n",
      "524 4597 1377\n",
      "526 4618 1385\n",
      "526 4621 1387\n",
      "526 4623 1387\n",
      "528 4634 1391\n",
      "530 4643 1402\n",
      "531 4654 1405\n",
      "538 4714 1416\n",
      "539 4716 1418\n",
      "540 4723 1421\n",
      "541 4732 1422\n"
     ]
    },
    {
     "name": "stderr",
     "output_type": "stream",
     "text": [
      "b'Skipping line 7: expected 10 fields, saw 11\\n'\n"
     ]
    },
    {
     "name": "stdout",
     "output_type": "stream",
     "text": [
      "543 4744 1428\n",
      "545 4749 1430\n",
      "547 4755 1437\n",
      "548 4757 1439\n",
      "552 4781 1449\n",
      "552 4786 1454\n",
      "552 4793 1457\n",
      "553 4796 1459\n",
      "553 4810 1460\n",
      "555 4824 1466\n",
      "558 4870 1473\n",
      "560 4875 1476\n",
      "563 4893 1484\n",
      "564 4896 1486\n",
      "564 4900 1490\n",
      "565 4902 1493\n",
      "566 4922 1497\n",
      "568 4924 1499\n",
      "570 4932 1504\n",
      "571 4941 1507\n",
      "571 4942 1507\n",
      "571 4947 1508\n",
      "572 4949 1509\n",
      "572 4951 1510\n",
      "573 4954 1511\n",
      "575 4978 1515\n",
      "577 4985 1518\n",
      "579 4997 1523\n",
      "579 4999 1523\n",
      "579 5023 1524\n",
      "579 5028 1526\n",
      "579 5038 1526\n",
      "580 5044 1529\n",
      "581 5053 1532\n",
      "583 5057 1537\n",
      "583 5068 1537\n",
      "583 5070 1537\n",
      "583 5071 1537\n",
      "587 5088 1544\n",
      "587 5091 1544\n",
      "587 5093 1544\n",
      "588 5099 1546\n",
      "591 5119 1553\n",
      "591 5123 1555\n"
     ]
    },
    {
     "name": "stderr",
     "output_type": "stream",
     "text": [
      "b'Skipping line 2: expected 10 fields, saw 11\\n'\n"
     ]
    },
    {
     "name": "stdout",
     "output_type": "stream",
     "text": [
      "591 5127 1559\n",
      "591 5131 1559\n",
      "591 5133 1559\n",
      "592 5138 1562\n"
     ]
    },
    {
     "name": "stderr",
     "output_type": "stream",
     "text": [
      "b'Skipping line 4: expected 10 fields, saw 11\\n'\n"
     ]
    },
    {
     "name": "stdout",
     "output_type": "stream",
     "text": [
      "595 5144 1567\n",
      "595 5152 1573\n",
      "595 5153 1575\n",
      "599 5178 1584\n",
      "599 5180 1584\n",
      "600 5182 1585\n"
     ]
    },
    {
     "name": "stderr",
     "output_type": "stream",
     "text": [
      "b'Skipping line 3: expected 10 fields, saw 11\\n'\n"
     ]
    },
    {
     "name": "stdout",
     "output_type": "stream",
     "text": [
      "600 5206 1586\n",
      "604 5215 1593\n",
      "605 5241 1596\n",
      "605 5247 1596\n",
      "605 5250 1596\n",
      "608 5272 1601\n",
      "608 5276 1601\n",
      "610 5281 1604\n",
      "610 5282 1604\n",
      "610 5284 1604\n",
      "612 5297 1608\n",
      "612 5299 1609\n",
      "619 5307 1618\n",
      "621 5316 1620\n",
      "621 5320 1623\n",
      "621 5322 1623\n",
      "625 5329 1631\n",
      "625 5336 1631\n",
      "625 5337 1631\n",
      "627 5343 1633\n",
      "628 5344 1634\n",
      "632 5399 1643\n",
      "632 5411 1643\n",
      "634 5414 1645\n",
      "636 5448 1652\n",
      "638 5458 1658\n",
      "638 5465 1660\n",
      "640 5469 1663\n",
      "643 5473 1666\n",
      "643 5476 1666\n",
      "645 5481 1669\n",
      "645 5486 1670\n"
     ]
    },
    {
     "name": "stderr",
     "output_type": "stream",
     "text": [
      "b'Skipping line 5: expected 10 fields, saw 11\\n'\n"
     ]
    },
    {
     "name": "stdout",
     "output_type": "stream",
     "text": [
      "656 5518 1691\n"
     ]
    },
    {
     "name": "stderr",
     "output_type": "stream",
     "text": [
      "b'Skipping line 33: expected 10 fields, saw 11\\nSkipping line 36: expected 10 fields, saw 11\\n'\n"
     ]
    },
    {
     "name": "stdout",
     "output_type": "stream",
     "text": [
      "659 5571 1701\n",
      "659 5573 1701\n",
      "659 5575 1701\n",
      "659 5585 1703\n",
      "659 5588 1710\n"
     ]
    },
    {
     "name": "stderr",
     "output_type": "stream",
     "text": [
      "b'Skipping line 14: expected 10 fields, saw 11\\n'\n"
     ]
    },
    {
     "name": "stdout",
     "output_type": "stream",
     "text": [
      "660 5602 1721\n",
      "660 5625 1723\n",
      "661 5629 1726\n"
     ]
    },
    {
     "name": "stderr",
     "output_type": "stream",
     "text": [
      "b'Skipping line 9: expected 10 fields, saw 11\\n'\n"
     ]
    },
    {
     "name": "stdout",
     "output_type": "stream",
     "text": [
      "661 5642 1733\n",
      "661 5644 1734\n",
      "661 5645 1735\n",
      "665 5687 1742\n",
      "666 5690 1743\n",
      "671 5704 1760\n",
      "671 5716 1764\n",
      "671 5718 1765\n",
      "671 5721 1766\n",
      "671 5724 1766\n",
      "672 5728 1769\n",
      "679 5737 1776\n",
      "679 5738 1776\n",
      "679 5742 1777\n",
      "679 5745 1777\n",
      "680 5747 1779\n",
      "680 5749 1780\n"
     ]
    },
    {
     "name": "stderr",
     "output_type": "stream",
     "text": [
      "b'Skipping line 50: expected 10 fields, saw 11\\n'\n"
     ]
    },
    {
     "name": "stdout",
     "output_type": "stream",
     "text": [
      "684 5807 1797\n",
      "685 5812 1799\n",
      "685 5813 1799\n",
      "692 5823 1807\n",
      "695 5830 1814\n",
      "696 5832 1815\n",
      "696 5845 1816\n",
      "697 5850 1821\n"
     ]
    },
    {
     "name": "stderr",
     "output_type": "stream",
     "text": [
      "b'Skipping line 3: expected 10 fields, saw 11\\n'\n"
     ]
    },
    {
     "name": "stdout",
     "output_type": "stream",
     "text": [
      "701 5855 1826\n",
      "705 5862 1830\n",
      "705 5868 1835\n",
      "706 5873 1839\n",
      "706 5877 1840\n",
      "716 5927 1859\n",
      "716 5936 1861\n",
      "716 5941 1863\n",
      "717 5943 1864\n"
     ]
    },
    {
     "name": "stderr",
     "output_type": "stream",
     "text": [
      "b'Skipping line 63: expected 10 fields, saw 11\\n'\n"
     ]
    },
    {
     "name": "stdout",
     "output_type": "stream",
     "text": [
      "729 6014 1895\n",
      "729 6023 1896\n",
      "734 6047 1903\n",
      "734 6053 1905\n",
      "734 6059 1906\n",
      "736 6067 1909\n",
      "737 6076 1910\n"
     ]
    },
    {
     "name": "stderr",
     "output_type": "stream",
     "text": [
      "b'Skipping line 53: expected 10 fields, saw 11\\nSkipping line 61: expected 10 fields, saw 11\\nSkipping line 105: expected 10 fields, saw 11\\nSkipping line 106: expected 10 fields, saw 11\\nSkipping line 108: expected 10 fields, saw 11\\n'\n"
     ]
    },
    {
     "name": "stdout",
     "output_type": "stream",
     "text": [
      "748 6190 1939\n",
      "750 6192 1941\n",
      "750 6200 1943\n",
      "751 6208 1944\n",
      "751 6221 1945\n",
      "753 6225 1949\n",
      "753 6229 1950\n"
     ]
    },
    {
     "name": "stderr",
     "output_type": "stream",
     "text": [
      "b'Skipping line 8: expected 10 fields, saw 11\\n'\n"
     ]
    },
    {
     "name": "stdout",
     "output_type": "stream",
     "text": [
      "754 6243 1959\n",
      "754 6244 1959\n",
      "755 6253 1962\n",
      "755 6259 1965\n",
      "756 6260 1966\n",
      "756 6262 1966\n"
     ]
    },
    {
     "name": "stderr",
     "output_type": "stream",
     "text": [
      "b'Skipping line 9: expected 10 fields, saw 11\\nSkipping line 20: expected 10 fields, saw 11\\nSkipping line 22: expected 10 fields, saw 11\\n'\n"
     ]
    },
    {
     "name": "stdout",
     "output_type": "stream",
     "text": [
      "761 6293 1986\n",
      "761 6315 1987\n",
      "761 6319 1989\n",
      "767 6340 2007\n",
      "769 6343 2009\n",
      "769 6344 2010\n"
     ]
    },
    {
     "name": "stderr",
     "output_type": "stream",
     "text": [
      "b'Skipping line 2: expected 10 fields, saw 11\\n'\n"
     ]
    },
    {
     "name": "stdout",
     "output_type": "stream",
     "text": [
      "770 6350 2012\n",
      "771 6357 2014\n",
      "774 6361 2017\n",
      "776 6393 2020\n",
      "777 6398 2022\n",
      "777 6402 2023\n"
     ]
    },
    {
     "name": "stderr",
     "output_type": "stream",
     "text": [
      "b'Skipping line 30: expected 10 fields, saw 12\\nSkipping line 32: expected 10 fields, saw 11\\nSkipping line 92: expected 10 fields, saw 11\\nSkipping line 103: expected 10 fields, saw 11\\n'\n"
     ]
    },
    {
     "name": "stdout",
     "output_type": "stream",
     "text": [
      "793 6537 2062\n",
      "799 6548 2068\n",
      "799 6555 2069\n",
      "802 6561 2074\n"
     ]
    },
    {
     "name": "stderr",
     "output_type": "stream",
     "text": [
      "b'Skipping line 4: expected 10 fields, saw 11\\n'\n"
     ]
    },
    {
     "name": "stdout",
     "output_type": "stream",
     "text": [
      "803 6565 2082\n",
      "804 6570 2084\n",
      "805 6577 2086\n"
     ]
    },
    {
     "name": "stderr",
     "output_type": "stream",
     "text": [
      "b'Skipping line 24: expected 10 fields, saw 11\\n'\n"
     ]
    },
    {
     "name": "stdout",
     "output_type": "stream",
     "text": [
      "812 6639 2103\n",
      "812 6666 2103\n"
     ]
    },
    {
     "name": "stderr",
     "output_type": "stream",
     "text": [
      "b'Skipping line 161: expected 10 fields, saw 11\\n'\n"
     ]
    },
    {
     "name": "stdout",
     "output_type": "stream",
     "text": [
      "835 6828 2154\n",
      "835 6831 2155\n",
      "838 6843 2163\n",
      "838 6849 2163\n",
      "839 6880 2166\n",
      "839 6883 2166\n",
      "839 6885 2166\n",
      "841 6890 2169\n",
      "841 6892 2169\n",
      "841 6895 2169\n",
      "841 6897 2170\n",
      "841 6900 2172\n",
      "841 6917 2175\n",
      "842 6921 2177\n",
      "842 6928 2177\n",
      "842 6929 2178\n",
      "842 6931 2180\n",
      "843 6933 2182\n",
      "843 6975 2183\n",
      "843 6978 2183\n",
      "843 6980 2184\n",
      "843 6983 2184\n",
      "843 6988 2184\n",
      "843 6991 2187\n",
      "844 6995 2189\n"
     ]
    },
    {
     "name": "stderr",
     "output_type": "stream",
     "text": [
      "b'Skipping line 16: expected 10 fields, saw 11\\n'\n"
     ]
    },
    {
     "name": "stdout",
     "output_type": "stream",
     "text": [
      "854 7012 2205\n",
      "854 7013 2205\n",
      "855 7021 2207\n"
     ]
    },
    {
     "name": "stderr",
     "output_type": "stream",
     "text": [
      "b'Skipping line 12: expected 10 fields, saw 11\\n'\n"
     ]
    },
    {
     "name": "stdout",
     "output_type": "stream",
     "text": [
      "859 7038 2222\n",
      "859 7050 2223\n",
      "859 7059 2229\n",
      "861 7068 2232\n",
      "862 7074 2233\n",
      "863 7080 2235\n",
      "864 7083 2237\n"
     ]
    },
    {
     "name": "stderr",
     "output_type": "stream",
     "text": [
      "b'Skipping line 3: expected 10 fields, saw 11\\n'\n"
     ]
    },
    {
     "name": "stdout",
     "output_type": "stream",
     "text": [
      "866 7092 2242\n",
      "866 7095 2242\n",
      "869 7106 2248\n",
      "871 7115 2252\n",
      "872 7133 2271\n",
      "875 7142 2276\n",
      "875 7204 2277\n",
      "875 7206 2279\n",
      "887 7362 2303\n",
      "888 7367 2305\n",
      "888 7368 2305\n",
      "888 7370 2306\n",
      "888 7373 2311\n",
      "888 7384 2311\n",
      "894 7392 2319\n",
      "897 7400 2326\n",
      "897 7403 2330\n",
      "899 7406 2334\n",
      "902 7423 2344\n",
      "902 7424 2344\n",
      "903 7431 2346\n",
      "905 7437 2350\n",
      "906 7445 2353\n",
      "907 7446 2355\n",
      "910 7455 2359\n",
      "914 7494 2369\n",
      "916 7504 2371\n",
      "916 7513 2372\n",
      "916 7516 2373\n",
      "917 7531 2374\n",
      "917 7541 2377\n",
      "917 7544 2378\n",
      "917 7555 2381\n",
      "917 7557 2381\n",
      "917 7559 2381\n",
      "917 7564 2381\n",
      "917 7566 2381\n",
      "917 7569 2381\n",
      "918 7575 2383\n",
      "918 7581 2384\n",
      "918 7585 2386\n",
      "923 7595 2396\n",
      "923 7598 2397\n",
      "923 7601 2397\n",
      "924 7604 2399\n",
      "927 7611 2404\n",
      "928 7612 2405\n",
      "931 7626 2410\n",
      "931 7632 2412\n",
      "931 7636 2414\n",
      "931 7642 2416\n",
      "931 7643 2416\n",
      "931 7647 2419\n",
      "931 7658 2420\n",
      "939 7718 2435\n",
      "949 7732 2453\n",
      "951 7734 2455\n",
      "951 7744 2455\n",
      "951 7750 2456\n",
      "951 7751 2456\n",
      "954 7758 2459\n"
     ]
    },
    {
     "name": "stderr",
     "output_type": "stream",
     "text": [
      "b'Skipping line 22: expected 10 fields, saw 11\\nSkipping line 25: expected 10 fields, saw 11\\n'\n"
     ]
    },
    {
     "name": "stdout",
     "output_type": "stream",
     "text": [
      "956 7783 2464\n",
      "957 7787 2466\n",
      "957 7792 2473\n",
      "959 7800 2475\n",
      "959 7802 2475\n",
      "963 7806 2479\n",
      "971 7836 2497\n",
      "973 7841 2504\n",
      "976 7848 2508\n",
      "976 7851 2509\n",
      "978 7876 2516\n",
      "980 7880 2518\n",
      "980 7883 2518\n",
      "980 7885 2519\n",
      "983 7889 2522\n",
      "983 7896 2524\n",
      "983 7899 2526\n",
      "983 7904 2526\n"
     ]
    },
    {
     "name": "stderr",
     "output_type": "stream",
     "text": [
      "b'Skipping line 27: expected 10 fields, saw 11\\nSkipping line 28: expected 10 fields, saw 11\\n'\n"
     ]
    },
    {
     "name": "stdout",
     "output_type": "stream",
     "text": [
      "989 7940 2538\n",
      "989 7944 2538\n",
      "990 7956 2541\n",
      "991 7975 2547\n",
      "995 7988 2555\n",
      "995 7990 2563\n",
      "996 7993 2566\n",
      "996 8022 2566\n",
      "996 8026 2566\n",
      "996 8038 2566\n",
      "996 8040 2566\n",
      "1000 8045 2570\n",
      "1004 8049 2574\n",
      "1006 8084 2585\n",
      "1006 8092 2585\n",
      "1006 8099 2587\n",
      "1007 8106 2591\n",
      "1007 8110 2591\n",
      "1015 8131 2601\n",
      "1017 8134 2605\n",
      "1018 8141 2606\n",
      "1021 8188 2617\n",
      "1021 8194 2618\n",
      "1021 8195 2618\n",
      "1021 8200 2620\n",
      "1023 8212 2623\n",
      "1023 8214 2623\n",
      "1023 8230 2631\n",
      "1024 8239 2633\n",
      "1030 8251 2645\n",
      "1032 8254 2647\n",
      "1032 8255 2647\n",
      "1036 8281 2657\n",
      "1037 8285 2660\n",
      "1039 8288 2665\n",
      "1039 8294 2665\n",
      "1040 8300 2666\n",
      "1044 8306 2671\n",
      "1045 8330 2675\n",
      "1047 8348 2681\n",
      "1048 8351 2683\n",
      "1049 8356 2686\n",
      "ep06\n",
      "1 3 2\n",
      "1 5 2\n",
      "2 7 3\n",
      "3 17 9\n"
     ]
    },
    {
     "name": "stderr",
     "output_type": "stream",
     "text": [
      "b'Skipping line 17: expected 10 fields, saw 11\\nSkipping line 37: expected 10 fields, saw 11\\n'\n"
     ]
    },
    {
     "name": "stdout",
     "output_type": "stream",
     "text": [
      "3 105 31\n",
      "22 130 56\n",
      "24 135 58\n",
      "24 148 60\n",
      "24 151 61\n",
      "24 210 64\n",
      "24 212 67\n",
      "30 219 75\n",
      "31 221 77\n",
      "35 235 84\n",
      "35 236 84\n",
      "36 243 88\n",
      "38 248 92\n",
      "38 253 93\n",
      "44 267 102\n",
      "44 269 103\n",
      "45 272 105\n",
      "45 281 108\n",
      "45 285 108\n",
      "45 289 108\n",
      "46 290 109\n"
     ]
    },
    {
     "name": "stderr",
     "output_type": "stream",
     "text": [
      "b'Skipping line 3: expected 10 fields, saw 11\\nSkipping line 5: expected 10 fields, saw 11\\n'\n"
     ]
    },
    {
     "name": "stdout",
     "output_type": "stream",
     "text": [
      "46 293 114\n",
      "47 295 116\n",
      "49 351 123\n",
      "51 353 125\n",
      "51 360 127\n"
     ]
    },
    {
     "name": "stderr",
     "output_type": "stream",
     "text": [
      "b'Skipping line 4: expected 10 fields, saw 11\\n'\n"
     ]
    },
    {
     "name": "stdout",
     "output_type": "stream",
     "text": [
      "52 381 128\n",
      "62 410 145\n",
      "64 415 147\n",
      "64 420 147\n",
      "69 469 163\n",
      "71 480 166\n",
      "71 489 169\n",
      "72 493 171\n",
      "73 502 174\n",
      "73 504 174\n",
      "73 509 176\n",
      "74 518 180\n",
      "74 519 180\n",
      "74 520 180\n",
      "74 527 180\n",
      "74 533 183\n",
      "74 534 183\n",
      "74 535 183\n"
     ]
    },
    {
     "name": "stderr",
     "output_type": "stream",
     "text": [
      "b'Skipping line 4: expected 10 fields, saw 11\\n'\n"
     ]
    },
    {
     "name": "stdout",
     "output_type": "stream",
     "text": [
      "80 543 193\n",
      "80 544 193\n",
      "80 571 196\n",
      "80 574 196\n",
      "83 582 199\n",
      "83 583 199\n",
      "85 589 201\n",
      "85 595 203\n",
      "91 627 217\n",
      "91 631 221\n",
      "91 643 222\n",
      "91 647 225\n",
      "93 651 228\n",
      "94 655 230\n",
      "95 656 231\n",
      "97 694 233\n",
      "97 696 235\n",
      "97 698 235\n"
     ]
    },
    {
     "name": "stderr",
     "output_type": "stream",
     "text": [
      "b'Skipping line 8: expected 10 fields, saw 11\\nSkipping line 9: expected 10 fields, saw 11\\nSkipping line 15: expected 10 fields, saw 11\\n'\n"
     ]
    },
    {
     "name": "stdout",
     "output_type": "stream",
     "text": [
      "101 710 244\n",
      "101 711 244\n",
      "101 719 244\n",
      "101 720 244\n",
      "114 796 278\n",
      "114 799 279\n"
     ]
    },
    {
     "name": "stderr",
     "output_type": "stream",
     "text": [
      "b'Skipping line 2: expected 10 fields, saw 11\\n'\n"
     ]
    },
    {
     "name": "stdout",
     "output_type": "stream",
     "text": [
      "115 821 281\n",
      "116 824 282\n",
      "118 828 286\n"
     ]
    },
    {
     "name": "stderr",
     "output_type": "stream",
     "text": [
      "b'Skipping line 8: expected 10 fields, saw 11\\n'\n"
     ]
    },
    {
     "name": "stdout",
     "output_type": "stream",
     "text": [
      "118 841 286\n",
      "118 846 286\n",
      "120 848 288\n",
      "121 861 289\n",
      "121 867 289\n",
      "121 873 289\n",
      "121 876 293\n",
      "122 879 298\n",
      "123 883 300\n",
      "127 888 304\n",
      "127 889 304\n",
      "127 898 306\n",
      "127 907 306\n",
      "128 908 307\n",
      "132 952 322\n",
      "133 963 324\n",
      "135 965 326\n",
      "135 970 326\n",
      "135 992 332\n",
      "138 1007 336\n",
      "138 1012 337\n",
      "139 1017 341\n",
      "139 1025 343\n",
      "143 1075 357\n",
      "143 1081 360\n",
      "144 1088 363\n",
      "144 1089 365\n",
      "145 1092 366\n",
      "145 1096 370\n",
      "145 1099 370\n",
      "146 1104 372\n",
      "148 1108 376\n",
      "148 1126 379\n",
      "149 1151 385\n",
      "150 1155 386\n",
      "151 1160 388\n",
      "154 1168 392\n",
      "155 1170 393\n",
      "160 1176 400\n",
      "160 1179 404\n",
      "160 1183 404\n",
      "161 1189 406\n",
      "165 1196 411\n",
      "165 1197 411\n",
      "165 1201 411\n",
      "166 1224 413\n",
      "166 1229 413\n",
      "166 1237 415\n",
      "169 1243 419\n",
      "169 1244 419\n",
      "170 1247 420\n",
      "170 1251 423\n",
      "172 1270 430\n",
      "174 1272 432\n",
      "174 1280 433\n",
      "174 1281 433\n",
      "176 1284 435\n",
      "176 1287 436\n",
      "176 1289 440\n",
      "176 1291 440\n",
      "178 1307 445\n",
      "178 1312 445\n",
      "178 1339 446\n",
      "186 1349 458\n",
      "186 1353 458\n",
      "187 1399 461\n",
      "187 1403 462\n",
      "187 1409 462\n",
      "187 1414 463\n",
      "187 1418 467\n",
      "187 1420 467\n",
      "187 1424 468\n",
      "188 1440 473\n",
      "188 1442 473\n",
      "190 1449 476\n",
      "192 1455 480\n",
      "192 1462 480\n",
      "196 1489 487\n",
      "197 1491 489\n",
      "197 1494 490\n"
     ]
    },
    {
     "name": "stderr",
     "output_type": "stream",
     "text": [
      "b'Skipping line 4: expected 10 fields, saw 11\\n'\n"
     ]
    },
    {
     "name": "stdout",
     "output_type": "stream",
     "text": [
      "197 1497 491\n",
      "197 1502 491\n",
      "203 1515 499\n",
      "204 1524 500\n",
      "206 1529 502\n",
      "206 1530 503\n",
      "206 1531 503\n",
      "206 1534 503\n",
      "208 1537 506\n",
      "208 1540 506\n",
      "209 1542 507\n",
      "209 1547 513\n",
      "209 1557 516\n",
      "209 1559 516\n",
      "209 1564 517\n",
      "209 1570 519\n",
      "209 1574 520\n",
      "210 1595 527\n",
      "210 1597 528\n",
      "210 1609 530\n",
      "211 1612 532\n",
      "212 1652 534\n",
      "212 1659 535\n",
      "213 1661 539\n",
      "213 1669 540\n",
      "213 1670 541\n",
      "213 1695 541\n",
      "213 1700 549\n",
      "214 1703 550\n",
      "214 1712 552\n"
     ]
    },
    {
     "name": "stderr",
     "output_type": "stream",
     "text": [
      "b'Skipping line 5: expected 10 fields, saw 11\\n'\n"
     ]
    },
    {
     "name": "stdout",
     "output_type": "stream",
     "text": [
      "217 1724 557\n",
      "222 1737 563\n",
      "223 1746 567\n",
      "223 1750 569\n",
      "223 1776 569\n",
      "223 1781 569\n",
      "225 1784 571\n",
      "226 1790 574\n",
      "226 1795 575\n",
      "228 1799 578\n",
      "231 1807 582\n",
      "234 1810 585\n",
      "234 1813 585\n",
      "235 1818 586\n",
      "235 1821 586\n",
      "235 1832 587\n",
      "235 1834 587\n",
      "235 1839 587\n",
      "237 1852 591\n",
      "238 1857 594\n",
      "239 1861 596\n",
      "244 1866 603\n",
      "245 1889 606\n",
      "246 1890 607\n",
      "246 1934 608\n"
     ]
    },
    {
     "name": "stderr",
     "output_type": "stream",
     "text": [
      "b'Skipping line 31: expected 10 fields, saw 11\\nSkipping line 62: expected 10 fields, saw 11\\nSkipping line 68: expected 10 fields, saw 11\\n'\n"
     ]
    },
    {
     "name": "stdout",
     "output_type": "stream",
     "text": [
      "246 2005 609\n",
      "250 2025 615\n",
      "250 2026 617\n",
      "250 2034 621\n",
      "252 2037 624\n",
      "252 2039 628\n",
      "252 2047 636\n",
      "259 2057 648\n",
      "259 2074 650\n",
      "264 2086 665\n",
      "264 2091 665\n",
      "265 2093 667\n",
      "265 2094 669\n",
      "268 2099 672\n",
      "268 2104 672\n",
      "273 2111 677\n",
      "273 2115 677\n",
      "273 2135 683\n",
      "274 2137 685\n",
      "274 2140 688\n",
      "274 2145 688\n",
      "274 2148 689\n",
      "275 2150 693\n"
     ]
    },
    {
     "name": "stderr",
     "output_type": "stream",
     "text": [
      "b'Skipping line 10: expected 10 fields, saw 11\\nSkipping line 20: expected 10 fields, saw 12\\n'\n"
     ]
    },
    {
     "name": "stdout",
     "output_type": "stream",
     "text": [
      "285 2204 715\n",
      "285 2208 716\n",
      "286 2212 718\n",
      "286 2215 719\n"
     ]
    },
    {
     "name": "stderr",
     "output_type": "stream",
     "text": [
      "b'Skipping line 41: expected 10 fields, saw 11\\nSkipping line 42: expected 10 fields, saw 11\\n'\n"
     ]
    },
    {
     "name": "stdout",
     "output_type": "stream",
     "text": [
      "292 2256 732\n",
      "292 2262 734\n",
      "294 2264 736\n",
      "294 2269 736\n",
      "294 2270 738\n",
      "294 2276 739\n",
      "301 2332 756\n",
      "302 2337 757\n",
      "302 2340 757\n",
      "302 2341 757\n",
      "302 2367 759\n"
     ]
    },
    {
     "name": "stderr",
     "output_type": "stream",
     "text": [
      "b'Skipping line 12: expected 10 fields, saw 11\\n'\n"
     ]
    },
    {
     "name": "stdout",
     "output_type": "stream",
     "text": [
      "314 2396 776\n",
      "315 2404 777\n",
      "316 2408 778\n",
      "318 2443 783\n",
      "318 2446 783\n",
      "320 2448 785\n",
      "320 2453 787\n",
      "322 2458 789\n",
      "322 2462 789\n",
      "324 2468 793\n",
      "325 2490 800\n",
      "327 2506 810\n"
     ]
    },
    {
     "name": "stderr",
     "output_type": "stream",
     "text": [
      "b'Skipping line 28: expected 10 fields, saw 11\\n'\n"
     ]
    },
    {
     "name": "stdout",
     "output_type": "stream",
     "text": [
      "340 2582 835\n",
      "342 2584 847\n",
      "342 2606 852\n",
      "342 2612 852\n",
      "349 2626 861\n",
      "350 2627 862\n",
      "353 2642 868\n"
     ]
    },
    {
     "name": "stderr",
     "output_type": "stream",
     "text": [
      "b'Skipping line 7: expected 10 fields, saw 11\\n'\n",
      "b'Skipping line 5: expected 10 fields, saw 11\\nSkipping line 9: expected 10 fields, saw 11\\n'\n"
     ]
    },
    {
     "name": "stdout",
     "output_type": "stream",
     "text": [
      "354 2649 871\n",
      "354 2651 871\n",
      "354 2654 874\n",
      "354 2657 874\n",
      "354 2665 875\n",
      "355 2667 876\n",
      "355 2673 881\n",
      "358 2679 884\n",
      "358 2683 885\n",
      "358 2698 886\n"
     ]
    },
    {
     "name": "stderr",
     "output_type": "stream",
     "text": [
      "b'Skipping line 2: expected 10 fields, saw 11\\n'\n"
     ]
    },
    {
     "name": "stdout",
     "output_type": "stream",
     "text": [
      "361 2706 891\n",
      "365 2712 895\n",
      "365 2713 896\n",
      "368 2723 901\n",
      "371 2727 907\n",
      "371 2730 913\n",
      "373 2734 915\n",
      "373 2737 915\n",
      "374 2743 918\n",
      "374 2749 918\n",
      "374 2750 918\n",
      "374 2753 919\n",
      "374 2757 919\n",
      "377 2763 923\n",
      "377 2769 923\n",
      "377 2772 924\n",
      "379 2774 926\n",
      "380 2808 930\n",
      "381 2810 933\n",
      "381 2821 933\n",
      "382 2828 934\n",
      "382 2847 943\n",
      "382 2852 943\n",
      "382 2855 943\n",
      "382 2859 947\n",
      "382 2863 947\n",
      "382 2865 947\n",
      "382 2869 947\n",
      "382 2875 949\n",
      "383 2878 951\n",
      "383 2879 957\n",
      "383 2882 960\n",
      "383 2887 960\n",
      "383 2904 965\n",
      "387 2911 976\n",
      "387 3070 976\n",
      "387 3075 979\n",
      "390 3081 987\n"
     ]
    },
    {
     "name": "stderr",
     "output_type": "stream",
     "text": [
      "b'Skipping line 10: expected 10 fields, saw 11\\nSkipping line 11: expected 10 fields, saw 11\\nSkipping line 29: expected 10 fields, saw 11\\n'\n"
     ]
    },
    {
     "name": "stdout",
     "output_type": "stream",
     "text": [
      "393 3118 996\n",
      "394 3121 997\n",
      "395 3137 999\n",
      "396 3139 1001\n",
      "396 3140 1001\n",
      "397 3143 1003\n",
      "397 3145 1003\n",
      "397 3149 1003\n",
      "398 3153 1004\n",
      "398 3156 1004\n",
      "399 3159 1006\n"
     ]
    },
    {
     "name": "stderr",
     "output_type": "stream",
     "text": [
      "b'Skipping line 2: expected 10 fields, saw 11\\n'\n"
     ]
    },
    {
     "name": "stdout",
     "output_type": "stream",
     "text": [
      "401 3162 1010\n",
      "402 3166 1012\n",
      "402 3167 1012\n",
      "406 3197 1022\n",
      "406 3204 1022\n",
      "406 3221 1023\n",
      "406 3223 1025\n",
      "407 3226 1027\n",
      "407 3229 1028\n",
      "408 3235 1030\n",
      "409 3239 1033\n",
      "409 3244 1033\n",
      "409 3248 1034\n",
      "409 3289 1039\n",
      "409 3297 1039\n",
      "411 3307 1049\n",
      "412 3311 1050\n",
      "412 3313 1050\n",
      "414 3320 1055\n",
      "414 3329 1055\n",
      "414 3331 1056\n",
      "415 3332 1057\n",
      "416 3344 1059\n",
      "417 3347 1060\n",
      "419 3459 1066\n",
      "419 3467 1067\n",
      "419 3469 1068\n",
      "419 3472 1069\n",
      "419 3476 1071\n",
      "420 3480 1077\n",
      "425 3486 1082\n",
      "428 3509 1085\n",
      "430 3517 1090\n",
      "433 3521 1093\n",
      "434 3526 1094\n",
      "434 3534 1097\n",
      "438 3550 1111\n",
      "438 3553 1111\n",
      "438 3558 1114\n",
      "439 3561 1120\n",
      "439 3562 1120\n",
      "439 3574 1124\n",
      "439 3576 1126\n",
      "439 3577 1126\n",
      "439 3578 1126\n",
      "443 3597 1135\n",
      "444 3674 1137\n",
      "445 3680 1138\n",
      "445 3687 1139\n",
      "447 3697 1145\n",
      "447 3699 1145\n",
      "447 3704 1145\n",
      "447 3708 1146\n",
      "447 3714 1147\n",
      "448 3718 1149\n",
      "448 3726 1150\n",
      "448 3734 1151\n",
      "450 3738 1153\n",
      "451 3742 1155\n",
      "451 3749 1159\n",
      "457 3760 1166\n",
      "458 3766 1169\n",
      "458 3768 1170\n"
     ]
    },
    {
     "name": "stderr",
     "output_type": "stream",
     "text": [
      "b'Skipping line 7: expected 10 fields, saw 11\\n'\n"
     ]
    },
    {
     "name": "stdout",
     "output_type": "stream",
     "text": [
      "466 3803 1183\n",
      "467 3813 1184\n",
      "467 3820 1184\n",
      "484 4034 1238\n",
      "486 4037 1241\n",
      "487 4044 1245\n"
     ]
    },
    {
     "name": "stderr",
     "output_type": "stream",
     "text": [
      "b'Skipping line 14: expected 10 fields, saw 11\\nSkipping line 15: expected 10 fields, saw 11\\n'\n"
     ]
    },
    {
     "name": "stdout",
     "output_type": "stream",
     "text": [
      "495 4065 1262\n",
      "495 4079 1264\n",
      "495 4084 1265\n",
      "496 4090 1268\n",
      "497 4092 1269\n",
      "498 4113 1271\n"
     ]
    },
    {
     "name": "stderr",
     "output_type": "stream",
     "text": [
      "b'Skipping line 6: expected 10 fields, saw 11\\nSkipping line 8: expected 10 fields, saw 11\\n'\n"
     ]
    },
    {
     "name": "stdout",
     "output_type": "stream",
     "text": [
      "502 4121 1278\n",
      "503 4123 1280\n"
     ]
    },
    {
     "name": "stderr",
     "output_type": "stream",
     "text": [
      "b'Skipping line 2: expected 10 fields, saw 11\\n'\n"
     ]
    },
    {
     "name": "stdout",
     "output_type": "stream",
     "text": [
      "503 4125 1284\n",
      "503 4130 1285\n",
      "503 4132 1285\n",
      "503 4134 1286\n",
      "505 4140 1290\n",
      "509 4169 1304\n",
      "509 4170 1304\n",
      "509 4197 1304\n",
      "509 4198 1305\n",
      "509 4202 1305\n",
      "509 4208 1306\n",
      "512 4212 1310\n",
      "514 4218 1312\n",
      "515 4226 1315\n",
      "515 4228 1315\n",
      "515 4235 1316\n",
      "516 4239 1318\n",
      "516 4241 1318\n",
      "516 4242 1318\n",
      "518 4271 1326\n",
      "518 4275 1327\n",
      "518 4277 1329\n",
      "520 4280 1331\n",
      "522 4288 1334\n",
      "522 4292 1338\n",
      "522 4294 1338\n",
      "523 4296 1339\n",
      "523 4302 1339\n",
      "526 4349 1343\n",
      "530 4388 1348\n",
      "531 4394 1350\n",
      "531 4400 1351\n",
      "531 4406 1352\n",
      "536 4418 1361\n",
      "538 4422 1364\n",
      "543 4430 1369\n",
      "543 4433 1369\n",
      "543 4439 1370\n"
     ]
    },
    {
     "name": "stderr",
     "output_type": "stream",
     "text": [
      "b'Skipping line 2: expected 10 fields, saw 11\\nSkipping line 5: expected 10 fields, saw 11\\n'\n"
     ]
    },
    {
     "name": "stdout",
     "output_type": "stream",
     "text": [
      "543 4444 1373\n",
      "543 4445 1374\n",
      "543 4453 1374\n",
      "544 4459 1376\n"
     ]
    },
    {
     "name": "stderr",
     "output_type": "stream",
     "text": [
      "b'Skipping line 2: expected 10 fields, saw 11\\n'\n"
     ]
    },
    {
     "name": "stdout",
     "output_type": "stream",
     "text": [
      "544 4463 1377\n",
      "547 4506 1382\n",
      "553 4517 1392\n",
      "553 4520 1396\n",
      "555 4523 1400\n"
     ]
    },
    {
     "name": "stderr",
     "output_type": "stream",
     "text": [
      "b'Skipping line 12: expected 10 fields, saw 11\\n'\n"
     ]
    },
    {
     "name": "stdout",
     "output_type": "stream",
     "text": [
      "557 4534 1408\n",
      "559 4566 1414\n",
      "559 4568 1415\n",
      "566 4579 1425\n",
      "567 4580 1426\n",
      "572 4588 1431\n",
      "576 4593 1435\n",
      "576 4597 1437\n",
      "578 4618 1445\n",
      "578 4621 1446\n",
      "578 4623 1446\n",
      "581 4634 1450\n",
      "583 4643 1466\n",
      "584 4654 1469\n",
      "592 4714 1479\n",
      "593 4716 1480\n",
      "595 4723 1484\n",
      "596 4732 1485\n"
     ]
    },
    {
     "name": "stderr",
     "output_type": "stream",
     "text": [
      "b'Skipping line 7: expected 10 fields, saw 11\\n'\n"
     ]
    },
    {
     "name": "stdout",
     "output_type": "stream",
     "text": [
      "597 4744 1489\n",
      "599 4749 1491\n",
      "601 4755 1496\n",
      "601 4757 1498\n",
      "605 4781 1508\n",
      "605 4786 1511\n",
      "605 4793 1513\n",
      "606 4796 1514\n",
      "606 4810 1515\n",
      "608 4824 1521\n",
      "611 4870 1527\n",
      "613 4875 1529\n",
      "613 4893 1535\n",
      "615 4896 1537\n",
      "615 4900 1540\n",
      "616 4902 1542\n",
      "617 4922 1545\n",
      "619 4924 1547\n",
      "621 4932 1551\n",
      "622 4941 1556\n",
      "622 4942 1556\n",
      "623 4947 1558\n",
      "624 4949 1559\n",
      "624 4951 1561\n",
      "625 4954 1562\n",
      "626 4978 1566\n",
      "628 4985 1569\n",
      "631 4997 1575\n",
      "631 4999 1575\n",
      "631 5023 1577\n",
      "631 5028 1579\n",
      "631 5038 1579\n",
      "633 5044 1583\n",
      "633 5053 1587\n",
      "636 5057 1591\n",
      "636 5068 1595\n",
      "636 5070 1595\n",
      "636 5071 1595\n",
      "641 5088 1601\n",
      "641 5091 1601\n",
      "641 5093 1601\n",
      "642 5099 1603\n",
      "646 5119 1611\n",
      "646 5123 1612\n"
     ]
    },
    {
     "name": "stderr",
     "output_type": "stream",
     "text": [
      "b'Skipping line 2: expected 10 fields, saw 11\\n'\n"
     ]
    },
    {
     "name": "stdout",
     "output_type": "stream",
     "text": [
      "647 5127 1617\n",
      "647 5131 1617\n",
      "647 5133 1618\n",
      "648 5138 1621\n"
     ]
    },
    {
     "name": "stderr",
     "output_type": "stream",
     "text": [
      "b'Skipping line 4: expected 10 fields, saw 11\\n'\n"
     ]
    },
    {
     "name": "stdout",
     "output_type": "stream",
     "text": [
      "648 5144 1624\n",
      "650 5152 1628\n",
      "650 5153 1630\n",
      "655 5178 1639\n",
      "655 5180 1639\n",
      "656 5182 1641\n"
     ]
    },
    {
     "name": "stderr",
     "output_type": "stream",
     "text": [
      "b'Skipping line 3: expected 10 fields, saw 11\\n'\n"
     ]
    },
    {
     "name": "stdout",
     "output_type": "stream",
     "text": [
      "656 5206 1642\n",
      "661 5215 1648\n",
      "662 5241 1651\n",
      "662 5247 1651\n",
      "662 5250 1651\n",
      "665 5272 1656\n",
      "665 5276 1657\n",
      "667 5281 1660\n",
      "667 5282 1660\n",
      "667 5284 1661\n",
      "670 5297 1669\n",
      "670 5299 1670\n",
      "677 5307 1679\n",
      "677 5316 1681\n",
      "677 5320 1684\n",
      "677 5322 1684\n",
      "681 5329 1692\n",
      "681 5336 1692\n",
      "681 5337 1692\n",
      "683 5343 1694\n",
      "684 5344 1695\n",
      "688 5399 1704\n",
      "688 5411 1704\n",
      "688 5414 1705\n",
      "690 5448 1717\n",
      "694 5458 1725\n",
      "695 5465 1726\n",
      "697 5469 1729\n",
      "700 5473 1732\n",
      "700 5476 1732\n",
      "701 5481 1735\n",
      "701 5486 1736\n"
     ]
    },
    {
     "name": "stderr",
     "output_type": "stream",
     "text": [
      "b'Skipping line 5: expected 10 fields, saw 11\\n'\n"
     ]
    },
    {
     "name": "stdout",
     "output_type": "stream",
     "text": [
      "712 5518 1759\n"
     ]
    },
    {
     "name": "stderr",
     "output_type": "stream",
     "text": [
      "b'Skipping line 33: expected 10 fields, saw 11\\nSkipping line 36: expected 10 fields, saw 11\\n'\n"
     ]
    },
    {
     "name": "stdout",
     "output_type": "stream",
     "text": [
      "714 5571 1771\n",
      "714 5573 1771\n",
      "714 5575 1771\n",
      "714 5585 1777\n",
      "714 5588 1784\n"
     ]
    },
    {
     "name": "stderr",
     "output_type": "stream",
     "text": [
      "b'Skipping line 14: expected 10 fields, saw 11\\n'\n"
     ]
    },
    {
     "name": "stdout",
     "output_type": "stream",
     "text": [
      "716 5602 1794\n",
      "717 5625 1798\n",
      "718 5629 1801\n"
     ]
    },
    {
     "name": "stderr",
     "output_type": "stream",
     "text": [
      "b'Skipping line 9: expected 10 fields, saw 11\\n'\n"
     ]
    },
    {
     "name": "stdout",
     "output_type": "stream",
     "text": [
      "718 5642 1807\n",
      "718 5644 1808\n",
      "718 5645 1809\n",
      "721 5687 1816\n",
      "721 5690 1817\n",
      "727 5704 1833\n",
      "728 5716 1837\n",
      "728 5718 1838\n",
      "728 5721 1839\n",
      "728 5724 1839\n",
      "729 5728 1842\n",
      "734 5737 1847\n",
      "734 5738 1847\n",
      "734 5742 1848\n",
      "734 5745 1848\n",
      "735 5747 1850\n",
      "735 5749 1853\n"
     ]
    },
    {
     "name": "stderr",
     "output_type": "stream",
     "text": [
      "b'Skipping line 50: expected 10 fields, saw 11\\n'\n"
     ]
    },
    {
     "name": "stdout",
     "output_type": "stream",
     "text": [
      "738 5807 1873\n",
      "739 5812 1875\n",
      "739 5813 1875\n",
      "745 5823 1882\n",
      "750 5830 1889\n",
      "750 5832 1890\n",
      "750 5845 1891\n",
      "752 5850 1893\n"
     ]
    },
    {
     "name": "stderr",
     "output_type": "stream",
     "text": [
      "b'Skipping line 3: expected 10 fields, saw 11\\n'\n"
     ]
    },
    {
     "name": "stdout",
     "output_type": "stream",
     "text": [
      "756 5855 1897\n",
      "760 5862 1902\n",
      "760 5868 1908\n",
      "762 5873 1911\n",
      "762 5877 1912\n",
      "771 5927 1932\n",
      "771 5936 1933\n",
      "771 5941 1935\n",
      "771 5943 1936\n"
     ]
    },
    {
     "name": "stderr",
     "output_type": "stream",
     "text": [
      "b'Skipping line 63: expected 10 fields, saw 11\\n'\n"
     ]
    },
    {
     "name": "stdout",
     "output_type": "stream",
     "text": [
      "779 6014 1965\n",
      "779 6023 1966\n",
      "783 6047 1974\n",
      "784 6053 1976\n",
      "784 6059 1977\n",
      "787 6067 1980\n",
      "788 6076 1982\n"
     ]
    },
    {
     "name": "stderr",
     "output_type": "stream",
     "text": [
      "b'Skipping line 53: expected 10 fields, saw 11\\nSkipping line 61: expected 10 fields, saw 11\\nSkipping line 105: expected 10 fields, saw 11\\nSkipping line 106: expected 10 fields, saw 11\\nSkipping line 108: expected 10 fields, saw 11\\n'\n"
     ]
    },
    {
     "name": "stdout",
     "output_type": "stream",
     "text": [
      "798 6190 2016\n",
      "800 6192 2018\n",
      "800 6200 2020\n",
      "800 6208 2022\n",
      "800 6221 2023\n",
      "802 6225 2026\n",
      "802 6229 2027\n"
     ]
    },
    {
     "name": "stderr",
     "output_type": "stream",
     "text": [
      "b'Skipping line 8: expected 10 fields, saw 11\\n'\n"
     ]
    },
    {
     "name": "stdout",
     "output_type": "stream",
     "text": [
      "803 6243 2037\n",
      "803 6244 2037\n",
      "803 6253 2040\n",
      "803 6259 2043\n",
      "804 6260 2044\n",
      "804 6262 2044\n"
     ]
    },
    {
     "name": "stderr",
     "output_type": "stream",
     "text": [
      "b'Skipping line 9: expected 10 fields, saw 11\\nSkipping line 20: expected 10 fields, saw 11\\nSkipping line 22: expected 10 fields, saw 11\\n'\n"
     ]
    },
    {
     "name": "stdout",
     "output_type": "stream",
     "text": [
      "810 6293 2064\n",
      "810 6315 2065\n",
      "810 6319 2067\n",
      "816 6340 2080\n",
      "818 6343 2082\n",
      "818 6344 2084\n"
     ]
    },
    {
     "name": "stderr",
     "output_type": "stream",
     "text": [
      "b'Skipping line 2: expected 10 fields, saw 11\\n'\n"
     ]
    },
    {
     "name": "stdout",
     "output_type": "stream",
     "text": [
      "820 6350 2087\n",
      "821 6357 2091\n",
      "824 6361 2094\n",
      "826 6393 2097\n",
      "827 6398 2100\n",
      "827 6402 2102\n"
     ]
    },
    {
     "name": "stderr",
     "output_type": "stream",
     "text": [
      "b'Skipping line 30: expected 10 fields, saw 12\\nSkipping line 32: expected 10 fields, saw 11\\nSkipping line 92: expected 10 fields, saw 11\\nSkipping line 103: expected 10 fields, saw 11\\n'\n"
     ]
    },
    {
     "name": "stdout",
     "output_type": "stream",
     "text": [
      "847 6537 2153\n",
      "853 6548 2160\n",
      "855 6555 2163\n",
      "859 6561 2167\n"
     ]
    },
    {
     "name": "stderr",
     "output_type": "stream",
     "text": [
      "b'Skipping line 4: expected 10 fields, saw 11\\n'\n"
     ]
    },
    {
     "name": "stdout",
     "output_type": "stream",
     "text": [
      "860 6565 2173\n",
      "863 6570 2176\n",
      "864 6577 2178\n"
     ]
    },
    {
     "name": "stderr",
     "output_type": "stream",
     "text": [
      "b'Skipping line 24: expected 10 fields, saw 11\\n'\n"
     ]
    },
    {
     "name": "stdout",
     "output_type": "stream",
     "text": [
      "871 6639 2194\n",
      "871 6666 2194\n"
     ]
    },
    {
     "name": "stderr",
     "output_type": "stream",
     "text": [
      "b'Skipping line 161: expected 10 fields, saw 11\\n'\n"
     ]
    },
    {
     "name": "stdout",
     "output_type": "stream",
     "text": [
      "903 6828 2244\n",
      "903 6831 2245\n",
      "909 6843 2254\n",
      "909 6849 2254\n",
      "911 6880 2260\n",
      "911 6883 2261\n",
      "911 6885 2262\n",
      "913 6890 2265\n",
      "913 6892 2265\n",
      "913 6895 2265\n",
      "913 6897 2266\n",
      "914 6900 2271\n",
      "914 6917 2274\n",
      "915 6921 2276\n",
      "915 6928 2276\n",
      "915 6929 2278\n",
      "915 6931 2279\n",
      "917 6933 2282\n",
      "917 6975 2286\n",
      "917 6978 2286\n",
      "917 6980 2287\n",
      "917 6983 2287\n",
      "917 6988 2287\n",
      "918 6991 2289\n",
      "919 6995 2291\n"
     ]
    },
    {
     "name": "stderr",
     "output_type": "stream",
     "text": [
      "b'Skipping line 16: expected 10 fields, saw 11\\n'\n"
     ]
    },
    {
     "name": "stdout",
     "output_type": "stream",
     "text": [
      "929 7012 2307\n",
      "929 7013 2307\n",
      "929 7021 2308\n"
     ]
    },
    {
     "name": "stderr",
     "output_type": "stream",
     "text": [
      "b'Skipping line 12: expected 10 fields, saw 11\\n'\n"
     ]
    },
    {
     "name": "stdout",
     "output_type": "stream",
     "text": [
      "933 7038 2324\n",
      "933 7050 2324\n",
      "933 7059 2332\n",
      "935 7068 2335\n",
      "936 7074 2336\n",
      "937 7080 2338\n",
      "938 7083 2340\n"
     ]
    },
    {
     "name": "stderr",
     "output_type": "stream",
     "text": [
      "b'Skipping line 3: expected 10 fields, saw 11\\n'\n"
     ]
    },
    {
     "name": "stdout",
     "output_type": "stream",
     "text": [
      "943 7092 2348\n",
      "943 7095 2348\n",
      "946 7106 2355\n",
      "948 7115 2359\n",
      "950 7133 2383\n",
      "954 7142 2387\n",
      "955 7204 2389\n",
      "955 7206 2389\n",
      "965 7362 2413\n",
      "966 7367 2415\n",
      "966 7368 2415\n",
      "966 7370 2416\n",
      "966 7373 2421\n",
      "966 7384 2421\n",
      "971 7392 2429\n",
      "974 7400 2436\n",
      "975 7403 2439\n",
      "978 7406 2442\n",
      "981 7423 2450\n",
      "981 7424 2450\n",
      "981 7431 2451\n",
      "983 7437 2455\n",
      "984 7445 2460\n",
      "985 7446 2461\n",
      "988 7455 2467\n",
      "991 7494 2476\n",
      "992 7504 2479\n",
      "992 7513 2480\n",
      "992 7516 2482\n",
      "993 7531 2483\n",
      "993 7541 2486\n",
      "993 7544 2488\n",
      "993 7555 2490\n",
      "993 7557 2490\n",
      "993 7559 2490\n",
      "993 7564 2492\n",
      "993 7566 2492\n",
      "993 7569 2492\n",
      "994 7575 2494\n",
      "994 7581 2495\n",
      "994 7585 2496\n",
      "997 7595 2501\n",
      "997 7598 2502\n",
      "997 7601 2502\n",
      "998 7604 2504\n",
      "1001 7611 2509\n",
      "1002 7612 2510\n",
      "1003 7626 2513\n",
      "1003 7632 2515\n",
      "1004 7636 2517\n",
      "1004 7642 2522\n",
      "1004 7643 2522\n",
      "1004 7647 2524\n",
      "1004 7658 2526\n",
      "1011 7718 2540\n",
      "1021 7732 2558\n",
      "1023 7734 2561\n",
      "1023 7744 2561\n",
      "1023 7750 2562\n",
      "1023 7751 2562\n",
      "1026 7758 2565\n"
     ]
    },
    {
     "name": "stderr",
     "output_type": "stream",
     "text": [
      "b'Skipping line 22: expected 10 fields, saw 11\\nSkipping line 25: expected 10 fields, saw 11\\n'\n"
     ]
    },
    {
     "name": "stdout",
     "output_type": "stream",
     "text": [
      "1028 7783 2576\n",
      "1029 7787 2578\n",
      "1030 7792 2585\n",
      "1032 7800 2587\n",
      "1032 7802 2587\n",
      "1036 7806 2591\n",
      "1044 7836 2612\n",
      "1048 7841 2616\n",
      "1049 7848 2619\n",
      "1049 7851 2620\n",
      "1051 7876 2628\n",
      "1053 7880 2631\n",
      "1053 7883 2631\n",
      "1054 7885 2632\n",
      "1057 7889 2635\n",
      "1057 7896 2637\n",
      "1057 7899 2640\n",
      "1057 7904 2640\n"
     ]
    },
    {
     "name": "stderr",
     "output_type": "stream",
     "text": [
      "b'Skipping line 27: expected 10 fields, saw 11\\nSkipping line 28: expected 10 fields, saw 11\\n'\n"
     ]
    },
    {
     "name": "stdout",
     "output_type": "stream",
     "text": [
      "1063 7940 2655\n",
      "1063 7944 2655\n",
      "1064 7956 2657\n",
      "1065 7975 2663\n",
      "1069 7988 2672\n",
      "1070 7990 2681\n",
      "1070 7993 2685\n",
      "1070 8022 2685\n",
      "1070 8026 2685\n",
      "1070 8038 2685\n",
      "1070 8040 2685\n",
      "1074 8045 2689\n",
      "1078 8049 2693\n",
      "1079 8084 2703\n",
      "1079 8092 2703\n",
      "1079 8099 2705\n",
      "1080 8106 2713\n",
      "1080 8110 2713\n",
      "1088 8131 2722\n",
      "1090 8134 2727\n",
      "1091 8141 2728\n",
      "1093 8188 2739\n",
      "1093 8194 2741\n",
      "1093 8195 2741\n",
      "1093 8200 2745\n",
      "1096 8212 2748\n",
      "1096 8214 2748\n",
      "1097 8230 2755\n",
      "1098 8239 2757\n",
      "1106 8251 2767\n",
      "1108 8254 2769\n",
      "1108 8255 2770\n",
      "1110 8281 2778\n",
      "1111 8285 2781\n",
      "1114 8288 2786\n",
      "1114 8294 2787\n",
      "1115 8300 2788\n",
      "1119 8306 2793\n",
      "1120 8330 2796\n",
      "1121 8348 2803\n",
      "1122 8351 2805\n",
      "1125 8356 2810\n",
      "ep07\n",
      "1 3 2\n",
      "1 5 2\n",
      "2 7 3\n",
      "6 17 8\n"
     ]
    },
    {
     "name": "stderr",
     "output_type": "stream",
     "text": [
      "b'Skipping line 17: expected 10 fields, saw 11\\nSkipping line 37: expected 10 fields, saw 11\\n'\n"
     ]
    },
    {
     "name": "stdout",
     "output_type": "stream",
     "text": [
      "6 105 38\n",
      "26 130 65\n",
      "28 135 67\n",
      "29 148 70\n",
      "29 151 71\n",
      "30 210 77\n",
      "31 212 82\n",
      "37 219 92\n",
      "38 221 93\n",
      "42 235 102\n",
      "42 236 102\n",
      "43 243 107\n",
      "45 248 111\n",
      "45 253 112\n",
      "50 267 121\n",
      "50 269 123\n",
      "51 272 125\n",
      "52 281 130\n",
      "52 285 131\n",
      "52 289 133\n",
      "53 290 135\n"
     ]
    },
    {
     "name": "stderr",
     "output_type": "stream",
     "text": [
      "b'Skipping line 3: expected 10 fields, saw 11\\nSkipping line 5: expected 10 fields, saw 11\\n'\n"
     ]
    },
    {
     "name": "stdout",
     "output_type": "stream",
     "text": [
      "53 293 137\n",
      "54 295 139\n",
      "56 351 148\n",
      "58 353 150\n",
      "58 360 153\n"
     ]
    },
    {
     "name": "stderr",
     "output_type": "stream",
     "text": [
      "b'Skipping line 4: expected 10 fields, saw 11\\n'\n"
     ]
    },
    {
     "name": "stdout",
     "output_type": "stream",
     "text": [
      "58 381 154\n",
      "69 410 171\n",
      "70 415 174\n",
      "70 420 174\n",
      "75 469 198\n",
      "75 480 201\n",
      "75 489 203\n",
      "76 493 206\n",
      "77 502 213\n",
      "77 504 213\n",
      "78 509 215\n",
      "79 518 219\n",
      "79 519 219\n",
      "79 520 222\n",
      "79 527 222\n",
      "81 533 225\n",
      "81 534 225\n",
      "81 535 231\n"
     ]
    },
    {
     "name": "stderr",
     "output_type": "stream",
     "text": [
      "b'Skipping line 4: expected 10 fields, saw 11\\n'\n"
     ]
    },
    {
     "name": "stdout",
     "output_type": "stream",
     "text": [
      "87 543 242\n",
      "87 544 242\n",
      "87 571 247\n",
      "87 574 247\n",
      "90 582 254\n",
      "90 583 255\n",
      "92 589 257\n",
      "93 595 259\n",
      "99 627 273\n",
      "101 631 276\n",
      "101 643 278\n",
      "103 647 281\n",
      "105 651 284\n",
      "106 655 286\n",
      "107 656 287\n",
      "109 694 289\n",
      "110 696 292\n",
      "110 698 294\n"
     ]
    },
    {
     "name": "stderr",
     "output_type": "stream",
     "text": [
      "b'Skipping line 8: expected 10 fields, saw 11\\nSkipping line 9: expected 10 fields, saw 11\\nSkipping line 15: expected 10 fields, saw 11\\n'\n"
     ]
    },
    {
     "name": "stdout",
     "output_type": "stream",
     "text": [
      "115 710 306\n",
      "115 711 306\n",
      "115 719 307\n",
      "115 720 307\n",
      "130 796 348\n",
      "130 799 350\n"
     ]
    },
    {
     "name": "stderr",
     "output_type": "stream",
     "text": [
      "b'Skipping line 2: expected 10 fields, saw 11\\n'\n"
     ]
    },
    {
     "name": "stdout",
     "output_type": "stream",
     "text": [
      "132 821 354\n",
      "133 824 356\n",
      "137 828 360\n"
     ]
    },
    {
     "name": "stderr",
     "output_type": "stream",
     "text": [
      "b'Skipping line 8: expected 10 fields, saw 11\\n'\n"
     ]
    },
    {
     "name": "stdout",
     "output_type": "stream",
     "text": [
      "137 841 362\n",
      "138 846 367\n",
      "140 848 369\n",
      "141 861 370\n",
      "142 867 372\n",
      "142 873 372\n",
      "142 876 374\n",
      "143 879 381\n",
      "144 883 384\n",
      "149 888 389\n",
      "149 889 389\n",
      "149 898 391\n",
      "149 907 391\n",
      "150 908 392\n",
      "155 952 409\n",
      "155 963 411\n",
      "157 965 413\n",
      "157 970 414\n",
      "157 992 429\n",
      "159 1007 433\n",
      "159 1012 434\n",
      "161 1017 438\n",
      "161 1025 440\n",
      "164 1075 455\n",
      "165 1081 457\n",
      "166 1088 460\n",
      "166 1089 462\n",
      "167 1092 464\n",
      "167 1096 474\n",
      "167 1099 474\n",
      "170 1104 478\n",
      "172 1108 483\n",
      "172 1126 486\n",
      "173 1151 498\n",
      "174 1155 499\n",
      "175 1160 501\n",
      "178 1168 506\n",
      "179 1170 507\n",
      "184 1176 515\n",
      "185 1179 518\n",
      "185 1183 518\n",
      "185 1189 519\n",
      "190 1196 526\n",
      "190 1197 526\n",
      "191 1201 527\n",
      "195 1224 534\n",
      "196 1229 539\n",
      "197 1237 544\n",
      "200 1243 549\n",
      "200 1244 551\n",
      "201 1247 553\n",
      "202 1251 557\n",
      "206 1270 565\n",
      "208 1272 567\n",
      "208 1280 568\n",
      "208 1281 569\n",
      "210 1284 571\n",
      "210 1287 573\n",
      "210 1289 577\n",
      "210 1291 578\n",
      "213 1307 583\n",
      "213 1312 587\n",
      "213 1339 588\n",
      "223 1349 598\n",
      "223 1353 598\n",
      "224 1399 603\n",
      "224 1403 604\n",
      "224 1409 606\n",
      "225 1414 614\n",
      "227 1418 617\n",
      "227 1420 617\n",
      "227 1424 621\n",
      "228 1440 627\n",
      "228 1442 627\n",
      "231 1449 630\n",
      "233 1455 635\n",
      "233 1462 635\n",
      "237 1489 642\n",
      "239 1491 644\n",
      "239 1494 646\n"
     ]
    },
    {
     "name": "stderr",
     "output_type": "stream",
     "text": [
      "b'Skipping line 4: expected 10 fields, saw 11\\n'\n"
     ]
    },
    {
     "name": "stdout",
     "output_type": "stream",
     "text": [
      "239 1497 648\n",
      "239 1502 649\n",
      "245 1515 659\n",
      "246 1524 663\n",
      "248 1529 665\n",
      "249 1530 666\n",
      "250 1531 667\n",
      "250 1534 667\n",
      "252 1537 671\n",
      "252 1540 671\n",
      "253 1542 672\n",
      "254 1547 678\n",
      "255 1557 681\n",
      "255 1559 681\n",
      "255 1564 683\n",
      "255 1570 685\n",
      "255 1574 686\n",
      "257 1595 693\n",
      "257 1597 694\n",
      "257 1609 697\n",
      "258 1612 703\n",
      "259 1652 707\n",
      "259 1659 708\n",
      "259 1661 711\n",
      "259 1669 712\n",
      "259 1670 713\n",
      "259 1695 713\n",
      "260 1700 727\n",
      "261 1703 729\n",
      "261 1712 731\n"
     ]
    },
    {
     "name": "stderr",
     "output_type": "stream",
     "text": [
      "b'Skipping line 5: expected 10 fields, saw 11\\n'\n"
     ]
    },
    {
     "name": "stdout",
     "output_type": "stream",
     "text": [
      "265 1724 740\n",
      "269 1737 746\n",
      "270 1746 750\n",
      "270 1750 753\n",
      "270 1776 753\n",
      "271 1781 756\n",
      "273 1784 759\n",
      "276 1790 764\n",
      "276 1795 765\n",
      "280 1799 770\n",
      "281 1807 774\n",
      "284 1810 778\n",
      "284 1813 778\n",
      "285 1818 779\n",
      "286 1821 784\n",
      "288 1832 790\n",
      "288 1834 790\n",
      "288 1839 797\n",
      "290 1852 802\n",
      "292 1857 807\n",
      "293 1861 809\n",
      "298 1866 816\n",
      "300 1889 823\n",
      "301 1890 824\n",
      "301 1934 827\n"
     ]
    },
    {
     "name": "stderr",
     "output_type": "stream",
     "text": [
      "b'Skipping line 31: expected 10 fields, saw 11\\nSkipping line 62: expected 10 fields, saw 11\\nSkipping line 68: expected 10 fields, saw 11\\n'\n"
     ]
    },
    {
     "name": "stdout",
     "output_type": "stream",
     "text": [
      "301 2005 830\n",
      "305 2025 842\n",
      "305 2026 847\n",
      "305 2034 852\n",
      "305 2037 854\n",
      "305 2039 861\n",
      "305 2047 863\n",
      "314 2057 875\n",
      "314 2074 877\n",
      "322 2086 892\n",
      "322 2091 896\n",
      "324 2093 898\n",
      "324 2094 899\n",
      "327 2099 902\n",
      "327 2104 902\n",
      "331 2111 906\n",
      "331 2115 906\n",
      "332 2135 912\n",
      "332 2137 913\n",
      "333 2140 916\n",
      "333 2145 916\n",
      "333 2148 917\n",
      "335 2150 921\n"
     ]
    },
    {
     "name": "stderr",
     "output_type": "stream",
     "text": [
      "b'Skipping line 10: expected 10 fields, saw 11\\nSkipping line 20: expected 10 fields, saw 12\\n'\n"
     ]
    },
    {
     "name": "stdout",
     "output_type": "stream",
     "text": [
      "344 2204 949\n",
      "344 2208 950\n",
      "345 2212 952\n",
      "346 2215 955\n"
     ]
    },
    {
     "name": "stderr",
     "output_type": "stream",
     "text": [
      "b'Skipping line 41: expected 10 fields, saw 11\\nSkipping line 42: expected 10 fields, saw 11\\n'\n"
     ]
    },
    {
     "name": "stdout",
     "output_type": "stream",
     "text": [
      "349 2256 967\n",
      "349 2262 969\n",
      "351 2264 971\n",
      "351 2269 976\n",
      "351 2270 978\n",
      "351 2276 979\n",
      "359 2332 999\n",
      "360 2337 1000\n",
      "360 2340 1000\n",
      "360 2341 1000\n",
      "360 2367 1002\n"
     ]
    },
    {
     "name": "stderr",
     "output_type": "stream",
     "text": [
      "b'Skipping line 12: expected 10 fields, saw 11\\n'\n"
     ]
    },
    {
     "name": "stdout",
     "output_type": "stream",
     "text": [
      "376 2396 1022\n",
      "377 2404 1024\n",
      "378 2408 1029\n",
      "381 2443 1038\n",
      "381 2446 1038\n",
      "383 2448 1040\n",
      "383 2453 1042\n",
      "385 2458 1044\n",
      "385 2462 1049\n",
      "388 2468 1054\n",
      "390 2490 1061\n",
      "397 2506 1075\n"
     ]
    },
    {
     "name": "stderr",
     "output_type": "stream",
     "text": [
      "b'Skipping line 28: expected 10 fields, saw 11\\n'\n"
     ]
    },
    {
     "name": "stdout",
     "output_type": "stream",
     "text": [
      "410 2582 1103\n",
      "412 2584 1118\n",
      "412 2606 1123\n",
      "412 2612 1125\n",
      "416 2626 1132\n",
      "417 2627 1133\n",
      "420 2642 1139\n"
     ]
    },
    {
     "name": "stderr",
     "output_type": "stream",
     "text": [
      "b'Skipping line 7: expected 10 fields, saw 11\\n'\n",
      "b'Skipping line 5: expected 10 fields, saw 11\\nSkipping line 9: expected 10 fields, saw 11\\n'\n"
     ]
    },
    {
     "name": "stdout",
     "output_type": "stream",
     "text": [
      "421 2649 1142\n",
      "421 2651 1143\n",
      "422 2654 1147\n",
      "422 2657 1147\n",
      "422 2665 1150\n",
      "422 2667 1152\n",
      "425 2673 1156\n",
      "425 2679 1157\n",
      "426 2683 1158\n",
      "426 2698 1160\n"
     ]
    },
    {
     "name": "stderr",
     "output_type": "stream",
     "text": [
      "b'Skipping line 2: expected 10 fields, saw 11\\n'\n"
     ]
    },
    {
     "name": "stdout",
     "output_type": "stream",
     "text": [
      "428 2706 1164\n",
      "432 2712 1168\n",
      "432 2713 1169\n",
      "435 2723 1174\n",
      "438 2727 1179\n",
      "440 2730 1181\n",
      "442 2734 1183\n",
      "442 2737 1184\n",
      "443 2743 1187\n",
      "443 2749 1187\n",
      "443 2750 1187\n",
      "443 2753 1191\n",
      "443 2757 1194\n",
      "446 2763 1199\n",
      "446 2769 1201\n",
      "446 2772 1202\n",
      "448 2774 1204\n",
      "448 2808 1208\n",
      "449 2810 1210\n",
      "449 2821 1213\n",
      "450 2828 1214\n",
      "451 2847 1224\n",
      "451 2852 1224\n",
      "451 2855 1224\n",
      "452 2859 1229\n",
      "452 2863 1231\n",
      "452 2865 1233\n",
      "452 2869 1233\n",
      "455 2875 1236\n",
      "456 2878 1238\n",
      "456 2879 1246\n",
      "456 2882 1249\n",
      "456 2887 1249\n",
      "457 2904 1254\n",
      "462 2911 1268\n",
      "462 3070 1269\n",
      "463 3075 1272\n",
      "467 3081 1283\n"
     ]
    },
    {
     "name": "stderr",
     "output_type": "stream",
     "text": [
      "b'Skipping line 10: expected 10 fields, saw 11\\nSkipping line 11: expected 10 fields, saw 11\\nSkipping line 29: expected 10 fields, saw 11\\n'\n"
     ]
    },
    {
     "name": "stdout",
     "output_type": "stream",
     "text": [
      "472 3118 1295\n",
      "473 3121 1296\n",
      "473 3137 1299\n",
      "475 3139 1301\n",
      "475 3140 1302\n",
      "475 3143 1303\n",
      "475 3145 1304\n",
      "475 3149 1304\n",
      "476 3153 1305\n",
      "476 3156 1305\n",
      "478 3159 1307\n"
     ]
    },
    {
     "name": "stderr",
     "output_type": "stream",
     "text": [
      "b'Skipping line 2: expected 10 fields, saw 11\\n'\n"
     ]
    },
    {
     "name": "stdout",
     "output_type": "stream",
     "text": [
      "480 3162 1311\n",
      "483 3166 1314\n",
      "483 3167 1327\n",
      "487 3197 1340\n",
      "487 3204 1342\n",
      "488 3221 1346\n",
      "488 3223 1347\n",
      "489 3226 1349\n",
      "489 3229 1350\n",
      "490 3235 1352\n",
      "492 3239 1354\n",
      "492 3244 1354\n",
      "494 3248 1357\n",
      "494 3289 1362\n",
      "494 3297 1362\n",
      "498 3307 1374\n",
      "499 3311 1375\n",
      "499 3313 1376\n",
      "500 3320 1389\n",
      "500 3329 1390\n",
      "500 3331 1391\n",
      "501 3332 1392\n",
      "502 3344 1399\n",
      "503 3347 1404\n",
      "506 3459 1412\n",
      "506 3467 1416\n",
      "507 3469 1418\n",
      "508 3472 1420\n",
      "508 3476 1423\n",
      "512 3480 1427\n",
      "517 3486 1433\n",
      "520 3509 1436\n",
      "522 3517 1440\n",
      "525 3521 1443\n",
      "526 3526 1449\n",
      "527 3534 1452\n",
      "535 3550 1461\n",
      "535 3553 1462\n",
      "535 3558 1464\n",
      "536 3561 1470\n",
      "536 3562 1470\n",
      "537 3574 1474\n",
      "537 3576 1479\n",
      "537 3577 1482\n",
      "537 3578 1485\n",
      "541 3597 1494\n",
      "542 3674 1500\n",
      "544 3680 1502\n",
      "544 3687 1505\n",
      "546 3697 1510\n",
      "546 3699 1510\n",
      "546 3704 1510\n",
      "546 3708 1511\n",
      "546 3714 1512\n",
      "547 3718 1514\n",
      "547 3726 1516\n",
      "547 3734 1517\n",
      "549 3738 1519\n",
      "550 3742 1521\n",
      "551 3749 1526\n",
      "554 3760 1531\n",
      "554 3766 1533\n",
      "554 3768 1534\n"
     ]
    },
    {
     "name": "stderr",
     "output_type": "stream",
     "text": [
      "b'Skipping line 7: expected 10 fields, saw 11\\n'\n"
     ]
    },
    {
     "name": "stdout",
     "output_type": "stream",
     "text": [
      "560 3803 1543\n",
      "561 3813 1545\n",
      "561 3820 1548\n",
      "583 4034 1610\n",
      "586 4037 1613\n",
      "588 4044 1617\n"
     ]
    },
    {
     "name": "stderr",
     "output_type": "stream",
     "text": [
      "b'Skipping line 14: expected 10 fields, saw 11\\nSkipping line 15: expected 10 fields, saw 11\\n'\n"
     ]
    },
    {
     "name": "stdout",
     "output_type": "stream",
     "text": [
      "598 4065 1631\n",
      "598 4079 1632\n",
      "598 4084 1633\n",
      "600 4090 1637\n",
      "601 4092 1638\n",
      "602 4113 1641\n"
     ]
    },
    {
     "name": "stderr",
     "output_type": "stream",
     "text": [
      "b'Skipping line 6: expected 10 fields, saw 11\\nSkipping line 8: expected 10 fields, saw 11\\n'\n"
     ]
    },
    {
     "name": "stdout",
     "output_type": "stream",
     "text": [
      "603 4121 1645\n",
      "604 4123 1647\n"
     ]
    },
    {
     "name": "stderr",
     "output_type": "stream",
     "text": [
      "b'Skipping line 2: expected 10 fields, saw 11\\n'\n"
     ]
    },
    {
     "name": "stdout",
     "output_type": "stream",
     "text": [
      "604 4125 1653\n",
      "604 4130 1655\n",
      "604 4132 1656\n",
      "604 4134 1658\n",
      "605 4140 1662\n",
      "610 4169 1674\n",
      "610 4170 1674\n",
      "611 4197 1678\n",
      "611 4198 1682\n",
      "611 4202 1682\n",
      "611 4208 1683\n",
      "614 4212 1688\n",
      "617 4218 1691\n",
      "619 4226 1696\n",
      "619 4228 1696\n",
      "619 4235 1701\n",
      "619 4239 1702\n",
      "619 4241 1703\n",
      "619 4242 1706\n",
      "622 4271 1714\n",
      "623 4275 1717\n",
      "625 4277 1719\n",
      "627 4280 1721\n",
      "629 4288 1724\n",
      "629 4292 1731\n",
      "629 4294 1731\n",
      "630 4296 1732\n",
      "630 4302 1733\n",
      "633 4349 1739\n",
      "637 4388 1744\n",
      "639 4394 1747\n",
      "641 4400 1751\n",
      "641 4406 1752\n",
      "645 4418 1758\n",
      "648 4422 1762\n",
      "653 4430 1767\n",
      "653 4433 1773\n",
      "653 4439 1774\n"
     ]
    },
    {
     "name": "stderr",
     "output_type": "stream",
     "text": [
      "b'Skipping line 2: expected 10 fields, saw 11\\nSkipping line 5: expected 10 fields, saw 11\\n'\n"
     ]
    },
    {
     "name": "stdout",
     "output_type": "stream",
     "text": [
      "653 4444 1781\n",
      "653 4445 1783\n",
      "653 4453 1783\n",
      "653 4459 1785\n"
     ]
    },
    {
     "name": "stderr",
     "output_type": "stream",
     "text": [
      "b'Skipping line 2: expected 10 fields, saw 11\\n'\n"
     ]
    },
    {
     "name": "stdout",
     "output_type": "stream",
     "text": [
      "653 4463 1786\n",
      "658 4506 1793\n",
      "665 4517 1802\n",
      "665 4520 1803\n",
      "665 4523 1804\n"
     ]
    },
    {
     "name": "stderr",
     "output_type": "stream",
     "text": [
      "b'Skipping line 12: expected 10 fields, saw 11\\n'\n"
     ]
    },
    {
     "name": "stdout",
     "output_type": "stream",
     "text": [
      "667 4534 1812\n",
      "672 4566 1826\n",
      "672 4568 1827\n",
      "679 4579 1838\n",
      "680 4580 1839\n",
      "685 4588 1845\n",
      "689 4593 1850\n",
      "689 4597 1853\n",
      "693 4618 1863\n",
      "693 4621 1865\n",
      "693 4623 1870\n",
      "696 4634 1876\n",
      "698 4643 1892\n",
      "699 4654 1895\n",
      "710 4714 1906\n",
      "710 4716 1907\n",
      "713 4723 1911\n",
      "714 4732 1912\n"
     ]
    },
    {
     "name": "stderr",
     "output_type": "stream",
     "text": [
      "b'Skipping line 7: expected 10 fields, saw 11\\n'\n"
     ]
    },
    {
     "name": "stdout",
     "output_type": "stream",
     "text": [
      "715 4744 1916\n",
      "717 4749 1918\n",
      "719 4755 1925\n",
      "721 4757 1927\n",
      "724 4781 1937\n",
      "725 4786 1943\n",
      "725 4793 1945\n",
      "725 4796 1947\n",
      "726 4810 1949\n",
      "728 4824 1955\n",
      "732 4870 1964\n",
      "734 4875 1967\n",
      "734 4893 1982\n",
      "735 4896 1986\n",
      "735 4900 1990\n",
      "736 4902 1995\n",
      "736 4922 2004\n",
      "738 4924 2006\n",
      "740 4932 2010\n",
      "743 4941 2015\n",
      "743 4942 2015\n",
      "743 4947 2016\n",
      "744 4949 2017\n",
      "744 4951 2020\n",
      "745 4954 2021\n",
      "747 4978 2026\n",
      "750 4985 2030\n",
      "753 4997 2035\n",
      "753 4999 2035\n",
      "756 5023 2045\n",
      "756 5028 2048\n",
      "756 5038 2049\n",
      "758 5044 2053\n",
      "759 5053 2056\n",
      "762 5057 2061\n",
      "769 5068 2070\n",
      "769 5070 2074\n",
      "769 5071 2074\n",
      "773 5088 2082\n",
      "773 5091 2085\n",
      "774 5093 2087\n",
      "775 5099 2089\n",
      "779 5119 2096\n",
      "779 5123 2098\n"
     ]
    },
    {
     "name": "stderr",
     "output_type": "stream",
     "text": [
      "b'Skipping line 2: expected 10 fields, saw 11\\n'\n"
     ]
    },
    {
     "name": "stdout",
     "output_type": "stream",
     "text": [
      "782 5127 2104\n",
      "782 5131 2104\n",
      "782 5133 2108\n",
      "784 5138 2111\n"
     ]
    },
    {
     "name": "stderr",
     "output_type": "stream",
     "text": [
      "b'Skipping line 4: expected 10 fields, saw 11\\n'\n"
     ]
    },
    {
     "name": "stdout",
     "output_type": "stream",
     "text": [
      "784 5144 2115\n",
      "788 5152 2119\n",
      "788 5153 2122\n",
      "795 5178 2136\n",
      "795 5180 2136\n",
      "796 5182 2137\n"
     ]
    },
    {
     "name": "stderr",
     "output_type": "stream",
     "text": [
      "b'Skipping line 3: expected 10 fields, saw 11\\n'\n"
     ]
    },
    {
     "name": "stdout",
     "output_type": "stream",
     "text": [
      "799 5206 2141\n",
      "800 5215 2145\n",
      "801 5241 2148\n",
      "801 5247 2149\n",
      "801 5250 2153\n",
      "804 5272 2158\n",
      "805 5276 2160\n",
      "805 5281 2162\n",
      "805 5282 2162\n",
      "805 5284 2163\n",
      "810 5297 2172\n",
      "811 5299 2174\n",
      "818 5307 2182\n",
      "819 5316 2185\n",
      "820 5320 2189\n",
      "820 5322 2189\n",
      "825 5329 2198\n",
      "825 5336 2198\n",
      "825 5337 2198\n",
      "826 5343 2200\n",
      "827 5344 2201\n",
      "831 5399 2211\n",
      "831 5411 2212\n",
      "831 5414 2213\n",
      "833 5448 2222\n",
      "839 5458 2230\n",
      "840 5465 2233\n",
      "842 5469 2236\n",
      "845 5473 2240\n",
      "845 5476 2240\n",
      "846 5481 2243\n",
      "846 5486 2244\n"
     ]
    },
    {
     "name": "stderr",
     "output_type": "stream",
     "text": [
      "b'Skipping line 5: expected 10 fields, saw 11\\n'\n"
     ]
    },
    {
     "name": "stdout",
     "output_type": "stream",
     "text": [
      "858 5518 2273\n"
     ]
    },
    {
     "name": "stderr",
     "output_type": "stream",
     "text": [
      "b'Skipping line 33: expected 10 fields, saw 11\\nSkipping line 36: expected 10 fields, saw 11\\n'\n"
     ]
    },
    {
     "name": "stdout",
     "output_type": "stream",
     "text": [
      "860 5571 2289\n",
      "860 5573 2290\n",
      "860 5575 2290\n",
      "863 5585 2307\n",
      "863 5588 2322\n"
     ]
    },
    {
     "name": "stderr",
     "output_type": "stream",
     "text": [
      "b'Skipping line 14: expected 10 fields, saw 11\\n'\n"
     ]
    },
    {
     "name": "stdout",
     "output_type": "stream",
     "text": [
      "865 5602 2336\n",
      "867 5625 2341\n",
      "869 5629 2345\n"
     ]
    },
    {
     "name": "stderr",
     "output_type": "stream",
     "text": [
      "b'Skipping line 9: expected 10 fields, saw 11\\n'\n"
     ]
    },
    {
     "name": "stdout",
     "output_type": "stream",
     "text": [
      "871 5642 2354\n",
      "871 5644 2357\n",
      "872 5645 2358\n",
      "879 5687 2369\n",
      "880 5690 2371\n",
      "887 5704 2387\n",
      "888 5716 2389\n",
      "888 5718 2394\n",
      "888 5721 2395\n",
      "888 5724 2395\n",
      "889 5728 2398\n",
      "892 5737 2402\n",
      "892 5738 2403\n",
      "892 5742 2404\n",
      "892 5745 2405\n",
      "894 5747 2407\n",
      "895 5749 2408\n"
     ]
    },
    {
     "name": "stderr",
     "output_type": "stream",
     "text": [
      "b'Skipping line 50: expected 10 fields, saw 11\\n'\n"
     ]
    },
    {
     "name": "stdout",
     "output_type": "stream",
     "text": [
      "899 5807 2433\n",
      "900 5812 2436\n",
      "900 5813 2436\n",
      "907 5823 2444\n",
      "912 5830 2451\n",
      "913 5832 2452\n",
      "913 5845 2455\n",
      "915 5850 2457\n"
     ]
    },
    {
     "name": "stderr",
     "output_type": "stream",
     "text": [
      "b'Skipping line 3: expected 10 fields, saw 11\\n'\n"
     ]
    },
    {
     "name": "stdout",
     "output_type": "stream",
     "text": [
      "919 5855 2465\n",
      "922 5862 2469\n",
      "923 5868 2476\n",
      "925 5873 2479\n",
      "925 5877 2480\n",
      "936 5927 2504\n",
      "937 5936 2508\n",
      "937 5941 2509\n",
      "937 5943 2512\n"
     ]
    },
    {
     "name": "stderr",
     "output_type": "stream",
     "text": [
      "b'Skipping line 63: expected 10 fields, saw 11\\n'\n"
     ]
    },
    {
     "name": "stdout",
     "output_type": "stream",
     "text": [
      "945 6014 2538\n",
      "945 6023 2541\n",
      "951 6047 2550\n",
      "952 6053 2552\n",
      "952 6059 2554\n",
      "955 6067 2557\n",
      "956 6076 2559\n"
     ]
    },
    {
     "name": "stderr",
     "output_type": "stream",
     "text": [
      "b'Skipping line 53: expected 10 fields, saw 11\\nSkipping line 61: expected 10 fields, saw 11\\nSkipping line 105: expected 10 fields, saw 11\\nSkipping line 106: expected 10 fields, saw 11\\nSkipping line 108: expected 10 fields, saw 11\\n'\n"
     ]
    },
    {
     "name": "stdout",
     "output_type": "stream",
     "text": [
      "967 6190 2593\n",
      "969 6192 2595\n",
      "969 6200 2597\n",
      "970 6208 2601\n",
      "970 6221 2603\n",
      "970 6225 2605\n",
      "970 6229 2606\n"
     ]
    },
    {
     "name": "stderr",
     "output_type": "stream",
     "text": [
      "b'Skipping line 8: expected 10 fields, saw 11\\n'\n"
     ]
    },
    {
     "name": "stdout",
     "output_type": "stream",
     "text": [
      "974 6243 2618\n",
      "974 6244 2618\n",
      "974 6253 2623\n",
      "974 6259 2625\n",
      "975 6260 2626\n",
      "975 6262 2627\n"
     ]
    },
    {
     "name": "stderr",
     "output_type": "stream",
     "text": [
      "b'Skipping line 9: expected 10 fields, saw 11\\nSkipping line 20: expected 10 fields, saw 11\\nSkipping line 22: expected 10 fields, saw 11\\n'\n"
     ]
    },
    {
     "name": "stdout",
     "output_type": "stream",
     "text": [
      "980 6293 2654\n",
      "980 6315 2656\n",
      "981 6319 2661\n",
      "986 6340 2677\n",
      "986 6343 2679\n",
      "986 6344 2681\n"
     ]
    },
    {
     "name": "stderr",
     "output_type": "stream",
     "text": [
      "b'Skipping line 2: expected 10 fields, saw 11\\n'\n"
     ]
    },
    {
     "name": "stdout",
     "output_type": "stream",
     "text": [
      "988 6350 2684\n",
      "990 6357 2689\n",
      "991 6361 2691\n",
      "993 6393 2694\n",
      "994 6398 2697\n",
      "994 6402 2700\n"
     ]
    },
    {
     "name": "stderr",
     "output_type": "stream",
     "text": [
      "b'Skipping line 30: expected 10 fields, saw 12\\nSkipping line 32: expected 10 fields, saw 11\\nSkipping line 92: expected 10 fields, saw 11\\nSkipping line 103: expected 10 fields, saw 11\\n'\n"
     ]
    },
    {
     "name": "stdout",
     "output_type": "stream",
     "text": [
      "1024 6537 2764\n",
      "1029 6548 2772\n",
      "1029 6555 2773\n",
      "1032 6561 2776\n"
     ]
    },
    {
     "name": "stderr",
     "output_type": "stream",
     "text": [
      "b'Skipping line 4: expected 10 fields, saw 11\\n'\n"
     ]
    },
    {
     "name": "stdout",
     "output_type": "stream",
     "text": [
      "1034 6565 2780\n",
      "1037 6570 2784\n",
      "1038 6577 2786\n"
     ]
    },
    {
     "name": "stderr",
     "output_type": "stream",
     "text": [
      "b'Skipping line 24: expected 10 fields, saw 11\\n'\n"
     ]
    },
    {
     "name": "stdout",
     "output_type": "stream",
     "text": [
      "1047 6639 2810\n",
      "1047 6666 2810\n"
     ]
    },
    {
     "name": "stderr",
     "output_type": "stream",
     "text": [
      "b'Skipping line 161: expected 10 fields, saw 11\\n'\n"
     ]
    },
    {
     "name": "stdout",
     "output_type": "stream",
     "text": [
      "1078 6828 2870\n",
      "1078 6831 2871\n",
      "1085 6843 2883\n",
      "1085 6849 2883\n",
      "1089 6880 2892\n",
      "1089 6883 2893\n",
      "1089 6885 2897\n",
      "1091 6890 2900\n",
      "1091 6892 2900\n",
      "1091 6895 2901\n",
      "1091 6897 2902\n",
      "1094 6900 2905\n",
      "1094 6917 2909\n",
      "1095 6921 2911\n",
      "1095 6928 2911\n",
      "1095 6929 2913\n",
      "1095 6931 2915\n",
      "1097 6933 2917\n",
      "1099 6975 2923\n",
      "1099 6978 2924\n",
      "1099 6980 2925\n",
      "1099 6983 2925\n",
      "1099 6988 2925\n",
      "1101 6991 2931\n",
      "1102 6995 2933\n"
     ]
    },
    {
     "name": "stderr",
     "output_type": "stream",
     "text": [
      "b'Skipping line 16: expected 10 fields, saw 11\\n'\n"
     ]
    },
    {
     "name": "stdout",
     "output_type": "stream",
     "text": [
      "1112 7012 2956\n",
      "1112 7013 2956\n",
      "1112 7021 2966\n"
     ]
    },
    {
     "name": "stderr",
     "output_type": "stream",
     "text": [
      "b'Skipping line 12: expected 10 fields, saw 11\\n'\n"
     ]
    },
    {
     "name": "stdout",
     "output_type": "stream",
     "text": [
      "1117 7038 2986\n",
      "1117 7050 2990\n",
      "1119 7059 2999\n",
      "1120 7068 3004\n",
      "1121 7074 3005\n",
      "1122 7080 3009\n",
      "1122 7083 3010\n"
     ]
    },
    {
     "name": "stderr",
     "output_type": "stream",
     "text": [
      "b'Skipping line 3: expected 10 fields, saw 11\\n'\n"
     ]
    },
    {
     "name": "stdout",
     "output_type": "stream",
     "text": [
      "1129 7092 3017\n",
      "1129 7095 3017\n",
      "1131 7106 3025\n",
      "1133 7115 3029\n",
      "1142 7133 3046\n",
      "1143 7142 3048\n",
      "1144 7204 3050\n",
      "1145 7206 3053\n",
      "1156 7362 3078\n",
      "1157 7367 3080\n",
      "1157 7368 3080\n",
      "1158 7370 3084\n",
      "1158 7373 3095\n",
      "1158 7384 3096\n",
      "1162 7392 3105\n",
      "1166 7400 3112\n",
      "1167 7403 3115\n",
      "1170 7406 3118\n",
      "1176 7423 3127\n",
      "1176 7424 3127\n",
      "1176 7431 3129\n",
      "1179 7437 3133\n",
      "1179 7445 3135\n",
      "1180 7446 3137\n",
      "1183 7455 3143\n",
      "1188 7494 3151\n",
      "1189 7504 3154\n",
      "1189 7513 3155\n",
      "1189 7516 3156\n",
      "1190 7531 3157\n",
      "1190 7541 3160\n",
      "1192 7544 3165\n",
      "1192 7555 3167\n",
      "1192 7557 3167\n",
      "1192 7559 3168\n",
      "1192 7564 3170\n",
      "1192 7566 3171\n",
      "1192 7569 3177\n",
      "1193 7575 3179\n",
      "1193 7581 3182\n",
      "1193 7585 3185\n",
      "1197 7595 3190\n",
      "1197 7598 3191\n",
      "1198 7601 3192\n",
      "1199 7604 3196\n",
      "1202 7611 3201\n",
      "1203 7612 3202\n",
      "1204 7626 3209\n",
      "1204 7632 3211\n",
      "1205 7636 3213\n",
      "1205 7642 3221\n",
      "1205 7643 3221\n",
      "1205 7647 3223\n",
      "1205 7658 3225\n",
      "1215 7718 3243\n",
      "1226 7732 3265\n",
      "1228 7734 3269\n",
      "1228 7744 3270\n",
      "1228 7750 3271\n",
      "1228 7751 3273\n",
      "1231 7758 3278\n"
     ]
    },
    {
     "name": "stderr",
     "output_type": "stream",
     "text": [
      "b'Skipping line 22: expected 10 fields, saw 11\\nSkipping line 25: expected 10 fields, saw 11\\n'\n"
     ]
    },
    {
     "name": "stdout",
     "output_type": "stream",
     "text": [
      "1238 7783 3310\n",
      "1240 7787 3313\n",
      "1241 7792 3319\n",
      "1243 7800 3321\n",
      "1243 7802 3324\n",
      "1247 7806 3328\n",
      "1258 7836 3347\n",
      "1262 7841 3351\n",
      "1262 7848 3355\n",
      "1262 7851 3357\n",
      "1263 7876 3365\n",
      "1265 7880 3371\n",
      "1265 7883 3372\n",
      "1266 7885 3373\n",
      "1269 7889 3376\n",
      "1269 7896 3379\n",
      "1270 7899 3381\n",
      "1270 7904 3382\n"
     ]
    },
    {
     "name": "stderr",
     "output_type": "stream",
     "text": [
      "b'Skipping line 27: expected 10 fields, saw 11\\nSkipping line 28: expected 10 fields, saw 11\\n'\n"
     ]
    },
    {
     "name": "stdout",
     "output_type": "stream",
     "text": [
      "1277 7940 3397\n",
      "1277 7944 3397\n",
      "1278 7956 3399\n",
      "1279 7975 3405\n",
      "1283 7988 3412\n",
      "1284 7990 3415\n",
      "1285 7993 3418\n",
      "1285 8022 3418\n",
      "1285 8026 3418\n",
      "1287 8038 3422\n",
      "1287 8040 3422\n",
      "1291 8045 3427\n",
      "1295 8049 3431\n",
      "1297 8084 3440\n",
      "1297 8092 3442\n",
      "1297 8099 3444\n",
      "1300 8106 3448\n",
      "1300 8110 3451\n",
      "1307 8131 3462\n",
      "1309 8134 3468\n",
      "1310 8141 3469\n",
      "1313 8188 3482\n",
      "1316 8194 3487\n",
      "1316 8195 3487\n",
      "1317 8200 3492\n",
      "1321 8212 3498\n",
      "1321 8214 3498\n",
      "1323 8230 3509\n",
      "1325 8239 3511\n",
      "1333 8251 3524\n",
      "1335 8254 3526\n",
      "1336 8255 3527\n",
      "1338 8281 3535\n",
      "1339 8285 3538\n",
      "1342 8288 3543\n",
      "1343 8294 3547\n",
      "1345 8300 3549\n",
      "1349 8306 3554\n",
      "1350 8330 3558\n",
      "1355 8348 3569\n",
      "1356 8351 3571\n",
      "1359 8356 3577\n",
      "ep08\n",
      "1 3 2\n",
      "1 5 2\n",
      "2 7 3\n",
      "5 17 9\n"
     ]
    },
    {
     "name": "stderr",
     "output_type": "stream",
     "text": [
      "b'Skipping line 17: expected 10 fields, saw 11\\nSkipping line 37: expected 10 fields, saw 11\\n'\n"
     ]
    },
    {
     "name": "stdout",
     "output_type": "stream",
     "text": [
      "5 105 34\n",
      "24 130 58\n",
      "25 135 60\n",
      "26 148 61\n",
      "26 151 62\n",
      "26 210 65\n",
      "26 212 67\n",
      "32 219 73\n",
      "33 221 74\n",
      "37 235 81\n",
      "37 236 81\n",
      "38 243 85\n",
      "40 248 89\n",
      "40 253 90\n",
      "43 267 97\n",
      "43 269 98\n",
      "44 272 100\n",
      "44 281 103\n",
      "44 285 103\n",
      "44 289 103\n",
      "45 290 104\n"
     ]
    },
    {
     "name": "stderr",
     "output_type": "stream",
     "text": [
      "b'Skipping line 3: expected 10 fields, saw 11\\nSkipping line 5: expected 10 fields, saw 11\\n'\n"
     ]
    },
    {
     "name": "stdout",
     "output_type": "stream",
     "text": [
      "46 293 107\n",
      "47 295 108\n",
      "48 351 116\n",
      "49 353 117\n",
      "50 360 121\n"
     ]
    },
    {
     "name": "stderr",
     "output_type": "stream",
     "text": [
      "b'Skipping line 4: expected 10 fields, saw 11\\n'\n"
     ]
    },
    {
     "name": "stdout",
     "output_type": "stream",
     "text": [
      "51 381 122\n",
      "62 410 139\n",
      "62 415 141\n",
      "62 420 141\n",
      "64 469 151\n",
      "65 480 154\n",
      "65 489 156\n",
      "66 493 157\n",
      "67 502 160\n",
      "67 504 160\n",
      "68 509 162\n",
      "69 518 165\n",
      "69 519 165\n",
      "69 520 165\n",
      "69 527 165\n",
      "71 533 169\n",
      "71 534 169\n",
      "71 535 169\n"
     ]
    },
    {
     "name": "stderr",
     "output_type": "stream",
     "text": [
      "b'Skipping line 4: expected 10 fields, saw 11\\n'\n"
     ]
    },
    {
     "name": "stdout",
     "output_type": "stream",
     "text": [
      "76 543 180\n",
      "76 544 180\n",
      "76 571 182\n",
      "76 574 182\n",
      "79 582 185\n",
      "79 583 186\n",
      "81 589 188\n",
      "82 595 190\n",
      "91 627 208\n",
      "93 631 211\n",
      "93 643 212\n",
      "93 647 214\n",
      "95 651 217\n",
      "96 655 219\n",
      "97 656 220\n",
      "98 694 222\n",
      "99 696 224\n",
      "99 698 224\n"
     ]
    },
    {
     "name": "stderr",
     "output_type": "stream",
     "text": [
      "b'Skipping line 8: expected 10 fields, saw 11\\nSkipping line 9: expected 10 fields, saw 11\\nSkipping line 15: expected 10 fields, saw 11\\n'\n"
     ]
    },
    {
     "name": "stdout",
     "output_type": "stream",
     "text": [
      "104 710 233\n",
      "104 711 233\n",
      "104 719 233\n",
      "104 720 233\n",
      "116 796 267\n",
      "116 799 268\n"
     ]
    },
    {
     "name": "stderr",
     "output_type": "stream",
     "text": [
      "b'Skipping line 2: expected 10 fields, saw 11\\n'\n"
     ]
    },
    {
     "name": "stdout",
     "output_type": "stream",
     "text": [
      "118 821 271\n",
      "119 824 272\n",
      "123 828 276\n"
     ]
    },
    {
     "name": "stderr",
     "output_type": "stream",
     "text": [
      "b'Skipping line 8: expected 10 fields, saw 11\\n'\n"
     ]
    },
    {
     "name": "stdout",
     "output_type": "stream",
     "text": [
      "123 841 276\n",
      "123 846 276\n",
      "125 848 278\n",
      "126 861 279\n",
      "126 867 279\n",
      "126 873 279\n",
      "126 876 281\n",
      "127 879 284\n",
      "128 883 285\n",
      "132 888 289\n",
      "132 889 289\n",
      "132 898 291\n",
      "132 907 291\n",
      "133 908 292\n",
      "137 952 312\n",
      "138 963 315\n",
      "140 965 317\n",
      "140 970 317\n",
      "140 992 328\n",
      "144 1007 333\n",
      "144 1012 334\n",
      "146 1017 337\n",
      "146 1025 339\n",
      "148 1075 354\n",
      "148 1081 357\n",
      "149 1088 360\n",
      "149 1089 360\n",
      "150 1092 361\n",
      "150 1096 363\n",
      "150 1099 363\n",
      "151 1104 366\n",
      "153 1108 368\n",
      "153 1126 371\n",
      "154 1151 374\n",
      "155 1155 375\n",
      "155 1160 377\n",
      "158 1168 381\n",
      "159 1170 382\n",
      "164 1176 388\n",
      "164 1179 391\n",
      "164 1183 391\n",
      "164 1189 392\n",
      "167 1196 398\n",
      "167 1197 398\n",
      "167 1201 398\n",
      "169 1224 401\n",
      "169 1229 403\n",
      "170 1237 404\n",
      "173 1243 408\n",
      "173 1244 409\n",
      "174 1247 410\n",
      "174 1251 413\n",
      "180 1270 422\n",
      "182 1272 424\n",
      "182 1280 425\n",
      "182 1281 425\n",
      "184 1284 427\n",
      "184 1287 428\n",
      "184 1289 429\n",
      "184 1291 430\n",
      "186 1307 434\n",
      "186 1312 435\n",
      "186 1339 436\n",
      "193 1349 450\n",
      "193 1353 450\n",
      "193 1399 452\n",
      "195 1403 454\n",
      "196 1409 455\n",
      "196 1414 456\n",
      "199 1418 459\n",
      "199 1420 459\n",
      "199 1424 460\n",
      "200 1440 464\n",
      "200 1442 464\n",
      "203 1449 467\n",
      "205 1455 470\n",
      "205 1462 470\n",
      "209 1489 477\n",
      "210 1491 479\n",
      "210 1494 480\n"
     ]
    },
    {
     "name": "stderr",
     "output_type": "stream",
     "text": [
      "b'Skipping line 4: expected 10 fields, saw 11\\n'\n"
     ]
    },
    {
     "name": "stdout",
     "output_type": "stream",
     "text": [
      "210 1497 481\n",
      "210 1502 482\n",
      "215 1515 491\n",
      "216 1524 495\n",
      "218 1529 497\n",
      "219 1530 498\n",
      "219 1531 499\n",
      "219 1534 499\n",
      "221 1537 502\n",
      "221 1540 502\n",
      "222 1542 503\n",
      "223 1547 508\n",
      "226 1557 514\n",
      "226 1559 514\n",
      "226 1564 514\n",
      "226 1570 516\n",
      "226 1574 517\n",
      "229 1595 523\n",
      "229 1597 524\n",
      "229 1609 526\n",
      "230 1612 528\n",
      "232 1652 530\n",
      "232 1659 531\n",
      "233 1661 536\n",
      "234 1669 538\n",
      "234 1670 539\n",
      "234 1695 539\n",
      "234 1700 548\n",
      "235 1703 549\n",
      "235 1712 551\n"
     ]
    },
    {
     "name": "stderr",
     "output_type": "stream",
     "text": [
      "b'Skipping line 5: expected 10 fields, saw 11\\n'\n"
     ]
    },
    {
     "name": "stdout",
     "output_type": "stream",
     "text": [
      "238 1724 555\n",
      "244 1737 562\n",
      "245 1746 564\n",
      "245 1750 565\n",
      "245 1776 565\n",
      "245 1781 566\n",
      "246 1784 569\n",
      "249 1790 574\n",
      "249 1795 575\n",
      "253 1799 580\n",
      "254 1807 583\n",
      "257 1810 586\n",
      "257 1813 586\n",
      "258 1818 587\n",
      "258 1821 587\n",
      "259 1832 591\n",
      "259 1834 591\n",
      "259 1839 594\n",
      "261 1852 598\n",
      "262 1857 600\n",
      "263 1861 602\n",
      "268 1866 609\n",
      "270 1889 612\n",
      "271 1890 613\n",
      "271 1934 614\n"
     ]
    },
    {
     "name": "stderr",
     "output_type": "stream",
     "text": [
      "b'Skipping line 31: expected 10 fields, saw 11\\nSkipping line 62: expected 10 fields, saw 11\\nSkipping line 68: expected 10 fields, saw 11\\n'\n"
     ]
    },
    {
     "name": "stdout",
     "output_type": "stream",
     "text": [
      "271 2005 615\n",
      "274 2025 622\n",
      "274 2026 622\n",
      "274 2034 627\n",
      "276 2037 631\n",
      "276 2039 633\n",
      "276 2047 640\n",
      "284 2057 650\n",
      "284 2074 652\n",
      "290 2086 667\n",
      "290 2091 667\n",
      "290 2093 669\n",
      "291 2094 670\n",
      "294 2099 673\n",
      "294 2104 673\n",
      "299 2111 678\n",
      "299 2115 678\n",
      "300 2135 684\n",
      "300 2137 685\n",
      "300 2140 687\n",
      "300 2145 687\n",
      "300 2148 688\n",
      "302 2150 691\n"
     ]
    },
    {
     "name": "stderr",
     "output_type": "stream",
     "text": [
      "b'Skipping line 10: expected 10 fields, saw 11\\nSkipping line 20: expected 10 fields, saw 12\\n'\n"
     ]
    },
    {
     "name": "stdout",
     "output_type": "stream",
     "text": [
      "310 2204 715\n",
      "310 2208 716\n",
      "311 2212 718\n",
      "312 2215 719\n"
     ]
    },
    {
     "name": "stderr",
     "output_type": "stream",
     "text": [
      "b'Skipping line 41: expected 10 fields, saw 11\\nSkipping line 42: expected 10 fields, saw 11\\n'\n"
     ]
    },
    {
     "name": "stdout",
     "output_type": "stream",
     "text": [
      "317 2256 732\n",
      "317 2262 734\n",
      "319 2264 736\n",
      "319 2269 736\n",
      "319 2270 738\n",
      "319 2276 739\n",
      "325 2332 754\n",
      "326 2337 755\n",
      "326 2340 755\n",
      "326 2341 755\n",
      "326 2367 757\n"
     ]
    },
    {
     "name": "stderr",
     "output_type": "stream",
     "text": [
      "b'Skipping line 12: expected 10 fields, saw 11\\n'\n"
     ]
    },
    {
     "name": "stdout",
     "output_type": "stream",
     "text": [
      "352 2396 783\n",
      "353 2404 784\n",
      "354 2408 785\n",
      "356 2443 789\n",
      "356 2446 789\n",
      "358 2448 791\n",
      "358 2453 793\n",
      "360 2458 795\n",
      "360 2462 795\n",
      "363 2468 798\n",
      "365 2490 806\n",
      "369 2506 821\n"
     ]
    },
    {
     "name": "stderr",
     "output_type": "stream",
     "text": [
      "b'Skipping line 28: expected 10 fields, saw 11\\n'\n"
     ]
    },
    {
     "name": "stdout",
     "output_type": "stream",
     "text": [
      "384 2582 848\n",
      "386 2584 859\n",
      "386 2606 864\n",
      "386 2612 866\n",
      "393 2626 875\n",
      "394 2627 876\n",
      "397 2642 882\n"
     ]
    },
    {
     "name": "stderr",
     "output_type": "stream",
     "text": [
      "b'Skipping line 7: expected 10 fields, saw 11\\n'\n",
      "b'Skipping line 5: expected 10 fields, saw 11\\nSkipping line 9: expected 10 fields, saw 11\\n'\n"
     ]
    },
    {
     "name": "stdout",
     "output_type": "stream",
     "text": [
      "398 2649 885\n",
      "398 2651 886\n",
      "398 2654 887\n",
      "398 2657 887\n",
      "398 2665 888\n",
      "399 2667 889\n",
      "400 2673 894\n",
      "401 2679 896\n",
      "401 2683 897\n",
      "401 2698 897\n"
     ]
    },
    {
     "name": "stderr",
     "output_type": "stream",
     "text": [
      "b'Skipping line 2: expected 10 fields, saw 11\\n'\n"
     ]
    },
    {
     "name": "stdout",
     "output_type": "stream",
     "text": [
      "404 2706 902\n",
      "408 2712 906\n",
      "408 2713 907\n",
      "411 2723 912\n",
      "414 2727 918\n",
      "414 2730 921\n",
      "416 2734 923\n",
      "416 2737 923\n",
      "417 2743 926\n",
      "417 2749 926\n",
      "417 2750 926\n",
      "417 2753 928\n",
      "417 2757 928\n",
      "420 2763 932\n",
      "421 2769 933\n",
      "421 2772 934\n",
      "423 2774 936\n",
      "424 2808 940\n",
      "425 2810 943\n",
      "425 2821 943\n",
      "426 2828 944\n",
      "426 2847 949\n",
      "426 2852 949\n",
      "426 2855 949\n",
      "426 2859 952\n",
      "426 2863 952\n",
      "426 2865 952\n",
      "426 2869 952\n",
      "426 2875 954\n",
      "427 2878 956\n",
      "427 2879 963\n",
      "428 2882 965\n",
      "428 2887 965\n",
      "429 2904 970\n",
      "434 2911 983\n",
      "434 3070 983\n",
      "435 3075 984\n",
      "438 3081 992\n"
     ]
    },
    {
     "name": "stderr",
     "output_type": "stream",
     "text": [
      "b'Skipping line 10: expected 10 fields, saw 11\\nSkipping line 11: expected 10 fields, saw 11\\nSkipping line 29: expected 10 fields, saw 11\\n'\n"
     ]
    },
    {
     "name": "stdout",
     "output_type": "stream",
     "text": [
      "442 3118 1002\n",
      "443 3121 1003\n",
      "444 3137 1005\n",
      "446 3139 1007\n",
      "446 3140 1007\n",
      "447 3143 1009\n",
      "447 3145 1010\n",
      "447 3149 1010\n",
      "448 3153 1011\n",
      "448 3156 1011\n",
      "450 3159 1013\n"
     ]
    },
    {
     "name": "stderr",
     "output_type": "stream",
     "text": [
      "b'Skipping line 2: expected 10 fields, saw 11\\n'\n"
     ]
    },
    {
     "name": "stdout",
     "output_type": "stream",
     "text": [
      "452 3162 1017\n",
      "454 3166 1020\n",
      "454 3167 1027\n",
      "459 3197 1037\n",
      "459 3204 1037\n",
      "459 3221 1038\n",
      "459 3223 1039\n",
      "460 3226 1041\n",
      "460 3229 1042\n",
      "461 3235 1044\n",
      "463 3239 1046\n",
      "463 3244 1046\n",
      "463 3248 1047\n",
      "463 3289 1049\n",
      "463 3297 1049\n",
      "466 3307 1057\n",
      "467 3311 1058\n",
      "467 3313 1058\n",
      "470 3320 1062\n",
      "470 3329 1062\n",
      "470 3331 1063\n",
      "471 3332 1064\n",
      "472 3344 1065\n",
      "473 3347 1066\n",
      "476 3459 1073\n",
      "476 3467 1075\n",
      "476 3469 1076\n",
      "477 3472 1077\n",
      "477 3476 1079\n",
      "479 3480 1088\n",
      "484 3486 1093\n",
      "486 3509 1096\n",
      "488 3517 1100\n",
      "491 3521 1103\n",
      "492 3526 1104\n",
      "493 3534 1107\n",
      "497 3550 1117\n",
      "497 3553 1117\n",
      "497 3558 1118\n",
      "498 3561 1125\n",
      "498 3562 1125\n",
      "498 3574 1129\n",
      "498 3576 1132\n",
      "498 3577 1132\n",
      "498 3578 1132\n",
      "502 3597 1142\n",
      "502 3674 1146\n",
      "503 3680 1147\n",
      "503 3687 1150\n",
      "505 3697 1155\n",
      "505 3699 1155\n",
      "505 3704 1155\n",
      "505 3708 1156\n",
      "505 3714 1157\n",
      "506 3718 1159\n",
      "506 3726 1160\n",
      "506 3734 1161\n",
      "508 3738 1163\n",
      "509 3742 1165\n",
      "509 3749 1169\n",
      "511 3760 1174\n",
      "511 3766 1177\n",
      "511 3768 1178\n"
     ]
    },
    {
     "name": "stderr",
     "output_type": "stream",
     "text": [
      "b'Skipping line 7: expected 10 fields, saw 11\\n'\n"
     ]
    },
    {
     "name": "stdout",
     "output_type": "stream",
     "text": [
      "518 3803 1189\n",
      "519 3813 1190\n",
      "519 3820 1190\n",
      "540 4034 1246\n",
      "543 4037 1249\n",
      "547 4044 1254\n"
     ]
    },
    {
     "name": "stderr",
     "output_type": "stream",
     "text": [
      "b'Skipping line 14: expected 10 fields, saw 11\\nSkipping line 15: expected 10 fields, saw 11\\n'\n"
     ]
    },
    {
     "name": "stdout",
     "output_type": "stream",
     "text": [
      "556 4065 1268\n",
      "556 4079 1269\n",
      "556 4084 1270\n",
      "558 4090 1273\n",
      "559 4092 1274\n",
      "560 4113 1276\n"
     ]
    },
    {
     "name": "stderr",
     "output_type": "stream",
     "text": [
      "b'Skipping line 6: expected 10 fields, saw 11\\nSkipping line 8: expected 10 fields, saw 11\\n'\n"
     ]
    },
    {
     "name": "stdout",
     "output_type": "stream",
     "text": [
      "562 4121 1280\n",
      "563 4123 1282\n"
     ]
    },
    {
     "name": "stderr",
     "output_type": "stream",
     "text": [
      "b'Skipping line 2: expected 10 fields, saw 11\\n'\n"
     ]
    },
    {
     "name": "stdout",
     "output_type": "stream",
     "text": [
      "563 4125 1286\n",
      "563 4130 1287\n",
      "563 4132 1287\n",
      "563 4134 1288\n",
      "564 4140 1291\n",
      "570 4169 1302\n",
      "570 4170 1302\n",
      "570 4197 1303\n",
      "570 4198 1303\n",
      "570 4202 1303\n",
      "570 4208 1304\n",
      "573 4212 1308\n",
      "575 4218 1310\n",
      "576 4226 1313\n",
      "576 4228 1313\n",
      "576 4235 1315\n",
      "578 4239 1319\n",
      "578 4241 1319\n",
      "578 4242 1319\n",
      "581 4271 1327\n",
      "581 4275 1327\n",
      "583 4277 1329\n",
      "585 4280 1331\n",
      "587 4288 1334\n",
      "587 4292 1338\n",
      "587 4294 1338\n",
      "588 4296 1339\n",
      "588 4302 1339\n",
      "591 4349 1343\n",
      "595 4388 1348\n",
      "597 4394 1351\n",
      "597 4400 1353\n",
      "597 4406 1354\n",
      "601 4418 1360\n",
      "603 4422 1365\n",
      "608 4430 1370\n",
      "608 4433 1371\n",
      "608 4439 1372\n"
     ]
    },
    {
     "name": "stderr",
     "output_type": "stream",
     "text": [
      "b'Skipping line 2: expected 10 fields, saw 11\\nSkipping line 5: expected 10 fields, saw 11\\n'\n"
     ]
    },
    {
     "name": "stdout",
     "output_type": "stream",
     "text": [
      "608 4444 1376\n",
      "608 4445 1378\n",
      "608 4453 1380\n",
      "608 4459 1381\n"
     ]
    },
    {
     "name": "stderr",
     "output_type": "stream",
     "text": [
      "b'Skipping line 2: expected 10 fields, saw 11\\n'\n"
     ]
    },
    {
     "name": "stdout",
     "output_type": "stream",
     "text": [
      "608 4463 1382\n",
      "613 4506 1387\n",
      "619 4517 1396\n",
      "619 4520 1399\n",
      "621 4523 1403\n"
     ]
    },
    {
     "name": "stderr",
     "output_type": "stream",
     "text": [
      "b'Skipping line 12: expected 10 fields, saw 11\\n'\n"
     ]
    },
    {
     "name": "stdout",
     "output_type": "stream",
     "text": [
      "623 4534 1411\n",
      "627 4566 1416\n",
      "627 4568 1417\n",
      "635 4579 1427\n",
      "636 4580 1428\n",
      "641 4588 1433\n",
      "645 4593 1437\n",
      "645 4597 1441\n",
      "648 4618 1449\n",
      "648 4621 1450\n",
      "648 4623 1450\n",
      "650 4634 1455\n",
      "652 4643 1468\n",
      "653 4654 1471\n",
      "663 4714 1482\n",
      "663 4716 1483\n",
      "665 4723 1486\n",
      "666 4732 1487\n"
     ]
    },
    {
     "name": "stderr",
     "output_type": "stream",
     "text": [
      "b'Skipping line 7: expected 10 fields, saw 11\\n'\n"
     ]
    },
    {
     "name": "stdout",
     "output_type": "stream",
     "text": [
      "668 4744 1493\n",
      "670 4749 1495\n",
      "672 4755 1499\n",
      "673 4757 1501\n",
      "678 4781 1512\n",
      "678 4786 1514\n",
      "678 4793 1516\n",
      "679 4796 1517\n",
      "679 4810 1518\n",
      "681 4824 1524\n",
      "685 4870 1529\n",
      "687 4875 1531\n",
      "688 4893 1542\n",
      "689 4896 1544\n",
      "689 4900 1546\n",
      "690 4902 1548\n",
      "690 4922 1552\n",
      "692 4924 1554\n",
      "694 4932 1558\n",
      "696 4941 1563\n",
      "696 4942 1563\n",
      "696 4947 1564\n",
      "697 4949 1565\n",
      "697 4951 1566\n",
      "698 4954 1567\n",
      "700 4978 1571\n",
      "703 4985 1575\n",
      "706 4997 1578\n",
      "706 4999 1578\n",
      "706 5023 1580\n",
      "706 5028 1583\n",
      "706 5038 1583\n",
      "707 5044 1586\n",
      "707 5053 1588\n",
      "710 5057 1592\n",
      "710 5068 1597\n",
      "710 5070 1597\n",
      "710 5071 1597\n",
      "715 5088 1605\n",
      "715 5091 1606\n",
      "715 5093 1606\n",
      "716 5099 1608\n",
      "719 5119 1615\n",
      "719 5123 1615\n"
     ]
    },
    {
     "name": "stderr",
     "output_type": "stream",
     "text": [
      "b'Skipping line 2: expected 10 fields, saw 11\\n'\n"
     ]
    },
    {
     "name": "stdout",
     "output_type": "stream",
     "text": [
      "719 5127 1622\n",
      "719 5131 1622\n",
      "719 5133 1627\n",
      "720 5138 1630\n"
     ]
    },
    {
     "name": "stderr",
     "output_type": "stream",
     "text": [
      "b'Skipping line 4: expected 10 fields, saw 11\\n'\n"
     ]
    },
    {
     "name": "stdout",
     "output_type": "stream",
     "text": [
      "720 5144 1632\n",
      "721 5152 1636\n",
      "721 5153 1639\n",
      "726 5178 1646\n",
      "726 5180 1646\n",
      "727 5182 1649\n"
     ]
    },
    {
     "name": "stderr",
     "output_type": "stream",
     "text": [
      "b'Skipping line 3: expected 10 fields, saw 11\\n'\n"
     ]
    },
    {
     "name": "stdout",
     "output_type": "stream",
     "text": [
      "729 5206 1651\n",
      "733 5215 1657\n",
      "733 5241 1660\n",
      "733 5247 1660\n",
      "733 5250 1660\n",
      "736 5272 1665\n",
      "736 5276 1666\n",
      "738 5281 1669\n",
      "738 5282 1669\n",
      "738 5284 1669\n",
      "742 5297 1677\n",
      "742 5299 1679\n",
      "749 5307 1687\n",
      "750 5316 1689\n",
      "750 5320 1691\n",
      "750 5322 1691\n",
      "755 5329 1699\n",
      "755 5336 1699\n",
      "755 5337 1699\n",
      "756 5343 1701\n",
      "757 5344 1702\n",
      "762 5399 1711\n",
      "762 5411 1711\n",
      "762 5414 1712\n",
      "764 5448 1723\n",
      "768 5458 1729\n",
      "769 5465 1731\n",
      "771 5469 1734\n",
      "774 5473 1737\n",
      "774 5476 1737\n",
      "775 5481 1740\n",
      "775 5486 1741\n"
     ]
    },
    {
     "name": "stderr",
     "output_type": "stream",
     "text": [
      "b'Skipping line 5: expected 10 fields, saw 11\\n'\n"
     ]
    },
    {
     "name": "stdout",
     "output_type": "stream",
     "text": [
      "785 5518 1763\n"
     ]
    },
    {
     "name": "stderr",
     "output_type": "stream",
     "text": [
      "b'Skipping line 33: expected 10 fields, saw 11\\nSkipping line 36: expected 10 fields, saw 11\\n'\n"
     ]
    },
    {
     "name": "stdout",
     "output_type": "stream",
     "text": [
      "787 5571 1777\n",
      "787 5573 1777\n",
      "787 5575 1777\n",
      "787 5585 1782\n",
      "787 5588 1785\n"
     ]
    },
    {
     "name": "stderr",
     "output_type": "stream",
     "text": [
      "b'Skipping line 14: expected 10 fields, saw 11\\n'\n"
     ]
    },
    {
     "name": "stdout",
     "output_type": "stream",
     "text": [
      "789 5602 1794\n",
      "790 5625 1800\n",
      "792 5629 1804\n"
     ]
    },
    {
     "name": "stderr",
     "output_type": "stream",
     "text": [
      "b'Skipping line 9: expected 10 fields, saw 11\\n'\n"
     ]
    },
    {
     "name": "stdout",
     "output_type": "stream",
     "text": [
      "794 5642 1810\n",
      "794 5644 1811\n",
      "794 5645 1811\n",
      "798 5687 1818\n",
      "798 5690 1819\n",
      "805 5704 1832\n",
      "806 5716 1834\n",
      "806 5718 1834\n",
      "806 5721 1835\n",
      "806 5724 1835\n",
      "806 5728 1837\n",
      "811 5737 1842\n",
      "811 5738 1842\n",
      "811 5742 1843\n",
      "811 5745 1843\n",
      "812 5747 1846\n",
      "813 5749 1847\n"
     ]
    },
    {
     "name": "stderr",
     "output_type": "stream",
     "text": [
      "b'Skipping line 50: expected 10 fields, saw 11\\n'\n"
     ]
    },
    {
     "name": "stdout",
     "output_type": "stream",
     "text": [
      "816 5807 1869\n",
      "817 5812 1871\n",
      "817 5813 1871\n",
      "824 5823 1878\n",
      "829 5830 1885\n",
      "830 5832 1886\n",
      "830 5845 1887\n",
      "832 5850 1889\n"
     ]
    },
    {
     "name": "stderr",
     "output_type": "stream",
     "text": [
      "b'Skipping line 3: expected 10 fields, saw 11\\n'\n"
     ]
    },
    {
     "name": "stdout",
     "output_type": "stream",
     "text": [
      "836 5855 1893\n",
      "841 5862 1898\n",
      "842 5868 1903\n",
      "844 5873 1906\n",
      "845 5877 1908\n",
      "855 5927 1931\n",
      "855 5936 1932\n",
      "855 5941 1934\n",
      "855 5943 1934\n"
     ]
    },
    {
     "name": "stderr",
     "output_type": "stream",
     "text": [
      "b'Skipping line 63: expected 10 fields, saw 11\\n'\n"
     ]
    },
    {
     "name": "stdout",
     "output_type": "stream",
     "text": [
      "863 6014 1955\n",
      "863 6023 1956\n",
      "867 6047 1963\n",
      "868 6053 1965\n",
      "868 6059 1967\n",
      "870 6067 1970\n",
      "871 6076 1971\n"
     ]
    },
    {
     "name": "stderr",
     "output_type": "stream",
     "text": [
      "b'Skipping line 53: expected 10 fields, saw 11\\nSkipping line 61: expected 10 fields, saw 11\\nSkipping line 105: expected 10 fields, saw 11\\nSkipping line 106: expected 10 fields, saw 11\\nSkipping line 108: expected 10 fields, saw 11\\n'\n"
     ]
    },
    {
     "name": "stdout",
     "output_type": "stream",
     "text": [
      "884 6190 2003\n",
      "886 6192 2005\n",
      "886 6200 2007\n",
      "886 6208 2008\n",
      "886 6221 2009\n",
      "888 6225 2012\n",
      "888 6229 2013\n"
     ]
    },
    {
     "name": "stderr",
     "output_type": "stream",
     "text": [
      "b'Skipping line 8: expected 10 fields, saw 11\\n'\n"
     ]
    },
    {
     "name": "stdout",
     "output_type": "stream",
     "text": [
      "892 6243 2022\n",
      "892 6244 2022\n",
      "892 6253 2025\n",
      "892 6259 2027\n",
      "893 6260 2028\n",
      "893 6262 2028\n"
     ]
    },
    {
     "name": "stderr",
     "output_type": "stream",
     "text": [
      "b'Skipping line 9: expected 10 fields, saw 11\\nSkipping line 20: expected 10 fields, saw 11\\nSkipping line 22: expected 10 fields, saw 11\\n'\n"
     ]
    },
    {
     "name": "stdout",
     "output_type": "stream",
     "text": [
      "901 6293 2045\n",
      "902 6315 2047\n",
      "902 6319 2049\n",
      "905 6340 2066\n",
      "907 6343 2068\n",
      "907 6344 2070\n"
     ]
    },
    {
     "name": "stderr",
     "output_type": "stream",
     "text": [
      "b'Skipping line 2: expected 10 fields, saw 11\\n'\n"
     ]
    },
    {
     "name": "stdout",
     "output_type": "stream",
     "text": [
      "910 6350 2073\n",
      "911 6357 2076\n",
      "912 6361 2078\n",
      "914 6393 2081\n",
      "915 6398 2084\n",
      "915 6402 2085\n"
     ]
    },
    {
     "name": "stderr",
     "output_type": "stream",
     "text": [
      "b'Skipping line 30: expected 10 fields, saw 12\\nSkipping line 32: expected 10 fields, saw 11\\nSkipping line 92: expected 10 fields, saw 11\\nSkipping line 103: expected 10 fields, saw 11\\n'\n"
     ]
    },
    {
     "name": "stdout",
     "output_type": "stream",
     "text": [
      "938 6537 2129\n",
      "942 6548 2136\n",
      "942 6555 2138\n",
      "945 6561 2141\n"
     ]
    },
    {
     "name": "stderr",
     "output_type": "stream",
     "text": [
      "b'Skipping line 4: expected 10 fields, saw 11\\n'\n"
     ]
    },
    {
     "name": "stdout",
     "output_type": "stream",
     "text": [
      "947 6565 2145\n",
      "950 6570 2148\n",
      "951 6577 2150\n"
     ]
    },
    {
     "name": "stderr",
     "output_type": "stream",
     "text": [
      "b'Skipping line 24: expected 10 fields, saw 11\\n'\n"
     ]
    },
    {
     "name": "stdout",
     "output_type": "stream",
     "text": [
      "958 6639 2171\n",
      "958 6666 2171\n"
     ]
    },
    {
     "name": "stderr",
     "output_type": "stream",
     "text": [
      "b'Skipping line 161: expected 10 fields, saw 11\\n'\n"
     ]
    },
    {
     "name": "stdout",
     "output_type": "stream",
     "text": [
      "989 6828 2224\n",
      "989 6831 2225\n",
      "995 6843 2235\n",
      "995 6849 2235\n",
      "1000 6880 2242\n",
      "1000 6883 2242\n",
      "1000 6885 2242\n",
      "1002 6890 2245\n",
      "1002 6892 2245\n",
      "1002 6895 2246\n",
      "1002 6897 2247\n",
      "1002 6900 2249\n",
      "1002 6917 2250\n",
      "1003 6921 2252\n",
      "1003 6928 2252\n",
      "1003 6929 2255\n",
      "1003 6931 2256\n",
      "1004 6933 2257\n",
      "1005 6975 2262\n",
      "1005 6978 2262\n",
      "1005 6980 2263\n",
      "1005 6983 2263\n",
      "1005 6988 2263\n",
      "1006 6991 2266\n",
      "1007 6995 2268\n"
     ]
    },
    {
     "name": "stderr",
     "output_type": "stream",
     "text": [
      "b'Skipping line 16: expected 10 fields, saw 11\\n'\n"
     ]
    },
    {
     "name": "stdout",
     "output_type": "stream",
     "text": [
      "1016 7012 2285\n",
      "1016 7013 2285\n",
      "1016 7021 2286\n"
     ]
    },
    {
     "name": "stderr",
     "output_type": "stream",
     "text": [
      "b'Skipping line 12: expected 10 fields, saw 11\\n'\n"
     ]
    },
    {
     "name": "stdout",
     "output_type": "stream",
     "text": [
      "1021 7038 2298\n",
      "1021 7050 2299\n",
      "1022 7059 2306\n",
      "1023 7068 2308\n",
      "1024 7074 2309\n",
      "1026 7080 2312\n",
      "1027 7083 2314\n"
     ]
    },
    {
     "name": "stderr",
     "output_type": "stream",
     "text": [
      "b'Skipping line 3: expected 10 fields, saw 11\\n'\n"
     ]
    },
    {
     "name": "stdout",
     "output_type": "stream",
     "text": [
      "1032 7092 2323\n",
      "1032 7095 2323\n",
      "1034 7106 2329\n",
      "1036 7115 2333\n",
      "1039 7133 2354\n",
      "1040 7142 2356\n",
      "1041 7204 2357\n",
      "1041 7206 2359\n",
      "1052 7362 2384\n",
      "1053 7367 2386\n",
      "1053 7368 2386\n",
      "1054 7370 2387\n",
      "1054 7373 2388\n",
      "1054 7384 2388\n",
      "1058 7392 2394\n",
      "1061 7400 2400\n",
      "1062 7403 2404\n",
      "1065 7406 2407\n",
      "1070 7423 2416\n",
      "1070 7424 2416\n",
      "1070 7431 2416\n",
      "1072 7437 2420\n",
      "1073 7445 2422\n",
      "1074 7446 2423\n",
      "1077 7455 2429\n",
      "1081 7494 2436\n",
      "1082 7504 2439\n",
      "1082 7513 2439\n",
      "1082 7516 2440\n",
      "1083 7531 2441\n",
      "1083 7541 2444\n",
      "1083 7544 2445\n",
      "1083 7555 2447\n",
      "1083 7557 2447\n",
      "1083 7559 2447\n",
      "1083 7564 2447\n",
      "1083 7566 2447\n",
      "1083 7569 2447\n",
      "1084 7575 2449\n",
      "1084 7581 2451\n",
      "1084 7585 2451\n",
      "1086 7595 2454\n",
      "1087 7598 2455\n",
      "1088 7601 2456\n",
      "1089 7604 2458\n",
      "1092 7611 2462\n",
      "1093 7612 2463\n",
      "1093 7626 2465\n",
      "1093 7632 2467\n",
      "1094 7636 2469\n",
      "1094 7642 2470\n",
      "1094 7643 2470\n",
      "1094 7647 2472\n",
      "1094 7658 2474\n",
      "1101 7718 2490\n",
      "1112 7732 2504\n",
      "1114 7734 2508\n",
      "1114 7744 2508\n",
      "1114 7750 2508\n",
      "1114 7751 2508\n",
      "1117 7758 2511\n"
     ]
    },
    {
     "name": "stderr",
     "output_type": "stream",
     "text": [
      "b'Skipping line 22: expected 10 fields, saw 11\\nSkipping line 25: expected 10 fields, saw 11\\n'\n"
     ]
    },
    {
     "name": "stdout",
     "output_type": "stream",
     "text": [
      "1121 7783 2533\n",
      "1123 7787 2536\n",
      "1124 7792 2544\n",
      "1126 7800 2546\n",
      "1126 7802 2546\n",
      "1130 7806 2550\n",
      "1139 7836 2566\n",
      "1142 7841 2570\n",
      "1142 7848 2573\n",
      "1142 7851 2575\n",
      "1144 7876 2583\n",
      "1146 7880 2587\n",
      "1146 7883 2587\n",
      "1147 7885 2588\n",
      "1150 7889 2591\n",
      "1150 7896 2593\n",
      "1151 7899 2597\n",
      "1151 7904 2597\n"
     ]
    },
    {
     "name": "stderr",
     "output_type": "stream",
     "text": [
      "b'Skipping line 27: expected 10 fields, saw 11\\nSkipping line 28: expected 10 fields, saw 11\\n'\n"
     ]
    },
    {
     "name": "stdout",
     "output_type": "stream",
     "text": [
      "1158 7940 2613\n",
      "1158 7944 2613\n",
      "1159 7956 2615\n",
      "1160 7975 2621\n",
      "1165 7988 2630\n",
      "1166 7990 2638\n",
      "1167 7993 2642\n",
      "1167 8022 2642\n",
      "1167 8026 2642\n",
      "1168 8038 2644\n",
      "1168 8040 2644\n",
      "1172 8045 2648\n",
      "1176 8049 2652\n",
      "1177 8084 2660\n",
      "1177 8092 2661\n",
      "1177 8099 2663\n",
      "1179 8106 2668\n",
      "1179 8110 2668\n",
      "1186 8131 2677\n",
      "1188 8134 2679\n",
      "1189 8141 2680\n",
      "1191 8188 2689\n",
      "1192 8194 2692\n",
      "1192 8195 2692\n",
      "1192 8200 2695\n",
      "1195 8212 2698\n",
      "1195 8214 2698\n",
      "1196 8230 2704\n",
      "1197 8239 2707\n",
      "1204 8251 2718\n",
      "1206 8254 2720\n",
      "1207 8255 2721\n",
      "1209 8281 2730\n",
      "1210 8285 2732\n",
      "1213 8288 2737\n",
      "1214 8294 2738\n",
      "1215 8300 2739\n",
      "1219 8306 2744\n",
      "1221 8330 2746\n",
      "1227 8348 2756\n",
      "1228 8351 2758\n",
      "1230 8356 2761\n",
      "ep09\n",
      "1 3 2\n",
      "1 5 2\n",
      "2 7 3\n",
      "4 17 7\n"
     ]
    },
    {
     "name": "stderr",
     "output_type": "stream",
     "text": [
      "b'Skipping line 17: expected 10 fields, saw 11\\nSkipping line 37: expected 10 fields, saw 11\\n'\n"
     ]
    },
    {
     "name": "stdout",
     "output_type": "stream",
     "text": [
      "4 105 30\n",
      "24 130 55\n",
      "26 135 57\n",
      "27 148 58\n",
      "27 151 59\n",
      "27 210 60\n",
      "28 212 63\n",
      "32 219 71\n",
      "33 221 72\n",
      "38 235 80\n",
      "38 236 80\n",
      "39 243 83\n",
      "42 248 87\n",
      "42 253 88\n",
      "47 267 96\n",
      "47 269 96\n",
      "48 272 98\n",
      "48 281 100\n",
      "48 285 101\n",
      "48 289 102\n",
      "49 290 103\n"
     ]
    },
    {
     "name": "stderr",
     "output_type": "stream",
     "text": [
      "b'Skipping line 3: expected 10 fields, saw 11\\nSkipping line 5: expected 10 fields, saw 11\\n'\n"
     ]
    },
    {
     "name": "stdout",
     "output_type": "stream",
     "text": [
      "49 293 106\n",
      "50 295 108\n",
      "51 351 113\n",
      "53 353 115\n",
      "55 360 120\n"
     ]
    },
    {
     "name": "stderr",
     "output_type": "stream",
     "text": [
      "b'Skipping line 4: expected 10 fields, saw 11\\n'\n"
     ]
    },
    {
     "name": "stdout",
     "output_type": "stream",
     "text": [
      "56 381 121\n",
      "68 410 138\n",
      "68 415 140\n",
      "68 420 140\n",
      "71 469 146\n",
      "71 480 148\n",
      "71 489 150\n",
      "71 493 152\n",
      "72 502 155\n",
      "72 504 155\n",
      "73 509 157\n",
      "74 518 159\n",
      "74 519 159\n",
      "74 520 159\n",
      "74 527 159\n",
      "75 533 162\n",
      "75 534 162\n",
      "75 535 162\n"
     ]
    },
    {
     "name": "stderr",
     "output_type": "stream",
     "text": [
      "b'Skipping line 4: expected 10 fields, saw 11\\n'\n"
     ]
    },
    {
     "name": "stdout",
     "output_type": "stream",
     "text": [
      "80 543 172\n",
      "80 544 172\n",
      "80 571 174\n",
      "80 574 174\n",
      "83 582 177\n",
      "83 583 177\n",
      "85 589 179\n",
      "86 595 181\n",
      "92 627 197\n",
      "94 631 200\n",
      "94 643 201\n",
      "94 647 201\n",
      "96 651 204\n",
      "98 655 207\n",
      "99 656 208\n",
      "99 694 209\n",
      "100 696 211\n",
      "100 698 211\n"
     ]
    },
    {
     "name": "stderr",
     "output_type": "stream",
     "text": [
      "b'Skipping line 8: expected 10 fields, saw 11\\nSkipping line 9: expected 10 fields, saw 11\\nSkipping line 15: expected 10 fields, saw 11\\n'\n"
     ]
    },
    {
     "name": "stdout",
     "output_type": "stream",
     "text": [
      "104 710 222\n",
      "104 711 222\n",
      "104 719 222\n",
      "104 720 222\n",
      "116 796 255\n",
      "116 799 256\n"
     ]
    },
    {
     "name": "stderr",
     "output_type": "stream",
     "text": [
      "b'Skipping line 2: expected 10 fields, saw 11\\n'\n"
     ]
    },
    {
     "name": "stdout",
     "output_type": "stream",
     "text": [
      "117 821 259\n",
      "118 824 260\n",
      "120 828 264\n"
     ]
    },
    {
     "name": "stderr",
     "output_type": "stream",
     "text": [
      "b'Skipping line 8: expected 10 fields, saw 11\\n'\n"
     ]
    },
    {
     "name": "stdout",
     "output_type": "stream",
     "text": [
      "120 841 264\n",
      "120 846 265\n",
      "122 848 267\n",
      "123 861 268\n",
      "124 867 269\n",
      "124 873 269\n",
      "124 876 273\n",
      "125 879 276\n",
      "126 883 278\n",
      "130 888 282\n",
      "130 889 282\n",
      "130 898 284\n",
      "130 907 284\n",
      "131 908 285\n",
      "135 952 300\n",
      "135 963 303\n",
      "137 965 305\n",
      "137 970 306\n",
      "137 992 317\n",
      "141 1007 323\n",
      "143 1012 325\n",
      "145 1017 328\n",
      "145 1025 329\n",
      "149 1075 340\n",
      "149 1081 343\n",
      "150 1088 346\n",
      "150 1089 346\n",
      "151 1092 347\n",
      "151 1096 350\n",
      "151 1099 350\n",
      "154 1104 354\n",
      "156 1108 357\n",
      "156 1126 360\n",
      "156 1151 361\n",
      "157 1155 362\n",
      "158 1160 364\n",
      "161 1168 368\n",
      "162 1170 369\n",
      "167 1176 374\n",
      "167 1179 374\n",
      "167 1183 374\n",
      "167 1189 375\n",
      "170 1196 380\n",
      "170 1197 380\n",
      "170 1201 380\n",
      "171 1224 383\n",
      "171 1229 386\n",
      "172 1237 388\n",
      "175 1243 392\n",
      "175 1244 392\n",
      "176 1247 393\n",
      "177 1251 396\n",
      "181 1270 404\n",
      "183 1272 406\n",
      "183 1280 407\n",
      "183 1281 407\n",
      "185 1284 409\n",
      "185 1287 410\n",
      "185 1289 413\n",
      "185 1291 413\n",
      "187 1307 417\n",
      "187 1312 420\n",
      "187 1339 421\n",
      "196 1349 431\n",
      "196 1353 431\n",
      "196 1399 433\n",
      "198 1403 435\n",
      "198 1409 435\n",
      "198 1414 438\n",
      "198 1418 440\n",
      "198 1420 440\n",
      "198 1424 440\n",
      "199 1440 443\n",
      "199 1442 443\n",
      "202 1449 446\n",
      "204 1455 450\n",
      "204 1462 450\n",
      "208 1489 457\n",
      "209 1491 459\n",
      "209 1494 460\n"
     ]
    },
    {
     "name": "stderr",
     "output_type": "stream",
     "text": [
      "b'Skipping line 4: expected 10 fields, saw 11\\n'\n"
     ]
    },
    {
     "name": "stdout",
     "output_type": "stream",
     "text": [
      "209 1497 461\n",
      "209 1502 462\n",
      "215 1515 470\n",
      "217 1524 474\n",
      "219 1529 476\n",
      "220 1530 477\n",
      "220 1531 477\n",
      "220 1534 477\n",
      "222 1537 480\n",
      "222 1540 480\n",
      "223 1542 481\n",
      "223 1547 484\n",
      "223 1557 489\n",
      "223 1559 489\n",
      "223 1564 489\n",
      "223 1570 491\n",
      "223 1574 492\n",
      "225 1595 499\n",
      "225 1597 500\n",
      "225 1609 502\n",
      "226 1612 503\n",
      "228 1652 505\n",
      "228 1659 506\n",
      "229 1661 507\n",
      "229 1669 508\n",
      "229 1670 508\n",
      "229 1695 508\n",
      "230 1700 513\n",
      "231 1703 514\n",
      "231 1712 516\n"
     ]
    },
    {
     "name": "stderr",
     "output_type": "stream",
     "text": [
      "b'Skipping line 5: expected 10 fields, saw 11\\n'\n"
     ]
    },
    {
     "name": "stdout",
     "output_type": "stream",
     "text": [
      "233 1724 521\n",
      "239 1737 528\n",
      "240 1746 532\n",
      "240 1750 533\n",
      "240 1776 533\n",
      "240 1781 536\n",
      "241 1784 539\n",
      "241 1790 540\n",
      "241 1795 541\n",
      "244 1799 545\n",
      "247 1807 549\n",
      "250 1810 552\n",
      "250 1813 552\n",
      "251 1818 553\n",
      "251 1821 556\n",
      "252 1832 559\n",
      "252 1834 559\n",
      "252 1839 560\n",
      "254 1852 564\n",
      "255 1857 566\n",
      "256 1861 568\n",
      "261 1866 574\n",
      "262 1889 575\n",
      "263 1890 576\n",
      "263 1934 577\n"
     ]
    },
    {
     "name": "stderr",
     "output_type": "stream",
     "text": [
      "b'Skipping line 31: expected 10 fields, saw 11\\nSkipping line 62: expected 10 fields, saw 11\\nSkipping line 68: expected 10 fields, saw 11\\n'\n"
     ]
    },
    {
     "name": "stdout",
     "output_type": "stream",
     "text": [
      "263 2005 579\n",
      "266 2025 586\n",
      "266 2026 586\n",
      "266 2034 588\n",
      "266 2037 589\n",
      "266 2039 590\n",
      "266 2047 593\n",
      "276 2057 603\n",
      "276 2074 605\n",
      "281 2086 619\n",
      "281 2091 620\n",
      "282 2093 622\n",
      "283 2094 624\n",
      "285 2099 626\n",
      "285 2104 626\n",
      "290 2111 631\n",
      "290 2115 631\n",
      "291 2135 636\n",
      "291 2137 637\n",
      "291 2140 638\n",
      "291 2145 638\n",
      "291 2148 639\n",
      "293 2150 641\n"
     ]
    },
    {
     "name": "stderr",
     "output_type": "stream",
     "text": [
      "b'Skipping line 10: expected 10 fields, saw 11\\nSkipping line 20: expected 10 fields, saw 12\\n'\n"
     ]
    },
    {
     "name": "stdout",
     "output_type": "stream",
     "text": [
      "303 2204 663\n",
      "303 2208 664\n",
      "304 2212 666\n",
      "304 2215 668\n"
     ]
    },
    {
     "name": "stderr",
     "output_type": "stream",
     "text": [
      "b'Skipping line 41: expected 10 fields, saw 11\\nSkipping line 42: expected 10 fields, saw 11\\n'\n"
     ]
    },
    {
     "name": "stdout",
     "output_type": "stream",
     "text": [
      "307 2256 680\n",
      "307 2262 682\n",
      "309 2264 684\n",
      "309 2269 686\n",
      "310 2270 687\n",
      "310 2276 688\n",
      "318 2332 704\n",
      "319 2337 705\n",
      "319 2340 705\n",
      "319 2341 705\n",
      "319 2367 706\n"
     ]
    },
    {
     "name": "stderr",
     "output_type": "stream",
     "text": [
      "b'Skipping line 12: expected 10 fields, saw 11\\n'\n"
     ]
    },
    {
     "name": "stdout",
     "output_type": "stream",
     "text": [
      "338 2396 728\n",
      "339 2404 729\n",
      "340 2408 730\n",
      "342 2443 735\n",
      "342 2446 735\n",
      "344 2448 737\n",
      "344 2453 739\n",
      "346 2458 741\n",
      "346 2462 741\n",
      "349 2468 744\n",
      "349 2490 752\n",
      "352 2506 763\n"
     ]
    },
    {
     "name": "stderr",
     "output_type": "stream",
     "text": [
      "b'Skipping line 28: expected 10 fields, saw 11\\n'\n"
     ]
    },
    {
     "name": "stdout",
     "output_type": "stream",
     "text": [
      "365 2582 790\n",
      "367 2584 801\n",
      "367 2606 806\n",
      "367 2612 808\n",
      "374 2626 817\n",
      "375 2627 818\n",
      "378 2642 824\n"
     ]
    },
    {
     "name": "stderr",
     "output_type": "stream",
     "text": [
      "b'Skipping line 7: expected 10 fields, saw 11\\n'\n",
      "b'Skipping line 5: expected 10 fields, saw 11\\nSkipping line 9: expected 10 fields, saw 11\\n'\n"
     ]
    },
    {
     "name": "stdout",
     "output_type": "stream",
     "text": [
      "379 2649 827\n",
      "379 2651 827\n",
      "379 2654 828\n",
      "379 2657 828\n",
      "379 2665 830\n",
      "380 2667 832\n",
      "381 2673 836\n",
      "381 2679 837\n",
      "381 2683 838\n",
      "381 2698 838\n"
     ]
    },
    {
     "name": "stderr",
     "output_type": "stream",
     "text": [
      "b'Skipping line 2: expected 10 fields, saw 11\\n'\n"
     ]
    },
    {
     "name": "stdout",
     "output_type": "stream",
     "text": [
      "383 2706 841\n",
      "387 2712 845\n",
      "387 2713 846\n",
      "390 2723 851\n",
      "393 2727 856\n",
      "393 2730 860\n",
      "395 2734 862\n",
      "395 2737 862\n",
      "396 2743 865\n",
      "396 2749 865\n",
      "396 2750 865\n",
      "396 2753 866\n",
      "396 2757 866\n",
      "399 2763 870\n",
      "399 2769 870\n",
      "399 2772 871\n",
      "401 2774 873\n",
      "402 2808 875\n",
      "403 2810 878\n",
      "403 2821 878\n",
      "404 2828 879\n",
      "404 2847 883\n",
      "404 2852 883\n",
      "404 2855 883\n",
      "404 2859 886\n",
      "404 2863 886\n",
      "404 2865 888\n",
      "404 2869 888\n",
      "405 2875 890\n",
      "406 2878 892\n",
      "406 2879 897\n",
      "406 2882 900\n",
      "406 2887 900\n",
      "407 2904 905\n",
      "411 2911 916\n",
      "411 3070 916\n",
      "412 3075 917\n",
      "416 3081 924\n"
     ]
    },
    {
     "name": "stderr",
     "output_type": "stream",
     "text": [
      "b'Skipping line 10: expected 10 fields, saw 11\\nSkipping line 11: expected 10 fields, saw 11\\nSkipping line 29: expected 10 fields, saw 11\\n'\n"
     ]
    },
    {
     "name": "stdout",
     "output_type": "stream",
     "text": [
      "420 3118 935\n",
      "421 3121 936\n",
      "422 3137 937\n",
      "424 3139 939\n",
      "424 3140 939\n",
      "424 3143 940\n",
      "424 3145 940\n",
      "424 3149 940\n",
      "425 3153 942\n",
      "425 3156 942\n",
      "426 3159 944\n"
     ]
    },
    {
     "name": "stderr",
     "output_type": "stream",
     "text": [
      "b'Skipping line 2: expected 10 fields, saw 11\\n'\n"
     ]
    },
    {
     "name": "stdout",
     "output_type": "stream",
     "text": [
      "428 3162 947\n",
      "429 3166 949\n",
      "429 3167 958\n",
      "433 3197 966\n",
      "433 3204 966\n",
      "434 3221 967\n",
      "434 3223 968\n",
      "435 3226 970\n",
      "435 3229 971\n",
      "436 3235 973\n",
      "438 3239 975\n",
      "438 3244 975\n",
      "438 3248 977\n",
      "438 3289 980\n",
      "438 3297 980\n",
      "439 3307 985\n",
      "440 3311 986\n",
      "440 3313 986\n",
      "442 3320 990\n",
      "442 3329 990\n",
      "442 3331 991\n",
      "443 3332 992\n",
      "444 3344 995\n",
      "445 3347 999\n",
      "447 3459 1006\n",
      "447 3467 1007\n",
      "447 3469 1008\n",
      "447 3472 1009\n",
      "447 3476 1012\n",
      "450 3480 1017\n",
      "454 3486 1022\n",
      "456 3509 1024\n",
      "458 3517 1029\n",
      "460 3521 1032\n",
      "461 3526 1033\n",
      "462 3534 1036\n",
      "466 3550 1046\n",
      "466 3553 1046\n",
      "466 3558 1047\n",
      "467 3561 1052\n",
      "467 3562 1052\n",
      "467 3574 1056\n",
      "467 3576 1058\n",
      "467 3577 1058\n",
      "467 3578 1059\n",
      "471 3597 1068\n",
      "471 3674 1071\n",
      "472 3680 1072\n",
      "472 3687 1074\n",
      "474 3697 1078\n",
      "474 3699 1078\n",
      "474 3704 1078\n",
      "474 3708 1079\n",
      "474 3714 1080\n",
      "475 3718 1082\n",
      "475 3726 1083\n",
      "475 3734 1084\n",
      "477 3738 1086\n",
      "478 3742 1088\n",
      "479 3749 1092\n",
      "485 3760 1098\n",
      "485 3766 1100\n",
      "485 3768 1100\n"
     ]
    },
    {
     "name": "stderr",
     "output_type": "stream",
     "text": [
      "b'Skipping line 7: expected 10 fields, saw 11\\n'\n"
     ]
    },
    {
     "name": "stdout",
     "output_type": "stream",
     "text": [
      "491 3803 1111\n",
      "492 3813 1112\n",
      "492 3820 1112\n",
      "509 4034 1168\n",
      "512 4037 1171\n",
      "514 4044 1175\n"
     ]
    },
    {
     "name": "stderr",
     "output_type": "stream",
     "text": [
      "b'Skipping line 14: expected 10 fields, saw 11\\nSkipping line 15: expected 10 fields, saw 11\\n'\n"
     ]
    },
    {
     "name": "stdout",
     "output_type": "stream",
     "text": [
      "523 4065 1187\n",
      "523 4079 1188\n",
      "523 4084 1189\n",
      "525 4090 1193\n",
      "526 4092 1194\n",
      "527 4113 1196\n"
     ]
    },
    {
     "name": "stderr",
     "output_type": "stream",
     "text": [
      "b'Skipping line 6: expected 10 fields, saw 11\\nSkipping line 8: expected 10 fields, saw 11\\n'\n"
     ]
    },
    {
     "name": "stdout",
     "output_type": "stream",
     "text": [
      "528 4121 1199\n",
      "529 4123 1201\n"
     ]
    },
    {
     "name": "stderr",
     "output_type": "stream",
     "text": [
      "b'Skipping line 2: expected 10 fields, saw 11\\n'\n"
     ]
    },
    {
     "name": "stdout",
     "output_type": "stream",
     "text": [
      "529 4125 1205\n",
      "529 4130 1207\n",
      "529 4132 1207\n",
      "529 4134 1208\n",
      "530 4140 1211\n",
      "536 4169 1224\n",
      "536 4170 1224\n",
      "538 4197 1226\n",
      "538 4198 1226\n",
      "538 4202 1226\n",
      "538 4208 1227\n",
      "541 4212 1230\n",
      "543 4218 1232\n",
      "544 4226 1234\n",
      "544 4228 1234\n",
      "544 4235 1234\n",
      "544 4239 1235\n",
      "544 4241 1235\n",
      "544 4242 1235\n",
      "547 4271 1243\n",
      "547 4275 1244\n",
      "547 4277 1246\n",
      "549 4280 1248\n",
      "551 4288 1251\n",
      "551 4292 1254\n",
      "551 4294 1254\n",
      "552 4296 1255\n",
      "552 4302 1255\n",
      "554 4349 1259\n",
      "558 4388 1264\n",
      "560 4394 1267\n",
      "560 4400 1268\n",
      "560 4406 1269\n",
      "564 4418 1276\n",
      "565 4422 1280\n",
      "570 4430 1285\n",
      "570 4433 1289\n",
      "570 4439 1290\n"
     ]
    },
    {
     "name": "stderr",
     "output_type": "stream",
     "text": [
      "b'Skipping line 2: expected 10 fields, saw 11\\nSkipping line 5: expected 10 fields, saw 11\\n'\n"
     ]
    },
    {
     "name": "stdout",
     "output_type": "stream",
     "text": [
      "570 4444 1292\n",
      "570 4445 1294\n",
      "570 4453 1296\n",
      "571 4459 1298\n"
     ]
    },
    {
     "name": "stderr",
     "output_type": "stream",
     "text": [
      "b'Skipping line 2: expected 10 fields, saw 11\\n'\n"
     ]
    },
    {
     "name": "stdout",
     "output_type": "stream",
     "text": [
      "571 4463 1299\n",
      "575 4506 1303\n",
      "581 4517 1313\n",
      "581 4520 1314\n",
      "583 4523 1316\n"
     ]
    },
    {
     "name": "stderr",
     "output_type": "stream",
     "text": [
      "b'Skipping line 12: expected 10 fields, saw 11\\n'\n"
     ]
    },
    {
     "name": "stdout",
     "output_type": "stream",
     "text": [
      "586 4534 1324\n",
      "591 4566 1336\n",
      "591 4568 1337\n",
      "598 4579 1348\n",
      "599 4580 1349\n",
      "604 4588 1354\n",
      "608 4593 1358\n",
      "608 4597 1363\n",
      "610 4618 1373\n",
      "610 4621 1375\n",
      "610 4623 1375\n",
      "612 4634 1380\n",
      "614 4643 1392\n",
      "615 4654 1395\n",
      "621 4714 1404\n",
      "621 4716 1405\n",
      "623 4723 1408\n",
      "624 4732 1409\n"
     ]
    },
    {
     "name": "stderr",
     "output_type": "stream",
     "text": [
      "b'Skipping line 7: expected 10 fields, saw 11\\n'\n"
     ]
    },
    {
     "name": "stdout",
     "output_type": "stream",
     "text": [
      "626 4744 1414\n",
      "628 4749 1416\n",
      "628 4755 1417\n",
      "629 4757 1419\n",
      "633 4781 1430\n",
      "633 4786 1433\n",
      "633 4793 1436\n",
      "634 4796 1437\n",
      "634 4810 1438\n",
      "636 4824 1444\n",
      "639 4870 1449\n",
      "641 4875 1451\n",
      "642 4893 1458\n",
      "643 4896 1460\n",
      "643 4900 1460\n",
      "644 4902 1462\n",
      "645 4922 1465\n",
      "647 4924 1467\n",
      "649 4932 1470\n",
      "651 4941 1475\n",
      "651 4942 1475\n",
      "652 4947 1477\n",
      "653 4949 1478\n",
      "653 4951 1478\n",
      "655 4954 1480\n",
      "658 4978 1485\n",
      "660 4985 1488\n",
      "664 4997 1493\n",
      "664 4999 1493\n",
      "670 5023 1504\n",
      "670 5028 1506\n",
      "670 5038 1506\n",
      "671 5044 1509\n",
      "671 5053 1511\n",
      "673 5057 1515\n",
      "675 5068 1522\n",
      "675 5070 1522\n",
      "675 5071 1522\n",
      "679 5088 1527\n",
      "679 5091 1527\n",
      "679 5093 1527\n",
      "680 5099 1529\n",
      "684 5119 1536\n",
      "684 5123 1538\n"
     ]
    },
    {
     "name": "stderr",
     "output_type": "stream",
     "text": [
      "b'Skipping line 2: expected 10 fields, saw 11\\n'\n"
     ]
    },
    {
     "name": "stdout",
     "output_type": "stream",
     "text": [
      "685 5127 1544\n",
      "685 5131 1544\n",
      "685 5133 1544\n",
      "687 5138 1547\n"
     ]
    },
    {
     "name": "stderr",
     "output_type": "stream",
     "text": [
      "b'Skipping line 4: expected 10 fields, saw 11\\n'\n"
     ]
    },
    {
     "name": "stdout",
     "output_type": "stream",
     "text": [
      "687 5144 1549\n",
      "691 5152 1553\n",
      "691 5153 1555\n",
      "696 5178 1562\n",
      "696 5180 1562\n",
      "697 5182 1563\n"
     ]
    },
    {
     "name": "stderr",
     "output_type": "stream",
     "text": [
      "b'Skipping line 3: expected 10 fields, saw 11\\n'\n"
     ]
    },
    {
     "name": "stdout",
     "output_type": "stream",
     "text": [
      "699 5206 1565\n",
      "700 5215 1568\n",
      "700 5241 1569\n",
      "700 5247 1570\n",
      "700 5250 1570\n",
      "703 5272 1575\n",
      "703 5276 1577\n",
      "703 5281 1578\n",
      "703 5282 1578\n",
      "703 5284 1579\n",
      "705 5297 1586\n",
      "705 5299 1589\n",
      "712 5307 1597\n",
      "713 5316 1599\n",
      "713 5320 1599\n",
      "713 5322 1599\n",
      "718 5329 1605\n",
      "718 5336 1605\n",
      "718 5337 1605\n",
      "719 5343 1607\n",
      "720 5344 1608\n",
      "724 5399 1618\n",
      "724 5411 1618\n",
      "726 5414 1620\n",
      "728 5448 1631\n",
      "733 5458 1638\n",
      "733 5465 1641\n",
      "735 5469 1644\n",
      "738 5473 1647\n",
      "738 5476 1647\n",
      "740 5481 1650\n",
      "740 5486 1651\n"
     ]
    },
    {
     "name": "stderr",
     "output_type": "stream",
     "text": [
      "b'Skipping line 5: expected 10 fields, saw 11\\n'\n"
     ]
    },
    {
     "name": "stdout",
     "output_type": "stream",
     "text": [
      "750 5518 1673\n"
     ]
    },
    {
     "name": "stderr",
     "output_type": "stream",
     "text": [
      "b'Skipping line 33: expected 10 fields, saw 11\\nSkipping line 36: expected 10 fields, saw 11\\n'\n"
     ]
    },
    {
     "name": "stdout",
     "output_type": "stream",
     "text": [
      "752 5571 1684\n",
      "752 5573 1684\n",
      "752 5575 1684\n",
      "753 5585 1693\n",
      "753 5588 1693\n"
     ]
    },
    {
     "name": "stderr",
     "output_type": "stream",
     "text": [
      "b'Skipping line 14: expected 10 fields, saw 11\\n'\n"
     ]
    },
    {
     "name": "stdout",
     "output_type": "stream",
     "text": [
      "755 5602 1700\n",
      "757 5625 1705\n",
      "758 5629 1711\n"
     ]
    },
    {
     "name": "stderr",
     "output_type": "stream",
     "text": [
      "b'Skipping line 9: expected 10 fields, saw 11\\n'\n"
     ]
    },
    {
     "name": "stdout",
     "output_type": "stream",
     "text": [
      "760 5642 1715\n",
      "760 5644 1716\n",
      "760 5645 1716\n",
      "764 5687 1723\n",
      "764 5690 1724\n",
      "771 5704 1738\n",
      "772 5716 1740\n",
      "772 5718 1742\n",
      "773 5721 1743\n",
      "773 5724 1743\n",
      "773 5728 1745\n",
      "776 5737 1749\n",
      "776 5738 1749\n",
      "776 5742 1750\n",
      "776 5745 1750\n",
      "777 5747 1752\n",
      "778 5749 1753\n"
     ]
    },
    {
     "name": "stderr",
     "output_type": "stream",
     "text": [
      "b'Skipping line 50: expected 10 fields, saw 11\\n'\n"
     ]
    },
    {
     "name": "stdout",
     "output_type": "stream",
     "text": [
      "782 5807 1774\n",
      "783 5812 1776\n",
      "783 5813 1776\n",
      "790 5823 1783\n",
      "794 5830 1791\n",
      "794 5832 1792\n",
      "794 5845 1793\n",
      "795 5850 1795\n"
     ]
    },
    {
     "name": "stderr",
     "output_type": "stream",
     "text": [
      "b'Skipping line 3: expected 10 fields, saw 11\\n'\n"
     ]
    },
    {
     "name": "stdout",
     "output_type": "stream",
     "text": [
      "799 5855 1800\n",
      "804 5862 1805\n",
      "806 5868 1811\n",
      "809 5873 1814\n",
      "809 5877 1815\n",
      "822 5927 1835\n",
      "822 5936 1836\n",
      "822 5941 1838\n",
      "822 5943 1838\n"
     ]
    },
    {
     "name": "stderr",
     "output_type": "stream",
     "text": [
      "b'Skipping line 63: expected 10 fields, saw 11\\n'\n"
     ]
    },
    {
     "name": "stdout",
     "output_type": "stream",
     "text": [
      "828 6014 1858\n",
      "828 6023 1858\n",
      "834 6047 1867\n",
      "835 6053 1868\n",
      "836 6059 1869\n",
      "839 6067 1872\n",
      "840 6076 1874\n"
     ]
    },
    {
     "name": "stderr",
     "output_type": "stream",
     "text": [
      "b'Skipping line 53: expected 10 fields, saw 11\\nSkipping line 61: expected 10 fields, saw 11\\nSkipping line 105: expected 10 fields, saw 11\\nSkipping line 106: expected 10 fields, saw 11\\nSkipping line 108: expected 10 fields, saw 11\\n'\n"
     ]
    },
    {
     "name": "stdout",
     "output_type": "stream",
     "text": [
      "850 6190 1908\n",
      "852 6192 1910\n",
      "852 6200 1912\n",
      "852 6208 1914\n",
      "852 6221 1915\n",
      "854 6225 1918\n",
      "854 6229 1919\n"
     ]
    },
    {
     "name": "stderr",
     "output_type": "stream",
     "text": [
      "b'Skipping line 8: expected 10 fields, saw 11\\n'\n"
     ]
    },
    {
     "name": "stdout",
     "output_type": "stream",
     "text": [
      "860 6243 1927\n",
      "860 6244 1927\n",
      "860 6253 1931\n",
      "860 6259 1934\n",
      "861 6260 1935\n",
      "861 6262 1935\n"
     ]
    },
    {
     "name": "stderr",
     "output_type": "stream",
     "text": [
      "b'Skipping line 9: expected 10 fields, saw 11\\nSkipping line 20: expected 10 fields, saw 11\\nSkipping line 22: expected 10 fields, saw 11\\n'\n"
     ]
    },
    {
     "name": "stdout",
     "output_type": "stream",
     "text": [
      "866 6293 1950\n",
      "867 6315 1952\n",
      "867 6319 1954\n",
      "868 6340 1967\n",
      "868 6343 1968\n",
      "868 6344 1970\n"
     ]
    },
    {
     "name": "stderr",
     "output_type": "stream",
     "text": [
      "b'Skipping line 2: expected 10 fields, saw 11\\n'\n"
     ]
    },
    {
     "name": "stdout",
     "output_type": "stream",
     "text": [
      "870 6350 1972\n",
      "871 6357 1977\n",
      "874 6361 1980\n",
      "876 6393 1984\n",
      "877 6398 1987\n",
      "877 6402 1988\n"
     ]
    },
    {
     "name": "stderr",
     "output_type": "stream",
     "text": [
      "b'Skipping line 30: expected 10 fields, saw 12\\nSkipping line 32: expected 10 fields, saw 11\\nSkipping line 92: expected 10 fields, saw 11\\nSkipping line 103: expected 10 fields, saw 11\\n'\n"
     ]
    },
    {
     "name": "stdout",
     "output_type": "stream",
     "text": [
      "901 6537 2035\n",
      "907 6548 2044\n",
      "909 6555 2047\n",
      "912 6561 2050\n"
     ]
    },
    {
     "name": "stderr",
     "output_type": "stream",
     "text": [
      "b'Skipping line 4: expected 10 fields, saw 11\\n'\n"
     ]
    },
    {
     "name": "stdout",
     "output_type": "stream",
     "text": [
      "914 6565 2054\n",
      "916 6570 2056\n",
      "917 6577 2058\n"
     ]
    },
    {
     "name": "stderr",
     "output_type": "stream",
     "text": [
      "b'Skipping line 24: expected 10 fields, saw 11\\n'\n"
     ]
    },
    {
     "name": "stdout",
     "output_type": "stream",
     "text": [
      "925 6639 2075\n",
      "926 6666 2076\n"
     ]
    },
    {
     "name": "stderr",
     "output_type": "stream",
     "text": [
      "b'Skipping line 161: expected 10 fields, saw 11\\n'\n"
     ]
    },
    {
     "name": "stdout",
     "output_type": "stream",
     "text": [
      "957 6828 2128\n",
      "957 6831 2129\n",
      "963 6843 2137\n",
      "963 6849 2137\n",
      "968 6880 2144\n",
      "968 6883 2144\n",
      "968 6885 2145\n",
      "970 6890 2148\n",
      "970 6892 2148\n",
      "971 6895 2149\n",
      "971 6897 2150\n",
      "971 6900 2153\n",
      "972 6917 2155\n",
      "973 6921 2157\n",
      "973 6928 2157\n",
      "973 6929 2160\n",
      "973 6931 2161\n",
      "974 6933 2162\n",
      "975 6975 2167\n",
      "975 6978 2167\n",
      "975 6980 2168\n",
      "975 6983 2168\n",
      "975 6988 2168\n",
      "977 6991 2170\n",
      "978 6995 2172\n"
     ]
    },
    {
     "name": "stderr",
     "output_type": "stream",
     "text": [
      "b'Skipping line 16: expected 10 fields, saw 11\\n'\n"
     ]
    },
    {
     "name": "stdout",
     "output_type": "stream",
     "text": [
      "987 7012 2192\n",
      "987 7013 2192\n",
      "987 7021 2192\n"
     ]
    },
    {
     "name": "stderr",
     "output_type": "stream",
     "text": [
      "b'Skipping line 12: expected 10 fields, saw 11\\n'\n"
     ]
    },
    {
     "name": "stdout",
     "output_type": "stream",
     "text": [
      "992 7038 2202\n",
      "992 7050 2203\n",
      "992 7059 2210\n",
      "993 7068 2212\n",
      "994 7074 2213\n",
      "996 7080 2216\n",
      "997 7083 2219\n"
     ]
    },
    {
     "name": "stderr",
     "output_type": "stream",
     "text": [
      "b'Skipping line 3: expected 10 fields, saw 11\\n'\n"
     ]
    },
    {
     "name": "stdout",
     "output_type": "stream",
     "text": [
      "1004 7092 2226\n",
      "1004 7095 2226\n",
      "1009 7106 2232\n",
      "1011 7115 2236\n",
      "1020 7133 2250\n",
      "1020 7142 2251\n",
      "1021 7204 2252\n",
      "1021 7206 2252\n",
      "1033 7362 2279\n",
      "1034 7367 2281\n",
      "1034 7368 2281\n",
      "1035 7370 2282\n",
      "1035 7373 2283\n",
      "1035 7384 2283\n",
      "1036 7392 2286\n",
      "1037 7400 2291\n",
      "1038 7403 2295\n",
      "1041 7406 2298\n",
      "1043 7423 2304\n",
      "1043 7424 2304\n",
      "1043 7431 2304\n",
      "1046 7437 2308\n",
      "1046 7445 2309\n",
      "1047 7446 2310\n",
      "1048 7455 2315\n",
      "1051 7494 2321\n",
      "1052 7504 2324\n",
      "1052 7513 2324\n",
      "1052 7516 2326\n",
      "1053 7531 2327\n",
      "1053 7541 2330\n",
      "1053 7544 2330\n",
      "1053 7555 2332\n",
      "1053 7557 2332\n",
      "1053 7559 2332\n",
      "1053 7564 2332\n",
      "1053 7566 2333\n",
      "1053 7569 2333\n",
      "1055 7575 2336\n",
      "1055 7581 2339\n",
      "1055 7585 2339\n",
      "1057 7595 2343\n",
      "1058 7598 2344\n",
      "1059 7601 2345\n",
      "1060 7604 2347\n",
      "1063 7611 2351\n",
      "1064 7612 2352\n",
      "1064 7626 2354\n",
      "1064 7632 2356\n",
      "1065 7636 2358\n",
      "1065 7642 2358\n",
      "1065 7643 2358\n",
      "1065 7647 2362\n",
      "1065 7658 2364\n",
      "1072 7718 2380\n",
      "1083 7732 2392\n",
      "1085 7734 2396\n",
      "1085 7744 2396\n",
      "1085 7750 2396\n",
      "1085 7751 2396\n",
      "1088 7758 2399\n"
     ]
    },
    {
     "name": "stderr",
     "output_type": "stream",
     "text": [
      "b'Skipping line 22: expected 10 fields, saw 11\\nSkipping line 25: expected 10 fields, saw 11\\n'\n"
     ]
    },
    {
     "name": "stdout",
     "output_type": "stream",
     "text": [
      "1091 7783 2419\n",
      "1093 7787 2421\n",
      "1094 7792 2427\n",
      "1096 7800 2429\n",
      "1096 7802 2429\n",
      "1098 7806 2433\n",
      "1107 7836 2451\n",
      "1111 7841 2455\n",
      "1112 7848 2459\n",
      "1112 7851 2461\n",
      "1113 7876 2469\n",
      "1115 7880 2472\n",
      "1115 7883 2472\n",
      "1115 7885 2472\n",
      "1118 7889 2475\n",
      "1118 7896 2477\n",
      "1120 7899 2479\n",
      "1120 7904 2479\n"
     ]
    },
    {
     "name": "stderr",
     "output_type": "stream",
     "text": [
      "b'Skipping line 27: expected 10 fields, saw 11\\nSkipping line 28: expected 10 fields, saw 11\\n'\n"
     ]
    },
    {
     "name": "stdout",
     "output_type": "stream",
     "text": [
      "1127 7940 2493\n",
      "1127 7944 2493\n",
      "1128 7956 2494\n",
      "1129 7975 2500\n",
      "1132 7988 2507\n",
      "1133 7990 2514\n",
      "1134 7993 2518\n",
      "1134 8022 2518\n",
      "1134 8026 2518\n",
      "1134 8038 2519\n",
      "1134 8040 2519\n",
      "1138 8045 2523\n",
      "1142 8049 2527\n",
      "1143 8084 2535\n",
      "1143 8092 2535\n",
      "1143 8099 2537\n",
      "1146 8106 2542\n",
      "1147 8110 2544\n",
      "1155 8131 2553\n",
      "1157 8134 2555\n",
      "1158 8141 2556\n",
      "1160 8188 2565\n",
      "1160 8194 2568\n",
      "1160 8195 2568\n",
      "1161 8200 2572\n",
      "1164 8212 2575\n",
      "1164 8214 2576\n",
      "1165 8230 2580\n",
      "1166 8239 2582\n",
      "1174 8251 2590\n",
      "1176 8254 2592\n",
      "1177 8255 2593\n",
      "1179 8281 2601\n",
      "1181 8285 2603\n",
      "1184 8288 2608\n",
      "1185 8294 2610\n",
      "1186 8300 2611\n",
      "1190 8306 2615\n",
      "1192 8330 2617\n",
      "1198 8348 2627\n",
      "1199 8351 2629\n",
      "1201 8356 2632\n",
      "ep10\n",
      "1 3 2\n",
      "1 5 2\n",
      "2 7 3\n",
      "4 17 8\n"
     ]
    },
    {
     "name": "stderr",
     "output_type": "stream",
     "text": [
      "b'Skipping line 17: expected 10 fields, saw 11\\nSkipping line 37: expected 10 fields, saw 11\\n'\n"
     ]
    },
    {
     "name": "stdout",
     "output_type": "stream",
     "text": [
      "4 105 35\n",
      "25 130 62\n",
      "27 135 64\n",
      "29 148 67\n",
      "29 151 68\n",
      "30 210 71\n",
      "32 212 75\n",
      "39 219 85\n",
      "40 221 86\n",
      "45 235 95\n",
      "45 236 95\n",
      "46 243 98\n",
      "50 248 102\n",
      "50 253 103\n",
      "53 267 110\n",
      "54 269 112\n",
      "55 272 114\n",
      "56 281 117\n",
      "56 285 118\n",
      "58 289 120\n",
      "59 290 122\n"
     ]
    },
    {
     "name": "stderr",
     "output_type": "stream",
     "text": [
      "b'Skipping line 3: expected 10 fields, saw 11\\nSkipping line 5: expected 10 fields, saw 11\\n'\n"
     ]
    },
    {
     "name": "stdout",
     "output_type": "stream",
     "text": [
      "59 293 124\n",
      "61 295 126\n",
      "62 351 134\n",
      "64 353 136\n",
      "64 360 139\n"
     ]
    },
    {
     "name": "stderr",
     "output_type": "stream",
     "text": [
      "b'Skipping line 4: expected 10 fields, saw 11\\n'\n"
     ]
    },
    {
     "name": "stdout",
     "output_type": "stream",
     "text": [
      "65 381 140\n",
      "76 410 157\n",
      "76 415 159\n",
      "76 420 159\n",
      "81 469 177\n",
      "82 480 182\n",
      "82 489 184\n",
      "84 493 187\n",
      "85 502 191\n",
      "85 504 191\n",
      "87 509 193\n",
      "89 518 196\n",
      "89 519 196\n",
      "90 520 197\n",
      "90 527 197\n",
      "92 533 200\n",
      "92 534 200\n",
      "92 535 201\n"
     ]
    },
    {
     "name": "stderr",
     "output_type": "stream",
     "text": [
      "b'Skipping line 4: expected 10 fields, saw 11\\n'\n"
     ]
    },
    {
     "name": "stdout",
     "output_type": "stream",
     "text": [
      "97 543 211\n",
      "97 544 213\n",
      "97 571 215\n",
      "97 574 215\n",
      "100 582 221\n",
      "100 583 222\n",
      "102 589 224\n",
      "103 595 226\n",
      "110 627 243\n",
      "112 631 246\n",
      "112 643 250\n",
      "115 647 253\n",
      "117 651 256\n",
      "118 655 258\n",
      "119 656 259\n",
      "120 694 260\n",
      "121 696 261\n",
      "122 698 265\n"
     ]
    },
    {
     "name": "stderr",
     "output_type": "stream",
     "text": [
      "b'Skipping line 8: expected 10 fields, saw 11\\nSkipping line 9: expected 10 fields, saw 11\\nSkipping line 15: expected 10 fields, saw 11\\n'\n"
     ]
    },
    {
     "name": "stdout",
     "output_type": "stream",
     "text": [
      "129 710 277\n",
      "129 711 277\n",
      "129 719 279\n",
      "129 720 279\n",
      "143 796 318\n",
      "143 799 320\n"
     ]
    },
    {
     "name": "stderr",
     "output_type": "stream",
     "text": [
      "b'Skipping line 2: expected 10 fields, saw 11\\n'\n"
     ]
    },
    {
     "name": "stdout",
     "output_type": "stream",
     "text": [
      "145 821 324\n",
      "146 824 325\n",
      "150 828 329\n"
     ]
    },
    {
     "name": "stderr",
     "output_type": "stream",
     "text": [
      "b'Skipping line 8: expected 10 fields, saw 11\\n'\n"
     ]
    },
    {
     "name": "stdout",
     "output_type": "stream",
     "text": [
      "150 841 332\n",
      "150 846 333\n",
      "152 848 335\n",
      "153 861 336\n",
      "155 867 344\n",
      "155 873 344\n",
      "155 876 347\n",
      "156 879 350\n",
      "160 883 354\n",
      "164 888 358\n",
      "164 889 359\n",
      "164 898 361\n",
      "164 907 361\n",
      "165 908 362\n",
      "169 952 388\n",
      "170 963 391\n",
      "172 965 394\n",
      "172 970 395\n",
      "172 992 416\n",
      "177 1007 423\n",
      "177 1012 424\n",
      "179 1017 428\n",
      "179 1025 431\n",
      "183 1075 446\n",
      "184 1081 448\n",
      "185 1088 451\n",
      "185 1089 451\n",
      "186 1092 453\n",
      "188 1096 471\n",
      "188 1099 471\n",
      "192 1104 477\n",
      "194 1108 480\n",
      "194 1126 483\n",
      "195 1151 485\n",
      "196 1155 486\n",
      "197 1160 490\n",
      "200 1168 494\n",
      "200 1170 495\n",
      "205 1176 500\n",
      "207 1179 504\n",
      "207 1183 505\n",
      "207 1189 506\n",
      "213 1196 513\n",
      "213 1197 516\n",
      "214 1201 517\n",
      "219 1224 525\n",
      "221 1229 528\n",
      "221 1237 531\n",
      "225 1243 536\n",
      "225 1244 538\n",
      "226 1247 540\n",
      "227 1251 542\n",
      "233 1270 552\n",
      "235 1272 554\n",
      "235 1280 555\n",
      "235 1281 556\n",
      "237 1284 558\n",
      "237 1287 560\n",
      "237 1289 561\n",
      "238 1291 562\n",
      "241 1307 567\n",
      "241 1312 568\n",
      "241 1339 569\n",
      "251 1349 579\n",
      "251 1353 579\n",
      "253 1399 584\n",
      "255 1403 586\n",
      "255 1409 586\n",
      "257 1414 599\n",
      "258 1418 601\n",
      "258 1420 601\n",
      "260 1424 604\n",
      "262 1440 608\n",
      "262 1442 611\n",
      "263 1449 613\n",
      "265 1455 617\n",
      "265 1462 617\n",
      "269 1489 624\n",
      "271 1491 626\n",
      "271 1494 627\n"
     ]
    },
    {
     "name": "stderr",
     "output_type": "stream",
     "text": [
      "b'Skipping line 4: expected 10 fields, saw 11\\n'\n"
     ]
    },
    {
     "name": "stdout",
     "output_type": "stream",
     "text": [
      "271 1497 629\n",
      "271 1502 631\n",
      "278 1515 643\n",
      "280 1524 647\n",
      "283 1529 650\n",
      "284 1530 651\n",
      "285 1531 652\n",
      "285 1534 652\n",
      "287 1537 655\n",
      "287 1540 655\n",
      "288 1542 656\n",
      "290 1547 675\n",
      "292 1557 679\n",
      "292 1559 679\n",
      "292 1564 681\n",
      "292 1570 683\n",
      "292 1574 684\n",
      "295 1595 692\n",
      "295 1597 693\n",
      "295 1609 695\n",
      "296 1612 700\n",
      "298 1652 704\n",
      "298 1659 705\n",
      "298 1661 707\n",
      "298 1669 708\n",
      "299 1670 709\n",
      "299 1695 709\n",
      "301 1700 716\n",
      "302 1703 719\n"
     ]
    },
    {
     "name": "stderr",
     "output_type": "stream",
     "text": [
      "b'Skipping line 5: expected 10 fields, saw 11\\n'\n"
     ]
    },
    {
     "name": "stdout",
     "output_type": "stream",
     "text": [
      "302 1712 721\n",
      "306 1724 728\n",
      "312 1737 737\n",
      "314 1746 741\n",
      "316 1750 744\n",
      "316 1776 744\n",
      "319 1781 747\n",
      "321 1784 749\n",
      "321 1790 750\n",
      "321 1795 751\n",
      "324 1799 754\n",
      "325 1807 757\n",
      "328 1810 760\n",
      "328 1813 760\n",
      "329 1818 761\n",
      "331 1821 768\n",
      "334 1832 772\n",
      "334 1834 772\n",
      "336 1839 781\n",
      "338 1852 787\n",
      "341 1857 790\n",
      "342 1861 793\n",
      "347 1866 800\n",
      "349 1889 807\n",
      "350 1890 808\n",
      "351 1934 809\n"
     ]
    },
    {
     "name": "stderr",
     "output_type": "stream",
     "text": [
      "b'Skipping line 31: expected 10 fields, saw 11\\nSkipping line 62: expected 10 fields, saw 11\\nSkipping line 68: expected 10 fields, saw 11\\n'\n"
     ]
    },
    {
     "name": "stdout",
     "output_type": "stream",
     "text": [
      "351 2005 813\n",
      "357 2025 824\n",
      "357 2026 826\n",
      "358 2034 837\n",
      "358 2037 840\n",
      "358 2039 844\n",
      "358 2047 851\n",
      "368 2057 861\n",
      "368 2074 863\n",
      "376 2086 878\n",
      "376 2091 880\n",
      "378 2093 882\n",
      "379 2094 884\n",
      "382 2099 887\n",
      "382 2104 887\n",
      "387 2111 892\n",
      "389 2115 894\n",
      "390 2135 899\n",
      "390 2137 900\n",
      "391 2140 904\n",
      "391 2145 904\n",
      "391 2148 905\n",
      "391 2150 908\n"
     ]
    },
    {
     "name": "stderr",
     "output_type": "stream",
     "text": [
      "b'Skipping line 10: expected 10 fields, saw 11\\nSkipping line 20: expected 10 fields, saw 12\\n'\n"
     ]
    },
    {
     "name": "stdout",
     "output_type": "stream",
     "text": [
      "403 2204 938\n",
      "403 2208 939\n",
      "405 2212 941\n",
      "406 2215 946\n"
     ]
    },
    {
     "name": "stderr",
     "output_type": "stream",
     "text": [
      "b'Skipping line 41: expected 10 fields, saw 11\\nSkipping line 42: expected 10 fields, saw 11\\n'\n"
     ]
    },
    {
     "name": "stdout",
     "output_type": "stream",
     "text": [
      "409 2256 957\n",
      "409 2262 959\n",
      "411 2264 961\n",
      "416 2269 966\n",
      "417 2270 967\n",
      "417 2276 969\n",
      "426 2332 989\n",
      "427 2337 990\n",
      "427 2340 990\n",
      "427 2341 990\n"
     ]
    },
    {
     "name": "stderr",
     "output_type": "stream",
     "text": [
      "b'Skipping line 12: expected 10 fields, saw 11\\n'\n"
     ]
    },
    {
     "name": "stdout",
     "output_type": "stream",
     "text": [
      "427 2367 993\n",
      "448 2396 1018\n",
      "449 2404 1023\n",
      "450 2408 1029\n",
      "455 2443 1036\n",
      "455 2446 1039\n",
      "457 2448 1041\n",
      "457 2453 1043\n",
      "460 2458 1047\n",
      "462 2462 1053\n",
      "465 2468 1057\n",
      "467 2490 1064\n",
      "474 2506 1077\n"
     ]
    },
    {
     "name": "stderr",
     "output_type": "stream",
     "text": [
      "b'Skipping line 28: expected 10 fields, saw 11\\n'\n"
     ]
    },
    {
     "name": "stdout",
     "output_type": "stream",
     "text": [
      "487 2582 1105\n",
      "489 2584 1118\n",
      "489 2606 1123\n",
      "489 2612 1132\n",
      "493 2626 1139\n",
      "494 2627 1140\n",
      "497 2642 1146\n"
     ]
    },
    {
     "name": "stderr",
     "output_type": "stream",
     "text": [
      "b'Skipping line 7: expected 10 fields, saw 11\\n'\n",
      "b'Skipping line 5: expected 10 fields, saw 11\\nSkipping line 9: expected 10 fields, saw 11\\n'\n"
     ]
    },
    {
     "name": "stdout",
     "output_type": "stream",
     "text": [
      "498 2649 1149\n",
      "498 2651 1149\n",
      "499 2654 1151\n",
      "499 2657 1151\n",
      "499 2665 1159\n",
      "499 2667 1161\n",
      "502 2673 1165\n",
      "502 2679 1166\n",
      "502 2683 1167\n",
      "502 2698 1170\n"
     ]
    },
    {
     "name": "stderr",
     "output_type": "stream",
     "text": [
      "b'Skipping line 2: expected 10 fields, saw 11\\n'\n"
     ]
    },
    {
     "name": "stdout",
     "output_type": "stream",
     "text": [
      "503 2706 1174\n",
      "507 2712 1179\n",
      "507 2713 1180\n",
      "510 2723 1185\n",
      "514 2727 1189\n",
      "514 2730 1190\n",
      "516 2734 1192\n",
      "516 2737 1193\n",
      "517 2743 1196\n",
      "517 2749 1196\n",
      "517 2750 1196\n",
      "518 2753 1203\n",
      "518 2757 1205\n",
      "521 2763 1209\n",
      "523 2769 1211\n",
      "523 2772 1212\n",
      "525 2774 1214\n",
      "526 2808 1224\n",
      "527 2810 1225\n",
      "529 2821 1229\n",
      "530 2828 1230\n",
      "531 2847 1239\n",
      "531 2852 1240\n",
      "531 2855 1241\n",
      "531 2859 1246\n",
      "532 2863 1266\n",
      "532 2865 1269\n",
      "532 2869 1269\n",
      "535 2875 1272\n",
      "536 2878 1274\n",
      "536 2879 1284\n",
      "537 2882 1287\n",
      "537 2887 1287\n",
      "540 2904 1294\n",
      "545 2911 1308\n",
      "545 3070 1308\n",
      "546 3075 1310\n",
      "552 3081 1322\n"
     ]
    },
    {
     "name": "stderr",
     "output_type": "stream",
     "text": [
      "b'Skipping line 10: expected 10 fields, saw 11\\nSkipping line 11: expected 10 fields, saw 11\\nSkipping line 29: expected 10 fields, saw 11\\n'\n"
     ]
    },
    {
     "name": "stdout",
     "output_type": "stream",
     "text": [
      "558 3118 1335\n",
      "559 3121 1336\n",
      "559 3137 1338\n",
      "561 3139 1340\n",
      "561 3140 1340\n",
      "561 3143 1341\n",
      "561 3145 1342\n",
      "561 3149 1343\n",
      "562 3153 1346\n",
      "562 3156 1346\n",
      "564 3159 1348\n"
     ]
    },
    {
     "name": "stderr",
     "output_type": "stream",
     "text": [
      "b'Skipping line 2: expected 10 fields, saw 11\\n'\n"
     ]
    },
    {
     "name": "stdout",
     "output_type": "stream",
     "text": [
      "566 3162 1352\n",
      "569 3166 1358\n",
      "569 3167 1389\n",
      "573 3197 1401\n",
      "573 3204 1402\n",
      "574 3221 1405\n",
      "574 3223 1406\n",
      "575 3226 1408\n",
      "575 3229 1409\n",
      "577 3235 1412\n",
      "579 3239 1414\n",
      "579 3244 1416\n",
      "581 3248 1419\n",
      "581 3289 1422\n",
      "581 3297 1422\n",
      "585 3307 1430\n",
      "586 3311 1431\n",
      "586 3313 1433\n",
      "586 3320 1444\n",
      "586 3329 1445\n",
      "586 3331 1446\n",
      "587 3332 1447\n",
      "588 3344 1454\n",
      "591 3347 1458\n",
      "594 3459 1465\n",
      "595 3467 1470\n",
      "595 3469 1472\n",
      "595 3472 1473\n",
      "596 3476 1476\n",
      "600 3480 1480\n",
      "605 3486 1486\n",
      "608 3509 1489\n",
      "611 3517 1493\n",
      "613 3521 1496\n",
      "615 3526 1500\n",
      "616 3534 1503\n",
      "623 3550 1511\n",
      "623 3553 1511\n",
      "623 3558 1512\n",
      "624 3561 1522\n",
      "624 3562 1522\n",
      "624 3574 1525\n",
      "624 3576 1528\n",
      "625 3577 1530\n",
      "626 3578 1531\n",
      "631 3597 1540\n",
      "634 3674 1552\n",
      "636 3680 1554\n",
      "636 3687 1556\n",
      "639 3697 1564\n",
      "639 3699 1564\n",
      "639 3704 1564\n",
      "639 3708 1566\n",
      "639 3714 1567\n",
      "640 3718 1569\n",
      "641 3726 1571\n",
      "641 3734 1572\n",
      "643 3738 1574\n",
      "644 3742 1576\n",
      "645 3749 1582\n",
      "648 3760 1587\n",
      "648 3766 1589\n"
     ]
    },
    {
     "name": "stderr",
     "output_type": "stream",
     "text": [
      "b'Skipping line 7: expected 10 fields, saw 11\\n'\n"
     ]
    },
    {
     "name": "stdout",
     "output_type": "stream",
     "text": [
      "649 3768 1591\n",
      "655 3803 1600\n",
      "657 3813 1603\n",
      "657 3820 1604\n",
      "684 4034 1673\n",
      "687 4037 1681\n",
      "688 4044 1684\n"
     ]
    },
    {
     "name": "stderr",
     "output_type": "stream",
     "text": [
      "b'Skipping line 14: expected 10 fields, saw 11\\nSkipping line 15: expected 10 fields, saw 11\\n'\n"
     ]
    },
    {
     "name": "stdout",
     "output_type": "stream",
     "text": [
      "697 4065 1700\n",
      "697 4079 1701\n",
      "697 4084 1702\n",
      "699 4090 1706\n",
      "700 4092 1707\n",
      "701 4113 1709\n"
     ]
    },
    {
     "name": "stderr",
     "output_type": "stream",
     "text": [
      "b'Skipping line 6: expected 10 fields, saw 11\\nSkipping line 8: expected 10 fields, saw 11\\n'\n"
     ]
    },
    {
     "name": "stdout",
     "output_type": "stream",
     "text": [
      "701 4121 1712\n",
      "702 4123 1714\n"
     ]
    },
    {
     "name": "stderr",
     "output_type": "stream",
     "text": [
      "b'Skipping line 2: expected 10 fields, saw 11\\n'\n"
     ]
    },
    {
     "name": "stdout",
     "output_type": "stream",
     "text": [
      "703 4125 1718\n",
      "703 4130 1719\n",
      "703 4132 1720\n",
      "703 4134 1721\n",
      "705 4140 1725\n",
      "710 4169 1739\n",
      "710 4170 1739\n",
      "712 4197 1745\n",
      "712 4198 1746\n",
      "712 4202 1748\n",
      "712 4208 1749\n",
      "715 4212 1753\n",
      "717 4218 1755\n",
      "719 4226 1761\n",
      "719 4228 1761\n",
      "722 4235 1766\n",
      "722 4239 1772\n",
      "722 4241 1773\n",
      "723 4242 1774\n",
      "726 4271 1782\n",
      "727 4275 1785\n",
      "729 4277 1787\n",
      "731 4280 1789\n",
      "733 4288 1792\n",
      "734 4292 1801\n",
      "734 4294 1801\n",
      "735 4296 1802\n",
      "735 4302 1803\n",
      "738 4349 1809\n",
      "742 4388 1814\n",
      "744 4394 1817\n",
      "746 4400 1821\n",
      "747 4406 1822\n",
      "751 4418 1828\n",
      "754 4422 1832\n",
      "759 4430 1837\n",
      "761 4433 1840\n",
      "761 4439 1841\n"
     ]
    },
    {
     "name": "stderr",
     "output_type": "stream",
     "text": [
      "b'Skipping line 2: expected 10 fields, saw 11\\nSkipping line 5: expected 10 fields, saw 11\\n'\n"
     ]
    },
    {
     "name": "stdout",
     "output_type": "stream",
     "text": [
      "763 4444 1848\n",
      "763 4445 1849\n",
      "763 4453 1851\n",
      "764 4459 1853\n"
     ]
    },
    {
     "name": "stderr",
     "output_type": "stream",
     "text": [
      "b'Skipping line 2: expected 10 fields, saw 11\\n'\n"
     ]
    },
    {
     "name": "stdout",
     "output_type": "stream",
     "text": [
      "764 4463 1854\n",
      "769 4506 1861\n",
      "775 4517 1870\n",
      "775 4520 1871\n",
      "777 4523 1873\n"
     ]
    },
    {
     "name": "stderr",
     "output_type": "stream",
     "text": [
      "b'Skipping line 12: expected 10 fields, saw 11\\n'\n"
     ]
    },
    {
     "name": "stdout",
     "output_type": "stream",
     "text": [
      "780 4534 1882\n",
      "785 4566 1894\n",
      "785 4568 1895\n",
      "794 4579 1905\n",
      "795 4580 1906\n",
      "801 4588 1915\n",
      "805 4593 1919\n",
      "805 4597 1921\n",
      "810 4618 1932\n",
      "811 4621 1933\n",
      "811 4623 1940\n",
      "814 4634 1946\n",
      "816 4643 1963\n",
      "817 4654 1966\n",
      "827 4714 1982\n",
      "827 4716 1983\n",
      "830 4723 1989\n",
      "831 4732 1990\n"
     ]
    },
    {
     "name": "stderr",
     "output_type": "stream",
     "text": [
      "b'Skipping line 7: expected 10 fields, saw 11\\n'\n"
     ]
    },
    {
     "name": "stdout",
     "output_type": "stream",
     "text": [
      "832 4744 1994\n",
      "834 4749 1996\n",
      "836 4755 2001\n",
      "838 4757 2003\n",
      "842 4781 2013\n",
      "844 4786 2024\n",
      "844 4793 2026\n",
      "845 4796 2028\n",
      "846 4810 2032\n",
      "848 4824 2038\n",
      "852 4870 2046\n",
      "854 4875 2048\n",
      "854 4893 2060\n",
      "855 4896 2063\n",
      "855 4900 2066\n",
      "856 4902 2071\n",
      "860 4922 2077\n",
      "862 4924 2079\n",
      "863 4932 2082\n",
      "867 4941 2087\n",
      "867 4942 2087\n",
      "868 4947 2089\n",
      "869 4949 2090\n",
      "869 4951 2091\n",
      "870 4954 2092\n",
      "873 4978 2096\n",
      "875 4985 2099\n",
      "880 4997 2106\n",
      "880 4999 2106\n",
      "886 5023 2116\n",
      "886 5028 2119\n",
      "886 5038 2122\n",
      "887 5044 2125\n",
      "887 5053 2128\n",
      "890 5057 2133\n",
      "899 5068 2142\n",
      "899 5070 2145\n",
      "899 5071 2145\n",
      "906 5088 2156\n",
      "907 5091 2157\n",
      "907 5093 2159\n",
      "908 5099 2161\n",
      "913 5119 2169\n",
      "915 5123 2173\n"
     ]
    },
    {
     "name": "stderr",
     "output_type": "stream",
     "text": [
      "b'Skipping line 2: expected 10 fields, saw 11\\n'\n"
     ]
    },
    {
     "name": "stdout",
     "output_type": "stream",
     "text": [
      "919 5127 2178\n",
      "919 5131 2179\n",
      "921 5133 2182\n",
      "923 5138 2185\n"
     ]
    },
    {
     "name": "stderr",
     "output_type": "stream",
     "text": [
      "b'Skipping line 4: expected 10 fields, saw 11\\n'\n"
     ]
    },
    {
     "name": "stdout",
     "output_type": "stream",
     "text": [
      "923 5144 2188\n",
      "924 5152 2190\n",
      "925 5153 2191\n",
      "932 5178 2205\n",
      "932 5180 2206\n",
      "933 5182 2207\n"
     ]
    },
    {
     "name": "stderr",
     "output_type": "stream",
     "text": [
      "b'Skipping line 3: expected 10 fields, saw 11\\n'\n"
     ]
    },
    {
     "name": "stdout",
     "output_type": "stream",
     "text": [
      "935 5206 2210\n",
      "936 5215 2215\n",
      "937 5241 2217\n",
      "938 5247 2219\n",
      "938 5250 2223\n",
      "941 5272 2228\n",
      "941 5276 2230\n",
      "941 5281 2233\n",
      "941 5282 2233\n",
      "942 5284 2235\n",
      "947 5297 2243\n",
      "949 5299 2245\n",
      "956 5307 2253\n",
      "957 5316 2260\n",
      "959 5320 2264\n",
      "960 5322 2268\n",
      "966 5329 2278\n",
      "966 5336 2278\n",
      "966 5337 2278\n",
      "967 5343 2280\n",
      "968 5344 2281\n",
      "972 5399 2293\n",
      "972 5411 2296\n",
      "972 5414 2297\n",
      "974 5448 2308\n",
      "979 5458 2316\n",
      "979 5465 2317\n",
      "981 5469 2320\n",
      "984 5473 2323\n",
      "984 5476 2323\n",
      "985 5481 2326\n",
      "985 5486 2327\n"
     ]
    },
    {
     "name": "stderr",
     "output_type": "stream",
     "text": [
      "b'Skipping line 5: expected 10 fields, saw 11\\n'\n"
     ]
    },
    {
     "name": "stdout",
     "output_type": "stream",
     "text": [
      "996 5518 2349\n"
     ]
    },
    {
     "name": "stderr",
     "output_type": "stream",
     "text": [
      "b'Skipping line 33: expected 10 fields, saw 11\\nSkipping line 36: expected 10 fields, saw 11\\n'\n"
     ]
    },
    {
     "name": "stdout",
     "output_type": "stream",
     "text": [
      "1002 5571 2367\n",
      "1003 5573 2370\n",
      "1003 5575 2370\n",
      "1006 5585 2386\n",
      "1006 5588 2386\n"
     ]
    },
    {
     "name": "stderr",
     "output_type": "stream",
     "text": [
      "b'Skipping line 14: expected 10 fields, saw 11\\n'\n"
     ]
    },
    {
     "name": "stdout",
     "output_type": "stream",
     "text": [
      "1008 5602 2393\n",
      "1010 5625 2399\n",
      "1013 5629 2402\n"
     ]
    },
    {
     "name": "stderr",
     "output_type": "stream",
     "text": [
      "b'Skipping line 9: expected 10 fields, saw 11\\n'\n"
     ]
    },
    {
     "name": "stdout",
     "output_type": "stream",
     "text": [
      "1015 5642 2408\n",
      "1015 5644 2416\n",
      "1016 5645 2417\n",
      "1023 5687 2429\n",
      "1023 5690 2431\n",
      "1032 5704 2445\n",
      "1033 5716 2449\n",
      "1033 5718 2455\n",
      "1034 5721 2458\n",
      "1034 5724 2458\n",
      "1035 5728 2460\n",
      "1038 5737 2464\n",
      "1038 5738 2466\n",
      "1038 5742 2467\n",
      "1038 5745 2468\n",
      "1040 5747 2470\n",
      "1040 5749 2472\n"
     ]
    },
    {
     "name": "stderr",
     "output_type": "stream",
     "text": [
      "b'Skipping line 50: expected 10 fields, saw 11\\n'\n"
     ]
    },
    {
     "name": "stdout",
     "output_type": "stream",
     "text": [
      "1043 5807 2494\n",
      "1044 5812 2496\n",
      "1044 5813 2496\n",
      "1051 5823 2504\n",
      "1056 5830 2512\n",
      "1056 5832 2513\n",
      "1056 5845 2514\n",
      "1058 5850 2518\n"
     ]
    },
    {
     "name": "stderr",
     "output_type": "stream",
     "text": [
      "b'Skipping line 3: expected 10 fields, saw 11\\n'\n"
     ]
    },
    {
     "name": "stdout",
     "output_type": "stream",
     "text": [
      "1060 5855 2522\n",
      "1065 5862 2534\n",
      "1067 5868 2539\n",
      "1069 5873 2542\n",
      "1069 5877 2543\n",
      "1082 5927 2569\n",
      "1083 5936 2571\n",
      "1084 5941 2573\n",
      "1085 5943 2574\n"
     ]
    },
    {
     "name": "stderr",
     "output_type": "stream",
     "text": [
      "b'Skipping line 63: expected 10 fields, saw 11\\n'\n"
     ]
    },
    {
     "name": "stdout",
     "output_type": "stream",
     "text": [
      "1090 6014 2592\n",
      "1090 6023 2595\n",
      "1094 6047 2607\n",
      "1095 6053 2609\n",
      "1097 6059 2611\n",
      "1100 6067 2614\n",
      "1102 6076 2616\n"
     ]
    },
    {
     "name": "stderr",
     "output_type": "stream",
     "text": [
      "b'Skipping line 53: expected 10 fields, saw 11\\nSkipping line 61: expected 10 fields, saw 11\\nSkipping line 105: expected 10 fields, saw 11\\nSkipping line 106: expected 10 fields, saw 11\\nSkipping line 108: expected 10 fields, saw 11\\n'\n"
     ]
    },
    {
     "name": "stdout",
     "output_type": "stream",
     "text": [
      "1113 6190 2658\n",
      "1115 6192 2660\n",
      "1115 6200 2662\n",
      "1119 6208 2668\n",
      "1120 6221 2671\n",
      "1120 6225 2673\n",
      "1120 6229 2674\n"
     ]
    },
    {
     "name": "stderr",
     "output_type": "stream",
     "text": [
      "b'Skipping line 8: expected 10 fields, saw 11\\n'\n"
     ]
    },
    {
     "name": "stdout",
     "output_type": "stream",
     "text": [
      "1123 6243 2684\n",
      "1123 6244 2684\n",
      "1125 6253 2688\n",
      "1125 6259 2690\n",
      "1126 6260 2691\n",
      "1127 6262 2693\n"
     ]
    },
    {
     "name": "stderr",
     "output_type": "stream",
     "text": [
      "b'Skipping line 9: expected 10 fields, saw 11\\nSkipping line 20: expected 10 fields, saw 11\\nSkipping line 22: expected 10 fields, saw 11\\n'\n"
     ]
    },
    {
     "name": "stdout",
     "output_type": "stream",
     "text": [
      "1134 6293 2718\n",
      "1135 6315 2720\n",
      "1138 6319 2723\n",
      "1140 6340 2735\n",
      "1141 6343 2737\n",
      "1141 6344 2738\n"
     ]
    },
    {
     "name": "stderr",
     "output_type": "stream",
     "text": [
      "b'Skipping line 2: expected 10 fields, saw 11\\n'\n"
     ]
    },
    {
     "name": "stdout",
     "output_type": "stream",
     "text": [
      "1142 6350 2741\n",
      "1146 6357 2746\n",
      "1148 6361 2749\n",
      "1150 6393 2753\n",
      "1151 6398 2756\n",
      "1151 6402 2761\n"
     ]
    },
    {
     "name": "stderr",
     "output_type": "stream",
     "text": [
      "b'Skipping line 30: expected 10 fields, saw 12\\nSkipping line 32: expected 10 fields, saw 11\\nSkipping line 92: expected 10 fields, saw 11\\nSkipping line 103: expected 10 fields, saw 11\\n'\n"
     ]
    },
    {
     "name": "stdout",
     "output_type": "stream",
     "text": [
      "1188 6537 2820\n",
      "1194 6548 2828\n",
      "1194 6555 2829\n",
      "1197 6561 2833\n"
     ]
    },
    {
     "name": "stderr",
     "output_type": "stream",
     "text": [
      "b'Skipping line 4: expected 10 fields, saw 11\\n'\n"
     ]
    },
    {
     "name": "stdout",
     "output_type": "stream",
     "text": [
      "1199 6565 2837\n",
      "1202 6570 2844\n",
      "1203 6577 2846\n"
     ]
    },
    {
     "name": "stderr",
     "output_type": "stream",
     "text": [
      "b'Skipping line 24: expected 10 fields, saw 11\\n'\n"
     ]
    },
    {
     "name": "stdout",
     "output_type": "stream",
     "text": [
      "1210 6639 2864\n",
      "1214 6666 2870\n"
     ]
    },
    {
     "name": "stderr",
     "output_type": "stream",
     "text": [
      "b'Skipping line 161: expected 10 fields, saw 11\\n'\n"
     ]
    },
    {
     "name": "stdout",
     "output_type": "stream",
     "text": [
      "1249 6828 2928\n",
      "1249 6831 2929\n",
      "1253 6843 2943\n",
      "1253 6849 2943\n",
      "1259 6880 2951\n",
      "1259 6883 2952\n",
      "1261 6885 2955\n",
      "1262 6890 2957\n",
      "1262 6892 2958\n",
      "1262 6895 2959\n",
      "1262 6897 2960\n",
      "1265 6900 2964\n",
      "1266 6917 2971\n",
      "1267 6921 2973\n",
      "1268 6928 2975\n",
      "1269 6929 2976\n",
      "1269 6931 2977\n",
      "1270 6933 2978\n",
      "1271 6975 2983\n",
      "1271 6978 2984\n",
      "1271 6980 2985\n",
      "1271 6983 2985\n",
      "1271 6988 2986\n",
      "1271 6991 2992\n",
      "1272 6995 2994\n"
     ]
    },
    {
     "name": "stderr",
     "output_type": "stream",
     "text": [
      "b'Skipping line 16: expected 10 fields, saw 11\\n'\n"
     ]
    },
    {
     "name": "stdout",
     "output_type": "stream",
     "text": [
      "1283 7012 3017\n",
      "1283 7013 3017\n",
      "1283 7021 3022\n"
     ]
    },
    {
     "name": "stderr",
     "output_type": "stream",
     "text": [
      "b'Skipping line 12: expected 10 fields, saw 11\\n'\n"
     ]
    },
    {
     "name": "stdout",
     "output_type": "stream",
     "text": [
      "1288 7038 3036\n",
      "1289 7050 3040\n",
      "1292 7059 3048\n",
      "1294 7068 3051\n",
      "1295 7074 3052\n",
      "1297 7080 3057\n",
      "1298 7083 3059\n"
     ]
    },
    {
     "name": "stderr",
     "output_type": "stream",
     "text": [
      "b'Skipping line 3: expected 10 fields, saw 11\\n'\n"
     ]
    },
    {
     "name": "stdout",
     "output_type": "stream",
     "text": [
      "1301 7092 3064\n",
      "1301 7095 3066\n",
      "1302 7106 3070\n",
      "1304 7115 3074\n",
      "1312 7133 3091\n",
      "1313 7142 3093\n",
      "1314 7204 3096\n",
      "1316 7206 3098\n",
      "1326 7362 3122\n",
      "1327 7367 3124\n",
      "1327 7368 3125\n",
      "1328 7370 3133\n",
      "1329 7373 3139\n",
      "1329 7384 3139\n",
      "1331 7392 3147\n",
      "1335 7400 3154\n",
      "1336 7403 3157\n",
      "1339 7406 3161\n",
      "1343 7423 3169\n",
      "1343 7424 3169\n",
      "1344 7431 3171\n",
      "1345 7437 3174\n",
      "1345 7445 3176\n",
      "1346 7446 3177\n",
      "1349 7455 3183\n",
      "1355 7494 3192\n",
      "1356 7504 3195\n",
      "1356 7513 3195\n",
      "1357 7516 3197\n",
      "1358 7531 3198\n",
      "1358 7541 3201\n",
      "1361 7544 3205\n",
      "1361 7555 3207\n",
      "1361 7557 3207\n",
      "1361 7559 3209\n",
      "1361 7564 3212\n",
      "1362 7566 3213\n",
      "1364 7569 3217\n",
      "1366 7575 3219\n",
      "1366 7581 3222\n",
      "1366 7585 3222\n",
      "1368 7595 3226\n",
      "1369 7598 3228\n",
      "1370 7601 3229\n",
      "1371 7604 3233\n",
      "1374 7611 3238\n",
      "1375 7612 3239\n",
      "1376 7626 3248\n",
      "1376 7632 3250\n",
      "1377 7636 3252\n",
      "1378 7642 3258\n",
      "1378 7643 3259\n",
      "1378 7647 3261\n",
      "1378 7658 3263\n",
      "1384 7718 3284\n",
      "1395 7732 3308\n",
      "1397 7734 3312\n",
      "1397 7744 3312\n",
      "1397 7750 3313\n",
      "1397 7751 3314\n",
      "1400 7758 3321\n"
     ]
    },
    {
     "name": "stderr",
     "output_type": "stream",
     "text": [
      "b'Skipping line 22: expected 10 fields, saw 11\\nSkipping line 25: expected 10 fields, saw 11\\n'\n"
     ]
    },
    {
     "name": "stdout",
     "output_type": "stream",
     "text": [
      "1407 7783 3344\n",
      "1409 7787 3346\n",
      "1411 7792 3349\n",
      "1413 7800 3351\n",
      "1413 7802 3355\n",
      "1417 7806 3359\n",
      "1431 7836 3377\n",
      "1435 7841 3382\n",
      "1436 7848 3385\n",
      "1436 7851 3387\n",
      "1439 7876 3395\n",
      "1442 7880 3399\n",
      "1442 7883 3408\n",
      "1443 7885 3409\n",
      "1446 7889 3412\n",
      "1446 7896 3414\n",
      "1448 7899 3416\n",
      "1448 7904 3416\n"
     ]
    },
    {
     "name": "stderr",
     "output_type": "stream",
     "text": [
      "b'Skipping line 27: expected 10 fields, saw 11\\nSkipping line 28: expected 10 fields, saw 11\\n'\n"
     ]
    },
    {
     "name": "stdout",
     "output_type": "stream",
     "text": [
      "1456 7940 3433\n",
      "1456 7944 3435\n",
      "1457 7956 3437\n",
      "1458 7975 3443\n",
      "1462 7988 3451\n",
      "1463 7990 3457\n",
      "1464 7993 3460\n",
      "1466 8022 3467\n",
      "1466 8026 3469\n",
      "1469 8038 3473\n",
      "1469 8040 3477\n",
      "1473 8045 3483\n",
      "1477 8049 3487\n",
      "1478 8084 3494\n",
      "1478 8092 3494\n",
      "1478 8099 3496\n",
      "1481 8106 3501\n",
      "1484 8110 3504\n",
      "1492 8131 3517\n",
      "1494 8134 3521\n",
      "1495 8141 3522\n",
      "1503 8188 3536\n",
      "1505 8194 3539\n",
      "1505 8195 3539\n",
      "1506 8200 3544\n",
      "1512 8212 3550\n",
      "1512 8214 3551\n",
      "1513 8230 3559\n",
      "1514 8239 3561\n",
      "1522 8251 3572\n",
      "1524 8254 3574\n",
      "1525 8255 3575\n",
      "1527 8281 3584\n",
      "1529 8285 3586\n",
      "1532 8288 3591\n",
      "1536 8294 3596\n",
      "1538 8300 3599\n",
      "1543 8306 3608\n",
      "1545 8330 3612\n",
      "1551 8348 3622\n",
      "1552 8351 3624\n",
      "1554 8356 3627\n",
      "ep11\n",
      "1 3 2\n",
      "1 5 2\n",
      "2 7 3\n",
      "4 17 8\n"
     ]
    },
    {
     "name": "stderr",
     "output_type": "stream",
     "text": [
      "b'Skipping line 17: expected 10 fields, saw 11\\nSkipping line 37: expected 10 fields, saw 11\\n'\n"
     ]
    },
    {
     "name": "stdout",
     "output_type": "stream",
     "text": [
      "5 105 32\n",
      "26 130 58\n",
      "28 135 60\n",
      "30 148 63\n",
      "30 151 64\n",
      "31 210 66\n",
      "33 212 70\n",
      "40 219 82\n",
      "41 221 83\n",
      "46 235 92\n",
      "46 236 92\n",
      "47 243 96\n",
      "50 248 100\n",
      "50 253 101\n",
      "53 267 108\n",
      "54 269 110\n",
      "55 272 112\n",
      "56 281 115\n",
      "56 285 116\n",
      "58 289 118\n",
      "59 290 120\n"
     ]
    },
    {
     "name": "stderr",
     "output_type": "stream",
     "text": [
      "b'Skipping line 3: expected 10 fields, saw 11\\nSkipping line 5: expected 10 fields, saw 11\\n'\n"
     ]
    },
    {
     "name": "stdout",
     "output_type": "stream",
     "text": [
      "59 293 123\n",
      "61 295 125\n",
      "62 351 132\n",
      "63 353 135\n",
      "63 360 138\n"
     ]
    },
    {
     "name": "stderr",
     "output_type": "stream",
     "text": [
      "b'Skipping line 4: expected 10 fields, saw 11\\n'\n"
     ]
    },
    {
     "name": "stdout",
     "output_type": "stream",
     "text": [
      "64 381 139\n",
      "75 410 156\n",
      "75 415 157\n",
      "75 420 157\n",
      "79 469 173\n",
      "80 480 178\n",
      "80 489 180\n",
      "82 493 183\n",
      "83 502 186\n",
      "83 504 186\n",
      "85 509 188\n",
      "87 518 191\n",
      "87 519 191\n",
      "88 520 192\n",
      "88 527 192\n",
      "92 533 196\n",
      "92 534 196\n",
      "93 535 197\n"
     ]
    },
    {
     "name": "stderr",
     "output_type": "stream",
     "text": [
      "b'Skipping line 4: expected 10 fields, saw 11\\n'\n"
     ]
    },
    {
     "name": "stdout",
     "output_type": "stream",
     "text": [
      "98 543 207\n",
      "98 544 209\n",
      "98 571 211\n",
      "98 574 211\n",
      "101 582 217\n",
      "101 583 218\n",
      "103 589 220\n",
      "104 595 222\n",
      "111 627 240\n",
      "113 631 243\n",
      "113 643 245\n",
      "116 647 248\n",
      "118 651 251\n",
      "119 655 253\n",
      "120 656 254\n",
      "121 694 255\n",
      "122 696 257\n",
      "123 698 262\n"
     ]
    },
    {
     "name": "stderr",
     "output_type": "stream",
     "text": [
      "b'Skipping line 8: expected 10 fields, saw 11\\nSkipping line 9: expected 10 fields, saw 11\\nSkipping line 15: expected 10 fields, saw 11\\n'\n"
     ]
    },
    {
     "name": "stdout",
     "output_type": "stream",
     "text": [
      "130 710 274\n",
      "130 711 274\n",
      "131 719 276\n",
      "131 720 276\n",
      "146 796 317\n",
      "146 799 318\n"
     ]
    },
    {
     "name": "stderr",
     "output_type": "stream",
     "text": [
      "b'Skipping line 2: expected 10 fields, saw 11\\n'\n"
     ]
    },
    {
     "name": "stdout",
     "output_type": "stream",
     "text": [
      "148 821 321\n",
      "149 824 322\n",
      "153 828 326\n"
     ]
    },
    {
     "name": "stderr",
     "output_type": "stream",
     "text": [
      "b'Skipping line 8: expected 10 fields, saw 11\\n'\n"
     ]
    },
    {
     "name": "stdout",
     "output_type": "stream",
     "text": [
      "153 841 329\n",
      "153 846 330\n",
      "155 848 332\n",
      "156 861 333\n",
      "158 867 339\n",
      "158 873 339\n",
      "158 876 341\n",
      "159 879 343\n",
      "163 883 347\n",
      "168 888 352\n",
      "168 889 353\n",
      "168 898 355\n",
      "168 907 355\n",
      "169 908 356\n",
      "173 952 379\n",
      "174 963 382\n",
      "176 965 385\n",
      "176 970 386\n",
      "176 992 408\n",
      "181 1007 414\n",
      "181 1012 415\n",
      "183 1017 418\n",
      "183 1025 421\n",
      "187 1075 436\n",
      "188 1081 438\n",
      "189 1088 441\n",
      "189 1089 441\n",
      "190 1092 442\n",
      "193 1096 461\n",
      "193 1099 461\n",
      "197 1104 468\n",
      "199 1108 471\n",
      "199 1126 474\n",
      "199 1151 475\n",
      "200 1155 476\n",
      "202 1160 479\n",
      "205 1168 483\n",
      "205 1170 484\n",
      "210 1176 489\n",
      "212 1179 492\n",
      "212 1183 493\n",
      "212 1189 494\n",
      "218 1196 502\n",
      "218 1197 507\n",
      "219 1201 509\n",
      "224 1224 518\n",
      "226 1229 521\n",
      "226 1237 526\n",
      "230 1243 531\n",
      "230 1244 532\n",
      "232 1247 534\n",
      "233 1251 536\n",
      "239 1270 546\n",
      "241 1272 548\n",
      "241 1280 549\n",
      "241 1281 550\n",
      "243 1284 552\n",
      "244 1287 554\n",
      "244 1289 555\n",
      "245 1291 556\n",
      "248 1307 561\n",
      "248 1312 562\n",
      "248 1339 563\n",
      "258 1349 573\n",
      "258 1353 573\n",
      "260 1399 578\n",
      "262 1403 580\n",
      "262 1409 580\n",
      "264 1414 593\n",
      "265 1418 595\n",
      "265 1420 595\n",
      "265 1424 597\n",
      "267 1440 603\n",
      "268 1442 606\n",
      "269 1449 608\n",
      "271 1455 612\n",
      "271 1462 612\n",
      "275 1489 619\n",
      "277 1491 621\n",
      "277 1494 622\n"
     ]
    },
    {
     "name": "stderr",
     "output_type": "stream",
     "text": [
      "b'Skipping line 4: expected 10 fields, saw 11\\n'\n"
     ]
    },
    {
     "name": "stdout",
     "output_type": "stream",
     "text": [
      "277 1497 624\n",
      "277 1502 625\n",
      "284 1515 635\n",
      "286 1524 639\n",
      "289 1529 642\n",
      "290 1530 643\n",
      "291 1531 644\n",
      "291 1534 644\n",
      "293 1537 647\n",
      "293 1540 647\n",
      "294 1542 648\n",
      "296 1547 670\n",
      "299 1557 676\n",
      "299 1559 676\n",
      "299 1564 676\n",
      "299 1570 678\n",
      "299 1574 679\n",
      "302 1595 687\n",
      "302 1597 688\n",
      "302 1609 690\n",
      "303 1612 694\n",
      "306 1652 698\n",
      "306 1659 699\n",
      "306 1661 701\n",
      "306 1669 702\n",
      "307 1670 703\n",
      "307 1695 703\n",
      "309 1700 709\n",
      "310 1703 712\n",
      "310 1712 714\n"
     ]
    },
    {
     "name": "stderr",
     "output_type": "stream",
     "text": [
      "b'Skipping line 5: expected 10 fields, saw 11\\n'\n"
     ]
    },
    {
     "name": "stdout",
     "output_type": "stream",
     "text": [
      "314 1724 721\n",
      "322 1737 729\n",
      "323 1746 733\n",
      "325 1750 737\n",
      "325 1776 737\n",
      "328 1781 740\n",
      "330 1784 743\n",
      "330 1790 744\n",
      "330 1795 745\n",
      "333 1799 748\n",
      "334 1807 751\n",
      "337 1810 754\n",
      "337 1813 754\n",
      "338 1818 755\n",
      "340 1821 762\n",
      "342 1832 766\n",
      "342 1834 766\n",
      "344 1839 776\n",
      "346 1852 782\n",
      "349 1857 785\n",
      "350 1861 789\n",
      "355 1866 797\n",
      "356 1889 802\n",
      "357 1890 803\n",
      "358 1934 804\n"
     ]
    },
    {
     "name": "stderr",
     "output_type": "stream",
     "text": [
      "b'Skipping line 31: expected 10 fields, saw 11\\nSkipping line 62: expected 10 fields, saw 11\\nSkipping line 68: expected 10 fields, saw 11\\n'\n"
     ]
    },
    {
     "name": "stdout",
     "output_type": "stream",
     "text": [
      "358 2005 808\n",
      "364 2025 817\n",
      "364 2026 819\n",
      "366 2034 829\n",
      "367 2037 832\n",
      "367 2039 836\n",
      "367 2047 844\n",
      "377 2057 854\n",
      "377 2074 856\n",
      "385 2086 872\n",
      "385 2091 874\n",
      "387 2093 876\n",
      "388 2094 878\n",
      "391 2099 881\n",
      "391 2104 882\n",
      "396 2111 887\n",
      "398 2115 889\n",
      "398 2135 893\n",
      "398 2137 894\n",
      "398 2140 897\n",
      "398 2145 897\n",
      "398 2148 898\n",
      "398 2150 901\n"
     ]
    },
    {
     "name": "stderr",
     "output_type": "stream",
     "text": [
      "b'Skipping line 10: expected 10 fields, saw 11\\nSkipping line 20: expected 10 fields, saw 12\\n'\n"
     ]
    },
    {
     "name": "stdout",
     "output_type": "stream",
     "text": [
      "410 2204 932\n",
      "410 2208 933\n",
      "412 2212 935\n",
      "413 2215 940\n"
     ]
    },
    {
     "name": "stderr",
     "output_type": "stream",
     "text": [
      "b'Skipping line 41: expected 10 fields, saw 11\\nSkipping line 42: expected 10 fields, saw 11\\n'\n"
     ]
    },
    {
     "name": "stdout",
     "output_type": "stream",
     "text": [
      "416 2256 951\n",
      "416 2262 953\n",
      "418 2264 955\n",
      "423 2269 960\n",
      "424 2270 961\n",
      "424 2276 963\n",
      "434 2332 983\n",
      "435 2337 984\n",
      "435 2340 984\n",
      "435 2341 984\n"
     ]
    },
    {
     "name": "stderr",
     "output_type": "stream",
     "text": [
      "b'Skipping line 12: expected 10 fields, saw 11\\n'\n"
     ]
    },
    {
     "name": "stdout",
     "output_type": "stream",
     "text": [
      "435 2367 988\n",
      "453 2396 1011\n",
      "454 2404 1018\n",
      "455 2408 1023\n",
      "460 2443 1031\n",
      "460 2446 1032\n",
      "462 2448 1034\n",
      "462 2453 1036\n",
      "464 2458 1040\n",
      "466 2462 1046\n",
      "469 2468 1050\n",
      "471 2490 1057\n",
      "477 2506 1070\n"
     ]
    },
    {
     "name": "stderr",
     "output_type": "stream",
     "text": [
      "b'Skipping line 28: expected 10 fields, saw 11\\n'\n"
     ]
    },
    {
     "name": "stdout",
     "output_type": "stream",
     "text": [
      "491 2582 1099\n",
      "493 2584 1111\n",
      "493 2606 1116\n",
      "493 2612 1128\n",
      "497 2626 1135\n",
      "498 2627 1136\n",
      "501 2642 1142\n"
     ]
    },
    {
     "name": "stderr",
     "output_type": "stream",
     "text": [
      "b'Skipping line 7: expected 10 fields, saw 11\\n'\n",
      "b'Skipping line 5: expected 10 fields, saw 11\\nSkipping line 9: expected 10 fields, saw 11\\n'\n"
     ]
    },
    {
     "name": "stdout",
     "output_type": "stream",
     "text": [
      "502 2649 1145\n",
      "502 2651 1145\n",
      "503 2654 1148\n",
      "503 2657 1148\n",
      "503 2665 1156\n",
      "503 2667 1158\n",
      "506 2673 1162\n",
      "506 2679 1163\n",
      "506 2683 1164\n",
      "506 2698 1167\n"
     ]
    },
    {
     "name": "stderr",
     "output_type": "stream",
     "text": [
      "b'Skipping line 2: expected 10 fields, saw 11\\n'\n"
     ]
    },
    {
     "name": "stdout",
     "output_type": "stream",
     "text": [
      "507 2706 1173\n",
      "511 2712 1178\n",
      "511 2713 1179\n",
      "514 2723 1184\n",
      "517 2727 1189\n",
      "517 2730 1190\n",
      "519 2734 1192\n",
      "519 2737 1194\n",
      "520 2743 1197\n",
      "520 2749 1197\n",
      "520 2750 1197\n",
      "521 2753 1206\n",
      "521 2757 1208\n",
      "524 2763 1212\n",
      "526 2769 1215\n",
      "526 2772 1216\n",
      "528 2774 1218\n",
      "529 2808 1228\n",
      "530 2810 1229\n",
      "532 2821 1234\n",
      "533 2828 1235\n",
      "533 2847 1244\n",
      "533 2852 1246\n",
      "533 2855 1247\n",
      "533 2859 1251\n",
      "534 2863 1264\n",
      "534 2865 1268\n",
      "534 2869 1268\n",
      "537 2875 1271\n",
      "538 2878 1273\n",
      "538 2879 1285\n",
      "539 2882 1288\n",
      "539 2887 1288\n",
      "542 2904 1295\n",
      "547 2911 1309\n",
      "547 3070 1309\n",
      "548 3075 1311\n",
      "554 3081 1323\n"
     ]
    },
    {
     "name": "stderr",
     "output_type": "stream",
     "text": [
      "b'Skipping line 10: expected 10 fields, saw 11\\nSkipping line 11: expected 10 fields, saw 11\\nSkipping line 29: expected 10 fields, saw 11\\n'\n"
     ]
    },
    {
     "name": "stdout",
     "output_type": "stream",
     "text": [
      "560 3118 1335\n",
      "561 3121 1336\n",
      "562 3137 1338\n",
      "564 3139 1340\n",
      "564 3140 1340\n",
      "564 3143 1341\n",
      "564 3145 1341\n",
      "564 3149 1344\n",
      "565 3153 1347\n",
      "565 3156 1347\n",
      "567 3159 1349\n"
     ]
    },
    {
     "name": "stderr",
     "output_type": "stream",
     "text": [
      "b'Skipping line 2: expected 10 fields, saw 11\\n'\n"
     ]
    },
    {
     "name": "stdout",
     "output_type": "stream",
     "text": [
      "569 3162 1353\n",
      "572 3166 1357\n",
      "572 3167 1384\n",
      "576 3197 1395\n",
      "576 3204 1396\n",
      "577 3221 1399\n",
      "577 3223 1400\n",
      "578 3226 1402\n",
      "578 3229 1403\n",
      "580 3235 1406\n",
      "582 3239 1408\n",
      "582 3244 1411\n",
      "584 3248 1414\n",
      "584 3289 1416\n",
      "584 3297 1416\n",
      "588 3307 1421\n",
      "589 3311 1422\n",
      "589 3313 1424\n",
      "589 3320 1437\n",
      "589 3329 1438\n",
      "589 3331 1439\n",
      "590 3332 1440\n",
      "591 3344 1447\n",
      "594 3347 1451\n",
      "597 3459 1458\n",
      "598 3467 1464\n",
      "598 3469 1464\n",
      "598 3472 1465\n",
      "599 3476 1469\n",
      "603 3480 1473\n",
      "608 3486 1478\n",
      "611 3509 1481\n",
      "614 3517 1485\n",
      "616 3521 1488\n",
      "618 3526 1492\n",
      "619 3534 1495\n",
      "626 3550 1503\n",
      "626 3553 1503\n",
      "626 3558 1504\n",
      "627 3561 1512\n",
      "627 3562 1512\n",
      "627 3574 1515\n",
      "628 3576 1518\n",
      "629 3577 1519\n",
      "630 3578 1520\n",
      "635 3597 1529\n",
      "637 3674 1541\n",
      "638 3680 1543\n",
      "638 3687 1545\n",
      "641 3697 1552\n",
      "641 3699 1553\n",
      "641 3704 1553\n",
      "641 3708 1555\n",
      "641 3714 1556\n",
      "642 3718 1558\n",
      "643 3726 1560\n",
      "643 3734 1561\n",
      "645 3738 1563\n",
      "646 3742 1565\n",
      "648 3749 1570\n",
      "651 3760 1575\n",
      "651 3766 1577\n",
      "652 3768 1579\n"
     ]
    },
    {
     "name": "stderr",
     "output_type": "stream",
     "text": [
      "b'Skipping line 7: expected 10 fields, saw 11\\n'\n"
     ]
    },
    {
     "name": "stdout",
     "output_type": "stream",
     "text": [
      "656 3803 1587\n",
      "658 3813 1590\n",
      "658 3820 1591\n",
      "686 4034 1659\n",
      "689 4037 1667\n",
      "690 4044 1670\n"
     ]
    },
    {
     "name": "stderr",
     "output_type": "stream",
     "text": [
      "b'Skipping line 14: expected 10 fields, saw 11\\nSkipping line 15: expected 10 fields, saw 11\\n'\n"
     ]
    },
    {
     "name": "stdout",
     "output_type": "stream",
     "text": [
      "699 4065 1686\n",
      "699 4079 1687\n",
      "699 4084 1688\n",
      "701 4090 1692\n",
      "702 4092 1693\n",
      "703 4113 1695\n"
     ]
    },
    {
     "name": "stderr",
     "output_type": "stream",
     "text": [
      "b'Skipping line 6: expected 10 fields, saw 11\\nSkipping line 8: expected 10 fields, saw 11\\n'\n"
     ]
    },
    {
     "name": "stdout",
     "output_type": "stream",
     "text": [
      "703 4121 1698\n",
      "704 4123 1700\n"
     ]
    },
    {
     "name": "stderr",
     "output_type": "stream",
     "text": [
      "b'Skipping line 2: expected 10 fields, saw 11\\n'\n"
     ]
    },
    {
     "name": "stdout",
     "output_type": "stream",
     "text": [
      "705 4125 1704\n",
      "705 4130 1705\n",
      "705 4132 1706\n",
      "705 4134 1707\n",
      "707 4140 1711\n",
      "712 4169 1725\n",
      "712 4170 1725\n",
      "714 4197 1732\n",
      "714 4198 1732\n",
      "714 4202 1735\n",
      "714 4208 1736\n",
      "717 4212 1740\n",
      "719 4218 1742\n",
      "721 4226 1748\n",
      "721 4228 1748\n",
      "723 4235 1752\n",
      "723 4239 1758\n",
      "723 4241 1759\n",
      "724 4242 1760\n",
      "727 4271 1769\n",
      "727 4275 1771\n",
      "728 4277 1774\n",
      "730 4280 1776\n",
      "732 4288 1779\n",
      "734 4292 1787\n",
      "734 4294 1787\n",
      "735 4296 1788\n",
      "736 4302 1789\n",
      "738 4349 1795\n",
      "742 4388 1800\n",
      "744 4394 1803\n",
      "746 4400 1808\n",
      "747 4406 1809\n",
      "751 4418 1815\n",
      "754 4422 1820\n",
      "759 4430 1825\n",
      "762 4433 1828\n",
      "762 4439 1829\n"
     ]
    },
    {
     "name": "stderr",
     "output_type": "stream",
     "text": [
      "b'Skipping line 2: expected 10 fields, saw 11\\nSkipping line 5: expected 10 fields, saw 11\\n'\n"
     ]
    },
    {
     "name": "stdout",
     "output_type": "stream",
     "text": [
      "765 4444 1836\n",
      "766 4445 1837\n",
      "766 4453 1839\n",
      "766 4459 1840\n"
     ]
    },
    {
     "name": "stderr",
     "output_type": "stream",
     "text": [
      "b'Skipping line 2: expected 10 fields, saw 11\\n'\n"
     ]
    },
    {
     "name": "stdout",
     "output_type": "stream",
     "text": [
      "766 4463 1841\n",
      "772 4506 1847\n",
      "778 4517 1856\n",
      "778 4520 1857\n",
      "780 4523 1859\n"
     ]
    },
    {
     "name": "stderr",
     "output_type": "stream",
     "text": [
      "b'Skipping line 12: expected 10 fields, saw 11\\n'\n"
     ]
    },
    {
     "name": "stdout",
     "output_type": "stream",
     "text": [
      "783 4534 1868\n",
      "788 4566 1879\n",
      "788 4568 1880\n",
      "798 4579 1890\n",
      "799 4580 1891\n",
      "805 4588 1900\n",
      "809 4593 1904\n",
      "809 4597 1906\n",
      "814 4618 1917\n",
      "814 4621 1920\n",
      "814 4623 1929\n",
      "817 4634 1935\n",
      "819 4643 1952\n",
      "820 4654 1955\n",
      "829 4714 1971\n",
      "829 4716 1972\n",
      "833 4723 1977\n",
      "834 4732 1978\n"
     ]
    },
    {
     "name": "stderr",
     "output_type": "stream",
     "text": [
      "b'Skipping line 7: expected 10 fields, saw 11\\n'\n"
     ]
    },
    {
     "name": "stdout",
     "output_type": "stream",
     "text": [
      "835 4744 1983\n",
      "837 4749 1985\n",
      "839 4755 1990\n",
      "841 4757 1992\n",
      "845 4781 2002\n",
      "847 4786 2010\n",
      "847 4793 2012\n",
      "849 4796 2014\n",
      "849 4810 2019\n",
      "851 4824 2025\n",
      "855 4870 2033\n",
      "857 4875 2035\n",
      "857 4893 2045\n",
      "858 4896 2048\n",
      "858 4900 2049\n",
      "859 4902 2054\n",
      "863 4922 2060\n",
      "865 4924 2062\n",
      "866 4932 2065\n",
      "870 4941 2070\n",
      "870 4942 2070\n",
      "871 4947 2072\n",
      "872 4949 2073\n",
      "872 4951 2074\n",
      "873 4954 2075\n",
      "876 4978 2078\n",
      "878 4985 2081\n",
      "883 4997 2088\n",
      "883 4999 2088\n",
      "888 5023 2098\n",
      "888 5028 2101\n",
      "888 5038 2102\n",
      "889 5044 2105\n",
      "889 5053 2108\n",
      "892 5057 2113\n",
      "901 5068 2122\n",
      "901 5070 2125\n",
      "901 5071 2125\n",
      "908 5088 2136\n",
      "909 5091 2137\n",
      "909 5093 2138\n",
      "910 5099 2140\n",
      "915 5119 2148\n",
      "917 5123 2151\n"
     ]
    },
    {
     "name": "stderr",
     "output_type": "stream",
     "text": [
      "b'Skipping line 2: expected 10 fields, saw 11\\n'\n"
     ]
    },
    {
     "name": "stdout",
     "output_type": "stream",
     "text": [
      "921 5127 2156\n",
      "921 5131 2157\n",
      "923 5133 2159\n",
      "925 5138 2162\n"
     ]
    },
    {
     "name": "stderr",
     "output_type": "stream",
     "text": [
      "b'Skipping line 4: expected 10 fields, saw 11\\n'\n"
     ]
    },
    {
     "name": "stdout",
     "output_type": "stream",
     "text": [
      "925 5144 2165\n",
      "926 5152 2167\n",
      "927 5153 2168\n",
      "934 5178 2182\n",
      "934 5180 2184\n",
      "935 5182 2185\n"
     ]
    },
    {
     "name": "stderr",
     "output_type": "stream",
     "text": [
      "b'Skipping line 3: expected 10 fields, saw 11\\n'\n"
     ]
    },
    {
     "name": "stdout",
     "output_type": "stream",
     "text": [
      "936 5206 2187\n",
      "937 5215 2192\n",
      "938 5241 2194\n",
      "939 5247 2196\n",
      "939 5250 2200\n",
      "942 5272 2205\n",
      "942 5276 2207\n",
      "942 5281 2210\n",
      "942 5282 2210\n",
      "943 5284 2212\n",
      "948 5297 2220\n",
      "950 5299 2222\n",
      "957 5307 2230\n",
      "958 5316 2237\n",
      "960 5320 2241\n",
      "960 5322 2244\n",
      "966 5329 2253\n",
      "966 5336 2253\n",
      "966 5337 2253\n",
      "967 5343 2255\n",
      "968 5344 2256\n",
      "972 5399 2269\n",
      "972 5411 2279\n",
      "972 5414 2280\n",
      "974 5448 2291\n",
      "979 5458 2299\n",
      "979 5465 2300\n",
      "981 5469 2303\n",
      "984 5473 2307\n",
      "984 5476 2307\n",
      "985 5481 2310\n",
      "985 5486 2311\n"
     ]
    },
    {
     "name": "stderr",
     "output_type": "stream",
     "text": [
      "b'Skipping line 5: expected 10 fields, saw 11\\n'\n"
     ]
    },
    {
     "name": "stdout",
     "output_type": "stream",
     "text": [
      "996 5518 2334\n"
     ]
    },
    {
     "name": "stderr",
     "output_type": "stream",
     "text": [
      "b'Skipping line 33: expected 10 fields, saw 11\\nSkipping line 36: expected 10 fields, saw 11\\n'\n"
     ]
    },
    {
     "name": "stdout",
     "output_type": "stream",
     "text": [
      "1003 5571 2351\n",
      "1004 5573 2353\n",
      "1004 5575 2353\n",
      "1007 5585 2370\n",
      "1007 5588 2370\n"
     ]
    },
    {
     "name": "stderr",
     "output_type": "stream",
     "text": [
      "b'Skipping line 14: expected 10 fields, saw 11\\n'\n"
     ]
    },
    {
     "name": "stdout",
     "output_type": "stream",
     "text": [
      "1009 5602 2376\n",
      "1012 5625 2382\n",
      "1015 5629 2385\n"
     ]
    },
    {
     "name": "stderr",
     "output_type": "stream",
     "text": [
      "b'Skipping line 9: expected 10 fields, saw 11\\n'\n"
     ]
    },
    {
     "name": "stdout",
     "output_type": "stream",
     "text": [
      "1017 5642 2389\n",
      "1017 5644 2395\n",
      "1017 5645 2396\n",
      "1024 5687 2408\n",
      "1024 5690 2409\n",
      "1032 5704 2423\n",
      "1033 5716 2429\n",
      "1033 5718 2435\n",
      "1034 5721 2438\n",
      "1034 5724 2438\n",
      "1035 5728 2440\n",
      "1038 5737 2444\n",
      "1038 5738 2446\n",
      "1038 5742 2447\n",
      "1038 5745 2449\n",
      "1040 5747 2451\n",
      "1041 5749 2453\n"
     ]
    },
    {
     "name": "stderr",
     "output_type": "stream",
     "text": [
      "b'Skipping line 50: expected 10 fields, saw 11\\n'\n"
     ]
    },
    {
     "name": "stdout",
     "output_type": "stream",
     "text": [
      "1045 5807 2475\n",
      "1046 5812 2477\n",
      "1046 5813 2477\n",
      "1053 5823 2484\n",
      "1058 5830 2492\n",
      "1058 5832 2493\n",
      "1058 5845 2494\n",
      "1060 5850 2498\n"
     ]
    },
    {
     "name": "stderr",
     "output_type": "stream",
     "text": [
      "b'Skipping line 3: expected 10 fields, saw 11\\n'\n"
     ]
    },
    {
     "name": "stdout",
     "output_type": "stream",
     "text": [
      "1062 5855 2503\n",
      "1067 5862 2517\n",
      "1068 5868 2522\n",
      "1070 5873 2525\n",
      "1070 5877 2526\n",
      "1084 5927 2552\n",
      "1085 5936 2554\n",
      "1086 5941 2560\n",
      "1086 5943 2562\n"
     ]
    },
    {
     "name": "stderr",
     "output_type": "stream",
     "text": [
      "b'Skipping line 63: expected 10 fields, saw 11\\n'\n"
     ]
    },
    {
     "name": "stdout",
     "output_type": "stream",
     "text": [
      "1091 6014 2581\n",
      "1091 6023 2583\n",
      "1095 6047 2596\n",
      "1096 6053 2598\n",
      "1098 6059 2600\n",
      "1101 6067 2603\n",
      "1103 6076 2606\n"
     ]
    },
    {
     "name": "stderr",
     "output_type": "stream",
     "text": [
      "b'Skipping line 53: expected 10 fields, saw 11\\nSkipping line 61: expected 10 fields, saw 11\\nSkipping line 105: expected 10 fields, saw 11\\nSkipping line 106: expected 10 fields, saw 11\\nSkipping line 108: expected 10 fields, saw 11\\n'\n"
     ]
    },
    {
     "name": "stdout",
     "output_type": "stream",
     "text": [
      "1114 6190 2650\n",
      "1116 6192 2652\n",
      "1116 6200 2654\n",
      "1120 6208 2663\n",
      "1121 6221 2666\n",
      "1121 6225 2668\n",
      "1121 6229 2669\n"
     ]
    },
    {
     "name": "stderr",
     "output_type": "stream",
     "text": [
      "b'Skipping line 8: expected 10 fields, saw 11\\n'\n"
     ]
    },
    {
     "name": "stdout",
     "output_type": "stream",
     "text": [
      "1125 6243 2679\n",
      "1125 6244 2679\n",
      "1127 6253 2683\n",
      "1127 6259 2685\n",
      "1128 6260 2686\n",
      "1129 6262 2688\n"
     ]
    },
    {
     "name": "stderr",
     "output_type": "stream",
     "text": [
      "b'Skipping line 9: expected 10 fields, saw 11\\nSkipping line 20: expected 10 fields, saw 11\\nSkipping line 22: expected 10 fields, saw 11\\n'\n"
     ]
    },
    {
     "name": "stdout",
     "output_type": "stream",
     "text": [
      "1136 6293 2713\n",
      "1137 6315 2715\n",
      "1140 6319 2718\n",
      "1142 6340 2729\n",
      "1143 6343 2731\n",
      "1143 6344 2732\n"
     ]
    },
    {
     "name": "stderr",
     "output_type": "stream",
     "text": [
      "b'Skipping line 2: expected 10 fields, saw 11\\n'\n"
     ]
    },
    {
     "name": "stdout",
     "output_type": "stream",
     "text": [
      "1144 6350 2736\n",
      "1148 6357 2740\n",
      "1150 6361 2743\n",
      "1152 6393 2747\n",
      "1153 6398 2750\n",
      "1154 6402 2755\n"
     ]
    },
    {
     "name": "stderr",
     "output_type": "stream",
     "text": [
      "b'Skipping line 30: expected 10 fields, saw 12\\nSkipping line 32: expected 10 fields, saw 11\\nSkipping line 92: expected 10 fields, saw 11\\nSkipping line 103: expected 10 fields, saw 11\\n'\n"
     ]
    },
    {
     "name": "stdout",
     "output_type": "stream",
     "text": [
      "1188 6537 2810\n",
      "1194 6548 2818\n",
      "1194 6555 2819\n",
      "1197 6561 2823\n"
     ]
    },
    {
     "name": "stderr",
     "output_type": "stream",
     "text": [
      "b'Skipping line 4: expected 10 fields, saw 11\\n'\n"
     ]
    },
    {
     "name": "stdout",
     "output_type": "stream",
     "text": [
      "1198 6565 2828\n",
      "1200 6570 2832\n",
      "1201 6577 2834\n"
     ]
    },
    {
     "name": "stderr",
     "output_type": "stream",
     "text": [
      "b'Skipping line 24: expected 10 fields, saw 11\\n'\n"
     ]
    },
    {
     "name": "stdout",
     "output_type": "stream",
     "text": [
      "1208 6639 2853\n",
      "1210 6666 2859\n"
     ]
    },
    {
     "name": "stderr",
     "output_type": "stream",
     "text": [
      "b'Skipping line 161: expected 10 fields, saw 11\\n'\n"
     ]
    },
    {
     "name": "stdout",
     "output_type": "stream",
     "text": [
      "1241 6828 2918\n",
      "1241 6831 2919\n",
      "1245 6843 2940\n",
      "1245 6849 2940\n",
      "1252 6880 2948\n",
      "1252 6883 2949\n",
      "1254 6885 2951\n",
      "1255 6890 2953\n",
      "1255 6892 2955\n",
      "1255 6895 2956\n",
      "1255 6897 2957\n",
      "1258 6900 2961\n",
      "1258 6917 2967\n",
      "1259 6921 2970\n",
      "1261 6928 2973\n",
      "1262 6929 2974\n",
      "1262 6931 2975\n",
      "1263 6933 2976\n",
      "1264 6975 2981\n",
      "1264 6978 2982\n",
      "1264 6980 2983\n",
      "1264 6983 2983\n",
      "1264 6988 2985\n",
      "1264 6991 2991\n",
      "1265 6995 2993\n"
     ]
    },
    {
     "name": "stderr",
     "output_type": "stream",
     "text": [
      "b'Skipping line 16: expected 10 fields, saw 11\\n'\n"
     ]
    },
    {
     "name": "stdout",
     "output_type": "stream",
     "text": [
      "1275 7012 3018\n",
      "1275 7013 3018\n",
      "1275 7021 3023\n"
     ]
    },
    {
     "name": "stderr",
     "output_type": "stream",
     "text": [
      "b'Skipping line 12: expected 10 fields, saw 11\\n'\n"
     ]
    },
    {
     "name": "stdout",
     "output_type": "stream",
     "text": [
      "1280 7038 3037\n",
      "1280 7050 3041\n",
      "1283 7059 3049\n",
      "1285 7068 3052\n",
      "1286 7074 3053\n",
      "1288 7080 3057\n",
      "1290 7083 3060\n"
     ]
    },
    {
     "name": "stderr",
     "output_type": "stream",
     "text": [
      "b'Skipping line 3: expected 10 fields, saw 11\\n'\n"
     ]
    },
    {
     "name": "stdout",
     "output_type": "stream",
     "text": [
      "1293 7092 3065\n",
      "1293 7095 3067\n",
      "1294 7106 3071\n",
      "1296 7115 3075\n",
      "1302 7133 3098\n",
      "1303 7142 3100\n",
      "1304 7204 3102\n",
      "1306 7206 3104\n",
      "1316 7362 3128\n",
      "1317 7367 3130\n",
      "1317 7368 3131\n",
      "1319 7370 3137\n",
      "1320 7373 3144\n",
      "1320 7384 3144\n",
      "1322 7392 3151\n",
      "1326 7400 3157\n",
      "1327 7403 3160\n",
      "1330 7406 3163\n",
      "1334 7423 3171\n",
      "1334 7424 3171\n",
      "1334 7431 3172\n",
      "1337 7437 3176\n",
      "1337 7445 3178\n",
      "1338 7446 3179\n",
      "1341 7455 3185\n",
      "1347 7494 3194\n",
      "1348 7504 3197\n",
      "1348 7513 3197\n",
      "1349 7516 3199\n",
      "1350 7531 3200\n",
      "1350 7541 3203\n",
      "1353 7544 3206\n",
      "1353 7555 3208\n",
      "1353 7557 3208\n",
      "1354 7559 3210\n",
      "1354 7564 3213\n",
      "1355 7566 3214\n",
      "1357 7569 3217\n",
      "1359 7575 3219\n",
      "1359 7581 3222\n",
      "1359 7585 3222\n",
      "1361 7595 3225\n",
      "1362 7598 3227\n",
      "1363 7601 3228\n",
      "1364 7604 3231\n",
      "1367 7611 3235\n",
      "1368 7612 3236\n",
      "1369 7626 3249\n",
      "1369 7632 3251\n",
      "1370 7636 3253\n",
      "1371 7642 3259\n",
      "1371 7643 3260\n",
      "1371 7647 3262\n",
      "1371 7658 3264\n",
      "1378 7718 3286\n",
      "1389 7732 3309\n",
      "1391 7734 3313\n",
      "1391 7744 3314\n",
      "1392 7750 3316\n",
      "1392 7751 3317\n",
      "1395 7758 3324\n"
     ]
    },
    {
     "name": "stderr",
     "output_type": "stream",
     "text": [
      "b'Skipping line 22: expected 10 fields, saw 11\\nSkipping line 25: expected 10 fields, saw 11\\n'\n"
     ]
    },
    {
     "name": "stdout",
     "output_type": "stream",
     "text": [
      "1402 7783 3345\n",
      "1404 7787 3347\n",
      "1406 7792 3350\n",
      "1408 7800 3352\n",
      "1408 7802 3356\n",
      "1410 7806 3359\n",
      "1423 7836 3377\n",
      "1427 7841 3382\n",
      "1428 7848 3385\n",
      "1428 7851 3387\n",
      "1430 7876 3395\n",
      "1433 7880 3399\n",
      "1433 7883 3407\n",
      "1434 7885 3408\n",
      "1437 7889 3411\n",
      "1437 7896 3413\n",
      "1439 7899 3415\n",
      "1439 7904 3415\n"
     ]
    },
    {
     "name": "stderr",
     "output_type": "stream",
     "text": [
      "b'Skipping line 27: expected 10 fields, saw 11\\nSkipping line 28: expected 10 fields, saw 11\\n'\n"
     ]
    },
    {
     "name": "stdout",
     "output_type": "stream",
     "text": [
      "1447 7940 3433\n",
      "1447 7944 3437\n",
      "1448 7956 3439\n",
      "1449 7975 3445\n",
      "1453 7988 3454\n",
      "1454 7990 3460\n",
      "1455 7993 3464\n",
      "1457 8022 3471\n",
      "1457 8026 3472\n",
      "1458 8038 3474\n",
      "1458 8040 3479\n",
      "1462 8045 3485\n",
      "1466 8049 3489\n",
      "1467 8084 3496\n",
      "1467 8092 3497\n",
      "1467 8099 3499\n",
      "1470 8106 3503\n",
      "1473 8110 3506\n",
      "1481 8131 3517\n",
      "1483 8134 3521\n",
      "1484 8141 3522\n",
      "1492 8188 3535\n",
      "1494 8194 3538\n",
      "1494 8195 3538\n",
      "1495 8200 3543\n",
      "1501 8212 3549\n",
      "1501 8214 3550\n",
      "1502 8230 3557\n",
      "1503 8239 3559\n",
      "1511 8251 3570\n",
      "1513 8254 3575\n",
      "1514 8255 3576\n",
      "1516 8281 3584\n",
      "1518 8285 3586\n",
      "1521 8288 3591\n",
      "1526 8294 3597\n",
      "1529 8300 3600\n",
      "1534 8306 3608\n",
      "1536 8330 3612\n",
      "1540 8348 3620\n",
      "1541 8351 3622\n",
      "1542 8356 3625\n",
      "ep12\n",
      "1 3 2\n",
      "1 5 2\n",
      "2 7 3\n",
      "4 17 8\n"
     ]
    },
    {
     "name": "stderr",
     "output_type": "stream",
     "text": [
      "b'Skipping line 17: expected 10 fields, saw 11\\nSkipping line 37: expected 10 fields, saw 11\\n'\n"
     ]
    },
    {
     "name": "stdout",
     "output_type": "stream",
     "text": [
      "5 105 33\n",
      "26 130 59\n",
      "28 135 61\n",
      "30 148 64\n",
      "30 151 65\n",
      "31 210 67\n",
      "33 212 70\n",
      "40 219 81\n",
      "41 221 83\n",
      "46 235 92\n",
      "46 236 92\n",
      "47 243 96\n",
      "51 248 100\n",
      "51 253 100\n",
      "54 267 107\n",
      "55 269 109\n",
      "56 272 111\n",
      "57 281 114\n",
      "58 285 115\n",
      "60 289 117\n",
      "61 290 119\n"
     ]
    },
    {
     "name": "stderr",
     "output_type": "stream",
     "text": [
      "b'Skipping line 3: expected 10 fields, saw 11\\nSkipping line 5: expected 10 fields, saw 11\\n'\n"
     ]
    },
    {
     "name": "stdout",
     "output_type": "stream",
     "text": [
      "61 293 122\n",
      "63 295 124\n",
      "64 351 131\n",
      "65 353 134\n",
      "65 360 137\n"
     ]
    },
    {
     "name": "stderr",
     "output_type": "stream",
     "text": [
      "b'Skipping line 4: expected 10 fields, saw 11\\n'\n"
     ]
    },
    {
     "name": "stdout",
     "output_type": "stream",
     "text": [
      "66 381 138\n",
      "77 410 155\n",
      "77 415 157\n",
      "77 420 157\n",
      "81 469 172\n",
      "82 480 178\n",
      "82 489 180\n",
      "84 493 183\n",
      "85 502 186\n",
      "85 504 186\n",
      "87 509 188\n",
      "89 518 191\n",
      "89 519 191\n",
      "90 520 192\n",
      "90 527 192\n",
      "92 533 195\n",
      "92 534 195\n",
      "93 535 196\n"
     ]
    },
    {
     "name": "stderr",
     "output_type": "stream",
     "text": [
      "b'Skipping line 4: expected 10 fields, saw 11\\n'\n"
     ]
    },
    {
     "name": "stdout",
     "output_type": "stream",
     "text": [
      "98 543 206\n",
      "98 544 207\n",
      "98 571 209\n",
      "98 574 209\n",
      "102 582 214\n",
      "102 583 215\n",
      "104 589 217\n",
      "105 595 219\n",
      "116 627 237\n",
      "118 631 240\n",
      "119 643 244\n",
      "122 647 247\n",
      "124 651 250\n",
      "125 655 252\n",
      "126 656 253\n",
      "127 694 254\n",
      "128 696 256\n",
      "129 698 263\n"
     ]
    },
    {
     "name": "stderr",
     "output_type": "stream",
     "text": [
      "b'Skipping line 8: expected 10 fields, saw 11\\nSkipping line 9: expected 10 fields, saw 11\\nSkipping line 15: expected 10 fields, saw 11\\n'\n"
     ]
    },
    {
     "name": "stdout",
     "output_type": "stream",
     "text": [
      "136 710 275\n",
      "136 711 275\n",
      "137 719 277\n",
      "137 720 277\n",
      "153 796 318\n",
      "153 799 320\n"
     ]
    },
    {
     "name": "stderr",
     "output_type": "stream",
     "text": [
      "b'Skipping line 2: expected 10 fields, saw 11\\n'\n"
     ]
    },
    {
     "name": "stdout",
     "output_type": "stream",
     "text": [
      "156 821 324\n",
      "157 824 326\n",
      "161 828 330\n"
     ]
    },
    {
     "name": "stderr",
     "output_type": "stream",
     "text": [
      "b'Skipping line 8: expected 10 fields, saw 11\\n'\n"
     ]
    },
    {
     "name": "stdout",
     "output_type": "stream",
     "text": [
      "161 841 334\n",
      "161 846 335\n",
      "163 848 337\n",
      "164 861 338\n",
      "166 867 343\n",
      "166 873 343\n",
      "166 876 345\n",
      "167 879 347\n",
      "171 883 351\n",
      "176 888 356\n",
      "176 889 357\n",
      "176 898 359\n",
      "176 907 359\n",
      "177 908 360\n",
      "181 952 383\n",
      "182 963 386\n",
      "184 965 389\n",
      "184 970 390\n",
      "184 992 413\n",
      "189 1007 419\n",
      "189 1012 420\n",
      "191 1017 423\n",
      "191 1025 428\n",
      "195 1075 443\n",
      "196 1081 445\n",
      "197 1088 448\n",
      "197 1089 448\n",
      "198 1092 449\n",
      "201 1096 466\n",
      "201 1099 466\n",
      "205 1104 472\n",
      "207 1108 475\n",
      "207 1126 478\n",
      "207 1151 479\n",
      "208 1155 480\n",
      "210 1160 483\n",
      "213 1168 487\n",
      "213 1170 488\n",
      "218 1176 493\n",
      "220 1179 497\n",
      "220 1183 498\n",
      "220 1189 499\n",
      "226 1196 507\n",
      "226 1197 510\n",
      "227 1201 512\n",
      "232 1224 521\n",
      "234 1229 524\n",
      "234 1237 527\n",
      "238 1243 532\n",
      "238 1244 533\n",
      "240 1247 535\n",
      "241 1251 536\n",
      "247 1270 546\n",
      "249 1272 548\n",
      "249 1280 549\n",
      "249 1281 550\n",
      "251 1284 552\n",
      "252 1287 554\n",
      "252 1289 555\n",
      "253 1291 556\n",
      "256 1307 561\n",
      "256 1312 562\n",
      "256 1339 563\n",
      "266 1349 573\n",
      "266 1353 573\n",
      "267 1399 578\n",
      "269 1403 580\n",
      "269 1409 580\n",
      "271 1414 594\n",
      "272 1418 596\n",
      "272 1420 596\n",
      "274 1424 598\n",
      "276 1440 602\n",
      "277 1442 606\n",
      "278 1449 608\n",
      "280 1455 612\n",
      "280 1462 612\n",
      "284 1489 619\n",
      "286 1491 621\n",
      "286 1494 622\n"
     ]
    },
    {
     "name": "stderr",
     "output_type": "stream",
     "text": [
      "b'Skipping line 4: expected 10 fields, saw 11\\n'\n"
     ]
    },
    {
     "name": "stdout",
     "output_type": "stream",
     "text": [
      "286 1497 623\n",
      "286 1502 624\n",
      "293 1515 635\n",
      "295 1524 639\n",
      "298 1529 642\n",
      "299 1530 643\n",
      "300 1531 644\n",
      "300 1534 644\n",
      "302 1537 647\n",
      "302 1540 647\n",
      "303 1542 648\n",
      "306 1547 671\n",
      "309 1557 676\n",
      "309 1559 676\n",
      "309 1564 677\n",
      "309 1570 679\n",
      "309 1574 680\n",
      "312 1595 688\n",
      "312 1597 689\n",
      "312 1609 691\n",
      "313 1612 695\n",
      "316 1652 699\n",
      "316 1659 700\n",
      "316 1661 702\n",
      "316 1669 703\n",
      "317 1670 704\n",
      "317 1695 704\n",
      "320 1700 709\n",
      "321 1703 712\n",
      "321 1712 714\n"
     ]
    },
    {
     "name": "stderr",
     "output_type": "stream",
     "text": [
      "b'Skipping line 5: expected 10 fields, saw 11\\n'\n"
     ]
    },
    {
     "name": "stdout",
     "output_type": "stream",
     "text": [
      "324 1724 720\n",
      "332 1737 728\n",
      "333 1746 732\n",
      "335 1750 736\n",
      "335 1776 736\n",
      "337 1781 739\n",
      "339 1784 742\n",
      "339 1790 743\n",
      "339 1795 744\n",
      "342 1799 747\n",
      "343 1807 750\n",
      "346 1810 753\n",
      "346 1813 753\n",
      "347 1818 754\n",
      "349 1821 760\n",
      "352 1832 764\n",
      "352 1834 764\n",
      "354 1839 775\n",
      "356 1852 781\n",
      "359 1857 784\n",
      "360 1861 788\n",
      "365 1866 796\n",
      "367 1889 802\n",
      "368 1890 803\n",
      "369 1934 804\n"
     ]
    },
    {
     "name": "stderr",
     "output_type": "stream",
     "text": [
      "b'Skipping line 31: expected 10 fields, saw 11\\nSkipping line 62: expected 10 fields, saw 11\\nSkipping line 68: expected 10 fields, saw 11\\n'\n"
     ]
    },
    {
     "name": "stdout",
     "output_type": "stream",
     "text": [
      "369 2005 808\n",
      "374 2025 817\n",
      "374 2026 819\n",
      "376 2034 829\n",
      "377 2037 831\n",
      "377 2039 834\n",
      "377 2047 841\n",
      "386 2057 850\n",
      "386 2074 852\n",
      "394 2086 868\n",
      "394 2091 870\n",
      "396 2093 872\n",
      "397 2094 874\n",
      "400 2099 877\n",
      "400 2104 878\n",
      "405 2111 883\n",
      "407 2115 885\n",
      "407 2135 890\n",
      "407 2137 891\n",
      "407 2140 894\n",
      "407 2145 894\n",
      "407 2148 895\n",
      "407 2150 897\n"
     ]
    },
    {
     "name": "stderr",
     "output_type": "stream",
     "text": [
      "b'Skipping line 10: expected 10 fields, saw 11\\nSkipping line 20: expected 10 fields, saw 12\\n'\n"
     ]
    },
    {
     "name": "stdout",
     "output_type": "stream",
     "text": [
      "422 2204 927\n",
      "422 2208 928\n",
      "424 2212 930\n",
      "425 2215 935\n"
     ]
    },
    {
     "name": "stderr",
     "output_type": "stream",
     "text": [
      "b'Skipping line 41: expected 10 fields, saw 11\\nSkipping line 42: expected 10 fields, saw 11\\n'\n"
     ]
    },
    {
     "name": "stdout",
     "output_type": "stream",
     "text": [
      "429 2256 947\n",
      "429 2262 949\n",
      "431 2264 951\n",
      "436 2269 956\n",
      "437 2270 957\n",
      "437 2276 959\n",
      "446 2332 978\n",
      "447 2337 979\n",
      "447 2340 979\n",
      "447 2341 979\n"
     ]
    },
    {
     "name": "stderr",
     "output_type": "stream",
     "text": [
      "b'Skipping line 12: expected 10 fields, saw 11\\n'\n"
     ]
    },
    {
     "name": "stdout",
     "output_type": "stream",
     "text": [
      "447 2367 983\n",
      "466 2396 1007\n",
      "467 2404 1013\n",
      "468 2408 1019\n",
      "474 2443 1027\n",
      "474 2446 1029\n",
      "476 2448 1031\n",
      "476 2453 1033\n",
      "479 2458 1037\n",
      "481 2462 1045\n",
      "484 2468 1048\n",
      "486 2490 1054\n",
      "492 2506 1067\n"
     ]
    },
    {
     "name": "stderr",
     "output_type": "stream",
     "text": [
      "b'Skipping line 28: expected 10 fields, saw 11\\n'\n"
     ]
    },
    {
     "name": "stdout",
     "output_type": "stream",
     "text": [
      "505 2582 1095\n",
      "507 2584 1105\n",
      "507 2606 1110\n",
      "507 2612 1123\n",
      "511 2626 1130\n",
      "512 2627 1131\n",
      "515 2642 1137\n"
     ]
    },
    {
     "name": "stderr",
     "output_type": "stream",
     "text": [
      "b'Skipping line 7: expected 10 fields, saw 11\\n'\n",
      "b'Skipping line 5: expected 10 fields, saw 11\\nSkipping line 9: expected 10 fields, saw 11\\n'\n"
     ]
    },
    {
     "name": "stdout",
     "output_type": "stream",
     "text": [
      "516 2649 1140\n",
      "516 2651 1140\n",
      "517 2654 1142\n",
      "517 2657 1142\n",
      "517 2665 1152\n",
      "517 2667 1154\n",
      "519 2673 1157\n",
      "519 2679 1158\n",
      "519 2683 1159\n",
      "519 2698 1162\n"
     ]
    },
    {
     "name": "stderr",
     "output_type": "stream",
     "text": [
      "b'Skipping line 2: expected 10 fields, saw 11\\n'\n"
     ]
    },
    {
     "name": "stdout",
     "output_type": "stream",
     "text": [
      "520 2706 1168\n",
      "524 2712 1173\n",
      "524 2713 1174\n",
      "527 2723 1179\n",
      "530 2727 1184\n",
      "530 2730 1185\n",
      "532 2734 1187\n",
      "532 2737 1187\n",
      "533 2743 1190\n",
      "533 2749 1190\n",
      "533 2750 1190\n",
      "534 2753 1198\n",
      "534 2757 1200\n",
      "537 2763 1204\n",
      "539 2769 1208\n",
      "539 2772 1209\n",
      "541 2774 1211\n",
      "542 2808 1221\n",
      "543 2810 1222\n",
      "545 2821 1226\n",
      "546 2828 1227\n",
      "546 2847 1234\n",
      "546 2852 1235\n",
      "546 2855 1236\n",
      "546 2859 1241\n",
      "548 2863 1255\n",
      "548 2865 1259\n",
      "548 2869 1259\n",
      "551 2875 1262\n",
      "552 2878 1264\n",
      "552 2879 1277\n",
      "553 2882 1280\n",
      "553 2887 1280\n",
      "557 2904 1287\n",
      "562 2911 1301\n",
      "562 3070 1301\n",
      "563 3075 1303\n",
      "569 3081 1315\n"
     ]
    },
    {
     "name": "stderr",
     "output_type": "stream",
     "text": [
      "b'Skipping line 10: expected 10 fields, saw 11\\nSkipping line 11: expected 10 fields, saw 11\\nSkipping line 29: expected 10 fields, saw 11\\n'\n"
     ]
    },
    {
     "name": "stdout",
     "output_type": "stream",
     "text": [
      "574 3118 1327\n",
      "575 3121 1328\n",
      "576 3137 1330\n",
      "578 3139 1332\n",
      "578 3140 1332\n",
      "578 3143 1333\n",
      "578 3145 1334\n",
      "578 3149 1335\n",
      "579 3153 1338\n",
      "579 3156 1338\n",
      "581 3159 1340\n"
     ]
    },
    {
     "name": "stderr",
     "output_type": "stream",
     "text": [
      "b'Skipping line 2: expected 10 fields, saw 11\\n'\n"
     ]
    },
    {
     "name": "stdout",
     "output_type": "stream",
     "text": [
      "583 3162 1344\n",
      "586 3166 1348\n",
      "586 3167 1376\n",
      "590 3197 1389\n",
      "590 3204 1390\n",
      "591 3221 1394\n",
      "591 3223 1395\n",
      "592 3226 1397\n",
      "592 3229 1398\n",
      "594 3235 1402\n",
      "596 3239 1404\n",
      "596 3244 1405\n",
      "598 3248 1408\n",
      "598 3289 1410\n",
      "598 3297 1410\n",
      "602 3307 1415\n",
      "603 3311 1416\n",
      "603 3313 1418\n",
      "603 3320 1430\n",
      "603 3329 1431\n",
      "603 3331 1432\n",
      "604 3332 1433\n",
      "606 3344 1441\n",
      "609 3347 1445\n",
      "612 3459 1452\n",
      "614 3467 1456\n",
      "614 3469 1456\n",
      "614 3472 1457\n",
      "615 3476 1461\n",
      "619 3480 1465\n",
      "624 3486 1470\n",
      "627 3509 1473\n",
      "630 3517 1477\n",
      "632 3521 1480\n",
      "634 3526 1484\n",
      "635 3534 1487\n",
      "642 3550 1496\n",
      "642 3553 1496\n",
      "642 3558 1497\n",
      "643 3561 1506\n",
      "643 3562 1506\n",
      "643 3574 1509\n",
      "644 3576 1512\n",
      "645 3577 1513\n",
      "646 3578 1514\n",
      "651 3597 1523\n",
      "653 3674 1535\n",
      "655 3680 1537\n",
      "655 3687 1539\n",
      "658 3697 1545\n",
      "658 3699 1547\n",
      "658 3704 1547\n",
      "658 3708 1549\n",
      "658 3714 1550\n",
      "659 3718 1552\n",
      "660 3726 1554\n",
      "660 3734 1555\n",
      "662 3738 1557\n",
      "663 3742 1559\n",
      "665 3749 1564\n",
      "668 3760 1569\n",
      "668 3766 1571\n",
      "669 3768 1573\n"
     ]
    },
    {
     "name": "stderr",
     "output_type": "stream",
     "text": [
      "b'Skipping line 7: expected 10 fields, saw 11\\n'\n"
     ]
    },
    {
     "name": "stdout",
     "output_type": "stream",
     "text": [
      "675 3803 1582\n",
      "677 3813 1585\n",
      "677 3820 1586\n",
      "704 4034 1651\n",
      "707 4037 1659\n",
      "708 4044 1662\n"
     ]
    },
    {
     "name": "stderr",
     "output_type": "stream",
     "text": [
      "b'Skipping line 14: expected 10 fields, saw 11\\nSkipping line 15: expected 10 fields, saw 11\\n'\n"
     ]
    },
    {
     "name": "stdout",
     "output_type": "stream",
     "text": [
      "717 4065 1679\n",
      "717 4079 1680\n",
      "717 4084 1681\n",
      "719 4090 1686\n",
      "720 4092 1687\n",
      "721 4113 1689\n"
     ]
    },
    {
     "name": "stderr",
     "output_type": "stream",
     "text": [
      "b'Skipping line 6: expected 10 fields, saw 11\\nSkipping line 8: expected 10 fields, saw 11\\n'\n"
     ]
    },
    {
     "name": "stdout",
     "output_type": "stream",
     "text": [
      "721 4121 1692\n",
      "722 4123 1694\n"
     ]
    },
    {
     "name": "stderr",
     "output_type": "stream",
     "text": [
      "b'Skipping line 2: expected 10 fields, saw 11\\n'\n"
     ]
    },
    {
     "name": "stdout",
     "output_type": "stream",
     "text": [
      "723 4125 1698\n",
      "723 4130 1699\n",
      "723 4132 1699\n",
      "723 4134 1700\n",
      "725 4140 1704\n",
      "730 4169 1718\n",
      "730 4170 1718\n",
      "732 4197 1725\n",
      "732 4198 1725\n",
      "732 4202 1729\n",
      "732 4208 1730\n",
      "735 4212 1734\n",
      "737 4218 1736\n",
      "739 4226 1741\n",
      "739 4228 1741\n",
      "741 4235 1744\n",
      "741 4239 1750\n",
      "741 4241 1751\n",
      "742 4242 1752\n",
      "745 4271 1761\n",
      "745 4275 1763\n",
      "746 4277 1765\n",
      "748 4280 1767\n",
      "750 4288 1770\n",
      "752 4292 1777\n",
      "752 4294 1777\n",
      "753 4296 1778\n",
      "754 4302 1779\n",
      "756 4349 1785\n",
      "760 4388 1790\n",
      "762 4394 1793\n",
      "764 4400 1797\n",
      "765 4406 1798\n",
      "769 4418 1804\n",
      "772 4422 1809\n",
      "777 4430 1814\n",
      "780 4433 1817\n",
      "780 4439 1818\n"
     ]
    },
    {
     "name": "stderr",
     "output_type": "stream",
     "text": [
      "b'Skipping line 2: expected 10 fields, saw 11\\nSkipping line 5: expected 10 fields, saw 11\\n'\n"
     ]
    },
    {
     "name": "stdout",
     "output_type": "stream",
     "text": [
      "783 4444 1826\n",
      "783 4445 1827\n",
      "783 4453 1829\n",
      "783 4459 1830\n"
     ]
    },
    {
     "name": "stderr",
     "output_type": "stream",
     "text": [
      "b'Skipping line 2: expected 10 fields, saw 11\\n'\n"
     ]
    },
    {
     "name": "stdout",
     "output_type": "stream",
     "text": [
      "784 4463 1831\n",
      "790 4506 1837\n",
      "796 4517 1846\n",
      "796 4520 1847\n",
      "798 4523 1849\n"
     ]
    },
    {
     "name": "stderr",
     "output_type": "stream",
     "text": [
      "b'Skipping line 12: expected 10 fields, saw 11\\n'\n"
     ]
    },
    {
     "name": "stdout",
     "output_type": "stream",
     "text": [
      "801 4534 1859\n",
      "806 4566 1869\n",
      "806 4568 1870\n",
      "816 4579 1880\n",
      "817 4580 1881\n",
      "823 4588 1890\n",
      "827 4593 1894\n",
      "827 4597 1896\n",
      "832 4618 1907\n",
      "832 4621 1909\n",
      "832 4623 1917\n",
      "835 4634 1923\n",
      "837 4643 1940\n",
      "838 4654 1943\n",
      "846 4714 1958\n",
      "846 4716 1959\n",
      "850 4723 1964\n",
      "851 4732 1965\n"
     ]
    },
    {
     "name": "stderr",
     "output_type": "stream",
     "text": [
      "b'Skipping line 7: expected 10 fields, saw 11\\n'\n"
     ]
    },
    {
     "name": "stdout",
     "output_type": "stream",
     "text": [
      "853 4744 1970\n",
      "855 4749 1972\n",
      "857 4755 1977\n",
      "859 4757 1979\n",
      "863 4781 1989\n",
      "866 4786 1999\n",
      "866 4793 2001\n",
      "868 4796 2003\n",
      "869 4810 2008\n",
      "871 4824 2014\n",
      "875 4870 2021\n",
      "877 4875 2023\n",
      "877 4893 2032\n",
      "877 4896 2036\n",
      "877 4900 2038\n",
      "878 4902 2043\n",
      "882 4922 2049\n",
      "884 4924 2051\n",
      "885 4932 2054\n",
      "890 4941 2059\n",
      "890 4942 2059\n",
      "890 4947 2060\n",
      "891 4949 2061\n",
      "891 4951 2062\n",
      "893 4954 2064\n",
      "896 4978 2067\n",
      "898 4985 2070\n",
      "902 4997 2076\n",
      "902 4999 2076\n",
      "906 5023 2084\n",
      "906 5028 2087\n",
      "906 5038 2088\n",
      "907 5044 2091\n",
      "907 5053 2094\n",
      "910 5057 2099\n",
      "919 5068 2108\n",
      "919 5070 2112\n",
      "919 5071 2112\n",
      "925 5088 2122\n",
      "926 5091 2123\n",
      "927 5093 2125\n",
      "928 5099 2127\n",
      "932 5119 2134\n",
      "933 5123 2137\n"
     ]
    },
    {
     "name": "stderr",
     "output_type": "stream",
     "text": [
      "b'Skipping line 2: expected 10 fields, saw 11\\n'\n"
     ]
    },
    {
     "name": "stdout",
     "output_type": "stream",
     "text": [
      "937 5127 2142\n",
      "937 5131 2143\n",
      "939 5133 2145\n",
      "941 5138 2148\n"
     ]
    },
    {
     "name": "stderr",
     "output_type": "stream",
     "text": [
      "b'Skipping line 4: expected 10 fields, saw 11\\n'\n"
     ]
    },
    {
     "name": "stdout",
     "output_type": "stream",
     "text": [
      "941 5144 2151\n",
      "942 5152 2153\n",
      "943 5153 2154\n",
      "950 5178 2167\n",
      "950 5180 2168\n",
      "951 5182 2169\n"
     ]
    },
    {
     "name": "stderr",
     "output_type": "stream",
     "text": [
      "b'Skipping line 3: expected 10 fields, saw 11\\n'\n"
     ]
    },
    {
     "name": "stdout",
     "output_type": "stream",
     "text": [
      "952 5206 2172\n",
      "953 5215 2177\n",
      "954 5241 2179\n",
      "955 5247 2181\n",
      "956 5250 2183\n",
      "959 5272 2188\n",
      "959 5276 2190\n",
      "959 5281 2193\n",
      "959 5282 2193\n",
      "960 5284 2195\n",
      "965 5297 2203\n",
      "967 5299 2205\n",
      "974 5307 2213\n",
      "975 5316 2220\n",
      "977 5320 2224\n",
      "977 5322 2226\n",
      "983 5329 2235\n",
      "983 5336 2235\n",
      "983 5337 2235\n",
      "984 5343 2237\n",
      "985 5344 2238\n",
      "989 5399 2249\n",
      "989 5411 2257\n",
      "989 5414 2258\n",
      "992 5448 2269\n",
      "997 5458 2277\n",
      "997 5465 2278\n",
      "999 5469 2281\n",
      "1002 5473 2284\n",
      "1002 5476 2285\n",
      "1004 5481 2288\n",
      "1004 5486 2289\n"
     ]
    },
    {
     "name": "stderr",
     "output_type": "stream",
     "text": [
      "b'Skipping line 5: expected 10 fields, saw 11\\n'\n"
     ]
    },
    {
     "name": "stdout",
     "output_type": "stream",
     "text": [
      "1015 5518 2313\n"
     ]
    },
    {
     "name": "stderr",
     "output_type": "stream",
     "text": [
      "b'Skipping line 33: expected 10 fields, saw 11\\nSkipping line 36: expected 10 fields, saw 11\\n'\n"
     ]
    },
    {
     "name": "stdout",
     "output_type": "stream",
     "text": [
      "1021 5571 2329\n",
      "1022 5573 2332\n",
      "1022 5575 2332\n",
      "1025 5585 2349\n",
      "1025 5588 2349\n"
     ]
    },
    {
     "name": "stderr",
     "output_type": "stream",
     "text": [
      "b'Skipping line 14: expected 10 fields, saw 11\\n'\n"
     ]
    },
    {
     "name": "stdout",
     "output_type": "stream",
     "text": [
      "1027 5602 2355\n",
      "1030 5625 2361\n",
      "1033 5629 2364\n"
     ]
    },
    {
     "name": "stderr",
     "output_type": "stream",
     "text": [
      "b'Skipping line 9: expected 10 fields, saw 11\\n'\n"
     ]
    },
    {
     "name": "stdout",
     "output_type": "stream",
     "text": [
      "1035 5642 2368\n",
      "1035 5644 2373\n",
      "1036 5645 2374\n",
      "1043 5687 2385\n",
      "1043 5690 2386\n",
      "1051 5704 2400\n",
      "1052 5716 2405\n",
      "1052 5718 2411\n",
      "1053 5721 2414\n",
      "1053 5724 2414\n",
      "1055 5728 2416\n",
      "1058 5737 2420\n",
      "1059 5738 2421\n",
      "1059 5742 2422\n",
      "1059 5745 2424\n",
      "1061 5747 2426\n",
      "1062 5749 2428\n"
     ]
    },
    {
     "name": "stderr",
     "output_type": "stream",
     "text": [
      "b'Skipping line 50: expected 10 fields, saw 11\\n'\n"
     ]
    },
    {
     "name": "stdout",
     "output_type": "stream",
     "text": [
      "1066 5807 2450\n",
      "1067 5812 2452\n",
      "1067 5813 2452\n",
      "1074 5823 2460\n",
      "1079 5830 2468\n",
      "1079 5832 2469\n",
      "1079 5845 2470\n",
      "1081 5850 2475\n"
     ]
    },
    {
     "name": "stderr",
     "output_type": "stream",
     "text": [
      "b'Skipping line 3: expected 10 fields, saw 11\\n'\n"
     ]
    },
    {
     "name": "stdout",
     "output_type": "stream",
     "text": [
      "1083 5855 2479\n",
      "1088 5862 2495\n",
      "1089 5868 2499\n",
      "1091 5873 2502\n",
      "1091 5877 2503\n",
      "1104 5927 2531\n",
      "1105 5936 2533\n",
      "1106 5941 2540\n",
      "1107 5943 2542\n"
     ]
    },
    {
     "name": "stderr",
     "output_type": "stream",
     "text": [
      "b'Skipping line 63: expected 10 fields, saw 11\\n'\n"
     ]
    },
    {
     "name": "stdout",
     "output_type": "stream",
     "text": [
      "1112 6014 2560\n",
      "1112 6023 2562\n",
      "1116 6047 2571\n",
      "1117 6053 2573\n",
      "1118 6059 2575\n",
      "1121 6067 2578\n",
      "1123 6076 2580\n"
     ]
    },
    {
     "name": "stderr",
     "output_type": "stream",
     "text": [
      "b'Skipping line 53: expected 10 fields, saw 11\\nSkipping line 61: expected 10 fields, saw 11\\nSkipping line 105: expected 10 fields, saw 11\\nSkipping line 106: expected 10 fields, saw 11\\nSkipping line 108: expected 10 fields, saw 11\\n'\n"
     ]
    },
    {
     "name": "stdout",
     "output_type": "stream",
     "text": [
      "1134 6190 2619\n",
      "1136 6192 2621\n",
      "1136 6200 2623\n",
      "1140 6208 2632\n",
      "1141 6221 2635\n",
      "1141 6225 2637\n",
      "1141 6229 2638\n"
     ]
    },
    {
     "name": "stderr",
     "output_type": "stream",
     "text": [
      "b'Skipping line 8: expected 10 fields, saw 11\\n'\n"
     ]
    },
    {
     "name": "stdout",
     "output_type": "stream",
     "text": [
      "1145 6243 2647\n",
      "1145 6244 2647\n",
      "1147 6253 2651\n",
      "1147 6259 2653\n",
      "1148 6260 2654\n",
      "1149 6262 2656\n"
     ]
    },
    {
     "name": "stderr",
     "output_type": "stream",
     "text": [
      "b'Skipping line 9: expected 10 fields, saw 11\\nSkipping line 20: expected 10 fields, saw 11\\nSkipping line 22: expected 10 fields, saw 11\\n'\n"
     ]
    },
    {
     "name": "stdout",
     "output_type": "stream",
     "text": [
      "1157 6293 2683\n",
      "1158 6315 2685\n",
      "1161 6319 2688\n",
      "1164 6340 2700\n",
      "1165 6343 2702\n",
      "1165 6344 2704\n"
     ]
    },
    {
     "name": "stderr",
     "output_type": "stream",
     "text": [
      "b'Skipping line 2: expected 10 fields, saw 11\\n'\n"
     ]
    },
    {
     "name": "stdout",
     "output_type": "stream",
     "text": [
      "1165 6350 2706\n",
      "1169 6357 2711\n",
      "1171 6361 2714\n",
      "1173 6393 2718\n",
      "1174 6398 2721\n",
      "1175 6402 2726\n"
     ]
    },
    {
     "name": "stderr",
     "output_type": "stream",
     "text": [
      "b'Skipping line 30: expected 10 fields, saw 12\\nSkipping line 32: expected 10 fields, saw 11\\nSkipping line 92: expected 10 fields, saw 11\\nSkipping line 103: expected 10 fields, saw 11\\n'\n"
     ]
    },
    {
     "name": "stdout",
     "output_type": "stream",
     "text": [
      "1209 6537 2778\n",
      "1215 6548 2786\n",
      "1215 6555 2787\n",
      "1218 6561 2792\n"
     ]
    },
    {
     "name": "stderr",
     "output_type": "stream",
     "text": [
      "b'Skipping line 4: expected 10 fields, saw 11\\n'\n"
     ]
    },
    {
     "name": "stdout",
     "output_type": "stream",
     "text": [
      "1219 6565 2797\n",
      "1221 6570 2801\n",
      "1222 6577 2803\n"
     ]
    },
    {
     "name": "stderr",
     "output_type": "stream",
     "text": [
      "b'Skipping line 24: expected 10 fields, saw 11\\n'\n"
     ]
    },
    {
     "name": "stdout",
     "output_type": "stream",
     "text": [
      "1229 6639 2821\n",
      "1231 6666 2827\n"
     ]
    },
    {
     "name": "stderr",
     "output_type": "stream",
     "text": [
      "b'Skipping line 161: expected 10 fields, saw 11\\n'\n"
     ]
    },
    {
     "name": "stdout",
     "output_type": "stream",
     "text": [
      "1264 6828 2887\n",
      "1264 6831 2888\n",
      "1268 6843 2902\n",
      "1268 6849 2902\n",
      "1275 6880 2910\n",
      "1275 6883 2911\n",
      "1277 6885 2913\n",
      "1278 6890 2915\n",
      "1278 6892 2917\n",
      "1278 6895 2918\n",
      "1278 6897 2919\n",
      "1281 6900 2923\n",
      "1281 6917 2928\n",
      "1282 6921 2930\n",
      "1283 6928 2932\n",
      "1284 6929 2933\n",
      "1284 6931 2934\n",
      "1285 6933 2935\n",
      "1286 6975 2940\n",
      "1286 6978 2941\n",
      "1286 6980 2942\n",
      "1286 6983 2942\n",
      "1286 6988 2943\n",
      "1286 6991 2948\n",
      "1287 6995 2950\n"
     ]
    },
    {
     "name": "stderr",
     "output_type": "stream",
     "text": [
      "b'Skipping line 16: expected 10 fields, saw 11\\n'\n"
     ]
    },
    {
     "name": "stdout",
     "output_type": "stream",
     "text": [
      "1297 7012 2973\n",
      "1297 7013 2973\n",
      "1297 7021 2979\n"
     ]
    },
    {
     "name": "stderr",
     "output_type": "stream",
     "text": [
      "b'Skipping line 12: expected 10 fields, saw 11\\n'\n"
     ]
    },
    {
     "name": "stdout",
     "output_type": "stream",
     "text": [
      "1302 7038 2994\n",
      "1303 7050 2998\n",
      "1306 7059 3006\n",
      "1308 7068 3009\n",
      "1309 7074 3010\n",
      "1311 7080 3014\n",
      "1312 7083 3016\n"
     ]
    },
    {
     "name": "stderr",
     "output_type": "stream",
     "text": [
      "b'Skipping line 3: expected 10 fields, saw 11\\n'\n"
     ]
    },
    {
     "name": "stdout",
     "output_type": "stream",
     "text": [
      "1315 7092 3021\n",
      "1315 7095 3023\n",
      "1316 7106 3027\n",
      "1318 7115 3031\n",
      "1324 7133 3053\n",
      "1325 7142 3055\n",
      "1326 7204 3057\n",
      "1328 7206 3059\n",
      "1338 7362 3083\n",
      "1339 7367 3085\n",
      "1339 7368 3086\n",
      "1341 7370 3092\n",
      "1342 7373 3100\n",
      "1342 7384 3100\n",
      "1344 7392 3107\n",
      "1348 7400 3113\n",
      "1349 7403 3116\n",
      "1352 7406 3120\n",
      "1356 7423 3128\n",
      "1356 7424 3128\n",
      "1356 7431 3129\n",
      "1359 7437 3133\n",
      "1359 7445 3135\n",
      "1360 7446 3136\n",
      "1363 7455 3142\n",
      "1369 7494 3151\n",
      "1370 7504 3154\n",
      "1370 7513 3154\n",
      "1371 7516 3156\n",
      "1372 7531 3157\n",
      "1372 7541 3160\n",
      "1375 7544 3163\n",
      "1375 7555 3165\n",
      "1375 7557 3165\n",
      "1377 7559 3167\n",
      "1377 7564 3170\n",
      "1378 7566 3171\n",
      "1380 7569 3174\n",
      "1382 7575 3176\n",
      "1382 7581 3179\n",
      "1382 7585 3179\n",
      "1384 7595 3182\n",
      "1386 7598 3184\n",
      "1387 7601 3185\n",
      "1388 7604 3188\n",
      "1391 7611 3192\n",
      "1392 7612 3193\n",
      "1393 7626 3203\n",
      "1393 7632 3205\n",
      "1394 7636 3207\n",
      "1395 7642 3215\n",
      "1395 7643 3216\n",
      "1395 7647 3218\n",
      "1395 7658 3220\n",
      "1401 7718 3241\n",
      "1412 7732 3264\n",
      "1414 7734 3268\n",
      "1414 7744 3268\n",
      "1414 7750 3269\n",
      "1414 7751 3270\n",
      "1417 7758 3278\n"
     ]
    },
    {
     "name": "stderr",
     "output_type": "stream",
     "text": [
      "b'Skipping line 22: expected 10 fields, saw 11\\nSkipping line 25: expected 10 fields, saw 11\\n'\n"
     ]
    },
    {
     "name": "stdout",
     "output_type": "stream",
     "text": [
      "1425 7783 3299\n",
      "1427 7787 3301\n",
      "1429 7792 3304\n",
      "1431 7800 3306\n",
      "1431 7802 3310\n",
      "1433 7806 3313\n",
      "1445 7836 3331\n",
      "1449 7841 3336\n",
      "1450 7848 3339\n",
      "1450 7851 3341\n",
      "1451 7876 3349\n",
      "1454 7880 3353\n",
      "1454 7883 3361\n",
      "1455 7885 3362\n",
      "1458 7889 3365\n",
      "1458 7896 3367\n",
      "1460 7899 3369\n",
      "1460 7904 3369\n"
     ]
    },
    {
     "name": "stderr",
     "output_type": "stream",
     "text": [
      "b'Skipping line 27: expected 10 fields, saw 11\\nSkipping line 28: expected 10 fields, saw 11\\n'\n"
     ]
    },
    {
     "name": "stdout",
     "output_type": "stream",
     "text": [
      "1468 7940 3387\n",
      "1468 7944 3390\n",
      "1469 7956 3392\n",
      "1470 7975 3398\n",
      "1473 7988 3405\n",
      "1474 7990 3412\n",
      "1475 7993 3415\n",
      "1475 8022 3422\n",
      "1475 8026 3424\n",
      "1476 8038 3426\n",
      "1476 8040 3431\n",
      "1480 8045 3436\n",
      "1484 8049 3440\n",
      "1485 8084 3447\n",
      "1485 8092 3447\n",
      "1485 8099 3449\n",
      "1488 8106 3453\n",
      "1491 8110 3456\n",
      "1499 8131 3468\n",
      "1501 8134 3472\n",
      "1502 8141 3473\n",
      "1510 8188 3486\n",
      "1512 8194 3489\n",
      "1512 8195 3489\n",
      "1513 8200 3493\n",
      "1519 8212 3499\n",
      "1519 8214 3500\n",
      "1520 8230 3505\n",
      "1521 8239 3507\n",
      "1529 8251 3518\n",
      "1531 8254 3522\n",
      "1532 8255 3523\n",
      "1534 8281 3531\n",
      "1535 8285 3533\n",
      "1538 8288 3538\n",
      "1542 8294 3543\n",
      "1545 8300 3546\n",
      "1549 8306 3553\n",
      "1551 8330 3557\n",
      "1557 8348 3567\n",
      "1558 8351 3569\n",
      "1559 8356 3571\n",
      "ep13\n",
      "1 3 2\n",
      "1 5 2\n",
      "2 7 3\n",
      "4 17 8\n"
     ]
    },
    {
     "name": "stderr",
     "output_type": "stream",
     "text": [
      "b'Skipping line 17: expected 10 fields, saw 11\\nSkipping line 37: expected 10 fields, saw 11\\n'\n"
     ]
    },
    {
     "name": "stdout",
     "output_type": "stream",
     "text": [
      "4 105 37\n",
      "25 130 64\n",
      "27 135 66\n",
      "29 148 69\n",
      "29 151 70\n",
      "30 210 73\n",
      "32 212 76\n",
      "39 219 86\n",
      "40 221 87\n",
      "45 235 95\n",
      "45 236 95\n",
      "46 243 99\n",
      "50 248 103\n",
      "50 253 104\n",
      "55 267 112\n",
      "57 269 114\n",
      "58 272 116\n",
      "59 281 119\n",
      "60 285 120\n",
      "62 289 122\n",
      "63 290 124\n"
     ]
    },
    {
     "name": "stderr",
     "output_type": "stream",
     "text": [
      "b'Skipping line 3: expected 10 fields, saw 11\\nSkipping line 5: expected 10 fields, saw 11\\n'\n"
     ]
    },
    {
     "name": "stdout",
     "output_type": "stream",
     "text": [
      "63 293 126\n",
      "65 295 128\n",
      "67 351 136\n",
      "68 353 139\n",
      "69 360 143\n"
     ]
    },
    {
     "name": "stderr",
     "output_type": "stream",
     "text": [
      "b'Skipping line 4: expected 10 fields, saw 11\\n'\n"
     ]
    },
    {
     "name": "stdout",
     "output_type": "stream",
     "text": [
      "70 381 144\n",
      "81 410 161\n",
      "81 415 163\n",
      "81 420 163\n",
      "84 469 178\n",
      "85 480 184\n",
      "85 489 186\n",
      "86 493 189\n",
      "87 502 192\n",
      "87 504 192\n",
      "89 509 194\n",
      "91 518 197\n",
      "91 519 197\n",
      "92 520 198\n",
      "92 527 198\n",
      "96 533 202\n",
      "96 534 202\n",
      "97 535 203\n"
     ]
    },
    {
     "name": "stderr",
     "output_type": "stream",
     "text": [
      "b'Skipping line 4: expected 10 fields, saw 11\\n'\n"
     ]
    },
    {
     "name": "stdout",
     "output_type": "stream",
     "text": [
      "102 543 213\n",
      "102 544 214\n",
      "102 571 217\n",
      "102 574 217\n",
      "105 582 225\n",
      "105 583 226\n",
      "107 589 228\n",
      "108 595 230\n",
      "116 627 250\n",
      "118 631 253\n",
      "118 643 255\n",
      "121 647 258\n",
      "123 651 262\n",
      "124 655 264\n",
      "125 656 265\n",
      "126 694 266\n",
      "127 696 268\n",
      "128 698 273\n"
     ]
    },
    {
     "name": "stderr",
     "output_type": "stream",
     "text": [
      "b'Skipping line 8: expected 10 fields, saw 11\\nSkipping line 9: expected 10 fields, saw 11\\nSkipping line 15: expected 10 fields, saw 11\\n'\n"
     ]
    },
    {
     "name": "stdout",
     "output_type": "stream",
     "text": [
      "135 710 285\n",
      "135 711 285\n",
      "135 719 288\n",
      "135 720 288\n",
      "150 796 330\n",
      "150 799 332\n"
     ]
    },
    {
     "name": "stderr",
     "output_type": "stream",
     "text": [
      "b'Skipping line 2: expected 10 fields, saw 11\\n'\n"
     ]
    },
    {
     "name": "stdout",
     "output_type": "stream",
     "text": [
      "153 821 337\n",
      "154 824 338\n",
      "158 828 342\n"
     ]
    },
    {
     "name": "stderr",
     "output_type": "stream",
     "text": [
      "b'Skipping line 8: expected 10 fields, saw 11\\n'\n"
     ]
    },
    {
     "name": "stdout",
     "output_type": "stream",
     "text": [
      "158 841 345\n",
      "158 846 346\n",
      "160 848 348\n",
      "161 861 349\n",
      "163 867 354\n",
      "163 873 354\n",
      "163 876 356\n",
      "164 879 359\n",
      "168 883 363\n",
      "173 888 368\n",
      "173 889 369\n",
      "173 898 371\n",
      "173 907 371\n",
      "174 908 372\n",
      "179 952 394\n",
      "179 963 396\n",
      "181 965 399\n",
      "181 970 400\n",
      "181 992 424\n",
      "186 1007 431\n",
      "186 1012 432\n",
      "188 1017 436\n",
      "188 1025 438\n",
      "192 1075 453\n",
      "193 1081 455\n",
      "194 1088 458\n",
      "194 1089 458\n",
      "195 1092 459\n",
      "198 1096 476\n",
      "198 1099 476\n",
      "202 1104 481\n",
      "204 1108 484\n",
      "204 1126 487\n",
      "204 1151 489\n",
      "205 1155 490\n",
      "207 1160 493\n",
      "210 1168 497\n",
      "210 1170 498\n",
      "215 1176 503\n",
      "216 1179 506\n",
      "216 1183 507\n",
      "216 1189 508\n",
      "222 1196 515\n",
      "222 1197 520\n",
      "224 1201 522\n",
      "230 1224 533\n",
      "233 1229 536\n",
      "233 1237 539\n",
      "237 1243 544\n",
      "237 1244 545\n",
      "239 1247 547\n",
      "240 1251 548\n",
      "246 1270 558\n",
      "248 1272 560\n",
      "248 1280 561\n",
      "248 1281 562\n",
      "250 1284 564\n",
      "250 1287 566\n",
      "250 1289 568\n",
      "251 1291 569\n",
      "254 1307 574\n",
      "254 1312 575\n",
      "254 1339 576\n",
      "264 1349 587\n",
      "264 1353 587\n",
      "266 1399 592\n",
      "268 1403 594\n",
      "268 1409 594\n",
      "270 1414 606\n",
      "271 1418 608\n",
      "271 1420 608\n",
      "273 1424 610\n",
      "276 1440 615\n",
      "277 1442 617\n",
      "280 1449 620\n",
      "282 1455 624\n",
      "282 1462 624\n",
      "286 1489 631\n",
      "288 1491 633\n",
      "288 1494 634\n"
     ]
    },
    {
     "name": "stderr",
     "output_type": "stream",
     "text": [
      "b'Skipping line 4: expected 10 fields, saw 11\\n'\n"
     ]
    },
    {
     "name": "stdout",
     "output_type": "stream",
     "text": [
      "288 1497 636\n",
      "288 1502 639\n",
      "295 1515 649\n",
      "296 1524 653\n",
      "299 1529 656\n",
      "300 1530 657\n",
      "301 1531 658\n",
      "301 1534 658\n",
      "303 1537 661\n",
      "303 1540 661\n",
      "304 1542 662\n",
      "306 1547 684\n",
      "307 1557 688\n",
      "307 1559 688\n",
      "307 1564 688\n",
      "307 1570 690\n",
      "307 1574 691\n",
      "311 1595 699\n",
      "311 1597 700\n",
      "311 1609 702\n",
      "312 1612 706\n",
      "314 1652 711\n",
      "314 1659 712\n",
      "314 1661 714\n",
      "314 1669 715\n",
      "315 1670 716\n",
      "315 1695 716\n",
      "318 1700 721\n",
      "319 1703 724\n",
      "320 1712 726\n"
     ]
    },
    {
     "name": "stderr",
     "output_type": "stream",
     "text": [
      "b'Skipping line 5: expected 10 fields, saw 11\\n'\n"
     ]
    },
    {
     "name": "stdout",
     "output_type": "stream",
     "text": [
      "323 1724 732\n",
      "331 1737 740\n",
      "333 1746 744\n",
      "335 1750 747\n",
      "335 1776 747\n",
      "336 1781 749\n",
      "338 1784 752\n",
      "338 1790 753\n",
      "338 1795 754\n",
      "341 1799 757\n",
      "342 1807 760\n",
      "345 1810 763\n",
      "345 1813 763\n",
      "346 1818 764\n",
      "348 1821 771\n",
      "350 1832 775\n",
      "350 1834 775\n",
      "352 1839 787\n",
      "354 1852 793\n",
      "357 1857 796\n",
      "358 1861 800\n",
      "363 1866 809\n",
      "365 1889 814\n",
      "366 1890 815\n",
      "367 1934 816\n"
     ]
    },
    {
     "name": "stderr",
     "output_type": "stream",
     "text": [
      "b'Skipping line 31: expected 10 fields, saw 11\\nSkipping line 62: expected 10 fields, saw 11\\nSkipping line 68: expected 10 fields, saw 11\\n'\n"
     ]
    },
    {
     "name": "stdout",
     "output_type": "stream",
     "text": [
      "367 2005 820\n",
      "373 2025 830\n",
      "373 2026 832\n",
      "374 2034 843\n",
      "375 2037 845\n",
      "375 2039 849\n",
      "375 2047 856\n",
      "385 2057 866\n",
      "385 2074 868\n",
      "394 2086 884\n",
      "394 2091 887\n",
      "396 2093 889\n",
      "397 2094 891\n",
      "400 2099 894\n",
      "400 2104 895\n",
      "405 2111 900\n",
      "407 2115 902\n",
      "407 2135 907\n",
      "407 2137 908\n",
      "407 2140 911\n",
      "407 2145 911\n",
      "407 2148 912\n",
      "407 2150 915\n"
     ]
    },
    {
     "name": "stderr",
     "output_type": "stream",
     "text": [
      "b'Skipping line 10: expected 10 fields, saw 11\\nSkipping line 20: expected 10 fields, saw 12\\n'\n"
     ]
    },
    {
     "name": "stdout",
     "output_type": "stream",
     "text": [
      "421 2204 945\n",
      "421 2208 946\n",
      "423 2212 948\n",
      "424 2215 953\n"
     ]
    },
    {
     "name": "stderr",
     "output_type": "stream",
     "text": [
      "b'Skipping line 41: expected 10 fields, saw 11\\nSkipping line 42: expected 10 fields, saw 11\\n'\n"
     ]
    },
    {
     "name": "stdout",
     "output_type": "stream",
     "text": [
      "427 2256 964\n",
      "427 2262 966\n",
      "429 2264 968\n",
      "434 2269 973\n",
      "435 2270 974\n",
      "435 2276 977\n",
      "445 2332 996\n",
      "446 2337 997\n",
      "446 2340 997\n",
      "446 2341 997\n"
     ]
    },
    {
     "name": "stderr",
     "output_type": "stream",
     "text": [
      "b'Skipping line 12: expected 10 fields, saw 11\\n'\n"
     ]
    },
    {
     "name": "stdout",
     "output_type": "stream",
     "text": [
      "446 2367 1001\n",
      "468 2396 1027\n",
      "469 2404 1031\n",
      "470 2408 1036\n",
      "476 2443 1044\n",
      "476 2446 1046\n",
      "478 2448 1048\n",
      "478 2453 1050\n",
      "481 2458 1054\n",
      "484 2462 1063\n",
      "487 2468 1067\n",
      "489 2490 1073\n",
      "496 2506 1086\n"
     ]
    },
    {
     "name": "stderr",
     "output_type": "stream",
     "text": [
      "b'Skipping line 28: expected 10 fields, saw 11\\n'\n"
     ]
    },
    {
     "name": "stdout",
     "output_type": "stream",
     "text": [
      "509 2582 1114\n",
      "511 2584 1125\n",
      "511 2606 1130\n",
      "511 2612 1141\n",
      "515 2626 1148\n",
      "516 2627 1149\n",
      "519 2642 1155\n"
     ]
    },
    {
     "name": "stderr",
     "output_type": "stream",
     "text": [
      "b'Skipping line 7: expected 10 fields, saw 11\\n'\n",
      "b'Skipping line 5: expected 10 fields, saw 11\\nSkipping line 9: expected 10 fields, saw 11\\n'\n"
     ]
    },
    {
     "name": "stdout",
     "output_type": "stream",
     "text": [
      "520 2649 1158\n",
      "520 2651 1158\n",
      "521 2654 1160\n",
      "521 2657 1160\n",
      "521 2665 1169\n",
      "521 2667 1171\n",
      "523 2673 1174\n",
      "523 2679 1175\n",
      "523 2683 1176\n",
      "523 2698 1179\n"
     ]
    },
    {
     "name": "stderr",
     "output_type": "stream",
     "text": [
      "b'Skipping line 2: expected 10 fields, saw 11\\n'\n"
     ]
    },
    {
     "name": "stdout",
     "output_type": "stream",
     "text": [
      "524 2706 1183\n",
      "528 2712 1188\n",
      "528 2713 1189\n",
      "531 2723 1194\n",
      "535 2727 1198\n",
      "535 2730 1199\n",
      "537 2734 1201\n",
      "537 2737 1204\n",
      "538 2743 1207\n",
      "538 2749 1207\n",
      "538 2750 1207\n",
      "539 2753 1216\n",
      "539 2757 1218\n",
      "542 2763 1222\n",
      "544 2769 1225\n",
      "544 2772 1226\n",
      "546 2774 1228\n",
      "547 2808 1238\n",
      "548 2810 1239\n",
      "550 2821 1245\n",
      "551 2828 1246\n",
      "552 2847 1254\n",
      "552 2852 1255\n",
      "552 2855 1256\n",
      "553 2859 1261\n",
      "555 2863 1273\n",
      "555 2865 1277\n",
      "555 2869 1278\n",
      "558 2875 1281\n",
      "559 2878 1283\n",
      "559 2879 1294\n",
      "560 2882 1297\n",
      "560 2887 1297\n",
      "564 2904 1305\n",
      "569 2911 1319\n",
      "569 3070 1319\n",
      "570 3075 1321\n",
      "576 3081 1334\n"
     ]
    },
    {
     "name": "stderr",
     "output_type": "stream",
     "text": [
      "b'Skipping line 10: expected 10 fields, saw 11\\nSkipping line 11: expected 10 fields, saw 11\\nSkipping line 29: expected 10 fields, saw 11\\n'\n"
     ]
    },
    {
     "name": "stdout",
     "output_type": "stream",
     "text": [
      "580 3118 1346\n",
      "581 3121 1347\n",
      "581 3137 1349\n",
      "583 3139 1351\n",
      "583 3140 1351\n",
      "583 3143 1352\n",
      "583 3145 1353\n",
      "583 3149 1356\n",
      "584 3153 1359\n",
      "584 3156 1359\n",
      "586 3159 1361\n"
     ]
    },
    {
     "name": "stderr",
     "output_type": "stream",
     "text": [
      "b'Skipping line 2: expected 10 fields, saw 11\\n'\n"
     ]
    },
    {
     "name": "stdout",
     "output_type": "stream",
     "text": [
      "588 3162 1365\n",
      "591 3166 1371\n",
      "591 3167 1395\n",
      "595 3197 1409\n",
      "595 3204 1410\n",
      "596 3221 1416\n",
      "596 3223 1417\n",
      "597 3226 1419\n",
      "597 3229 1420\n",
      "599 3235 1423\n",
      "601 3239 1425\n",
      "601 3244 1427\n",
      "603 3248 1430\n",
      "603 3289 1433\n",
      "603 3297 1433\n",
      "607 3307 1439\n",
      "608 3311 1440\n",
      "608 3313 1443\n",
      "608 3320 1453\n",
      "608 3329 1454\n",
      "608 3331 1455\n",
      "609 3332 1456\n",
      "610 3344 1463\n",
      "612 3347 1466\n",
      "615 3459 1473\n",
      "617 3467 1477\n",
      "618 3469 1478\n",
      "618 3472 1479\n",
      "619 3476 1482\n",
      "623 3480 1486\n",
      "628 3486 1491\n",
      "631 3509 1494\n",
      "634 3517 1498\n",
      "636 3521 1501\n",
      "638 3526 1505\n",
      "639 3534 1508\n",
      "647 3550 1517\n",
      "647 3553 1517\n",
      "647 3558 1518\n",
      "648 3561 1527\n",
      "648 3562 1527\n",
      "648 3574 1530\n",
      "649 3576 1533\n",
      "650 3577 1535\n",
      "651 3578 1536\n",
      "656 3597 1545\n",
      "657 3674 1564\n",
      "659 3680 1566\n",
      "659 3687 1568\n",
      "662 3697 1574\n",
      "662 3699 1574\n",
      "662 3704 1574\n",
      "662 3708 1576\n",
      "662 3714 1577\n",
      "663 3718 1579\n",
      "664 3726 1581\n",
      "664 3734 1582\n",
      "666 3738 1584\n",
      "667 3742 1586\n",
      "670 3749 1591\n",
      "673 3760 1596\n",
      "673 3766 1598\n",
      "674 3768 1600\n"
     ]
    },
    {
     "name": "stderr",
     "output_type": "stream",
     "text": [
      "b'Skipping line 7: expected 10 fields, saw 11\\n'\n"
     ]
    },
    {
     "name": "stdout",
     "output_type": "stream",
     "text": [
      "680 3803 1609\n",
      "682 3813 1612\n",
      "682 3820 1613\n",
      "710 4034 1679\n",
      "713 4037 1687\n",
      "714 4044 1690\n"
     ]
    },
    {
     "name": "stderr",
     "output_type": "stream",
     "text": [
      "b'Skipping line 14: expected 10 fields, saw 11\\nSkipping line 15: expected 10 fields, saw 11\\n'\n"
     ]
    },
    {
     "name": "stdout",
     "output_type": "stream",
     "text": [
      "723 4065 1707\n",
      "723 4079 1709\n",
      "723 4084 1710\n",
      "725 4090 1715\n",
      "726 4092 1716\n",
      "727 4113 1718\n"
     ]
    },
    {
     "name": "stderr",
     "output_type": "stream",
     "text": [
      "b'Skipping line 6: expected 10 fields, saw 11\\nSkipping line 8: expected 10 fields, saw 11\\n'\n"
     ]
    },
    {
     "name": "stdout",
     "output_type": "stream",
     "text": [
      "727 4121 1721\n",
      "728 4123 1723\n"
     ]
    },
    {
     "name": "stderr",
     "output_type": "stream",
     "text": [
      "b'Skipping line 2: expected 10 fields, saw 11\\n'\n"
     ]
    },
    {
     "name": "stdout",
     "output_type": "stream",
     "text": [
      "729 4125 1727\n",
      "729 4130 1728\n",
      "729 4132 1728\n",
      "730 4134 1730\n",
      "732 4140 1734\n",
      "737 4169 1750\n",
      "737 4170 1750\n",
      "739 4197 1758\n",
      "739 4198 1760\n",
      "739 4202 1762\n",
      "739 4208 1763\n",
      "742 4212 1767\n",
      "744 4218 1769\n",
      "746 4226 1774\n",
      "746 4228 1774\n",
      "748 4235 1777\n",
      "748 4239 1783\n",
      "748 4241 1784\n",
      "749 4242 1785\n",
      "752 4271 1794\n",
      "752 4275 1796\n",
      "753 4277 1798\n",
      "755 4280 1800\n",
      "757 4288 1803\n",
      "758 4292 1810\n",
      "758 4294 1810\n",
      "759 4296 1811\n",
      "760 4302 1812\n",
      "764 4349 1819\n",
      "768 4388 1824\n",
      "770 4394 1827\n",
      "772 4400 1831\n",
      "773 4406 1832\n",
      "777 4418 1838\n",
      "780 4422 1842\n",
      "785 4430 1847\n",
      "787 4433 1850\n",
      "787 4439 1851\n"
     ]
    },
    {
     "name": "stderr",
     "output_type": "stream",
     "text": [
      "b'Skipping line 2: expected 10 fields, saw 11\\nSkipping line 5: expected 10 fields, saw 11\\n'\n"
     ]
    },
    {
     "name": "stdout",
     "output_type": "stream",
     "text": [
      "789 4444 1858\n",
      "790 4445 1859\n",
      "790 4453 1861\n",
      "790 4459 1862\n"
     ]
    },
    {
     "name": "stderr",
     "output_type": "stream",
     "text": [
      "b'Skipping line 2: expected 10 fields, saw 11\\n'\n"
     ]
    },
    {
     "name": "stdout",
     "output_type": "stream",
     "text": [
      "791 4463 1863\n",
      "797 4506 1869\n",
      "803 4517 1878\n",
      "803 4520 1879\n",
      "805 4523 1881\n"
     ]
    },
    {
     "name": "stderr",
     "output_type": "stream",
     "text": [
      "b'Skipping line 12: expected 10 fields, saw 11\\n'\n"
     ]
    },
    {
     "name": "stdout",
     "output_type": "stream",
     "text": [
      "808 4534 1891\n",
      "814 4566 1902\n",
      "814 4568 1903\n",
      "824 4579 1913\n",
      "825 4580 1914\n",
      "830 4588 1923\n",
      "834 4593 1928\n",
      "834 4597 1930\n",
      "839 4618 1941\n",
      "840 4621 1944\n",
      "840 4623 1959\n",
      "843 4634 1965\n",
      "845 4643 1982\n",
      "846 4654 1985\n",
      "855 4714 2001\n",
      "855 4716 2002\n",
      "859 4723 2007\n",
      "860 4732 2008\n"
     ]
    },
    {
     "name": "stderr",
     "output_type": "stream",
     "text": [
      "b'Skipping line 7: expected 10 fields, saw 11\\n'\n"
     ]
    },
    {
     "name": "stdout",
     "output_type": "stream",
     "text": [
      "862 4744 2013\n",
      "864 4749 2015\n",
      "866 4755 2020\n",
      "868 4757 2022\n",
      "872 4781 2033\n",
      "874 4786 2040\n",
      "874 4793 2042\n",
      "876 4796 2044\n",
      "876 4810 2048\n",
      "878 4824 2054\n",
      "882 4870 2061\n",
      "884 4875 2064\n",
      "884 4893 2074\n",
      "884 4896 2078\n",
      "884 4900 2080\n",
      "885 4902 2085\n",
      "889 4922 2092\n",
      "891 4924 2094\n",
      "892 4932 2097\n",
      "897 4941 2102\n",
      "897 4942 2102\n",
      "897 4947 2103\n",
      "898 4949 2104\n",
      "898 4951 2105\n",
      "900 4954 2107\n",
      "903 4978 2111\n",
      "905 4985 2114\n",
      "911 4997 2121\n",
      "911 4999 2121\n",
      "915 5023 2130\n",
      "915 5028 2133\n",
      "915 5038 2134\n",
      "916 5044 2137\n",
      "916 5053 2140\n",
      "919 5057 2145\n",
      "928 5068 2154\n",
      "928 5070 2158\n",
      "928 5071 2158\n",
      "935 5088 2168\n",
      "936 5091 2169\n",
      "937 5093 2171\n",
      "938 5099 2173\n",
      "942 5119 2180\n",
      "944 5123 2183\n"
     ]
    },
    {
     "name": "stderr",
     "output_type": "stream",
     "text": [
      "b'Skipping line 2: expected 10 fields, saw 11\\n'\n"
     ]
    },
    {
     "name": "stdout",
     "output_type": "stream",
     "text": [
      "948 5127 2188\n",
      "949 5131 2189\n",
      "951 5133 2191\n",
      "953 5138 2194\n"
     ]
    },
    {
     "name": "stderr",
     "output_type": "stream",
     "text": [
      "b'Skipping line 4: expected 10 fields, saw 11\\n'\n"
     ]
    },
    {
     "name": "stdout",
     "output_type": "stream",
     "text": [
      "953 5144 2197\n",
      "954 5152 2199\n",
      "955 5153 2200\n",
      "963 5178 2212\n",
      "963 5180 2213\n",
      "964 5182 2214\n"
     ]
    },
    {
     "name": "stderr",
     "output_type": "stream",
     "text": [
      "b'Skipping line 3: expected 10 fields, saw 11\\n'\n"
     ]
    },
    {
     "name": "stdout",
     "output_type": "stream",
     "text": [
      "966 5206 2217\n",
      "967 5215 2221\n",
      "968 5241 2223\n",
      "969 5247 2225\n",
      "969 5250 2228\n",
      "972 5272 2233\n",
      "972 5276 2235\n",
      "972 5281 2238\n",
      "972 5282 2238\n",
      "973 5284 2240\n",
      "978 5297 2249\n",
      "980 5299 2251\n",
      "987 5307 2259\n",
      "988 5316 2266\n",
      "990 5320 2270\n",
      "990 5322 2272\n",
      "996 5329 2280\n",
      "996 5336 2280\n",
      "996 5337 2280\n",
      "996 5343 2282\n",
      "997 5344 2283\n",
      "1001 5399 2296\n",
      "1001 5411 2301\n",
      "1001 5414 2302\n",
      "1003 5448 2312\n",
      "1008 5458 2321\n",
      "1008 5465 2322\n",
      "1010 5469 2325\n",
      "1013 5473 2329\n",
      "1013 5476 2330\n",
      "1015 5481 2333\n",
      "1015 5486 2334\n"
     ]
    },
    {
     "name": "stderr",
     "output_type": "stream",
     "text": [
      "b'Skipping line 5: expected 10 fields, saw 11\\n'\n"
     ]
    },
    {
     "name": "stdout",
     "output_type": "stream",
     "text": [
      "1028 5518 2357\n"
     ]
    },
    {
     "name": "stderr",
     "output_type": "stream",
     "text": [
      "b'Skipping line 33: expected 10 fields, saw 11\\nSkipping line 36: expected 10 fields, saw 11\\n'\n"
     ]
    },
    {
     "name": "stdout",
     "output_type": "stream",
     "text": [
      "1034 5571 2373\n",
      "1035 5573 2376\n",
      "1035 5575 2376\n",
      "1038 5585 2390\n",
      "1038 5588 2390\n"
     ]
    },
    {
     "name": "stderr",
     "output_type": "stream",
     "text": [
      "b'Skipping line 14: expected 10 fields, saw 11\\n'\n"
     ]
    },
    {
     "name": "stdout",
     "output_type": "stream",
     "text": [
      "1040 5602 2396\n",
      "1042 5625 2402\n",
      "1044 5629 2404\n"
     ]
    },
    {
     "name": "stderr",
     "output_type": "stream",
     "text": [
      "b'Skipping line 9: expected 10 fields, saw 11\\n'\n"
     ]
    },
    {
     "name": "stdout",
     "output_type": "stream",
     "text": [
      "1046 5642 2410\n",
      "1046 5644 2416\n",
      "1047 5645 2417\n",
      "1054 5687 2426\n",
      "1054 5690 2427\n",
      "1062 5704 2441\n",
      "1063 5716 2445\n",
      "1063 5718 2452\n",
      "1064 5721 2455\n",
      "1064 5724 2455\n",
      "1065 5728 2457\n",
      "1068 5737 2461\n",
      "1068 5738 2463\n",
      "1068 5742 2464\n",
      "1069 5745 2465\n",
      "1071 5747 2467\n",
      "1072 5749 2469\n"
     ]
    },
    {
     "name": "stderr",
     "output_type": "stream",
     "text": [
      "b'Skipping line 50: expected 10 fields, saw 11\\n'\n"
     ]
    },
    {
     "name": "stdout",
     "output_type": "stream",
     "text": [
      "1076 5807 2491\n",
      "1077 5812 2493\n",
      "1077 5813 2493\n",
      "1084 5823 2501\n",
      "1089 5830 2509\n",
      "1090 5832 2510\n",
      "1090 5845 2511\n",
      "1092 5850 2517\n"
     ]
    },
    {
     "name": "stderr",
     "output_type": "stream",
     "text": [
      "b'Skipping line 3: expected 10 fields, saw 11\\n'\n"
     ]
    },
    {
     "name": "stdout",
     "output_type": "stream",
     "text": [
      "1094 5855 2521\n",
      "1099 5862 2533\n",
      "1101 5868 2538\n",
      "1103 5873 2541\n",
      "1103 5877 2542\n",
      "1116 5927 2567\n",
      "1116 5936 2569\n",
      "1117 5941 2572\n",
      "1118 5943 2573\n"
     ]
    },
    {
     "name": "stderr",
     "output_type": "stream",
     "text": [
      "b'Skipping line 63: expected 10 fields, saw 11\\n'\n"
     ]
    },
    {
     "name": "stdout",
     "output_type": "stream",
     "text": [
      "1123 6014 2592\n",
      "1123 6023 2594\n",
      "1127 6047 2607\n",
      "1128 6053 2609\n",
      "1129 6059 2611\n",
      "1132 6067 2614\n",
      "1134 6076 2616\n"
     ]
    },
    {
     "name": "stderr",
     "output_type": "stream",
     "text": [
      "b'Skipping line 53: expected 10 fields, saw 11\\nSkipping line 61: expected 10 fields, saw 11\\nSkipping line 105: expected 10 fields, saw 11\\nSkipping line 106: expected 10 fields, saw 11\\nSkipping line 108: expected 10 fields, saw 11\\n'\n"
     ]
    },
    {
     "name": "stdout",
     "output_type": "stream",
     "text": [
      "1145 6190 2662\n",
      "1147 6192 2664\n",
      "1147 6200 2666\n",
      "1151 6208 2674\n",
      "1152 6221 2677\n",
      "1152 6225 2679\n",
      "1152 6229 2680\n"
     ]
    },
    {
     "name": "stderr",
     "output_type": "stream",
     "text": [
      "b'Skipping line 8: expected 10 fields, saw 11\\n'\n"
     ]
    },
    {
     "name": "stdout",
     "output_type": "stream",
     "text": [
      "1156 6243 2690\n",
      "1156 6244 2690\n",
      "1158 6253 2694\n",
      "1158 6259 2696\n",
      "1159 6260 2697\n",
      "1160 6262 2699\n"
     ]
    },
    {
     "name": "stderr",
     "output_type": "stream",
     "text": [
      "b'Skipping line 9: expected 10 fields, saw 11\\nSkipping line 20: expected 10 fields, saw 11\\nSkipping line 22: expected 10 fields, saw 11\\n'\n"
     ]
    },
    {
     "name": "stdout",
     "output_type": "stream",
     "text": [
      "1170 6293 2724\n",
      "1171 6315 2726\n",
      "1174 6319 2729\n",
      "1177 6340 2742\n",
      "1178 6343 2744\n",
      "1178 6344 2745\n"
     ]
    },
    {
     "name": "stderr",
     "output_type": "stream",
     "text": [
      "b'Skipping line 2: expected 10 fields, saw 11\\n'\n"
     ]
    },
    {
     "name": "stdout",
     "output_type": "stream",
     "text": [
      "1178 6350 2747\n",
      "1182 6357 2752\n",
      "1184 6361 2755\n",
      "1186 6393 2760\n",
      "1187 6398 2763\n",
      "1188 6402 2769\n"
     ]
    },
    {
     "name": "stderr",
     "output_type": "stream",
     "text": [
      "b'Skipping line 30: expected 10 fields, saw 12\\nSkipping line 32: expected 10 fields, saw 11\\nSkipping line 92: expected 10 fields, saw 11\\nSkipping line 103: expected 10 fields, saw 11\\n'\n"
     ]
    },
    {
     "name": "stdout",
     "output_type": "stream",
     "text": [
      "1225 6537 2829\n",
      "1232 6548 2836\n",
      "1232 6555 2837\n",
      "1235 6561 2843\n"
     ]
    },
    {
     "name": "stderr",
     "output_type": "stream",
     "text": [
      "b'Skipping line 4: expected 10 fields, saw 11\\n'\n"
     ]
    },
    {
     "name": "stdout",
     "output_type": "stream",
     "text": [
      "1236 6565 2848\n",
      "1240 6570 2853\n",
      "1241 6577 2855\n"
     ]
    },
    {
     "name": "stderr",
     "output_type": "stream",
     "text": [
      "b'Skipping line 24: expected 10 fields, saw 11\\n'\n"
     ]
    },
    {
     "name": "stdout",
     "output_type": "stream",
     "text": [
      "1248 6639 2875\n",
      "1251 6666 2881\n"
     ]
    },
    {
     "name": "stderr",
     "output_type": "stream",
     "text": [
      "b'Skipping line 161: expected 10 fields, saw 11\\n'\n"
     ]
    },
    {
     "name": "stdout",
     "output_type": "stream",
     "text": [
      "1284 6828 2944\n",
      "1284 6831 2945\n",
      "1288 6843 2957\n",
      "1288 6849 2958\n",
      "1295 6880 2966\n",
      "1295 6883 2967\n",
      "1297 6885 2970\n",
      "1299 6890 2973\n",
      "1300 6892 2975\n",
      "1302 6895 2977\n",
      "1302 6897 2978\n",
      "1305 6900 2982\n",
      "1306 6917 2988\n",
      "1307 6921 2990\n",
      "1308 6928 2992\n",
      "1309 6929 2993\n",
      "1309 6931 2994\n",
      "1310 6933 2995\n",
      "1311 6975 3000\n",
      "1311 6978 3000\n",
      "1311 6980 3001\n",
      "1311 6983 3001\n",
      "1311 6988 3002\n",
      "1311 6991 3008\n",
      "1312 6995 3010\n"
     ]
    },
    {
     "name": "stderr",
     "output_type": "stream",
     "text": [
      "b'Skipping line 16: expected 10 fields, saw 11\\n'\n"
     ]
    },
    {
     "name": "stdout",
     "output_type": "stream",
     "text": [
      "1324 7012 3031\n",
      "1324 7013 3031\n",
      "1324 7021 3036\n"
     ]
    },
    {
     "name": "stderr",
     "output_type": "stream",
     "text": [
      "b'Skipping line 12: expected 10 fields, saw 11\\n'\n"
     ]
    },
    {
     "name": "stdout",
     "output_type": "stream",
     "text": [
      "1329 7038 3047\n",
      "1329 7050 3051\n",
      "1333 7059 3061\n",
      "1335 7068 3064\n",
      "1336 7074 3065\n",
      "1339 7080 3070\n",
      "1340 7083 3072\n"
     ]
    },
    {
     "name": "stderr",
     "output_type": "stream",
     "text": [
      "b'Skipping line 3: expected 10 fields, saw 11\\n'\n"
     ]
    },
    {
     "name": "stdout",
     "output_type": "stream",
     "text": [
      "1343 7092 3077\n",
      "1343 7095 3080\n",
      "1344 7106 3084\n",
      "1346 7115 3088\n",
      "1352 7133 3111\n",
      "1353 7142 3113\n",
      "1354 7204 3116\n",
      "1356 7206 3118\n",
      "1365 7362 3143\n",
      "1366 7367 3145\n",
      "1366 7368 3146\n",
      "1367 7370 3153\n",
      "1368 7373 3161\n",
      "1368 7384 3161\n",
      "1370 7392 3169\n",
      "1374 7400 3175\n",
      "1375 7403 3178\n",
      "1378 7406 3181\n",
      "1382 7423 3189\n",
      "1382 7424 3189\n",
      "1383 7431 3191\n",
      "1386 7437 3195\n",
      "1386 7445 3197\n",
      "1387 7446 3198\n",
      "1391 7455 3204\n",
      "1397 7494 3213\n",
      "1398 7504 3216\n",
      "1398 7513 3216\n",
      "1399 7516 3218\n",
      "1400 7531 3219\n",
      "1400 7541 3222\n",
      "1403 7544 3225\n",
      "1403 7555 3227\n",
      "1403 7557 3227\n",
      "1404 7559 3229\n",
      "1404 7564 3231\n",
      "1405 7566 3232\n",
      "1407 7569 3235\n",
      "1409 7575 3237\n",
      "1409 7581 3241\n",
      "1409 7585 3241\n",
      "1411 7595 3245\n",
      "1412 7598 3247\n",
      "1413 7601 3248\n",
      "1414 7604 3251\n",
      "1417 7611 3255\n",
      "1418 7612 3256\n",
      "1418 7626 3264\n",
      "1418 7632 3266\n",
      "1419 7636 3268\n",
      "1420 7642 3275\n",
      "1420 7643 3276\n",
      "1420 7647 3278\n",
      "1420 7658 3280\n",
      "1429 7718 3302\n",
      "1440 7732 3323\n",
      "1442 7734 3327\n",
      "1442 7744 3327\n",
      "1442 7750 3328\n",
      "1442 7751 3329\n",
      "1445 7758 3339\n"
     ]
    },
    {
     "name": "stderr",
     "output_type": "stream",
     "text": [
      "b'Skipping line 22: expected 10 fields, saw 11\\nSkipping line 25: expected 10 fields, saw 11\\n'\n"
     ]
    },
    {
     "name": "stdout",
     "output_type": "stream",
     "text": [
      "1454 7783 3362\n",
      "1456 7787 3364\n",
      "1458 7792 3367\n",
      "1460 7800 3369\n",
      "1460 7802 3373\n",
      "1462 7806 3376\n",
      "1474 7836 3395\n",
      "1478 7841 3400\n",
      "1479 7848 3403\n",
      "1479 7851 3405\n",
      "1481 7876 3414\n",
      "1484 7880 3418\n",
      "1484 7883 3424\n",
      "1485 7885 3425\n",
      "1488 7889 3428\n",
      "1488 7896 3430\n",
      "1490 7899 3432\n",
      "1490 7904 3432\n"
     ]
    },
    {
     "name": "stderr",
     "output_type": "stream",
     "text": [
      "b'Skipping line 27: expected 10 fields, saw 11\\nSkipping line 28: expected 10 fields, saw 11\\n'\n"
     ]
    },
    {
     "name": "stdout",
     "output_type": "stream",
     "text": [
      "1500 7940 3449\n",
      "1500 7944 3452\n",
      "1501 7956 3454\n",
      "1502 7975 3460\n",
      "1506 7988 3468\n",
      "1507 7990 3476\n",
      "1508 7993 3480\n",
      "1510 8022 3488\n",
      "1510 8026 3490\n",
      "1513 8038 3494\n",
      "1514 8040 3498\n",
      "1518 8045 3503\n",
      "1522 8049 3507\n",
      "1523 8084 3514\n",
      "1523 8092 3514\n",
      "1523 8099 3516\n",
      "1526 8106 3520\n",
      "1529 8110 3523\n",
      "1537 8131 3536\n",
      "1539 8134 3540\n",
      "1540 8141 3541\n",
      "1548 8188 3555\n",
      "1550 8194 3558\n",
      "1550 8195 3558\n",
      "1551 8200 3563\n",
      "1556 8212 3568\n",
      "1556 8214 3569\n",
      "1557 8230 3577\n",
      "1558 8239 3579\n",
      "1566 8251 3592\n",
      "1568 8254 3595\n",
      "1569 8255 3596\n",
      "1571 8281 3604\n",
      "1572 8285 3606\n",
      "1575 8288 3611\n",
      "1579 8294 3616\n",
      "1582 8300 3619\n",
      "1586 8306 3627\n",
      "1588 8330 3631\n",
      "1593 8348 3640\n",
      "1594 8351 3642\n",
      "1595 8356 3644\n",
      "ep14\n",
      "1 3 2\n",
      "1 5 2\n",
      "2 7 3\n",
      "4 17 8\n"
     ]
    },
    {
     "name": "stderr",
     "output_type": "stream",
     "text": [
      "b'Skipping line 17: expected 10 fields, saw 11\\nSkipping line 37: expected 10 fields, saw 11\\n'\n"
     ]
    },
    {
     "name": "stdout",
     "output_type": "stream",
     "text": [
      "4 105 38\n",
      "25 130 65\n",
      "27 135 67\n",
      "29 148 71\n",
      "29 151 72\n",
      "30 210 75\n",
      "31 212 78\n",
      "38 219 88\n",
      "39 221 90\n",
      "44 235 98\n",
      "44 236 98\n",
      "45 243 102\n",
      "49 248 106\n",
      "49 253 107\n",
      "54 267 115\n",
      "56 269 117\n",
      "57 272 119\n",
      "58 281 123\n",
      "59 285 125\n",
      "61 289 127\n",
      "62 290 129\n"
     ]
    },
    {
     "name": "stderr",
     "output_type": "stream",
     "text": [
      "b'Skipping line 3: expected 10 fields, saw 11\\nSkipping line 5: expected 10 fields, saw 11\\n'\n"
     ]
    },
    {
     "name": "stdout",
     "output_type": "stream",
     "text": [
      "62 293 131\n",
      "64 295 133\n",
      "66 351 140\n",
      "68 353 142\n",
      "68 360 145\n"
     ]
    },
    {
     "name": "stderr",
     "output_type": "stream",
     "text": [
      "b'Skipping line 4: expected 10 fields, saw 11\\n'\n"
     ]
    },
    {
     "name": "stdout",
     "output_type": "stream",
     "text": [
      "69 381 146\n",
      "80 410 163\n",
      "81 415 165\n",
      "81 420 165\n",
      "85 469 182\n",
      "86 480 188\n",
      "86 489 190\n",
      "87 493 192\n",
      "88 502 195\n",
      "88 504 195\n",
      "90 509 197\n",
      "91 518 199\n",
      "91 519 199\n",
      "92 520 200\n",
      "92 527 200\n",
      "94 533 203\n",
      "94 534 203\n",
      "95 535 205\n"
     ]
    },
    {
     "name": "stderr",
     "output_type": "stream",
     "text": [
      "b'Skipping line 4: expected 10 fields, saw 11\\n'\n"
     ]
    },
    {
     "name": "stdout",
     "output_type": "stream",
     "text": [
      "100 543 215\n",
      "100 544 216\n",
      "100 571 219\n",
      "100 574 219\n",
      "104 582 226\n",
      "104 583 227\n",
      "106 589 229\n",
      "107 595 231\n",
      "114 627 250\n",
      "116 631 253\n",
      "116 643 255\n",
      "119 647 258\n",
      "121 651 262\n",
      "122 655 264\n",
      "123 656 265\n",
      "124 694 266\n",
      "125 696 267\n",
      "127 698 271\n"
     ]
    },
    {
     "name": "stderr",
     "output_type": "stream",
     "text": [
      "b'Skipping line 8: expected 10 fields, saw 11\\nSkipping line 9: expected 10 fields, saw 11\\nSkipping line 15: expected 10 fields, saw 11\\n'\n"
     ]
    },
    {
     "name": "stdout",
     "output_type": "stream",
     "text": [
      "134 710 285\n",
      "134 711 285\n",
      "134 719 286\n",
      "134 720 286\n",
      "151 796 332\n",
      "151 799 334\n"
     ]
    },
    {
     "name": "stderr",
     "output_type": "stream",
     "text": [
      "b'Skipping line 2: expected 10 fields, saw 11\\n'\n"
     ]
    },
    {
     "name": "stdout",
     "output_type": "stream",
     "text": [
      "154 821 339\n",
      "155 824 341\n",
      "159 828 345\n"
     ]
    },
    {
     "name": "stderr",
     "output_type": "stream",
     "text": [
      "b'Skipping line 8: expected 10 fields, saw 11\\n'\n"
     ]
    },
    {
     "name": "stdout",
     "output_type": "stream",
     "text": [
      "160 841 347\n",
      "160 846 348\n",
      "162 848 350\n",
      "163 861 351\n",
      "165 867 357\n",
      "165 873 357\n",
      "165 876 360\n",
      "166 879 363\n",
      "170 883 367\n",
      "175 888 372\n",
      "175 889 373\n",
      "175 898 375\n",
      "175 907 375\n",
      "176 908 376\n",
      "181 952 399\n",
      "182 963 403\n",
      "184 965 405\n",
      "184 970 406\n",
      "184 992 427\n",
      "189 1007 434\n",
      "189 1012 435\n",
      "191 1017 439\n",
      "191 1025 443\n",
      "195 1075 459\n",
      "196 1081 461\n",
      "197 1088 464\n",
      "197 1089 465\n",
      "198 1092 466\n",
      "201 1096 486\n",
      "201 1099 486\n",
      "205 1104 492\n",
      "207 1108 495\n",
      "207 1126 498\n",
      "207 1151 500\n",
      "208 1155 503\n",
      "210 1160 506\n",
      "213 1168 510\n",
      "213 1170 511\n",
      "218 1176 516\n",
      "219 1179 520\n",
      "219 1183 522\n",
      "219 1189 523\n",
      "224 1196 530\n",
      "224 1197 532\n",
      "226 1201 534\n",
      "233 1224 546\n",
      "236 1229 549\n",
      "236 1237 554\n",
      "240 1243 559\n",
      "240 1244 560\n",
      "242 1247 562\n",
      "243 1251 563\n",
      "249 1270 575\n",
      "249 1272 576\n",
      "249 1280 577\n",
      "249 1281 578\n",
      "251 1284 580\n",
      "252 1287 582\n",
      "252 1289 584\n",
      "253 1291 585\n",
      "256 1307 590\n",
      "256 1312 591\n",
      "256 1339 592\n",
      "266 1349 602\n",
      "266 1353 602\n",
      "267 1399 609\n",
      "267 1403 610\n",
      "267 1409 610\n",
      "269 1414 623\n",
      "270 1418 625\n",
      "270 1420 625\n",
      "272 1424 627\n",
      "275 1440 633\n",
      "277 1442 635\n",
      "278 1449 637\n",
      "280 1455 641\n",
      "280 1462 641\n",
      "284 1489 648\n",
      "286 1491 650\n",
      "286 1494 651\n"
     ]
    },
    {
     "name": "stderr",
     "output_type": "stream",
     "text": [
      "b'Skipping line 4: expected 10 fields, saw 11\\n'\n"
     ]
    },
    {
     "name": "stdout",
     "output_type": "stream",
     "text": [
      "286 1497 653\n",
      "286 1502 656\n",
      "293 1515 666\n",
      "295 1524 670\n",
      "298 1529 673\n",
      "299 1530 674\n",
      "300 1531 675\n",
      "300 1534 675\n",
      "302 1537 678\n",
      "302 1540 678\n",
      "303 1542 679\n",
      "305 1547 698\n",
      "306 1557 701\n",
      "306 1559 701\n",
      "306 1564 703\n",
      "306 1570 705\n",
      "306 1574 706\n",
      "307 1595 713\n",
      "307 1597 714\n",
      "307 1609 716\n",
      "308 1612 720\n",
      "310 1652 726\n",
      "310 1659 727\n",
      "310 1661 729\n",
      "310 1669 730\n",
      "311 1670 731\n",
      "311 1695 731\n",
      "314 1700 740\n",
      "315 1703 743\n",
      "315 1712 745\n"
     ]
    },
    {
     "name": "stderr",
     "output_type": "stream",
     "text": [
      "b'Skipping line 5: expected 10 fields, saw 11\\n'\n"
     ]
    },
    {
     "name": "stdout",
     "output_type": "stream",
     "text": [
      "318 1724 750\n",
      "326 1737 758\n",
      "329 1746 762\n",
      "331 1750 766\n",
      "331 1776 766\n",
      "332 1781 768\n",
      "334 1784 771\n",
      "334 1790 772\n",
      "334 1795 773\n",
      "337 1799 776\n",
      "338 1807 779\n",
      "341 1810 782\n",
      "341 1813 782\n",
      "342 1818 783\n",
      "344 1821 789\n",
      "347 1832 793\n",
      "347 1834 793\n",
      "350 1839 804\n",
      "353 1852 809\n",
      "356 1857 812\n",
      "357 1861 816\n",
      "362 1866 824\n",
      "364 1889 831\n",
      "365 1890 832\n",
      "366 1934 833\n"
     ]
    },
    {
     "name": "stderr",
     "output_type": "stream",
     "text": [
      "b'Skipping line 31: expected 10 fields, saw 11\\nSkipping line 62: expected 10 fields, saw 11\\nSkipping line 68: expected 10 fields, saw 11\\n'\n"
     ]
    },
    {
     "name": "stdout",
     "output_type": "stream",
     "text": [
      "366 2005 837\n",
      "373 2025 849\n",
      "373 2026 852\n",
      "375 2034 863\n",
      "376 2037 866\n",
      "376 2039 871\n",
      "376 2047 878\n",
      "385 2057 887\n",
      "385 2074 889\n",
      "396 2086 902\n",
      "396 2091 905\n",
      "398 2093 907\n",
      "399 2094 909\n",
      "402 2099 912\n",
      "402 2104 914\n",
      "407 2111 919\n",
      "409 2115 921\n",
      "409 2135 926\n",
      "409 2137 927\n",
      "409 2140 930\n",
      "409 2145 930\n",
      "409 2148 931\n",
      "409 2150 935\n"
     ]
    },
    {
     "name": "stderr",
     "output_type": "stream",
     "text": [
      "b'Skipping line 10: expected 10 fields, saw 11\\nSkipping line 20: expected 10 fields, saw 12\\n'\n"
     ]
    },
    {
     "name": "stdout",
     "output_type": "stream",
     "text": [
      "421 2204 967\n",
      "421 2208 968\n",
      "423 2212 970\n",
      "424 2215 976\n"
     ]
    },
    {
     "name": "stderr",
     "output_type": "stream",
     "text": [
      "b'Skipping line 41: expected 10 fields, saw 11\\nSkipping line 42: expected 10 fields, saw 11\\n'\n"
     ]
    },
    {
     "name": "stdout",
     "output_type": "stream",
     "text": [
      "427 2256 987\n",
      "427 2262 989\n",
      "429 2264 991\n",
      "434 2269 996\n",
      "435 2270 997\n",
      "435 2276 1000\n",
      "446 2332 1018\n",
      "447 2337 1019\n",
      "447 2340 1019\n",
      "447 2341 1019\n"
     ]
    },
    {
     "name": "stderr",
     "output_type": "stream",
     "text": [
      "b'Skipping line 12: expected 10 fields, saw 11\\n'\n"
     ]
    },
    {
     "name": "stdout",
     "output_type": "stream",
     "text": [
      "447 2367 1023\n",
      "467 2396 1048\n",
      "468 2404 1054\n",
      "470 2408 1059\n",
      "476 2443 1066\n",
      "476 2446 1067\n",
      "478 2448 1069\n",
      "478 2453 1071\n",
      "481 2458 1075\n",
      "483 2462 1081\n",
      "486 2468 1085\n",
      "488 2490 1092\n",
      "494 2506 1104\n"
     ]
    },
    {
     "name": "stderr",
     "output_type": "stream",
     "text": [
      "b'Skipping line 28: expected 10 fields, saw 11\\n'\n"
     ]
    },
    {
     "name": "stdout",
     "output_type": "stream",
     "text": [
      "507 2582 1132\n",
      "509 2584 1144\n",
      "509 2606 1149\n",
      "509 2612 1162\n",
      "513 2626 1169\n",
      "514 2627 1170\n",
      "517 2642 1176\n"
     ]
    },
    {
     "name": "stderr",
     "output_type": "stream",
     "text": [
      "b'Skipping line 7: expected 10 fields, saw 11\\n'\n",
      "b'Skipping line 5: expected 10 fields, saw 11\\nSkipping line 9: expected 10 fields, saw 11\\n'\n"
     ]
    },
    {
     "name": "stdout",
     "output_type": "stream",
     "text": [
      "518 2649 1179\n",
      "518 2651 1180\n",
      "519 2654 1182\n",
      "519 2657 1182\n",
      "521 2665 1191\n",
      "521 2667 1193\n",
      "523 2673 1196\n",
      "523 2679 1197\n",
      "523 2683 1198\n",
      "523 2698 1202\n"
     ]
    },
    {
     "name": "stderr",
     "output_type": "stream",
     "text": [
      "b'Skipping line 2: expected 10 fields, saw 11\\n'\n"
     ]
    },
    {
     "name": "stdout",
     "output_type": "stream",
     "text": [
      "524 2706 1208\n",
      "528 2712 1213\n",
      "528 2713 1215\n",
      "531 2723 1220\n",
      "535 2727 1224\n",
      "535 2730 1225\n",
      "537 2734 1227\n",
      "537 2737 1228\n",
      "538 2743 1231\n",
      "538 2749 1231\n",
      "538 2750 1231\n",
      "539 2753 1238\n",
      "539 2757 1241\n",
      "542 2763 1245\n",
      "544 2769 1249\n",
      "544 2772 1250\n",
      "546 2774 1252\n",
      "547 2808 1265\n",
      "548 2810 1266\n",
      "550 2821 1273\n",
      "551 2828 1274\n",
      "553 2847 1282\n",
      "553 2852 1284\n",
      "553 2855 1285\n",
      "555 2859 1290\n",
      "557 2863 1307\n",
      "557 2865 1311\n",
      "557 2869 1312\n",
      "560 2875 1315\n",
      "561 2878 1317\n",
      "561 2879 1329\n",
      "562 2882 1331\n",
      "562 2887 1331\n",
      "565 2904 1339\n",
      "570 2911 1354\n",
      "570 3070 1354\n",
      "571 3075 1356\n",
      "577 3081 1370\n"
     ]
    },
    {
     "name": "stderr",
     "output_type": "stream",
     "text": [
      "b'Skipping line 10: expected 10 fields, saw 11\\nSkipping line 11: expected 10 fields, saw 11\\nSkipping line 29: expected 10 fields, saw 11\\n'\n"
     ]
    },
    {
     "name": "stdout",
     "output_type": "stream",
     "text": [
      "582 3118 1382\n",
      "583 3121 1383\n",
      "584 3137 1385\n",
      "585 3139 1387\n",
      "585 3140 1387\n",
      "585 3143 1388\n",
      "585 3145 1389\n",
      "585 3149 1393\n",
      "586 3153 1396\n",
      "586 3156 1396\n",
      "588 3159 1398\n"
     ]
    },
    {
     "name": "stderr",
     "output_type": "stream",
     "text": [
      "b'Skipping line 2: expected 10 fields, saw 11\\n'\n"
     ]
    },
    {
     "name": "stdout",
     "output_type": "stream",
     "text": [
      "590 3162 1402\n",
      "594 3166 1406\n",
      "594 3167 1427\n",
      "598 3197 1440\n",
      "598 3204 1441\n",
      "599 3221 1445\n",
      "599 3223 1446\n",
      "600 3226 1448\n",
      "600 3229 1449\n",
      "602 3235 1453\n",
      "604 3239 1455\n",
      "605 3244 1457\n",
      "607 3248 1461\n",
      "607 3289 1465\n",
      "607 3297 1465\n",
      "611 3307 1472\n",
      "612 3311 1473\n",
      "612 3313 1474\n",
      "612 3320 1487\n",
      "612 3329 1488\n",
      "612 3331 1489\n",
      "613 3332 1490\n",
      "614 3344 1499\n",
      "617 3347 1503\n",
      "620 3459 1510\n",
      "622 3467 1514\n",
      "622 3469 1516\n",
      "622 3472 1517\n",
      "623 3476 1519\n",
      "627 3480 1523\n",
      "632 3486 1528\n",
      "635 3509 1531\n",
      "638 3517 1535\n",
      "640 3521 1538\n",
      "642 3526 1542\n",
      "643 3534 1545\n",
      "650 3550 1554\n",
      "650 3553 1554\n",
      "650 3558 1555\n",
      "651 3561 1564\n",
      "651 3562 1564\n",
      "651 3574 1567\n",
      "652 3576 1571\n",
      "653 3577 1572\n",
      "654 3578 1573\n",
      "659 3597 1582\n",
      "661 3674 1599\n",
      "663 3680 1601\n",
      "663 3687 1603\n",
      "666 3697 1611\n",
      "666 3699 1612\n",
      "666 3704 1612\n",
      "666 3708 1614\n",
      "666 3714 1615\n",
      "667 3718 1617\n",
      "668 3726 1619\n",
      "668 3734 1620\n",
      "670 3738 1622\n",
      "671 3742 1624\n",
      "674 3749 1629\n",
      "677 3760 1634\n",
      "677 3766 1637\n"
     ]
    },
    {
     "name": "stderr",
     "output_type": "stream",
     "text": [
      "b'Skipping line 7: expected 10 fields, saw 11\\n'\n"
     ]
    },
    {
     "name": "stdout",
     "output_type": "stream",
     "text": [
      "678 3768 1640\n",
      "682 3803 1649\n",
      "683 3813 1651\n",
      "683 3820 1652\n",
      "711 4034 1720\n",
      "714 4037 1728\n",
      "715 4044 1731\n"
     ]
    },
    {
     "name": "stderr",
     "output_type": "stream",
     "text": [
      "b'Skipping line 14: expected 10 fields, saw 11\\nSkipping line 15: expected 10 fields, saw 11\\n'\n"
     ]
    },
    {
     "name": "stdout",
     "output_type": "stream",
     "text": [
      "724 4065 1749\n",
      "724 4079 1751\n",
      "724 4084 1752\n",
      "726 4090 1757\n",
      "727 4092 1758\n",
      "728 4113 1760\n"
     ]
    },
    {
     "name": "stderr",
     "output_type": "stream",
     "text": [
      "b'Skipping line 6: expected 10 fields, saw 11\\nSkipping line 8: expected 10 fields, saw 11\\n'\n"
     ]
    },
    {
     "name": "stdout",
     "output_type": "stream",
     "text": [
      "728 4121 1763\n",
      "729 4123 1765\n"
     ]
    },
    {
     "name": "stderr",
     "output_type": "stream",
     "text": [
      "b'Skipping line 2: expected 10 fields, saw 11\\n'\n"
     ]
    },
    {
     "name": "stdout",
     "output_type": "stream",
     "text": [
      "730 4125 1769\n",
      "730 4130 1770\n",
      "730 4132 1770\n",
      "730 4134 1771\n",
      "732 4140 1775\n",
      "738 4169 1792\n",
      "738 4170 1792\n",
      "740 4197 1801\n",
      "740 4198 1805\n",
      "740 4202 1811\n",
      "740 4208 1812\n",
      "743 4212 1816\n",
      "745 4218 1818\n",
      "747 4226 1824\n",
      "747 4228 1824\n",
      "749 4235 1827\n",
      "749 4239 1834\n",
      "749 4241 1835\n",
      "750 4242 1836\n",
      "753 4271 1846\n",
      "754 4275 1848\n",
      "756 4277 1850\n",
      "758 4280 1852\n",
      "760 4288 1855\n",
      "762 4292 1864\n",
      "762 4294 1864\n",
      "763 4296 1865\n",
      "764 4302 1867\n",
      "768 4349 1874\n",
      "772 4388 1879\n",
      "774 4394 1882\n",
      "776 4400 1886\n",
      "777 4406 1887\n",
      "781 4418 1893\n",
      "784 4422 1898\n",
      "789 4430 1903\n",
      "792 4433 1906\n",
      "792 4439 1907\n"
     ]
    },
    {
     "name": "stderr",
     "output_type": "stream",
     "text": [
      "b'Skipping line 2: expected 10 fields, saw 11\\nSkipping line 5: expected 10 fields, saw 11\\n'\n"
     ]
    },
    {
     "name": "stdout",
     "output_type": "stream",
     "text": [
      "794 4444 1914\n",
      "795 4445 1915\n",
      "795 4453 1917\n",
      "795 4459 1918\n"
     ]
    },
    {
     "name": "stderr",
     "output_type": "stream",
     "text": [
      "b'Skipping line 2: expected 10 fields, saw 11\\n'\n"
     ]
    },
    {
     "name": "stdout",
     "output_type": "stream",
     "text": [
      "796 4463 1919\n",
      "802 4506 1925\n",
      "808 4517 1934\n",
      "808 4520 1935\n",
      "810 4523 1937\n"
     ]
    },
    {
     "name": "stderr",
     "output_type": "stream",
     "text": [
      "b'Skipping line 12: expected 10 fields, saw 11\\n'\n"
     ]
    },
    {
     "name": "stdout",
     "output_type": "stream",
     "text": [
      "813 4534 1946\n",
      "819 4566 1957\n",
      "819 4568 1958\n",
      "829 4579 1968\n",
      "830 4580 1969\n",
      "835 4588 1978\n",
      "839 4593 1983\n",
      "839 4597 1985\n",
      "844 4618 1996\n",
      "845 4621 1998\n",
      "845 4623 2011\n",
      "848 4634 2017\n",
      "850 4643 2034\n",
      "851 4654 2037\n",
      "860 4714 2053\n",
      "860 4716 2054\n",
      "863 4723 2060\n",
      "864 4732 2061\n"
     ]
    },
    {
     "name": "stderr",
     "output_type": "stream",
     "text": [
      "b'Skipping line 7: expected 10 fields, saw 11\\n'\n"
     ]
    },
    {
     "name": "stdout",
     "output_type": "stream",
     "text": [
      "865 4744 2066\n",
      "867 4749 2068\n",
      "869 4755 2072\n",
      "871 4757 2074\n",
      "875 4781 2084\n",
      "878 4786 2094\n",
      "878 4793 2096\n",
      "880 4796 2098\n",
      "881 4810 2102\n",
      "883 4824 2108\n",
      "887 4870 2118\n",
      "889 4875 2122\n",
      "889 4893 2133\n",
      "889 4896 2137\n",
      "889 4900 2139\n",
      "890 4902 2144\n",
      "893 4922 2151\n",
      "895 4924 2153\n",
      "896 4932 2156\n",
      "898 4941 2160\n",
      "898 4942 2160\n",
      "898 4947 2161\n",
      "899 4949 2162\n",
      "899 4951 2164\n",
      "901 4954 2166\n",
      "904 4978 2170\n",
      "906 4985 2173\n",
      "910 4997 2180\n",
      "910 4999 2180\n",
      "915 5023 2190\n",
      "915 5028 2193\n",
      "916 5038 2196\n",
      "917 5044 2199\n",
      "917 5053 2203\n",
      "920 5057 2208\n",
      "929 5068 2217\n",
      "929 5070 2225\n",
      "929 5071 2225\n",
      "935 5088 2233\n",
      "936 5091 2234\n",
      "937 5093 2237\n",
      "938 5099 2239\n",
      "942 5119 2246\n",
      "944 5123 2249\n"
     ]
    },
    {
     "name": "stderr",
     "output_type": "stream",
     "text": [
      "b'Skipping line 2: expected 10 fields, saw 11\\n'\n"
     ]
    },
    {
     "name": "stdout",
     "output_type": "stream",
     "text": [
      "948 5127 2254\n",
      "948 5131 2255\n",
      "950 5133 2257\n",
      "952 5138 2260\n"
     ]
    },
    {
     "name": "stderr",
     "output_type": "stream",
     "text": [
      "b'Skipping line 4: expected 10 fields, saw 11\\n'\n"
     ]
    },
    {
     "name": "stdout",
     "output_type": "stream",
     "text": [
      "952 5144 2263\n",
      "953 5152 2265\n",
      "954 5153 2266\n",
      "962 5178 2280\n",
      "962 5180 2281\n",
      "963 5182 2282\n"
     ]
    },
    {
     "name": "stderr",
     "output_type": "stream",
     "text": [
      "b'Skipping line 3: expected 10 fields, saw 11\\n'\n"
     ]
    },
    {
     "name": "stdout",
     "output_type": "stream",
     "text": [
      "965 5206 2285\n",
      "966 5215 2290\n",
      "967 5241 2293\n",
      "968 5247 2295\n",
      "969 5250 2296\n",
      "972 5272 2301\n",
      "972 5276 2303\n",
      "972 5281 2306\n",
      "972 5282 2306\n",
      "973 5284 2308\n",
      "979 5297 2319\n",
      "981 5299 2321\n",
      "988 5307 2329\n",
      "989 5316 2336\n",
      "991 5320 2340\n",
      "991 5322 2342\n",
      "997 5329 2351\n",
      "997 5336 2354\n",
      "997 5337 2354\n",
      "998 5343 2356\n",
      "999 5344 2357\n",
      "1003 5399 2368\n",
      "1003 5411 2377\n",
      "1003 5414 2378\n",
      "1005 5448 2387\n",
      "1010 5458 2395\n",
      "1010 5465 2396\n",
      "1012 5469 2399\n",
      "1015 5473 2403\n",
      "1016 5476 2405\n",
      "1018 5481 2408\n",
      "1018 5486 2409\n"
     ]
    },
    {
     "name": "stderr",
     "output_type": "stream",
     "text": [
      "b'Skipping line 5: expected 10 fields, saw 11\\n'\n"
     ]
    },
    {
     "name": "stdout",
     "output_type": "stream",
     "text": [
      "1029 5518 2434\n"
     ]
    },
    {
     "name": "stderr",
     "output_type": "stream",
     "text": [
      "b'Skipping line 33: expected 10 fields, saw 11\\nSkipping line 36: expected 10 fields, saw 11\\n'\n"
     ]
    },
    {
     "name": "stdout",
     "output_type": "stream",
     "text": [
      "1035 5571 2451\n",
      "1036 5573 2453\n",
      "1036 5575 2453\n",
      "1040 5585 2472\n",
      "1040 5588 2472\n"
     ]
    },
    {
     "name": "stderr",
     "output_type": "stream",
     "text": [
      "b'Skipping line 14: expected 10 fields, saw 11\\n'\n"
     ]
    },
    {
     "name": "stdout",
     "output_type": "stream",
     "text": [
      "1042 5602 2478\n",
      "1044 5625 2484\n",
      "1046 5629 2486\n"
     ]
    },
    {
     "name": "stderr",
     "output_type": "stream",
     "text": [
      "b'Skipping line 9: expected 10 fields, saw 11\\n'\n"
     ]
    },
    {
     "name": "stdout",
     "output_type": "stream",
     "text": [
      "1048 5642 2493\n",
      "1049 5644 2497\n",
      "1050 5645 2498\n",
      "1057 5687 2510\n",
      "1057 5690 2511\n",
      "1066 5704 2525\n",
      "1067 5716 2529\n",
      "1067 5718 2534\n",
      "1068 5721 2537\n",
      "1068 5724 2537\n",
      "1069 5728 2539\n",
      "1072 5737 2543\n",
      "1073 5738 2544\n",
      "1073 5742 2545\n",
      "1074 5745 2547\n",
      "1076 5747 2549\n",
      "1077 5749 2551\n"
     ]
    },
    {
     "name": "stderr",
     "output_type": "stream",
     "text": [
      "b'Skipping line 50: expected 10 fields, saw 11\\n'\n"
     ]
    },
    {
     "name": "stdout",
     "output_type": "stream",
     "text": [
      "1081 5807 2574\n",
      "1082 5812 2576\n",
      "1082 5813 2576\n",
      "1088 5823 2584\n",
      "1094 5830 2592\n",
      "1095 5832 2593\n",
      "1095 5845 2594\n",
      "1097 5850 2600\n"
     ]
    },
    {
     "name": "stderr",
     "output_type": "stream",
     "text": [
      "b'Skipping line 3: expected 10 fields, saw 11\\n'\n"
     ]
    },
    {
     "name": "stdout",
     "output_type": "stream",
     "text": [
      "1099 5855 2603\n",
      "1104 5862 2619\n",
      "1106 5868 2625\n",
      "1108 5873 2628\n",
      "1108 5877 2629\n",
      "1120 5927 2655\n",
      "1120 5936 2658\n",
      "1121 5941 2664\n",
      "1122 5943 2665\n"
     ]
    },
    {
     "name": "stderr",
     "output_type": "stream",
     "text": [
      "b'Skipping line 63: expected 10 fields, saw 11\\n'\n"
     ]
    },
    {
     "name": "stdout",
     "output_type": "stream",
     "text": [
      "1127 6014 2686\n",
      "1127 6023 2689\n",
      "1131 6047 2701\n",
      "1132 6053 2703\n",
      "1133 6059 2705\n",
      "1136 6067 2708\n",
      "1138 6076 2711\n"
     ]
    },
    {
     "name": "stderr",
     "output_type": "stream",
     "text": [
      "b'Skipping line 53: expected 10 fields, saw 11\\nSkipping line 61: expected 10 fields, saw 11\\nSkipping line 105: expected 10 fields, saw 11\\nSkipping line 106: expected 10 fields, saw 11\\nSkipping line 108: expected 10 fields, saw 11\\n'\n"
     ]
    },
    {
     "name": "stdout",
     "output_type": "stream",
     "text": [
      "1149 6190 2758\n",
      "1151 6192 2760\n",
      "1151 6200 2762\n",
      "1155 6208 2769\n",
      "1156 6221 2772\n",
      "1156 6225 2774\n",
      "1156 6229 2775\n"
     ]
    },
    {
     "name": "stderr",
     "output_type": "stream",
     "text": [
      "b'Skipping line 8: expected 10 fields, saw 11\\n'\n"
     ]
    },
    {
     "name": "stdout",
     "output_type": "stream",
     "text": [
      "1160 6243 2786\n",
      "1160 6244 2786\n",
      "1162 6253 2790\n",
      "1162 6259 2792\n",
      "1163 6260 2793\n",
      "1164 6262 2795\n"
     ]
    },
    {
     "name": "stderr",
     "output_type": "stream",
     "text": [
      "b'Skipping line 9: expected 10 fields, saw 11\\nSkipping line 20: expected 10 fields, saw 11\\nSkipping line 22: expected 10 fields, saw 11\\n'\n"
     ]
    },
    {
     "name": "stdout",
     "output_type": "stream",
     "text": [
      "1174 6293 2823\n",
      "1175 6315 2826\n",
      "1178 6319 2829\n",
      "1181 6340 2842\n",
      "1182 6343 2844\n",
      "1182 6344 2845\n"
     ]
    },
    {
     "name": "stderr",
     "output_type": "stream",
     "text": [
      "b'Skipping line 2: expected 10 fields, saw 11\\n'\n"
     ]
    },
    {
     "name": "stdout",
     "output_type": "stream",
     "text": [
      "1182 6350 2848\n",
      "1186 6357 2854\n",
      "1188 6361 2857\n",
      "1190 6393 2862\n",
      "1191 6398 2865\n",
      "1192 6402 2871\n"
     ]
    },
    {
     "name": "stderr",
     "output_type": "stream",
     "text": [
      "b'Skipping line 30: expected 10 fields, saw 12\\nSkipping line 32: expected 10 fields, saw 11\\nSkipping line 92: expected 10 fields, saw 11\\nSkipping line 103: expected 10 fields, saw 11\\n'\n"
     ]
    },
    {
     "name": "stdout",
     "output_type": "stream",
     "text": [
      "1229 6537 2933\n",
      "1235 6548 2940\n",
      "1235 6555 2941\n",
      "1238 6561 2945\n"
     ]
    },
    {
     "name": "stderr",
     "output_type": "stream",
     "text": [
      "b'Skipping line 4: expected 10 fields, saw 11\\n'\n"
     ]
    },
    {
     "name": "stdout",
     "output_type": "stream",
     "text": [
      "1240 6565 2949\n",
      "1242 6570 2953\n",
      "1243 6577 2955\n"
     ]
    },
    {
     "name": "stderr",
     "output_type": "stream",
     "text": [
      "b'Skipping line 24: expected 10 fields, saw 11\\n'\n"
     ]
    },
    {
     "name": "stdout",
     "output_type": "stream",
     "text": [
      "1250 6639 2975\n",
      "1253 6666 2981\n"
     ]
    },
    {
     "name": "stderr",
     "output_type": "stream",
     "text": [
      "b'Skipping line 161: expected 10 fields, saw 11\\n'\n"
     ]
    },
    {
     "name": "stdout",
     "output_type": "stream",
     "text": [
      "1288 6828 3043\n",
      "1288 6831 3044\n",
      "1292 6843 3064\n",
      "1292 6849 3065\n",
      "1299 6880 3073\n",
      "1299 6883 3074\n",
      "1301 6885 3076\n",
      "1302 6890 3078\n",
      "1303 6892 3080\n",
      "1305 6895 3082\n",
      "1305 6897 3083\n",
      "1308 6900 3087\n",
      "1308 6917 3094\n",
      "1309 6921 3097\n",
      "1311 6928 3100\n",
      "1312 6929 3101\n",
      "1312 6931 3102\n",
      "1313 6933 3103\n",
      "1314 6975 3108\n",
      "1314 6978 3110\n",
      "1314 6980 3111\n",
      "1314 6983 3111\n",
      "1314 6988 3113\n",
      "1314 6991 3118\n",
      "1315 6995 3120\n"
     ]
    },
    {
     "name": "stderr",
     "output_type": "stream",
     "text": [
      "b'Skipping line 16: expected 10 fields, saw 11\\n'\n"
     ]
    },
    {
     "name": "stdout",
     "output_type": "stream",
     "text": [
      "1328 7012 3141\n",
      "1328 7013 3142\n",
      "1328 7021 3149\n"
     ]
    },
    {
     "name": "stderr",
     "output_type": "stream",
     "text": [
      "b'Skipping line 12: expected 10 fields, saw 11\\n'\n"
     ]
    },
    {
     "name": "stdout",
     "output_type": "stream",
     "text": [
      "1333 7038 3165\n",
      "1334 7050 3169\n",
      "1338 7059 3178\n",
      "1340 7068 3181\n",
      "1341 7074 3182\n",
      "1344 7080 3187\n",
      "1345 7083 3189\n"
     ]
    },
    {
     "name": "stderr",
     "output_type": "stream",
     "text": [
      "b'Skipping line 3: expected 10 fields, saw 11\\n'\n"
     ]
    },
    {
     "name": "stdout",
     "output_type": "stream",
     "text": [
      "1348 7092 3194\n",
      "1348 7095 3197\n",
      "1349 7106 3201\n",
      "1351 7115 3205\n",
      "1357 7133 3225\n",
      "1358 7142 3227\n",
      "1359 7204 3230\n",
      "1361 7206 3232\n",
      "1371 7362 3259\n",
      "1372 7367 3261\n",
      "1372 7368 3263\n",
      "1374 7370 3269\n",
      "1375 7373 3275\n",
      "1375 7384 3275\n",
      "1377 7392 3283\n",
      "1381 7400 3289\n",
      "1382 7403 3292\n",
      "1385 7406 3295\n",
      "1389 7423 3303\n",
      "1389 7424 3303\n",
      "1390 7431 3305\n",
      "1393 7437 3309\n",
      "1393 7445 3311\n",
      "1394 7446 3312\n",
      "1396 7455 3317\n",
      "1400 7494 3325\n",
      "1401 7504 3328\n",
      "1401 7513 3328\n",
      "1402 7516 3330\n",
      "1403 7531 3331\n",
      "1403 7541 3334\n",
      "1406 7544 3337\n",
      "1406 7555 3339\n",
      "1406 7557 3339\n",
      "1408 7559 3341\n",
      "1408 7564 3344\n",
      "1409 7566 3345\n",
      "1411 7569 3348\n",
      "1413 7575 3350\n",
      "1413 7581 3354\n",
      "1413 7585 3354\n",
      "1416 7595 3358\n",
      "1418 7598 3360\n",
      "1419 7601 3361\n",
      "1420 7604 3364\n",
      "1423 7611 3368\n",
      "1424 7612 3369\n",
      "1424 7626 3383\n",
      "1424 7632 3385\n",
      "1425 7636 3387\n",
      "1426 7642 3394\n",
      "1426 7643 3395\n",
      "1426 7647 3397\n",
      "1426 7658 3399\n",
      "1435 7718 3421\n",
      "1446 7732 3446\n",
      "1448 7734 3450\n",
      "1448 7744 3451\n",
      "1448 7750 3452\n",
      "1448 7751 3453\n",
      "1451 7758 3464\n"
     ]
    },
    {
     "name": "stderr",
     "output_type": "stream",
     "text": [
      "b'Skipping line 22: expected 10 fields, saw 11\\nSkipping line 25: expected 10 fields, saw 11\\n'\n"
     ]
    },
    {
     "name": "stdout",
     "output_type": "stream",
     "text": [
      "1460 7783 3489\n",
      "1462 7787 3491\n",
      "1464 7792 3494\n",
      "1466 7800 3497\n",
      "1466 7802 3501\n",
      "1468 7806 3504\n",
      "1481 7836 3524\n",
      "1485 7841 3530\n",
      "1486 7848 3533\n",
      "1486 7851 3535\n",
      "1488 7876 3544\n",
      "1491 7880 3548\n",
      "1491 7883 3555\n",
      "1492 7885 3556\n",
      "1495 7889 3559\n",
      "1495 7896 3561\n",
      "1497 7899 3563\n",
      "1497 7904 3564\n"
     ]
    },
    {
     "name": "stderr",
     "output_type": "stream",
     "text": [
      "b'Skipping line 27: expected 10 fields, saw 11\\nSkipping line 28: expected 10 fields, saw 11\\n'\n"
     ]
    },
    {
     "name": "stdout",
     "output_type": "stream",
     "text": [
      "1505 7940 3580\n",
      "1505 7944 3583\n",
      "1506 7956 3585\n",
      "1507 7975 3591\n",
      "1511 7988 3598\n",
      "1512 7990 3606\n",
      "1513 7993 3610\n",
      "1515 8022 3618\n",
      "1515 8026 3621\n",
      "1516 8038 3624\n",
      "1517 8040 3628\n",
      "1521 8045 3633\n",
      "1525 8049 3637\n",
      "1526 8084 3645\n",
      "1526 8092 3646\n",
      "1526 8099 3648\n",
      "1529 8106 3653\n",
      "1532 8110 3656\n",
      "1541 8131 3669\n",
      "1543 8134 3673\n",
      "1544 8141 3675\n",
      "1552 8188 3689\n",
      "1554 8194 3692\n",
      "1554 8195 3692\n",
      "1555 8200 3696\n",
      "1560 8212 3701\n",
      "1560 8214 3704\n",
      "1561 8230 3713\n",
      "1562 8239 3715\n",
      "1570 8251 3726\n",
      "1572 8254 3731\n",
      "1573 8255 3732\n",
      "1575 8281 3740\n",
      "1576 8285 3742\n",
      "1579 8288 3747\n",
      "1584 8294 3752\n",
      "1588 8300 3756\n",
      "1592 8306 3764\n",
      "1594 8330 3769\n",
      "1599 8348 3778\n",
      "1600 8351 3780\n",
      "1601 8356 3782\n",
      "ep15\n",
      "1 3 2\n",
      "1 5 3\n",
      "2 7 4\n",
      "3 17 8\n"
     ]
    },
    {
     "name": "stderr",
     "output_type": "stream",
     "text": [
      "b'Skipping line 17: expected 10 fields, saw 11\\nSkipping line 37: expected 10 fields, saw 11\\n'\n"
     ]
    },
    {
     "name": "stdout",
     "output_type": "stream",
     "text": [
      "3 105 38\n",
      "24 130 64\n",
      "25 135 66\n",
      "27 148 69\n",
      "27 151 70\n",
      "28 210 73\n",
      "29 212 76\n",
      "36 219 86\n",
      "37 221 89\n",
      "42 235 99\n",
      "42 236 99\n",
      "43 243 103\n",
      "47 248 107\n",
      "47 253 108\n",
      "52 267 116\n",
      "53 269 118\n",
      "54 272 120\n",
      "55 281 123\n",
      "56 285 125\n",
      "58 289 127\n",
      "59 290 129\n"
     ]
    },
    {
     "name": "stderr",
     "output_type": "stream",
     "text": [
      "b'Skipping line 3: expected 10 fields, saw 11\\nSkipping line 5: expected 10 fields, saw 11\\n'\n"
     ]
    },
    {
     "name": "stdout",
     "output_type": "stream",
     "text": [
      "59 293 131\n",
      "61 295 133\n",
      "62 351 140\n",
      "63 353 143\n",
      "63 360 146\n"
     ]
    },
    {
     "name": "stderr",
     "output_type": "stream",
     "text": [
      "b'Skipping line 4: expected 10 fields, saw 11\\n'\n"
     ]
    },
    {
     "name": "stdout",
     "output_type": "stream",
     "text": [
      "64 381 147\n",
      "75 410 164\n",
      "76 415 166\n",
      "76 420 167\n",
      "80 469 186\n",
      "82 480 191\n",
      "82 489 193\n",
      "83 493 197\n",
      "84 502 200\n",
      "84 504 200\n",
      "86 509 202\n",
      "88 518 204\n",
      "88 519 204\n",
      "89 520 205\n",
      "89 527 205\n",
      "91 533 208\n",
      "91 534 208\n",
      "92 535 209\n"
     ]
    },
    {
     "name": "stderr",
     "output_type": "stream",
     "text": [
      "b'Skipping line 4: expected 10 fields, saw 11\\n'\n"
     ]
    },
    {
     "name": "stdout",
     "output_type": "stream",
     "text": [
      "97 543 219\n",
      "97 544 219\n",
      "97 571 222\n",
      "97 574 222\n",
      "101 582 229\n",
      "101 583 230\n",
      "103 589 232\n",
      "104 595 234\n",
      "115 627 253\n",
      "117 631 256\n",
      "117 643 258\n",
      "120 647 261\n",
      "122 651 265\n",
      "123 655 267\n",
      "124 656 268\n",
      "125 694 270\n",
      "126 696 271\n",
      "128 698 275\n"
     ]
    },
    {
     "name": "stderr",
     "output_type": "stream",
     "text": [
      "b'Skipping line 8: expected 10 fields, saw 11\\nSkipping line 9: expected 10 fields, saw 11\\nSkipping line 15: expected 10 fields, saw 11\\n'\n"
     ]
    },
    {
     "name": "stdout",
     "output_type": "stream",
     "text": [
      "135 710 289\n",
      "135 711 290\n",
      "135 719 292\n",
      "135 720 292\n",
      "152 796 336\n",
      "152 799 338\n"
     ]
    },
    {
     "name": "stderr",
     "output_type": "stream",
     "text": [
      "b'Skipping line 2: expected 10 fields, saw 11\\n'\n"
     ]
    },
    {
     "name": "stdout",
     "output_type": "stream",
     "text": [
      "155 821 342\n",
      "156 824 344\n",
      "160 828 348\n"
     ]
    },
    {
     "name": "stderr",
     "output_type": "stream",
     "text": [
      "b'Skipping line 8: expected 10 fields, saw 11\\n'\n"
     ]
    },
    {
     "name": "stdout",
     "output_type": "stream",
     "text": [
      "161 841 350\n",
      "161 846 351\n",
      "163 848 353\n",
      "164 861 354\n",
      "167 867 359\n",
      "167 873 359\n",
      "167 876 361\n",
      "168 879 364\n",
      "172 883 368\n",
      "177 888 373\n",
      "178 889 374\n",
      "178 898 376\n",
      "178 907 376\n",
      "179 908 377\n",
      "183 952 401\n",
      "183 963 404\n",
      "185 965 407\n",
      "185 970 408\n",
      "185 992 430\n",
      "190 1007 437\n",
      "190 1012 438\n",
      "192 1017 442\n",
      "192 1025 447\n",
      "197 1075 463\n",
      "198 1081 465\n",
      "199 1088 468\n",
      "199 1089 469\n",
      "200 1092 470\n",
      "203 1096 491\n",
      "203 1099 491\n",
      "207 1104 497\n",
      "209 1108 500\n",
      "209 1126 503\n",
      "209 1151 506\n",
      "210 1155 508\n",
      "212 1160 511\n",
      "215 1168 515\n",
      "215 1170 516\n",
      "220 1176 521\n",
      "221 1179 527\n",
      "222 1183 529\n",
      "222 1189 530\n",
      "228 1196 537\n",
      "228 1197 539\n",
      "230 1201 541\n",
      "237 1224 554\n",
      "240 1229 557\n",
      "240 1237 560\n",
      "244 1243 565\n",
      "244 1244 566\n",
      "246 1247 568\n",
      "247 1251 570\n",
      "255 1270 581\n",
      "257 1272 583\n",
      "257 1280 584\n",
      "257 1281 585\n",
      "259 1284 587\n",
      "260 1287 590\n",
      "260 1289 592\n",
      "261 1291 593\n",
      "264 1307 598\n",
      "264 1312 599\n",
      "264 1339 600\n",
      "274 1349 610\n",
      "274 1353 610\n",
      "277 1399 616\n",
      "277 1403 617\n",
      "277 1409 617\n",
      "279 1414 629\n",
      "279 1418 631\n",
      "279 1420 631\n",
      "281 1424 633\n",
      "284 1440 640\n",
      "286 1442 642\n",
      "289 1449 645\n",
      "291 1455 649\n",
      "291 1462 649\n",
      "295 1489 656\n",
      "297 1491 658\n",
      "297 1494 659\n"
     ]
    },
    {
     "name": "stderr",
     "output_type": "stream",
     "text": [
      "b'Skipping line 4: expected 10 fields, saw 11\\n'\n"
     ]
    },
    {
     "name": "stdout",
     "output_type": "stream",
     "text": [
      "297 1497 661\n",
      "297 1502 664\n",
      "305 1515 676\n",
      "307 1524 680\n",
      "310 1529 683\n",
      "311 1530 684\n",
      "312 1531 685\n",
      "312 1534 685\n",
      "314 1537 688\n",
      "314 1540 688\n",
      "315 1542 689\n",
      "317 1547 715\n",
      "318 1557 718\n",
      "318 1559 718\n",
      "318 1564 721\n",
      "318 1570 723\n",
      "318 1574 724\n",
      "320 1595 731\n",
      "320 1597 732\n",
      "320 1609 734\n",
      "321 1612 738\n",
      "323 1652 743\n",
      "323 1659 744\n",
      "323 1661 746\n",
      "323 1669 747\n",
      "324 1670 748\n",
      "324 1695 748\n",
      "327 1700 756\n",
      "328 1703 759\n",
      "328 1712 761\n"
     ]
    },
    {
     "name": "stderr",
     "output_type": "stream",
     "text": [
      "b'Skipping line 5: expected 10 fields, saw 11\\n'\n"
     ]
    },
    {
     "name": "stdout",
     "output_type": "stream",
     "text": [
      "331 1724 769\n",
      "339 1737 777\n",
      "342 1746 781\n",
      "344 1750 785\n",
      "344 1776 785\n",
      "345 1781 788\n",
      "347 1784 791\n",
      "347 1790 792\n",
      "347 1795 793\n",
      "350 1799 796\n",
      "351 1807 799\n",
      "354 1810 802\n",
      "354 1813 802\n",
      "355 1818 803\n",
      "357 1821 809\n",
      "361 1832 814\n",
      "361 1834 814\n",
      "363 1839 822\n",
      "366 1852 827\n",
      "368 1857 831\n",
      "369 1861 835\n",
      "374 1866 844\n",
      "376 1889 852\n",
      "377 1890 853\n",
      "379 1934 855\n"
     ]
    },
    {
     "name": "stderr",
     "output_type": "stream",
     "text": [
      "b'Skipping line 31: expected 10 fields, saw 11\\nSkipping line 62: expected 10 fields, saw 11\\nSkipping line 68: expected 10 fields, saw 11\\n'\n"
     ]
    },
    {
     "name": "stdout",
     "output_type": "stream",
     "text": [
      "379 2005 860\n",
      "385 2025 871\n",
      "385 2026 873\n",
      "387 2034 885\n",
      "388 2037 888\n",
      "388 2039 892\n",
      "388 2047 902\n",
      "397 2057 911\n",
      "397 2074 913\n",
      "407 2086 927\n",
      "407 2091 930\n",
      "409 2093 932\n",
      "410 2094 934\n",
      "413 2099 937\n",
      "413 2104 939\n",
      "417 2111 943\n",
      "419 2115 945\n",
      "419 2135 950\n",
      "419 2137 951\n",
      "419 2140 954\n",
      "419 2145 954\n",
      "419 2148 955\n",
      "419 2150 957\n"
     ]
    },
    {
     "name": "stderr",
     "output_type": "stream",
     "text": [
      "b'Skipping line 10: expected 10 fields, saw 11\\nSkipping line 20: expected 10 fields, saw 12\\n'\n"
     ]
    },
    {
     "name": "stdout",
     "output_type": "stream",
     "text": [
      "433 2204 987\n",
      "433 2208 988\n",
      "435 2212 990\n",
      "436 2215 995\n"
     ]
    },
    {
     "name": "stderr",
     "output_type": "stream",
     "text": [
      "b'Skipping line 41: expected 10 fields, saw 11\\nSkipping line 42: expected 10 fields, saw 11\\n'\n"
     ]
    },
    {
     "name": "stdout",
     "output_type": "stream",
     "text": [
      "439 2256 1007\n",
      "439 2262 1009\n",
      "441 2264 1011\n",
      "446 2269 1016\n",
      "447 2270 1017\n",
      "449 2276 1020\n",
      "459 2332 1039\n",
      "460 2337 1040\n",
      "460 2340 1040\n",
      "460 2341 1040\n"
     ]
    },
    {
     "name": "stderr",
     "output_type": "stream",
     "text": [
      "b'Skipping line 12: expected 10 fields, saw 11\\n'\n"
     ]
    },
    {
     "name": "stdout",
     "output_type": "stream",
     "text": [
      "460 2367 1044\n",
      "481 2396 1070\n",
      "482 2404 1075\n",
      "484 2408 1083\n",
      "490 2443 1090\n",
      "490 2446 1091\n",
      "492 2448 1093\n",
      "492 2453 1095\n",
      "495 2458 1100\n",
      "497 2462 1109\n",
      "500 2468 1114\n",
      "502 2490 1120\n",
      "509 2506 1133\n"
     ]
    },
    {
     "name": "stderr",
     "output_type": "stream",
     "text": [
      "b'Skipping line 28: expected 10 fields, saw 11\\n'\n"
     ]
    },
    {
     "name": "stdout",
     "output_type": "stream",
     "text": [
      "522 2582 1162\n",
      "524 2584 1172\n",
      "524 2606 1177\n",
      "524 2612 1195\n",
      "529 2626 1203\n",
      "530 2627 1204\n",
      "533 2642 1210\n"
     ]
    },
    {
     "name": "stderr",
     "output_type": "stream",
     "text": [
      "b'Skipping line 7: expected 10 fields, saw 11\\n'\n",
      "b'Skipping line 5: expected 10 fields, saw 11\\nSkipping line 9: expected 10 fields, saw 11\\n'\n"
     ]
    },
    {
     "name": "stdout",
     "output_type": "stream",
     "text": [
      "534 2649 1213\n",
      "534 2651 1213\n",
      "535 2654 1216\n",
      "535 2657 1216\n",
      "537 2665 1225\n",
      "538 2667 1227\n",
      "540 2673 1230\n",
      "541 2679 1232\n",
      "541 2683 1233\n",
      "541 2698 1237\n"
     ]
    },
    {
     "name": "stderr",
     "output_type": "stream",
     "text": [
      "b'Skipping line 2: expected 10 fields, saw 11\\n'\n"
     ]
    },
    {
     "name": "stdout",
     "output_type": "stream",
     "text": [
      "542 2706 1244\n",
      "546 2712 1249\n",
      "546 2713 1253\n",
      "549 2723 1258\n",
      "553 2727 1262\n",
      "553 2730 1263\n",
      "555 2734 1265\n",
      "555 2737 1268\n",
      "556 2743 1271\n",
      "556 2749 1271\n",
      "556 2750 1271\n",
      "557 2753 1277\n",
      "557 2757 1280\n",
      "560 2763 1284\n",
      "562 2769 1289\n",
      "562 2772 1290\n",
      "564 2774 1292\n",
      "565 2808 1305\n",
      "566 2810 1306\n",
      "568 2821 1313\n",
      "569 2828 1314\n",
      "571 2847 1322\n",
      "571 2852 1325\n",
      "571 2855 1327\n",
      "572 2859 1332\n",
      "575 2863 1346\n",
      "575 2865 1350\n",
      "575 2869 1351\n",
      "577 2875 1354\n",
      "578 2878 1356\n",
      "578 2879 1367\n",
      "579 2882 1369\n",
      "579 2887 1369\n",
      "582 2904 1377\n",
      "587 2911 1392\n",
      "587 3070 1392\n",
      "588 3075 1394\n",
      "594 3081 1407\n"
     ]
    },
    {
     "name": "stderr",
     "output_type": "stream",
     "text": [
      "b'Skipping line 10: expected 10 fields, saw 11\\nSkipping line 11: expected 10 fields, saw 11\\nSkipping line 29: expected 10 fields, saw 11\\n'\n"
     ]
    },
    {
     "name": "stdout",
     "output_type": "stream",
     "text": [
      "599 3118 1420\n",
      "600 3121 1421\n",
      "601 3137 1424\n",
      "602 3139 1426\n",
      "602 3140 1426\n",
      "602 3143 1427\n",
      "602 3145 1428\n",
      "602 3149 1433\n",
      "603 3153 1436\n",
      "603 3156 1436\n",
      "605 3159 1438\n"
     ]
    },
    {
     "name": "stderr",
     "output_type": "stream",
     "text": [
      "b'Skipping line 2: expected 10 fields, saw 11\\n'\n"
     ]
    },
    {
     "name": "stdout",
     "output_type": "stream",
     "text": [
      "607 3162 1443\n",
      "611 3166 1447\n",
      "611 3167 1469\n",
      "615 3197 1483\n",
      "615 3204 1484\n",
      "616 3221 1489\n",
      "616 3223 1490\n",
      "617 3226 1492\n",
      "617 3229 1493\n",
      "619 3235 1497\n",
      "621 3239 1499\n",
      "622 3244 1501\n",
      "624 3248 1505\n",
      "624 3289 1509\n",
      "624 3297 1509\n",
      "628 3307 1515\n",
      "629 3311 1516\n",
      "629 3313 1517\n",
      "629 3320 1530\n",
      "629 3329 1532\n",
      "629 3331 1533\n",
      "630 3332 1534\n",
      "631 3344 1544\n",
      "634 3347 1548\n",
      "637 3459 1555\n",
      "639 3467 1558\n",
      "640 3469 1559\n",
      "640 3472 1560\n",
      "641 3476 1562\n",
      "645 3480 1566\n",
      "650 3486 1571\n",
      "653 3509 1574\n",
      "656 3517 1578\n",
      "658 3521 1581\n",
      "660 3526 1585\n",
      "661 3534 1588\n",
      "668 3550 1597\n",
      "668 3553 1597\n",
      "668 3558 1598\n",
      "669 3561 1607\n",
      "669 3562 1609\n",
      "669 3574 1612\n",
      "670 3576 1616\n",
      "671 3577 1618\n",
      "672 3578 1619\n",
      "677 3597 1628\n",
      "678 3674 1647\n",
      "680 3680 1649\n",
      "680 3687 1652\n",
      "683 3697 1659\n",
      "683 3699 1661\n",
      "683 3704 1661\n",
      "683 3708 1663\n",
      "683 3714 1664\n",
      "684 3718 1666\n",
      "685 3726 1668\n",
      "685 3734 1669\n",
      "687 3738 1671\n",
      "688 3742 1673\n",
      "691 3749 1678\n",
      "693 3760 1682\n",
      "693 3766 1685\n"
     ]
    },
    {
     "name": "stderr",
     "output_type": "stream",
     "text": [
      "b'Skipping line 7: expected 10 fields, saw 11\\n'\n"
     ]
    },
    {
     "name": "stdout",
     "output_type": "stream",
     "text": [
      "694 3768 1687\n",
      "700 3803 1697\n",
      "701 3813 1701\n",
      "701 3820 1702\n",
      "730 4034 1768\n",
      "733 4037 1776\n",
      "734 4044 1779\n"
     ]
    },
    {
     "name": "stderr",
     "output_type": "stream",
     "text": [
      "b'Skipping line 14: expected 10 fields, saw 11\\nSkipping line 15: expected 10 fields, saw 11\\n'\n"
     ]
    },
    {
     "name": "stdout",
     "output_type": "stream",
     "text": [
      "744 4065 1797\n",
      "744 4079 1798\n",
      "744 4084 1799\n",
      "746 4090 1806\n",
      "747 4092 1807\n",
      "748 4113 1809\n"
     ]
    },
    {
     "name": "stderr",
     "output_type": "stream",
     "text": [
      "b'Skipping line 6: expected 10 fields, saw 11\\nSkipping line 8: expected 10 fields, saw 11\\n'\n"
     ]
    },
    {
     "name": "stdout",
     "output_type": "stream",
     "text": [
      "748 4121 1812\n",
      "749 4123 1814\n"
     ]
    },
    {
     "name": "stderr",
     "output_type": "stream",
     "text": [
      "b'Skipping line 2: expected 10 fields, saw 11\\n'\n"
     ]
    },
    {
     "name": "stdout",
     "output_type": "stream",
     "text": [
      "750 4125 1818\n",
      "750 4130 1819\n",
      "750 4132 1819\n",
      "750 4134 1820\n",
      "752 4140 1824\n",
      "758 4169 1839\n",
      "758 4170 1839\n",
      "760 4197 1848\n",
      "760 4198 1850\n",
      "760 4202 1856\n",
      "760 4208 1857\n",
      "763 4212 1861\n",
      "765 4218 1863\n",
      "767 4226 1869\n",
      "767 4228 1869\n",
      "769 4235 1873\n",
      "769 4239 1881\n",
      "769 4241 1882\n",
      "770 4242 1883\n",
      "773 4271 1892\n",
      "774 4275 1894\n",
      "776 4277 1896\n",
      "778 4280 1898\n",
      "780 4288 1901\n",
      "782 4292 1911\n",
      "782 4294 1911\n",
      "783 4296 1912\n",
      "784 4302 1913\n",
      "788 4349 1919\n",
      "792 4388 1924\n",
      "794 4394 1927\n",
      "797 4400 1932\n",
      "798 4406 1933\n",
      "802 4418 1939\n",
      "805 4422 1944\n",
      "810 4430 1949\n",
      "813 4433 1952\n",
      "813 4439 1953\n"
     ]
    },
    {
     "name": "stderr",
     "output_type": "stream",
     "text": [
      "b'Skipping line 2: expected 10 fields, saw 11\\nSkipping line 5: expected 10 fields, saw 11\\n'\n"
     ]
    },
    {
     "name": "stdout",
     "output_type": "stream",
     "text": [
      "816 4444 1960\n",
      "817 4445 1961\n",
      "817 4453 1963\n",
      "817 4459 1964\n"
     ]
    },
    {
     "name": "stderr",
     "output_type": "stream",
     "text": [
      "b'Skipping line 2: expected 10 fields, saw 11\\n'\n"
     ]
    },
    {
     "name": "stdout",
     "output_type": "stream",
     "text": [
      "818 4463 1965\n",
      "824 4506 1971\n",
      "830 4517 1980\n",
      "830 4520 1981\n",
      "832 4523 1983\n"
     ]
    },
    {
     "name": "stderr",
     "output_type": "stream",
     "text": [
      "b'Skipping line 12: expected 10 fields, saw 11\\n'\n"
     ]
    },
    {
     "name": "stdout",
     "output_type": "stream",
     "text": [
      "835 4534 1993\n",
      "841 4566 2004\n",
      "841 4568 2005\n",
      "851 4579 2015\n",
      "852 4580 2016\n",
      "858 4588 2025\n",
      "862 4593 2030\n",
      "862 4597 2033\n",
      "867 4618 2044\n",
      "868 4621 2047\n",
      "868 4623 2061\n",
      "871 4634 2067\n",
      "873 4643 2084\n",
      "874 4654 2087\n",
      "883 4714 2103\n",
      "883 4716 2104\n",
      "886 4723 2111\n",
      "887 4732 2112\n"
     ]
    },
    {
     "name": "stderr",
     "output_type": "stream",
     "text": [
      "b'Skipping line 7: expected 10 fields, saw 11\\n'\n"
     ]
    },
    {
     "name": "stdout",
     "output_type": "stream",
     "text": [
      "888 4744 2117\n",
      "890 4749 2119\n",
      "892 4755 2123\n",
      "894 4757 2125\n",
      "898 4781 2135\n",
      "901 4786 2146\n",
      "901 4793 2148\n",
      "903 4796 2150\n",
      "904 4810 2154\n",
      "906 4824 2160\n",
      "910 4870 2170\n",
      "912 4875 2173\n",
      "912 4893 2183\n",
      "912 4896 2187\n",
      "912 4900 2189\n",
      "913 4902 2194\n",
      "918 4922 2201\n",
      "920 4924 2203\n",
      "921 4932 2206\n",
      "924 4941 2210\n",
      "924 4942 2210\n",
      "924 4947 2211\n",
      "925 4949 2212\n",
      "925 4951 2214\n",
      "927 4954 2216\n",
      "930 4978 2220\n",
      "932 4985 2223\n",
      "935 4997 2230\n",
      "935 4999 2230\n",
      "939 5023 2239\n",
      "939 5028 2242\n",
      "940 5038 2245\n",
      "941 5044 2248\n",
      "941 5053 2252\n",
      "944 5057 2257\n",
      "953 5068 2268\n",
      "953 5070 2274\n",
      "953 5071 2274\n",
      "960 5088 2282\n",
      "961 5091 2283\n",
      "962 5093 2286\n",
      "963 5099 2288\n",
      "967 5119 2295\n",
      "969 5123 2298\n"
     ]
    },
    {
     "name": "stderr",
     "output_type": "stream",
     "text": [
      "b'Skipping line 2: expected 10 fields, saw 11\\n'\n"
     ]
    },
    {
     "name": "stdout",
     "output_type": "stream",
     "text": [
      "973 5127 2303\n",
      "973 5131 2304\n",
      "975 5133 2306\n",
      "977 5138 2309\n"
     ]
    },
    {
     "name": "stderr",
     "output_type": "stream",
     "text": [
      "b'Skipping line 4: expected 10 fields, saw 11\\n'\n"
     ]
    },
    {
     "name": "stdout",
     "output_type": "stream",
     "text": [
      "977 5144 2312\n",
      "978 5152 2314\n",
      "979 5153 2315\n",
      "987 5178 2328\n",
      "987 5180 2329\n",
      "988 5182 2330\n"
     ]
    },
    {
     "name": "stderr",
     "output_type": "stream",
     "text": [
      "b'Skipping line 3: expected 10 fields, saw 11\\n'\n"
     ]
    },
    {
     "name": "stdout",
     "output_type": "stream",
     "text": [
      "990 5206 2333\n",
      "991 5215 2340\n",
      "992 5241 2344\n",
      "993 5247 2346\n",
      "994 5250 2347\n",
      "997 5272 2352\n",
      "998 5276 2355\n",
      "998 5281 2358\n",
      "998 5282 2358\n",
      "999 5284 2360\n",
      "1005 5297 2369\n",
      "1007 5299 2371\n",
      "1014 5307 2379\n",
      "1015 5316 2387\n",
      "1017 5320 2391\n",
      "1017 5322 2393\n",
      "1023 5329 2401\n",
      "1023 5336 2404\n",
      "1023 5337 2404\n",
      "1023 5343 2406\n",
      "1024 5344 2407\n",
      "1028 5399 2418\n",
      "1028 5411 2427\n",
      "1028 5414 2428\n",
      "1030 5448 2438\n",
      "1034 5458 2447\n",
      "1034 5465 2448\n",
      "1036 5469 2451\n",
      "1040 5473 2455\n",
      "1041 5476 2458\n",
      "1043 5481 2461\n",
      "1043 5486 2462\n"
     ]
    },
    {
     "name": "stderr",
     "output_type": "stream",
     "text": [
      "b'Skipping line 5: expected 10 fields, saw 11\\n'\n"
     ]
    },
    {
     "name": "stdout",
     "output_type": "stream",
     "text": [
      "1054 5518 2488\n"
     ]
    },
    {
     "name": "stderr",
     "output_type": "stream",
     "text": [
      "b'Skipping line 33: expected 10 fields, saw 11\\nSkipping line 36: expected 10 fields, saw 11\\n'\n"
     ]
    },
    {
     "name": "stdout",
     "output_type": "stream",
     "text": [
      "1060 5571 2504\n",
      "1061 5573 2506\n",
      "1061 5575 2506\n",
      "1065 5585 2522\n",
      "1065 5588 2522\n"
     ]
    },
    {
     "name": "stderr",
     "output_type": "stream",
     "text": [
      "b'Skipping line 14: expected 10 fields, saw 11\\n'\n"
     ]
    },
    {
     "name": "stdout",
     "output_type": "stream",
     "text": [
      "1067 5602 2528\n",
      "1069 5625 2534\n",
      "1072 5629 2537\n"
     ]
    },
    {
     "name": "stderr",
     "output_type": "stream",
     "text": [
      "b'Skipping line 9: expected 10 fields, saw 11\\n'\n"
     ]
    },
    {
     "name": "stdout",
     "output_type": "stream",
     "text": [
      "1074 5642 2544\n",
      "1075 5644 2548\n",
      "1076 5645 2549\n",
      "1083 5687 2560\n",
      "1083 5690 2561\n",
      "1091 5704 2574\n",
      "1092 5716 2579\n",
      "1092 5718 2584\n",
      "1093 5721 2588\n",
      "1093 5724 2588\n",
      "1094 5728 2590\n",
      "1097 5737 2594\n",
      "1098 5738 2595\n",
      "1098 5742 2596\n",
      "1099 5745 2598\n",
      "1101 5747 2600\n",
      "1102 5749 2602\n"
     ]
    },
    {
     "name": "stderr",
     "output_type": "stream",
     "text": [
      "b'Skipping line 50: expected 10 fields, saw 11\\n'\n"
     ]
    },
    {
     "name": "stdout",
     "output_type": "stream",
     "text": [
      "1106 5807 2625\n",
      "1107 5812 2627\n",
      "1107 5813 2627\n",
      "1114 5823 2635\n",
      "1120 5830 2643\n",
      "1121 5832 2644\n",
      "1122 5845 2646\n",
      "1124 5850 2654\n"
     ]
    },
    {
     "name": "stderr",
     "output_type": "stream",
     "text": [
      "b'Skipping line 3: expected 10 fields, saw 11\\n'\n"
     ]
    },
    {
     "name": "stdout",
     "output_type": "stream",
     "text": [
      "1126 5855 2658\n",
      "1131 5862 2679\n",
      "1132 5868 2684\n",
      "1134 5873 2687\n",
      "1134 5877 2688\n",
      "1148 5927 2716\n",
      "1148 5936 2719\n",
      "1149 5941 2726\n",
      "1149 5943 2729\n"
     ]
    },
    {
     "name": "stderr",
     "output_type": "stream",
     "text": [
      "b'Skipping line 63: expected 10 fields, saw 11\\n'\n"
     ]
    },
    {
     "name": "stdout",
     "output_type": "stream",
     "text": [
      "1154 6014 2752\n",
      "1154 6023 2754\n",
      "1158 6047 2765\n",
      "1159 6053 2767\n",
      "1160 6059 2769\n",
      "1163 6067 2772\n",
      "1165 6076 2775\n"
     ]
    },
    {
     "name": "stderr",
     "output_type": "stream",
     "text": [
      "b'Skipping line 53: expected 10 fields, saw 11\\nSkipping line 61: expected 10 fields, saw 11\\nSkipping line 105: expected 10 fields, saw 11\\nSkipping line 106: expected 10 fields, saw 11\\nSkipping line 108: expected 10 fields, saw 11\\n'\n"
     ]
    },
    {
     "name": "stdout",
     "output_type": "stream",
     "text": [
      "1175 6190 2821\n",
      "1177 6192 2823\n",
      "1177 6200 2825\n",
      "1181 6208 2832\n",
      "1181 6221 2834\n",
      "1181 6225 2836\n",
      "1181 6229 2837\n"
     ]
    },
    {
     "name": "stderr",
     "output_type": "stream",
     "text": [
      "b'Skipping line 8: expected 10 fields, saw 11\\n'\n"
     ]
    },
    {
     "name": "stdout",
     "output_type": "stream",
     "text": [
      "1183 6243 2849\n",
      "1183 6244 2849\n",
      "1185 6253 2853\n",
      "1185 6259 2855\n",
      "1186 6260 2856\n",
      "1187 6262 2858\n"
     ]
    },
    {
     "name": "stderr",
     "output_type": "stream",
     "text": [
      "b'Skipping line 9: expected 10 fields, saw 11\\nSkipping line 20: expected 10 fields, saw 11\\nSkipping line 22: expected 10 fields, saw 11\\n'\n"
     ]
    },
    {
     "name": "stdout",
     "output_type": "stream",
     "text": [
      "1195 6293 2884\n",
      "1196 6315 2887\n",
      "1199 6319 2890\n",
      "1203 6340 2905\n",
      "1204 6343 2907\n",
      "1204 6344 2908\n"
     ]
    },
    {
     "name": "stderr",
     "output_type": "stream",
     "text": [
      "b'Skipping line 2: expected 10 fields, saw 11\\n'\n"
     ]
    },
    {
     "name": "stdout",
     "output_type": "stream",
     "text": [
      "1204 6350 2910\n",
      "1208 6357 2916\n",
      "1210 6361 2919\n",
      "1212 6393 2924\n",
      "1213 6398 2927\n",
      "1215 6402 2932\n"
     ]
    },
    {
     "name": "stderr",
     "output_type": "stream",
     "text": [
      "b'Skipping line 30: expected 10 fields, saw 12\\nSkipping line 32: expected 10 fields, saw 11\\nSkipping line 92: expected 10 fields, saw 11\\nSkipping line 103: expected 10 fields, saw 11\\n'\n"
     ]
    },
    {
     "name": "stdout",
     "output_type": "stream",
     "text": [
      "1252 6537 2994\n",
      "1256 6548 3000\n",
      "1256 6555 3001\n",
      "1259 6561 3005\n"
     ]
    },
    {
     "name": "stderr",
     "output_type": "stream",
     "text": [
      "b'Skipping line 4: expected 10 fields, saw 11\\n'\n"
     ]
    },
    {
     "name": "stdout",
     "output_type": "stream",
     "text": [
      "1260 6565 3010\n",
      "1262 6570 3014\n",
      "1263 6577 3016\n"
     ]
    },
    {
     "name": "stderr",
     "output_type": "stream",
     "text": [
      "b'Skipping line 24: expected 10 fields, saw 11\\n'\n"
     ]
    },
    {
     "name": "stdout",
     "output_type": "stream",
     "text": [
      "1270 6639 3036\n",
      "1273 6666 3042\n"
     ]
    },
    {
     "name": "stderr",
     "output_type": "stream",
     "text": [
      "b'Skipping line 161: expected 10 fields, saw 11\\n'\n"
     ]
    },
    {
     "name": "stdout",
     "output_type": "stream",
     "text": [
      "1308 6828 3104\n",
      "1308 6831 3105\n",
      "1313 6843 3124\n",
      "1313 6849 3125\n",
      "1320 6880 3133\n",
      "1320 6883 3134\n",
      "1322 6885 3136\n",
      "1324 6890 3139\n",
      "1324 6892 3141\n",
      "1325 6895 3143\n",
      "1325 6897 3144\n",
      "1328 6900 3148\n",
      "1328 6917 3154\n",
      "1329 6921 3158\n",
      "1331 6928 3162\n",
      "1332 6929 3163\n",
      "1332 6931 3164\n",
      "1333 6933 3165\n",
      "1334 6975 3170\n",
      "1334 6978 3172\n",
      "1334 6980 3173\n",
      "1334 6983 3174\n",
      "1334 6988 3175\n",
      "1334 6991 3182\n",
      "1335 6995 3184\n"
     ]
    },
    {
     "name": "stderr",
     "output_type": "stream",
     "text": [
      "b'Skipping line 16: expected 10 fields, saw 11\\n'\n"
     ]
    },
    {
     "name": "stdout",
     "output_type": "stream",
     "text": [
      "1348 7012 3206\n",
      "1348 7013 3207\n",
      "1348 7021 3212\n"
     ]
    },
    {
     "name": "stderr",
     "output_type": "stream",
     "text": [
      "b'Skipping line 12: expected 10 fields, saw 11\\n'\n"
     ]
    },
    {
     "name": "stdout",
     "output_type": "stream",
     "text": [
      "1353 7038 3228\n",
      "1353 7050 3232\n",
      "1357 7059 3241\n",
      "1359 7068 3244\n",
      "1360 7074 3245\n",
      "1363 7080 3250\n",
      "1364 7083 3252\n"
     ]
    },
    {
     "name": "stderr",
     "output_type": "stream",
     "text": [
      "b'Skipping line 3: expected 10 fields, saw 11\\n'\n"
     ]
    },
    {
     "name": "stdout",
     "output_type": "stream",
     "text": [
      "1367 7092 3257\n",
      "1367 7095 3261\n",
      "1368 7106 3265\n",
      "1370 7115 3269\n",
      "1376 7133 3287\n",
      "1377 7142 3289\n",
      "1378 7204 3292\n",
      "1378 7206 3293\n",
      "1388 7362 3318\n",
      "1389 7367 3320\n",
      "1389 7368 3322\n",
      "1391 7370 3330\n",
      "1393 7373 3338\n",
      "1393 7384 3338\n",
      "1395 7392 3345\n",
      "1399 7400 3351\n",
      "1400 7403 3354\n",
      "1403 7406 3357\n",
      "1407 7423 3365\n",
      "1407 7424 3365\n",
      "1407 7431 3367\n",
      "1410 7437 3371\n",
      "1410 7445 3373\n",
      "1411 7446 3374\n",
      "1415 7455 3380\n",
      "1422 7494 3389\n",
      "1423 7504 3392\n",
      "1423 7513 3392\n",
      "1424 7516 3394\n",
      "1425 7531 3395\n",
      "1425 7541 3398\n",
      "1428 7544 3402\n",
      "1428 7555 3405\n",
      "1428 7557 3405\n",
      "1430 7559 3407\n",
      "1430 7564 3410\n",
      "1431 7566 3411\n",
      "1433 7569 3414\n",
      "1435 7575 3416\n",
      "1435 7581 3420\n",
      "1435 7585 3420\n",
      "1437 7595 3424\n",
      "1438 7598 3426\n",
      "1439 7601 3427\n",
      "1440 7604 3432\n",
      "1443 7611 3436\n",
      "1444 7612 3437\n",
      "1444 7626 3450\n",
      "1444 7632 3452\n",
      "1445 7636 3454\n",
      "1447 7642 3460\n",
      "1447 7643 3462\n",
      "1447 7647 3464\n",
      "1447 7658 3466\n",
      "1455 7718 3489\n",
      "1466 7732 3514\n",
      "1468 7734 3518\n",
      "1468 7744 3518\n",
      "1468 7750 3520\n",
      "1468 7751 3521\n",
      "1471 7758 3530\n"
     ]
    },
    {
     "name": "stderr",
     "output_type": "stream",
     "text": [
      "b'Skipping line 22: expected 10 fields, saw 11\\nSkipping line 25: expected 10 fields, saw 11\\n'\n"
     ]
    },
    {
     "name": "stdout",
     "output_type": "stream",
     "text": [
      "1479 7783 3555\n",
      "1481 7787 3557\n",
      "1483 7792 3560\n",
      "1485 7800 3563\n",
      "1485 7802 3567\n",
      "1487 7806 3570\n",
      "1501 7836 3590\n",
      "1505 7841 3596\n",
      "1506 7848 3599\n",
      "1506 7851 3601\n",
      "1508 7876 3610\n",
      "1511 7880 3614\n",
      "1511 7883 3621\n",
      "1512 7885 3622\n",
      "1515 7889 3625\n",
      "1515 7896 3627\n",
      "1517 7899 3629\n",
      "1517 7904 3630\n"
     ]
    },
    {
     "name": "stderr",
     "output_type": "stream",
     "text": [
      "b'Skipping line 27: expected 10 fields, saw 11\\nSkipping line 28: expected 10 fields, saw 11\\n'\n"
     ]
    },
    {
     "name": "stdout",
     "output_type": "stream",
     "text": [
      "1525 7940 3646\n",
      "1525 7944 3649\n",
      "1526 7956 3651\n",
      "1527 7975 3657\n",
      "1530 7988 3664\n",
      "1531 7990 3673\n",
      "1532 7993 3676\n",
      "1534 8022 3685\n",
      "1534 8026 3688\n",
      "1535 8038 3691\n",
      "1536 8040 3694\n",
      "1540 8045 3699\n",
      "1544 8049 3703\n",
      "1545 8084 3712\n",
      "1545 8092 3713\n",
      "1545 8099 3715\n",
      "1548 8106 3721\n",
      "1551 8110 3724\n",
      "1560 8131 3737\n",
      "1562 8134 3741\n",
      "1563 8141 3743\n",
      "1571 8188 3759\n",
      "1573 8194 3762\n",
      "1573 8195 3762\n",
      "1574 8200 3766\n",
      "1579 8212 3771\n",
      "1579 8214 3776\n",
      "1580 8230 3784\n",
      "1581 8239 3786\n",
      "1589 8251 3797\n",
      "1591 8254 3802\n",
      "1592 8255 3803\n",
      "1594 8281 3811\n",
      "1595 8285 3813\n",
      "1598 8288 3818\n",
      "1603 8294 3823\n",
      "1607 8300 3827\n",
      "1612 8306 3836\n",
      "1614 8330 3840\n",
      "1619 8348 3849\n",
      "1620 8351 3851\n",
      "1621 8356 3853\n",
      "ep16\n",
      "1 3 2\n",
      "1 5 3\n",
      "2 7 4\n",
      "3 17 8\n"
     ]
    },
    {
     "name": "stderr",
     "output_type": "stream",
     "text": [
      "b'Skipping line 17: expected 10 fields, saw 11\\nSkipping line 37: expected 10 fields, saw 11\\n'\n"
     ]
    },
    {
     "name": "stdout",
     "output_type": "stream",
     "text": [
      "4 105 34\n",
      "25 130 60\n",
      "26 135 62\n",
      "28 148 66\n",
      "28 151 67\n",
      "29 210 70\n",
      "30 212 72\n",
      "37 219 80\n",
      "38 221 83\n",
      "43 235 91\n",
      "43 236 91\n",
      "44 243 95\n",
      "48 248 99\n",
      "48 253 99\n",
      "54 267 108\n",
      "55 269 110\n",
      "56 272 112\n",
      "57 281 115\n",
      "58 285 117\n",
      "60 289 119\n",
      "61 290 121\n"
     ]
    },
    {
     "name": "stderr",
     "output_type": "stream",
     "text": [
      "b'Skipping line 3: expected 10 fields, saw 11\\nSkipping line 5: expected 10 fields, saw 11\\n'\n"
     ]
    },
    {
     "name": "stdout",
     "output_type": "stream",
     "text": [
      "61 293 123\n",
      "63 295 125\n",
      "65 351 132\n",
      "66 353 135\n",
      "66 360 138\n"
     ]
    },
    {
     "name": "stderr",
     "output_type": "stream",
     "text": [
      "b'Skipping line 4: expected 10 fields, saw 11\\n'\n"
     ]
    },
    {
     "name": "stdout",
     "output_type": "stream",
     "text": [
      "67 381 139\n",
      "78 410 156\n",
      "78 415 158\n",
      "78 420 159\n",
      "83 469 178\n",
      "85 480 183\n",
      "85 489 185\n",
      "86 493 188\n",
      "87 502 191\n",
      "87 504 191\n",
      "89 509 193\n",
      "91 518 196\n",
      "91 519 196\n",
      "92 520 197\n",
      "92 527 197\n",
      "94 533 200\n",
      "94 534 200\n",
      "95 535 201\n"
     ]
    },
    {
     "name": "stderr",
     "output_type": "stream",
     "text": [
      "b'Skipping line 4: expected 10 fields, saw 11\\n'\n"
     ]
    },
    {
     "name": "stdout",
     "output_type": "stream",
     "text": [
      "100 543 211\n",
      "100 544 211\n",
      "100 571 213\n",
      "100 574 213\n",
      "104 582 221\n",
      "104 583 222\n",
      "106 589 224\n",
      "107 595 226\n",
      "117 627 244\n",
      "119 631 247\n",
      "119 643 249\n",
      "122 647 252\n",
      "124 651 256\n",
      "125 655 258\n",
      "126 656 259\n",
      "127 694 260\n",
      "128 696 261\n",
      "130 698 266\n"
     ]
    },
    {
     "name": "stderr",
     "output_type": "stream",
     "text": [
      "b'Skipping line 8: expected 10 fields, saw 11\\nSkipping line 9: expected 10 fields, saw 11\\nSkipping line 15: expected 10 fields, saw 11\\n'\n"
     ]
    },
    {
     "name": "stdout",
     "output_type": "stream",
     "text": [
      "137 710 280\n",
      "137 711 280\n",
      "137 719 281\n",
      "137 720 281\n",
      "152 796 325\n",
      "152 799 327\n"
     ]
    },
    {
     "name": "stderr",
     "output_type": "stream",
     "text": [
      "b'Skipping line 2: expected 10 fields, saw 11\\n'\n"
     ]
    },
    {
     "name": "stdout",
     "output_type": "stream",
     "text": [
      "154 821 330\n",
      "155 824 332\n",
      "159 828 336\n"
     ]
    },
    {
     "name": "stderr",
     "output_type": "stream",
     "text": [
      "b'Skipping line 8: expected 10 fields, saw 11\\n'\n"
     ]
    },
    {
     "name": "stdout",
     "output_type": "stream",
     "text": [
      "160 841 338\n",
      "160 846 339\n",
      "162 848 341\n",
      "163 861 342\n",
      "165 867 348\n",
      "165 873 348\n",
      "165 876 350\n",
      "166 879 352\n",
      "170 883 356\n",
      "175 888 361\n",
      "176 889 362\n",
      "176 898 364\n",
      "176 907 364\n",
      "177 908 365\n",
      "181 952 385\n",
      "182 963 388\n",
      "184 965 390\n",
      "184 970 391\n",
      "184 992 412\n",
      "189 1007 418\n",
      "189 1012 419\n",
      "191 1017 423\n",
      "191 1025 427\n",
      "196 1075 443\n",
      "197 1081 445\n",
      "198 1088 448\n",
      "198 1089 449\n",
      "199 1092 450\n",
      "202 1096 468\n",
      "202 1099 468\n",
      "206 1104 474\n",
      "208 1108 477\n",
      "208 1126 480\n",
      "208 1151 485\n",
      "209 1155 487\n",
      "211 1160 490\n",
      "214 1168 494\n",
      "214 1170 495\n",
      "219 1176 500\n",
      "220 1179 504\n",
      "220 1183 506\n",
      "220 1189 507\n",
      "226 1196 515\n",
      "226 1197 518\n",
      "228 1201 520\n",
      "234 1224 531\n",
      "237 1229 534\n",
      "237 1237 539\n",
      "241 1243 544\n",
      "241 1244 545\n",
      "243 1247 547\n",
      "244 1251 550\n",
      "252 1270 564\n",
      "252 1272 565\n",
      "252 1280 566\n",
      "252 1281 567\n",
      "254 1284 569\n",
      "255 1287 571\n",
      "255 1289 572\n",
      "256 1291 573\n",
      "259 1307 578\n",
      "259 1312 579\n",
      "259 1339 580\n",
      "269 1349 590\n",
      "269 1353 590\n",
      "271 1399 597\n",
      "271 1403 598\n",
      "271 1409 598\n",
      "273 1414 610\n",
      "274 1418 612\n",
      "274 1420 612\n",
      "276 1424 614\n",
      "279 1440 621\n",
      "281 1442 623\n",
      "284 1449 626\n",
      "286 1455 630\n",
      "286 1462 630\n",
      "290 1489 637\n",
      "292 1491 639\n",
      "292 1494 640\n"
     ]
    },
    {
     "name": "stderr",
     "output_type": "stream",
     "text": [
      "b'Skipping line 4: expected 10 fields, saw 11\\n'\n"
     ]
    },
    {
     "name": "stdout",
     "output_type": "stream",
     "text": [
      "292 1497 641\n",
      "292 1502 642\n",
      "299 1515 654\n",
      "302 1524 658\n",
      "305 1529 661\n",
      "306 1530 662\n",
      "307 1531 663\n",
      "307 1534 663\n",
      "309 1537 666\n",
      "309 1540 666\n",
      "310 1542 667\n",
      "312 1547 686\n",
      "313 1557 690\n",
      "313 1559 690\n",
      "313 1564 693\n",
      "313 1570 695\n",
      "313 1574 696\n",
      "314 1595 703\n",
      "314 1597 704\n",
      "314 1609 707\n",
      "315 1612 711\n",
      "318 1652 715\n",
      "318 1659 716\n",
      "318 1661 717\n",
      "318 1669 718\n",
      "319 1670 719\n",
      "319 1695 719\n",
      "322 1700 724\n",
      "323 1703 727\n",
      "324 1712 729\n"
     ]
    },
    {
     "name": "stderr",
     "output_type": "stream",
     "text": [
      "b'Skipping line 5: expected 10 fields, saw 11\\n'\n"
     ]
    },
    {
     "name": "stdout",
     "output_type": "stream",
     "text": [
      "328 1724 734\n",
      "336 1737 742\n",
      "337 1746 746\n",
      "339 1750 750\n",
      "339 1776 750\n",
      "342 1781 753\n",
      "344 1784 755\n",
      "344 1790 756\n",
      "344 1795 757\n",
      "347 1799 760\n",
      "348 1807 763\n",
      "351 1810 766\n",
      "351 1813 766\n",
      "352 1818 767\n",
      "354 1821 773\n",
      "357 1832 779\n",
      "357 1834 779\n",
      "360 1839 788\n",
      "362 1852 794\n",
      "365 1857 797\n",
      "366 1861 801\n",
      "371 1866 810\n",
      "373 1889 815\n",
      "374 1890 816\n",
      "375 1934 818\n"
     ]
    },
    {
     "name": "stderr",
     "output_type": "stream",
     "text": [
      "b'Skipping line 31: expected 10 fields, saw 11\\nSkipping line 62: expected 10 fields, saw 11\\nSkipping line 68: expected 10 fields, saw 11\\n'\n"
     ]
    },
    {
     "name": "stdout",
     "output_type": "stream",
     "text": [
      "375 2005 822\n",
      "381 2025 832\n",
      "381 2026 834\n",
      "383 2034 846\n",
      "384 2037 848\n",
      "384 2039 851\n",
      "384 2047 858\n",
      "393 2057 867\n",
      "393 2074 869\n",
      "403 2086 884\n",
      "403 2091 886\n",
      "405 2093 888\n",
      "406 2094 890\n",
      "409 2099 893\n",
      "409 2104 895\n",
      "413 2111 899\n",
      "415 2115 901\n",
      "415 2135 905\n",
      "415 2137 906\n",
      "415 2140 908\n",
      "415 2145 908\n",
      "415 2148 909\n",
      "415 2150 912\n"
     ]
    },
    {
     "name": "stderr",
     "output_type": "stream",
     "text": [
      "b'Skipping line 10: expected 10 fields, saw 11\\nSkipping line 20: expected 10 fields, saw 12\\n'\n"
     ]
    },
    {
     "name": "stdout",
     "output_type": "stream",
     "text": [
      "427 2204 943\n",
      "427 2208 944\n",
      "429 2212 946\n",
      "430 2215 951\n"
     ]
    },
    {
     "name": "stderr",
     "output_type": "stream",
     "text": [
      "b'Skipping line 41: expected 10 fields, saw 11\\nSkipping line 42: expected 10 fields, saw 11\\n'\n"
     ]
    },
    {
     "name": "stdout",
     "output_type": "stream",
     "text": [
      "436 2256 964\n",
      "436 2262 966\n",
      "438 2264 968\n",
      "443 2269 973\n",
      "444 2270 974\n",
      "446 2276 977\n",
      "457 2332 996\n",
      "458 2337 997\n",
      "458 2340 997\n",
      "458 2341 997\n"
     ]
    },
    {
     "name": "stderr",
     "output_type": "stream",
     "text": [
      "b'Skipping line 12: expected 10 fields, saw 11\\n'\n"
     ]
    },
    {
     "name": "stdout",
     "output_type": "stream",
     "text": [
      "458 2367 1001\n",
      "479 2396 1026\n",
      "480 2404 1030\n",
      "481 2408 1037\n",
      "488 2443 1044\n",
      "488 2446 1046\n",
      "490 2448 1048\n",
      "491 2453 1050\n",
      "494 2458 1054\n",
      "496 2462 1062\n",
      "499 2468 1065\n",
      "501 2490 1071\n",
      "508 2506 1084\n"
     ]
    },
    {
     "name": "stderr",
     "output_type": "stream",
     "text": [
      "b'Skipping line 28: expected 10 fields, saw 11\\n'\n"
     ]
    },
    {
     "name": "stdout",
     "output_type": "stream",
     "text": [
      "521 2582 1112\n",
      "523 2584 1121\n",
      "523 2606 1126\n",
      "523 2612 1143\n",
      "528 2626 1151\n",
      "529 2627 1152\n",
      "532 2642 1158\n"
     ]
    },
    {
     "name": "stderr",
     "output_type": "stream",
     "text": [
      "b'Skipping line 7: expected 10 fields, saw 11\\n'\n",
      "b'Skipping line 5: expected 10 fields, saw 11\\nSkipping line 9: expected 10 fields, saw 11\\n'\n"
     ]
    },
    {
     "name": "stdout",
     "output_type": "stream",
     "text": [
      "533 2649 1161\n",
      "533 2651 1161\n",
      "534 2654 1163\n",
      "534 2657 1163\n",
      "536 2665 1170\n",
      "536 2667 1172\n",
      "538 2673 1175\n",
      "539 2679 1177\n",
      "539 2683 1178\n",
      "539 2698 1181\n"
     ]
    },
    {
     "name": "stderr",
     "output_type": "stream",
     "text": [
      "b'Skipping line 2: expected 10 fields, saw 11\\n'\n"
     ]
    },
    {
     "name": "stdout",
     "output_type": "stream",
     "text": [
      "540 2706 1186\n",
      "544 2712 1191\n",
      "544 2713 1192\n",
      "547 2723 1197\n",
      "550 2727 1202\n",
      "550 2730 1203\n",
      "552 2734 1205\n",
      "552 2737 1207\n",
      "553 2743 1210\n",
      "553 2749 1210\n",
      "553 2750 1210\n",
      "554 2753 1216\n",
      "554 2757 1219\n",
      "557 2763 1223\n",
      "559 2769 1227\n",
      "559 2772 1228\n",
      "561 2774 1230\n",
      "562 2808 1245\n",
      "563 2810 1246\n",
      "565 2821 1251\n",
      "566 2828 1252\n",
      "567 2847 1257\n",
      "567 2852 1259\n",
      "567 2855 1260\n",
      "568 2859 1265\n",
      "570 2863 1278\n",
      "570 2865 1283\n",
      "570 2869 1284\n",
      "572 2875 1287\n",
      "573 2878 1289\n",
      "573 2879 1300\n",
      "574 2882 1302\n",
      "574 2887 1302\n",
      "577 2904 1309\n",
      "582 2911 1324\n",
      "582 3070 1324\n",
      "583 3075 1326\n",
      "589 3081 1339\n"
     ]
    },
    {
     "name": "stderr",
     "output_type": "stream",
     "text": [
      "b'Skipping line 10: expected 10 fields, saw 11\\nSkipping line 11: expected 10 fields, saw 11\\nSkipping line 29: expected 10 fields, saw 11\\n'\n"
     ]
    },
    {
     "name": "stdout",
     "output_type": "stream",
     "text": [
      "594 3118 1350\n",
      "595 3121 1351\n",
      "596 3137 1353\n",
      "597 3139 1355\n",
      "597 3140 1355\n",
      "597 3143 1356\n",
      "597 3145 1357\n",
      "597 3149 1360\n",
      "598 3153 1363\n",
      "598 3156 1363\n",
      "600 3159 1365\n"
     ]
    },
    {
     "name": "stderr",
     "output_type": "stream",
     "text": [
      "b'Skipping line 2: expected 10 fields, saw 11\\n'\n"
     ]
    },
    {
     "name": "stdout",
     "output_type": "stream",
     "text": [
      "602 3162 1370\n",
      "606 3166 1374\n",
      "606 3167 1396\n",
      "611 3197 1409\n",
      "611 3204 1410\n",
      "612 3221 1414\n",
      "612 3223 1415\n",
      "613 3226 1417\n",
      "613 3229 1418\n",
      "615 3235 1422\n",
      "617 3239 1424\n",
      "619 3244 1426\n",
      "621 3248 1429\n",
      "621 3289 1431\n",
      "621 3297 1431\n",
      "625 3307 1437\n",
      "626 3311 1438\n",
      "626 3313 1439\n",
      "626 3320 1453\n",
      "626 3329 1455\n",
      "626 3331 1456\n",
      "627 3332 1457\n",
      "628 3344 1465\n",
      "631 3347 1468\n",
      "634 3459 1475\n",
      "636 3467 1479\n",
      "637 3469 1480\n",
      "637 3472 1481\n",
      "638 3476 1483\n",
      "642 3480 1487\n",
      "647 3486 1492\n",
      "650 3509 1495\n",
      "653 3517 1499\n",
      "655 3521 1502\n",
      "657 3526 1506\n",
      "658 3534 1509\n",
      "666 3550 1519\n",
      "666 3553 1519\n",
      "666 3558 1520\n",
      "667 3561 1528\n",
      "667 3562 1528\n",
      "667 3574 1531\n",
      "668 3576 1535\n",
      "669 3577 1536\n",
      "670 3578 1537\n",
      "675 3597 1546\n",
      "676 3674 1561\n",
      "678 3680 1563\n",
      "678 3687 1566\n",
      "681 3697 1572\n",
      "681 3699 1573\n",
      "681 3704 1573\n",
      "681 3708 1575\n",
      "681 3714 1576\n",
      "682 3718 1578\n",
      "684 3726 1581\n",
      "684 3734 1582\n",
      "686 3738 1584\n",
      "687 3742 1586\n",
      "690 3749 1590\n",
      "693 3760 1595\n",
      "693 3766 1598\n"
     ]
    },
    {
     "name": "stderr",
     "output_type": "stream",
     "text": [
      "b'Skipping line 7: expected 10 fields, saw 11\\n'\n"
     ]
    },
    {
     "name": "stdout",
     "output_type": "stream",
     "text": [
      "694 3768 1601\n",
      "698 3803 1610\n",
      "699 3813 1613\n",
      "699 3820 1616\n",
      "727 4034 1682\n",
      "730 4037 1690\n",
      "731 4044 1693\n"
     ]
    },
    {
     "name": "stderr",
     "output_type": "stream",
     "text": [
      "b'Skipping line 14: expected 10 fields, saw 11\\nSkipping line 15: expected 10 fields, saw 11\\n'\n"
     ]
    },
    {
     "name": "stdout",
     "output_type": "stream",
     "text": [
      "740 4065 1711\n",
      "740 4079 1712\n",
      "740 4084 1713\n",
      "742 4090 1719\n",
      "743 4092 1720\n",
      "744 4113 1722\n"
     ]
    },
    {
     "name": "stderr",
     "output_type": "stream",
     "text": [
      "b'Skipping line 6: expected 10 fields, saw 11\\nSkipping line 8: expected 10 fields, saw 11\\n'\n"
     ]
    },
    {
     "name": "stdout",
     "output_type": "stream",
     "text": [
      "744 4121 1725\n",
      "745 4123 1727\n"
     ]
    },
    {
     "name": "stderr",
     "output_type": "stream",
     "text": [
      "b'Skipping line 2: expected 10 fields, saw 11\\n'\n"
     ]
    },
    {
     "name": "stdout",
     "output_type": "stream",
     "text": [
      "746 4125 1731\n",
      "746 4130 1732\n",
      "746 4132 1732\n",
      "746 4134 1733\n",
      "748 4140 1737\n",
      "753 4169 1751\n",
      "753 4170 1751\n",
      "755 4197 1758\n",
      "755 4198 1759\n",
      "755 4202 1763\n",
      "755 4208 1764\n",
      "758 4212 1768\n",
      "760 4218 1770\n",
      "762 4226 1775\n",
      "762 4228 1775\n",
      "764 4235 1778\n",
      "764 4239 1786\n",
      "764 4241 1787\n",
      "765 4242 1788\n",
      "768 4271 1797\n",
      "769 4275 1799\n",
      "771 4277 1801\n",
      "773 4280 1803\n",
      "775 4288 1806\n",
      "777 4292 1813\n",
      "777 4294 1813\n",
      "778 4296 1814\n",
      "779 4302 1815\n",
      "781 4349 1820\n",
      "785 4388 1825\n",
      "787 4394 1828\n",
      "789 4400 1832\n",
      "789 4406 1833\n",
      "793 4418 1839\n",
      "796 4422 1844\n",
      "801 4430 1849\n",
      "804 4433 1852\n",
      "804 4439 1853\n"
     ]
    },
    {
     "name": "stderr",
     "output_type": "stream",
     "text": [
      "b'Skipping line 2: expected 10 fields, saw 11\\nSkipping line 5: expected 10 fields, saw 11\\n'\n"
     ]
    },
    {
     "name": "stdout",
     "output_type": "stream",
     "text": [
      "807 4444 1861\n",
      "808 4445 1862\n",
      "808 4453 1864\n",
      "808 4459 1865\n"
     ]
    },
    {
     "name": "stderr",
     "output_type": "stream",
     "text": [
      "b'Skipping line 2: expected 10 fields, saw 11\\n'\n"
     ]
    },
    {
     "name": "stdout",
     "output_type": "stream",
     "text": [
      "809 4463 1866\n",
      "815 4506 1872\n",
      "821 4517 1881\n",
      "821 4520 1882\n",
      "823 4523 1884\n"
     ]
    },
    {
     "name": "stderr",
     "output_type": "stream",
     "text": [
      "b'Skipping line 12: expected 10 fields, saw 11\\n'\n"
     ]
    },
    {
     "name": "stdout",
     "output_type": "stream",
     "text": [
      "826 4534 1894\n",
      "831 4566 1905\n",
      "831 4568 1906\n",
      "841 4579 1916\n",
      "842 4580 1917\n",
      "848 4588 1927\n",
      "852 4593 1932\n",
      "852 4597 1934\n",
      "857 4618 1945\n",
      "857 4621 1948\n",
      "857 4623 1964\n",
      "860 4634 1970\n",
      "862 4643 1987\n",
      "863 4654 1990\n",
      "872 4714 2005\n",
      "872 4716 2006\n",
      "876 4723 2013\n",
      "877 4732 2014\n"
     ]
    },
    {
     "name": "stderr",
     "output_type": "stream",
     "text": [
      "b'Skipping line 7: expected 10 fields, saw 11\\n'\n"
     ]
    },
    {
     "name": "stdout",
     "output_type": "stream",
     "text": [
      "878 4744 2018\n",
      "880 4749 2020\n",
      "882 4755 2024\n",
      "884 4757 2026\n",
      "888 4781 2036\n",
      "891 4786 2045\n",
      "891 4793 2047\n",
      "892 4796 2049\n",
      "893 4810 2053\n",
      "895 4824 2059\n",
      "899 4870 2067\n",
      "901 4875 2070\n",
      "901 4893 2078\n",
      "901 4896 2082\n",
      "901 4900 2083\n",
      "902 4902 2088\n",
      "906 4922 2095\n",
      "908 4924 2097\n",
      "909 4932 2100\n",
      "912 4941 2104\n",
      "912 4942 2104\n",
      "912 4947 2105\n",
      "913 4949 2106\n",
      "913 4951 2108\n",
      "915 4954 2110\n",
      "918 4978 2114\n",
      "920 4985 2117\n",
      "924 4997 2124\n",
      "924 4999 2124\n",
      "929 5023 2134\n",
      "929 5028 2137\n",
      "929 5038 2138\n",
      "930 5044 2141\n",
      "930 5053 2144\n",
      "933 5057 2149\n",
      "942 5068 2159\n",
      "942 5070 2165\n",
      "942 5071 2165\n",
      "949 5088 2173\n",
      "950 5091 2174\n",
      "951 5093 2176\n",
      "952 5099 2178\n",
      "956 5119 2185\n",
      "958 5123 2187\n"
     ]
    },
    {
     "name": "stderr",
     "output_type": "stream",
     "text": [
      "b'Skipping line 2: expected 10 fields, saw 11\\n'\n"
     ]
    },
    {
     "name": "stdout",
     "output_type": "stream",
     "text": [
      "962 5127 2192\n",
      "963 5131 2193\n",
      "965 5133 2195\n",
      "967 5138 2198\n"
     ]
    },
    {
     "name": "stderr",
     "output_type": "stream",
     "text": [
      "b'Skipping line 4: expected 10 fields, saw 11\\n'\n"
     ]
    },
    {
     "name": "stdout",
     "output_type": "stream",
     "text": [
      "967 5144 2201\n",
      "968 5152 2203\n",
      "969 5153 2204\n",
      "977 5178 2217\n",
      "977 5180 2218\n",
      "978 5182 2219\n"
     ]
    },
    {
     "name": "stderr",
     "output_type": "stream",
     "text": [
      "b'Skipping line 3: expected 10 fields, saw 11\\n'\n"
     ]
    },
    {
     "name": "stdout",
     "output_type": "stream",
     "text": [
      "980 5206 2222\n",
      "981 5215 2227\n",
      "982 5241 2230\n",
      "983 5247 2232\n",
      "984 5250 2233\n",
      "987 5272 2238\n",
      "987 5276 2241\n",
      "987 5281 2244\n",
      "987 5282 2244\n",
      "989 5284 2246\n",
      "995 5297 2254\n",
      "997 5299 2256\n",
      "1004 5307 2264\n",
      "1005 5316 2272\n",
      "1007 5320 2276\n",
      "1007 5322 2277\n",
      "1013 5329 2285\n",
      "1013 5336 2288\n",
      "1013 5337 2288\n",
      "1013 5343 2290\n",
      "1014 5344 2291\n",
      "1018 5399 2302\n",
      "1018 5411 2308\n",
      "1018 5414 2309\n",
      "1020 5448 2320\n",
      "1023 5458 2328\n",
      "1023 5465 2329\n",
      "1025 5469 2332\n",
      "1029 5473 2336\n",
      "1030 5476 2339\n",
      "1032 5481 2342\n",
      "1032 5486 2343\n"
     ]
    },
    {
     "name": "stderr",
     "output_type": "stream",
     "text": [
      "b'Skipping line 5: expected 10 fields, saw 11\\n'\n"
     ]
    },
    {
     "name": "stdout",
     "output_type": "stream",
     "text": [
      "1045 5518 2366\n"
     ]
    },
    {
     "name": "stderr",
     "output_type": "stream",
     "text": [
      "b'Skipping line 33: expected 10 fields, saw 11\\nSkipping line 36: expected 10 fields, saw 11\\n'\n"
     ]
    },
    {
     "name": "stdout",
     "output_type": "stream",
     "text": [
      "1051 5571 2382\n",
      "1052 5573 2384\n",
      "1052 5575 2384\n",
      "1056 5585 2399\n",
      "1056 5588 2399\n"
     ]
    },
    {
     "name": "stderr",
     "output_type": "stream",
     "text": [
      "b'Skipping line 14: expected 10 fields, saw 11\\n'\n"
     ]
    },
    {
     "name": "stdout",
     "output_type": "stream",
     "text": [
      "1058 5602 2405\n",
      "1060 5625 2411\n",
      "1062 5629 2413\n"
     ]
    },
    {
     "name": "stderr",
     "output_type": "stream",
     "text": [
      "b'Skipping line 9: expected 10 fields, saw 11\\n'\n"
     ]
    },
    {
     "name": "stdout",
     "output_type": "stream",
     "text": [
      "1064 5642 2418\n",
      "1065 5644 2424\n",
      "1066 5645 2425\n",
      "1073 5687 2436\n",
      "1073 5690 2437\n",
      "1081 5704 2451\n",
      "1082 5716 2456\n",
      "1082 5718 2461\n",
      "1083 5721 2465\n",
      "1083 5724 2465\n",
      "1084 5728 2467\n",
      "1087 5737 2471\n",
      "1088 5738 2472\n",
      "1088 5742 2473\n",
      "1088 5745 2475\n",
      "1090 5747 2477\n",
      "1091 5749 2479\n"
     ]
    },
    {
     "name": "stderr",
     "output_type": "stream",
     "text": [
      "b'Skipping line 50: expected 10 fields, saw 11\\n'\n"
     ]
    },
    {
     "name": "stdout",
     "output_type": "stream",
     "text": [
      "1095 5807 2502\n",
      "1096 5812 2504\n",
      "1096 5813 2504\n",
      "1104 5823 2512\n",
      "1110 5830 2520\n",
      "1111 5832 2521\n",
      "1111 5845 2522\n",
      "1113 5850 2529\n"
     ]
    },
    {
     "name": "stderr",
     "output_type": "stream",
     "text": [
      "b'Skipping line 3: expected 10 fields, saw 11\\n'\n"
     ]
    },
    {
     "name": "stdout",
     "output_type": "stream",
     "text": [
      "1115 5855 2533\n",
      "1120 5862 2550\n",
      "1121 5868 2553\n",
      "1123 5873 2556\n",
      "1123 5877 2557\n",
      "1136 5927 2582\n",
      "1136 5936 2585\n",
      "1137 5941 2591\n",
      "1137 5943 2593\n"
     ]
    },
    {
     "name": "stderr",
     "output_type": "stream",
     "text": [
      "b'Skipping line 63: expected 10 fields, saw 11\\n'\n"
     ]
    },
    {
     "name": "stdout",
     "output_type": "stream",
     "text": [
      "1142 6014 2613\n",
      "1142 6023 2616\n",
      "1146 6047 2626\n",
      "1148 6053 2628\n",
      "1149 6059 2630\n",
      "1152 6067 2633\n",
      "1154 6076 2635\n"
     ]
    },
    {
     "name": "stderr",
     "output_type": "stream",
     "text": [
      "b'Skipping line 53: expected 10 fields, saw 11\\nSkipping line 61: expected 10 fields, saw 11\\nSkipping line 105: expected 10 fields, saw 11\\nSkipping line 106: expected 10 fields, saw 11\\nSkipping line 108: expected 10 fields, saw 11\\n'\n"
     ]
    },
    {
     "name": "stdout",
     "output_type": "stream",
     "text": [
      "1164 6190 2674\n",
      "1166 6192 2676\n",
      "1166 6200 2678\n",
      "1170 6208 2684\n",
      "1171 6221 2687\n",
      "1171 6225 2689\n",
      "1171 6229 2690\n"
     ]
    },
    {
     "name": "stderr",
     "output_type": "stream",
     "text": [
      "b'Skipping line 8: expected 10 fields, saw 11\\n'\n"
     ]
    },
    {
     "name": "stdout",
     "output_type": "stream",
     "text": [
      "1174 6243 2699\n",
      "1174 6244 2699\n",
      "1176 6253 2703\n",
      "1176 6259 2705\n",
      "1177 6260 2706\n",
      "1178 6262 2708\n"
     ]
    },
    {
     "name": "stderr",
     "output_type": "stream",
     "text": [
      "b'Skipping line 9: expected 10 fields, saw 11\\nSkipping line 20: expected 10 fields, saw 11\\nSkipping line 22: expected 10 fields, saw 11\\n'\n"
     ]
    },
    {
     "name": "stdout",
     "output_type": "stream",
     "text": [
      "1186 6293 2733\n",
      "1187 6315 2735\n",
      "1190 6319 2738\n",
      "1191 6340 2751\n",
      "1192 6343 2753\n",
      "1192 6344 2754\n"
     ]
    },
    {
     "name": "stderr",
     "output_type": "stream",
     "text": [
      "b'Skipping line 2: expected 10 fields, saw 11\\n'\n"
     ]
    },
    {
     "name": "stdout",
     "output_type": "stream",
     "text": [
      "1192 6350 2757\n",
      "1196 6357 2762\n",
      "1198 6361 2765\n",
      "1200 6393 2769\n",
      "1201 6398 2772\n",
      "1201 6402 2777\n"
     ]
    },
    {
     "name": "stderr",
     "output_type": "stream",
     "text": [
      "b'Skipping line 30: expected 10 fields, saw 12\\nSkipping line 32: expected 10 fields, saw 11\\nSkipping line 92: expected 10 fields, saw 11\\nSkipping line 103: expected 10 fields, saw 11\\n'\n"
     ]
    },
    {
     "name": "stdout",
     "output_type": "stream",
     "text": [
      "1237 6537 2834\n",
      "1239 6548 2839\n",
      "1239 6555 2840\n",
      "1242 6561 2844\n"
     ]
    },
    {
     "name": "stderr",
     "output_type": "stream",
     "text": [
      "b'Skipping line 4: expected 10 fields, saw 11\\n'\n"
     ]
    },
    {
     "name": "stdout",
     "output_type": "stream",
     "text": [
      "1244 6565 2849\n",
      "1246 6570 2853\n",
      "1247 6577 2855\n"
     ]
    },
    {
     "name": "stderr",
     "output_type": "stream",
     "text": [
      "b'Skipping line 24: expected 10 fields, saw 11\\n'\n"
     ]
    },
    {
     "name": "stdout",
     "output_type": "stream",
     "text": [
      "1254 6639 2874\n",
      "1257 6666 2881\n"
     ]
    },
    {
     "name": "stderr",
     "output_type": "stream",
     "text": [
      "b'Skipping line 161: expected 10 fields, saw 11\\n'\n"
     ]
    },
    {
     "name": "stdout",
     "output_type": "stream",
     "text": [
      "1288 6828 2942\n",
      "1288 6831 2943\n",
      "1292 6843 2957\n",
      "1292 6849 2957\n",
      "1299 6880 2965\n",
      "1299 6883 2966\n",
      "1301 6885 2968\n",
      "1302 6890 2970\n",
      "1303 6892 2973\n",
      "1303 6895 2974\n",
      "1303 6897 2975\n",
      "1306 6900 2979\n",
      "1307 6917 2985\n",
      "1308 6921 2987\n",
      "1310 6928 2991\n",
      "1311 6929 2992\n",
      "1311 6931 2993\n",
      "1312 6933 2994\n",
      "1313 6975 2999\n",
      "1313 6978 3000\n",
      "1313 6980 3001\n",
      "1313 6983 3002\n",
      "1313 6988 3004\n",
      "1313 6991 3008\n",
      "1314 6995 3010\n"
     ]
    },
    {
     "name": "stderr",
     "output_type": "stream",
     "text": [
      "b'Skipping line 16: expected 10 fields, saw 11\\n'\n"
     ]
    },
    {
     "name": "stdout",
     "output_type": "stream",
     "text": [
      "1327 7012 3033\n",
      "1327 7013 3033\n",
      "1327 7021 3037\n"
     ]
    },
    {
     "name": "stderr",
     "output_type": "stream",
     "text": [
      "b'Skipping line 12: expected 10 fields, saw 11\\n'\n"
     ]
    },
    {
     "name": "stdout",
     "output_type": "stream",
     "text": [
      "1332 7038 3051\n",
      "1332 7050 3055\n",
      "1336 7059 3065\n",
      "1338 7068 3068\n",
      "1339 7074 3069\n",
      "1341 7080 3072\n",
      "1342 7083 3074\n"
     ]
    },
    {
     "name": "stderr",
     "output_type": "stream",
     "text": [
      "b'Skipping line 3: expected 10 fields, saw 11\\n'\n"
     ]
    },
    {
     "name": "stdout",
     "output_type": "stream",
     "text": [
      "1345 7092 3079\n",
      "1345 7095 3083\n",
      "1346 7106 3087\n",
      "1348 7115 3091\n",
      "1352 7133 3116\n",
      "1353 7142 3118\n",
      "1354 7204 3121\n",
      "1354 7206 3122\n",
      "1363 7362 3147\n",
      "1364 7367 3149\n",
      "1364 7368 3150\n",
      "1366 7370 3156\n",
      "1367 7373 3161\n",
      "1367 7384 3161\n",
      "1369 7392 3168\n",
      "1373 7400 3174\n",
      "1374 7403 3177\n",
      "1377 7406 3180\n",
      "1381 7423 3188\n",
      "1381 7424 3188\n",
      "1381 7431 3188\n",
      "1384 7437 3192\n",
      "1384 7445 3194\n",
      "1385 7446 3195\n",
      "1388 7455 3201\n",
      "1392 7494 3209\n",
      "1393 7504 3212\n",
      "1393 7513 3212\n",
      "1394 7516 3214\n",
      "1395 7531 3215\n",
      "1395 7541 3218\n",
      "1398 7544 3221\n",
      "1398 7555 3223\n",
      "1398 7557 3223\n",
      "1400 7559 3225\n",
      "1400 7564 3228\n",
      "1401 7566 3229\n",
      "1403 7569 3232\n",
      "1405 7575 3234\n",
      "1405 7581 3237\n",
      "1405 7585 3237\n",
      "1407 7595 3241\n",
      "1409 7598 3243\n",
      "1410 7601 3244\n",
      "1411 7604 3248\n",
      "1414 7611 3252\n",
      "1415 7612 3253\n",
      "1415 7626 3265\n",
      "1415 7632 3267\n",
      "1416 7636 3269\n",
      "1417 7642 3276\n",
      "1417 7643 3277\n",
      "1417 7647 3279\n",
      "1417 7658 3281\n",
      "1425 7718 3303\n",
      "1436 7732 3327\n",
      "1438 7734 3331\n",
      "1438 7744 3331\n",
      "1439 7750 3333\n",
      "1439 7751 3334\n",
      "1442 7758 3345\n"
     ]
    },
    {
     "name": "stderr",
     "output_type": "stream",
     "text": [
      "b'Skipping line 22: expected 10 fields, saw 11\\nSkipping line 25: expected 10 fields, saw 11\\n'\n"
     ]
    },
    {
     "name": "stdout",
     "output_type": "stream",
     "text": [
      "1451 7783 3370\n",
      "1453 7787 3372\n",
      "1455 7792 3375\n",
      "1457 7800 3378\n",
      "1457 7802 3382\n",
      "1459 7806 3385\n",
      "1472 7836 3404\n",
      "1476 7841 3410\n",
      "1477 7848 3413\n",
      "1477 7851 3415\n",
      "1478 7876 3423\n",
      "1481 7880 3427\n",
      "1481 7883 3435\n",
      "1482 7885 3436\n",
      "1485 7889 3439\n",
      "1485 7896 3441\n",
      "1487 7899 3443\n",
      "1487 7904 3443\n"
     ]
    },
    {
     "name": "stderr",
     "output_type": "stream",
     "text": [
      "b'Skipping line 27: expected 10 fields, saw 11\\nSkipping line 28: expected 10 fields, saw 11\\n'\n"
     ]
    },
    {
     "name": "stdout",
     "output_type": "stream",
     "text": [
      "1496 7940 3461\n",
      "1496 7944 3464\n",
      "1497 7956 3466\n",
      "1498 7975 3472\n",
      "1502 7988 3479\n",
      "1503 7990 3488\n",
      "1504 7993 3489\n",
      "1506 8022 3497\n",
      "1506 8026 3500\n",
      "1507 8038 3502\n",
      "1507 8040 3507\n",
      "1511 8045 3512\n",
      "1515 8049 3516\n",
      "1516 8084 3524\n",
      "1516 8092 3525\n",
      "1516 8099 3527\n",
      "1519 8106 3532\n",
      "1522 8110 3535\n",
      "1531 8131 3547\n",
      "1533 8134 3550\n",
      "1534 8141 3553\n",
      "1542 8188 3569\n",
      "1544 8194 3572\n",
      "1544 8195 3572\n",
      "1545 8200 3577\n",
      "1550 8212 3582\n",
      "1550 8214 3584\n",
      "1552 8230 3591\n",
      "1553 8239 3593\n",
      "1561 8251 3604\n",
      "1563 8254 3609\n",
      "1564 8255 3610\n",
      "1566 8281 3619\n",
      "1567 8285 3621\n",
      "1570 8288 3626\n",
      "1575 8294 3631\n",
      "1579 8300 3635\n",
      "1583 8306 3643\n",
      "1584 8330 3647\n",
      "1589 8348 3656\n",
      "1590 8351 3658\n",
      "1591 8356 3660\n",
      "ep17\n",
      "1 3 2\n",
      "1 5 3\n",
      "2 7 4\n",
      "3 17 8\n"
     ]
    },
    {
     "name": "stderr",
     "output_type": "stream",
     "text": [
      "b'Skipping line 17: expected 10 fields, saw 11\\nSkipping line 37: expected 10 fields, saw 11\\n'\n"
     ]
    },
    {
     "name": "stdout",
     "output_type": "stream",
     "text": [
      "3 105 38\n",
      "24 130 64\n",
      "26 135 66\n",
      "28 148 71\n",
      "28 151 72\n",
      "29 210 74\n",
      "30 212 76\n",
      "37 219 87\n",
      "38 221 90\n",
      "43 235 98\n",
      "43 236 98\n",
      "44 243 102\n",
      "48 248 106\n",
      "48 253 106\n",
      "53 267 114\n",
      "55 269 116\n",
      "56 272 118\n",
      "57 281 122\n",
      "58 285 124\n",
      "60 289 126\n",
      "61 290 128\n"
     ]
    },
    {
     "name": "stderr",
     "output_type": "stream",
     "text": [
      "b'Skipping line 3: expected 10 fields, saw 11\\nSkipping line 5: expected 10 fields, saw 11\\n'\n"
     ]
    },
    {
     "name": "stdout",
     "output_type": "stream",
     "text": [
      "61 293 130\n",
      "63 295 132\n",
      "64 351 141\n",
      "65 353 144\n",
      "65 360 147\n"
     ]
    },
    {
     "name": "stderr",
     "output_type": "stream",
     "text": [
      "b'Skipping line 4: expected 10 fields, saw 11\\n'\n"
     ]
    },
    {
     "name": "stdout",
     "output_type": "stream",
     "text": [
      "66 381 148\n",
      "78 410 165\n",
      "79 415 167\n",
      "79 420 169\n",
      "83 469 189\n",
      "85 480 194\n",
      "85 489 196\n",
      "86 493 199\n",
      "87 502 203\n",
      "87 504 203\n",
      "90 509 206\n",
      "92 518 208\n",
      "92 519 208\n",
      "93 520 209\n",
      "93 527 210\n",
      "95 533 213\n",
      "95 534 213\n",
      "96 535 216\n"
     ]
    },
    {
     "name": "stderr",
     "output_type": "stream",
     "text": [
      "b'Skipping line 4: expected 10 fields, saw 11\\n'\n"
     ]
    },
    {
     "name": "stdout",
     "output_type": "stream",
     "text": [
      "101 543 226\n",
      "101 544 227\n",
      "101 571 230\n",
      "101 574 230\n",
      "106 582 237\n",
      "106 583 239\n",
      "108 589 241\n",
      "109 595 243\n",
      "119 627 263\n",
      "121 631 266\n",
      "121 643 268\n",
      "124 647 271\n",
      "126 651 275\n",
      "127 655 277\n",
      "128 656 278\n",
      "129 694 279\n",
      "130 696 280\n",
      "131 698 285\n"
     ]
    },
    {
     "name": "stderr",
     "output_type": "stream",
     "text": [
      "b'Skipping line 8: expected 10 fields, saw 11\\nSkipping line 9: expected 10 fields, saw 11\\nSkipping line 15: expected 10 fields, saw 11\\n'\n"
     ]
    },
    {
     "name": "stdout",
     "output_type": "stream",
     "text": [
      "138 710 301\n",
      "138 711 302\n",
      "138 719 303\n",
      "138 720 303\n",
      "154 796 347\n",
      "154 799 349\n"
     ]
    },
    {
     "name": "stderr",
     "output_type": "stream",
     "text": [
      "b'Skipping line 2: expected 10 fields, saw 11\\n'\n"
     ]
    },
    {
     "name": "stdout",
     "output_type": "stream",
     "text": [
      "157 821 353\n",
      "158 824 355\n",
      "162 828 359\n"
     ]
    },
    {
     "name": "stderr",
     "output_type": "stream",
     "text": [
      "b'Skipping line 8: expected 10 fields, saw 11\\n'\n"
     ]
    },
    {
     "name": "stdout",
     "output_type": "stream",
     "text": [
      "163 841 361\n",
      "163 846 362\n",
      "165 848 364\n",
      "166 861 365\n",
      "169 867 370\n",
      "169 873 370\n",
      "169 876 372\n",
      "170 879 375\n",
      "174 883 379\n",
      "179 888 384\n",
      "180 889 385\n",
      "180 898 387\n",
      "180 907 388\n",
      "181 908 389\n",
      "185 952 412\n",
      "185 963 415\n",
      "187 965 417\n",
      "187 970 418\n",
      "187 992 441\n",
      "192 1007 447\n",
      "192 1012 448\n",
      "194 1017 452\n",
      "194 1025 456\n",
      "199 1075 472\n",
      "200 1081 474\n",
      "201 1088 477\n",
      "201 1089 478\n",
      "202 1092 479\n",
      "205 1096 500\n",
      "205 1099 500\n",
      "209 1104 506\n",
      "211 1108 509\n",
      "211 1126 512\n",
      "212 1151 522\n",
      "213 1155 525\n",
      "215 1160 528\n",
      "218 1168 532\n",
      "218 1170 533\n",
      "223 1176 538\n",
      "225 1179 541\n",
      "226 1183 543\n",
      "226 1189 544\n",
      "232 1196 551\n",
      "232 1197 554\n",
      "234 1201 556\n",
      "241 1224 568\n",
      "244 1229 571\n",
      "244 1237 576\n",
      "248 1243 581\n",
      "248 1244 582\n",
      "250 1247 585\n",
      "251 1251 587\n",
      "257 1270 598\n",
      "259 1272 600\n",
      "259 1280 601\n",
      "259 1281 602\n",
      "261 1284 604\n",
      "262 1287 607\n",
      "262 1289 609\n",
      "263 1291 610\n",
      "266 1307 615\n",
      "266 1312 616\n",
      "266 1339 617\n",
      "276 1349 627\n",
      "276 1353 627\n",
      "278 1399 636\n",
      "278 1403 637\n",
      "278 1409 637\n",
      "280 1414 650\n",
      "281 1418 652\n",
      "281 1420 652\n",
      "283 1424 654\n",
      "286 1440 661\n",
      "288 1442 663\n",
      "289 1449 665\n",
      "291 1455 669\n",
      "291 1462 669\n",
      "295 1489 676\n",
      "297 1491 678\n",
      "297 1494 679\n"
     ]
    },
    {
     "name": "stderr",
     "output_type": "stream",
     "text": [
      "b'Skipping line 4: expected 10 fields, saw 11\\n'\n"
     ]
    },
    {
     "name": "stdout",
     "output_type": "stream",
     "text": [
      "297 1497 680\n",
      "297 1502 683\n",
      "305 1515 694\n",
      "307 1524 698\n",
      "310 1529 701\n",
      "311 1530 702\n",
      "312 1531 703\n",
      "312 1534 703\n",
      "314 1537 706\n",
      "314 1540 706\n",
      "315 1542 707\n",
      "317 1547 730\n",
      "318 1557 733\n",
      "318 1559 733\n",
      "318 1564 738\n",
      "318 1570 740\n",
      "318 1574 741\n",
      "320 1595 748\n",
      "320 1597 749\n",
      "320 1609 752\n",
      "321 1612 756\n",
      "324 1652 762\n",
      "324 1659 763\n",
      "324 1661 765\n",
      "324 1669 767\n",
      "325 1670 768\n",
      "325 1695 768\n",
      "328 1700 775\n",
      "329 1703 780\n",
      "329 1712 782\n"
     ]
    },
    {
     "name": "stderr",
     "output_type": "stream",
     "text": [
      "b'Skipping line 5: expected 10 fields, saw 11\\n'\n"
     ]
    },
    {
     "name": "stdout",
     "output_type": "stream",
     "text": [
      "332 1724 789\n",
      "340 1737 797\n",
      "343 1746 801\n",
      "345 1750 804\n",
      "345 1776 804\n",
      "346 1781 806\n",
      "348 1784 809\n",
      "348 1790 810\n",
      "348 1795 811\n",
      "351 1799 814\n",
      "352 1807 817\n",
      "355 1810 820\n",
      "355 1813 820\n",
      "356 1818 821\n",
      "359 1821 826\n",
      "363 1832 831\n",
      "363 1834 831\n",
      "366 1839 841\n",
      "369 1852 846\n",
      "372 1857 849\n",
      "373 1861 854\n",
      "378 1866 864\n",
      "380 1889 869\n",
      "381 1890 870\n",
      "383 1934 873\n"
     ]
    },
    {
     "name": "stderr",
     "output_type": "stream",
     "text": [
      "b'Skipping line 31: expected 10 fields, saw 11\\nSkipping line 62: expected 10 fields, saw 11\\nSkipping line 68: expected 10 fields, saw 11\\n'\n"
     ]
    },
    {
     "name": "stdout",
     "output_type": "stream",
     "text": [
      "383 2005 877\n",
      "389 2025 889\n",
      "389 2026 891\n",
      "391 2034 903\n",
      "392 2037 906\n",
      "392 2039 910\n",
      "392 2047 917\n",
      "401 2057 926\n",
      "401 2074 928\n",
      "411 2086 941\n",
      "411 2091 944\n",
      "413 2093 946\n",
      "414 2094 948\n",
      "417 2099 951\n",
      "418 2104 954\n",
      "422 2111 958\n",
      "424 2115 960\n",
      "424 2135 965\n",
      "424 2137 966\n",
      "424 2140 969\n",
      "424 2145 969\n",
      "424 2148 970\n",
      "424 2150 972\n"
     ]
    },
    {
     "name": "stderr",
     "output_type": "stream",
     "text": [
      "b'Skipping line 10: expected 10 fields, saw 11\\nSkipping line 20: expected 10 fields, saw 12\\n'\n"
     ]
    },
    {
     "name": "stdout",
     "output_type": "stream",
     "text": [
      "438 2204 1005\n",
      "438 2208 1006\n",
      "439 2212 1008\n",
      "440 2215 1013\n"
     ]
    },
    {
     "name": "stderr",
     "output_type": "stream",
     "text": [
      "b'Skipping line 41: expected 10 fields, saw 11\\nSkipping line 42: expected 10 fields, saw 11\\n'\n"
     ]
    },
    {
     "name": "stdout",
     "output_type": "stream",
     "text": [
      "446 2256 1027\n",
      "446 2262 1029\n",
      "448 2264 1031\n",
      "453 2269 1036\n",
      "454 2270 1037\n",
      "456 2276 1040\n",
      "466 2332 1059\n",
      "467 2337 1060\n",
      "467 2340 1060\n",
      "467 2341 1061\n"
     ]
    },
    {
     "name": "stderr",
     "output_type": "stream",
     "text": [
      "b'Skipping line 12: expected 10 fields, saw 11\\n'\n"
     ]
    },
    {
     "name": "stdout",
     "output_type": "stream",
     "text": [
      "468 2367 1066\n",
      "484 2396 1089\n",
      "485 2404 1094\n",
      "487 2408 1100\n",
      "493 2443 1107\n",
      "493 2446 1108\n",
      "495 2448 1110\n",
      "496 2453 1112\n",
      "499 2458 1116\n",
      "501 2462 1124\n",
      "504 2468 1128\n",
      "506 2490 1135\n",
      "513 2506 1149\n"
     ]
    },
    {
     "name": "stderr",
     "output_type": "stream",
     "text": [
      "b'Skipping line 28: expected 10 fields, saw 11\\n'\n"
     ]
    },
    {
     "name": "stdout",
     "output_type": "stream",
     "text": [
      "525 2582 1177\n",
      "527 2584 1188\n",
      "527 2606 1193\n",
      "527 2612 1212\n",
      "532 2626 1220\n",
      "533 2627 1221\n",
      "536 2642 1227\n"
     ]
    },
    {
     "name": "stderr",
     "output_type": "stream",
     "text": [
      "b'Skipping line 7: expected 10 fields, saw 11\\n'\n",
      "b'Skipping line 5: expected 10 fields, saw 11\\nSkipping line 9: expected 10 fields, saw 11\\n'\n"
     ]
    },
    {
     "name": "stdout",
     "output_type": "stream",
     "text": [
      "537 2649 1230\n",
      "537 2651 1230\n",
      "538 2654 1233\n",
      "538 2657 1233\n",
      "540 2665 1241\n",
      "541 2667 1243\n",
      "543 2673 1246\n",
      "544 2679 1248\n",
      "544 2683 1249\n",
      "544 2698 1253\n"
     ]
    },
    {
     "name": "stderr",
     "output_type": "stream",
     "text": [
      "b'Skipping line 2: expected 10 fields, saw 11\\n'\n"
     ]
    },
    {
     "name": "stdout",
     "output_type": "stream",
     "text": [
      "545 2706 1258\n",
      "549 2712 1265\n",
      "549 2713 1270\n",
      "552 2723 1275\n",
      "556 2727 1279\n",
      "556 2730 1280\n",
      "558 2734 1282\n",
      "558 2737 1284\n",
      "559 2743 1287\n",
      "559 2749 1287\n",
      "559 2750 1287\n",
      "560 2753 1293\n",
      "560 2757 1296\n",
      "563 2763 1300\n",
      "565 2769 1305\n",
      "565 2772 1306\n",
      "567 2774 1308\n",
      "567 2808 1323\n",
      "568 2810 1324\n",
      "571 2821 1328\n",
      "572 2828 1329\n",
      "574 2847 1336\n",
      "574 2852 1339\n",
      "574 2855 1341\n",
      "575 2859 1347\n",
      "577 2863 1363\n",
      "577 2865 1367\n",
      "577 2869 1368\n",
      "579 2875 1371\n",
      "580 2878 1373\n",
      "580 2879 1386\n",
      "581 2882 1388\n",
      "581 2887 1388\n",
      "586 2904 1396\n",
      "591 2911 1410\n",
      "591 3070 1410\n",
      "592 3075 1413\n",
      "598 3081 1423\n"
     ]
    },
    {
     "name": "stderr",
     "output_type": "stream",
     "text": [
      "b'Skipping line 10: expected 10 fields, saw 11\\nSkipping line 11: expected 10 fields, saw 11\\nSkipping line 29: expected 10 fields, saw 11\\n'\n"
     ]
    },
    {
     "name": "stdout",
     "output_type": "stream",
     "text": [
      "605 3118 1436\n",
      "606 3121 1437\n",
      "607 3137 1439\n",
      "608 3139 1441\n",
      "608 3140 1441\n",
      "608 3143 1442\n",
      "608 3145 1443\n",
      "608 3149 1447\n",
      "609 3153 1450\n",
      "609 3156 1450\n",
      "611 3159 1452\n"
     ]
    },
    {
     "name": "stderr",
     "output_type": "stream",
     "text": [
      "b'Skipping line 2: expected 10 fields, saw 11\\n'\n"
     ]
    },
    {
     "name": "stdout",
     "output_type": "stream",
     "text": [
      "613 3162 1457\n",
      "617 3166 1461\n",
      "617 3167 1487\n",
      "621 3197 1501\n",
      "621 3204 1502\n",
      "622 3221 1507\n",
      "622 3223 1508\n",
      "623 3226 1510\n",
      "623 3229 1511\n",
      "625 3235 1515\n",
      "627 3239 1517\n",
      "629 3244 1519\n",
      "631 3248 1523\n",
      "631 3289 1527\n",
      "631 3297 1527\n",
      "635 3307 1533\n",
      "636 3311 1534\n",
      "636 3313 1535\n",
      "636 3320 1549\n",
      "636 3329 1551\n",
      "636 3331 1552\n",
      "637 3332 1553\n",
      "638 3344 1562\n",
      "640 3347 1565\n",
      "643 3459 1573\n",
      "645 3467 1576\n",
      "646 3469 1577\n",
      "646 3472 1578\n",
      "647 3476 1581\n",
      "651 3480 1585\n",
      "656 3486 1591\n",
      "658 3509 1594\n",
      "661 3517 1598\n",
      "663 3521 1601\n",
      "664 3526 1606\n",
      "665 3534 1609\n",
      "673 3550 1619\n",
      "673 3553 1619\n",
      "673 3558 1620\n",
      "674 3561 1629\n",
      "674 3562 1631\n",
      "674 3574 1634\n",
      "675 3576 1638\n",
      "676 3577 1639\n",
      "677 3578 1640\n",
      "682 3597 1649\n",
      "683 3674 1670\n",
      "685 3680 1672\n",
      "685 3687 1674\n",
      "688 3697 1681\n",
      "688 3699 1683\n",
      "688 3704 1683\n",
      "689 3708 1685\n",
      "689 3714 1686\n",
      "690 3718 1688\n",
      "692 3726 1691\n",
      "692 3734 1693\n",
      "694 3738 1695\n",
      "695 3742 1697\n",
      "698 3749 1701\n",
      "701 3760 1706\n",
      "701 3766 1709\n",
      "702 3768 1711\n"
     ]
    },
    {
     "name": "stderr",
     "output_type": "stream",
     "text": [
      "b'Skipping line 7: expected 10 fields, saw 11\\n'\n"
     ]
    },
    {
     "name": "stdout",
     "output_type": "stream",
     "text": [
      "706 3803 1721\n",
      "707 3813 1725\n",
      "707 3820 1727\n",
      "735 4034 1795\n",
      "738 4037 1803\n",
      "739 4044 1806\n"
     ]
    },
    {
     "name": "stderr",
     "output_type": "stream",
     "text": [
      "b'Skipping line 14: expected 10 fields, saw 11\\nSkipping line 15: expected 10 fields, saw 11\\n'\n"
     ]
    },
    {
     "name": "stdout",
     "output_type": "stream",
     "text": [
      "749 4065 1824\n",
      "749 4079 1826\n",
      "749 4084 1827\n",
      "751 4090 1833\n",
      "752 4092 1834\n",
      "753 4113 1836\n"
     ]
    },
    {
     "name": "stderr",
     "output_type": "stream",
     "text": [
      "b'Skipping line 6: expected 10 fields, saw 11\\nSkipping line 8: expected 10 fields, saw 11\\n'\n"
     ]
    },
    {
     "name": "stdout",
     "output_type": "stream",
     "text": [
      "753 4121 1841\n",
      "754 4123 1843\n"
     ]
    },
    {
     "name": "stderr",
     "output_type": "stream",
     "text": [
      "b'Skipping line 2: expected 10 fields, saw 11\\n'\n"
     ]
    },
    {
     "name": "stdout",
     "output_type": "stream",
     "text": [
      "755 4125 1847\n",
      "755 4130 1848\n",
      "755 4132 1848\n",
      "755 4134 1849\n",
      "757 4140 1853\n",
      "764 4169 1871\n",
      "764 4170 1871\n",
      "766 4197 1878\n",
      "766 4198 1878\n",
      "766 4202 1883\n",
      "766 4208 1884\n",
      "769 4212 1888\n",
      "771 4218 1890\n",
      "773 4226 1895\n",
      "773 4228 1895\n",
      "775 4235 1899\n",
      "775 4239 1907\n",
      "775 4241 1908\n",
      "776 4242 1909\n",
      "779 4271 1919\n",
      "779 4275 1920\n",
      "781 4277 1922\n",
      "783 4280 1924\n",
      "785 4288 1927\n",
      "786 4292 1936\n",
      "786 4294 1936\n",
      "787 4296 1937\n",
      "787 4302 1939\n",
      "790 4349 1946\n",
      "794 4388 1951\n",
      "796 4394 1954\n",
      "798 4400 1958\n",
      "799 4406 1959\n",
      "803 4418 1965\n",
      "806 4422 1970\n",
      "811 4430 1975\n",
      "814 4433 1978\n",
      "814 4439 1979\n"
     ]
    },
    {
     "name": "stderr",
     "output_type": "stream",
     "text": [
      "b'Skipping line 2: expected 10 fields, saw 11\\nSkipping line 5: expected 10 fields, saw 11\\n'\n"
     ]
    },
    {
     "name": "stdout",
     "output_type": "stream",
     "text": [
      "817 4444 1986\n",
      "818 4445 1987\n",
      "818 4453 1989\n",
      "818 4459 1990\n"
     ]
    },
    {
     "name": "stderr",
     "output_type": "stream",
     "text": [
      "b'Skipping line 2: expected 10 fields, saw 11\\n'\n"
     ]
    },
    {
     "name": "stdout",
     "output_type": "stream",
     "text": [
      "819 4463 1991\n",
      "825 4506 1997\n",
      "831 4517 2006\n",
      "831 4520 2007\n",
      "833 4523 2009\n"
     ]
    },
    {
     "name": "stderr",
     "output_type": "stream",
     "text": [
      "b'Skipping line 12: expected 10 fields, saw 11\\n'\n"
     ]
    },
    {
     "name": "stdout",
     "output_type": "stream",
     "text": [
      "836 4534 2019\n",
      "842 4566 2030\n",
      "842 4568 2031\n",
      "852 4579 2041\n",
      "853 4580 2043\n",
      "859 4588 2052\n",
      "863 4593 2057\n",
      "864 4597 2058\n",
      "869 4618 2069\n",
      "871 4621 2072\n",
      "871 4623 2090\n",
      "874 4634 2096\n",
      "876 4643 2113\n",
      "877 4654 2116\n",
      "886 4714 2133\n",
      "886 4716 2134\n",
      "890 4723 2142\n",
      "891 4732 2143\n"
     ]
    },
    {
     "name": "stderr",
     "output_type": "stream",
     "text": [
      "b'Skipping line 7: expected 10 fields, saw 11\\n'\n"
     ]
    },
    {
     "name": "stdout",
     "output_type": "stream",
     "text": [
      "892 4744 2147\n",
      "894 4749 2149\n",
      "896 4755 2153\n",
      "898 4757 2155\n",
      "902 4781 2165\n",
      "905 4786 2173\n",
      "905 4793 2175\n",
      "907 4796 2177\n",
      "908 4810 2181\n",
      "910 4824 2187\n",
      "914 4870 2196\n",
      "916 4875 2199\n",
      "916 4893 2208\n",
      "916 4896 2212\n",
      "916 4900 2213\n",
      "917 4902 2218\n",
      "922 4922 2225\n",
      "924 4924 2227\n",
      "925 4932 2230\n",
      "928 4941 2234\n",
      "928 4942 2234\n",
      "928 4947 2235\n",
      "929 4949 2236\n",
      "929 4951 2237\n",
      "931 4954 2239\n",
      "934 4978 2243\n",
      "936 4985 2246\n",
      "939 4997 2253\n",
      "939 4999 2253\n",
      "942 5023 2262\n",
      "942 5028 2265\n",
      "943 5038 2267\n",
      "944 5044 2270\n",
      "944 5053 2273\n",
      "947 5057 2278\n",
      "956 5068 2288\n",
      "956 5070 2294\n",
      "956 5071 2294\n",
      "963 5088 2302\n",
      "963 5091 2303\n",
      "964 5093 2306\n",
      "965 5099 2308\n",
      "969 5119 2315\n",
      "971 5123 2318\n"
     ]
    },
    {
     "name": "stderr",
     "output_type": "stream",
     "text": [
      "b'Skipping line 2: expected 10 fields, saw 11\\n'\n"
     ]
    },
    {
     "name": "stdout",
     "output_type": "stream",
     "text": [
      "975 5127 2323\n",
      "975 5131 2324\n",
      "977 5133 2326\n",
      "979 5138 2329\n"
     ]
    },
    {
     "name": "stderr",
     "output_type": "stream",
     "text": [
      "b'Skipping line 4: expected 10 fields, saw 11\\n'\n"
     ]
    },
    {
     "name": "stdout",
     "output_type": "stream",
     "text": [
      "979 5144 2332\n",
      "980 5152 2334\n",
      "981 5153 2335\n",
      "989 5178 2350\n",
      "989 5180 2351\n",
      "990 5182 2352\n"
     ]
    },
    {
     "name": "stderr",
     "output_type": "stream",
     "text": [
      "b'Skipping line 3: expected 10 fields, saw 11\\n'\n"
     ]
    },
    {
     "name": "stdout",
     "output_type": "stream",
     "text": [
      "992 5206 2355\n",
      "993 5215 2360\n",
      "994 5241 2364\n",
      "995 5247 2366\n",
      "996 5250 2367\n",
      "999 5272 2372\n",
      "1000 5276 2375\n",
      "1000 5281 2378\n",
      "1000 5282 2378\n",
      "1001 5284 2380\n",
      "1007 5297 2389\n",
      "1009 5299 2391\n",
      "1016 5307 2399\n",
      "1017 5316 2407\n",
      "1019 5320 2411\n",
      "1019 5322 2413\n",
      "1025 5329 2422\n",
      "1025 5336 2425\n",
      "1025 5337 2425\n",
      "1025 5343 2427\n",
      "1026 5344 2428\n",
      "1030 5399 2438\n",
      "1030 5411 2448\n",
      "1030 5414 2449\n",
      "1033 5448 2459\n",
      "1037 5458 2468\n",
      "1037 5465 2469\n",
      "1039 5469 2472\n",
      "1043 5473 2476\n",
      "1045 5476 2478\n",
      "1047 5481 2481\n",
      "1047 5486 2482\n"
     ]
    },
    {
     "name": "stderr",
     "output_type": "stream",
     "text": [
      "b'Skipping line 5: expected 10 fields, saw 11\\n'\n"
     ]
    },
    {
     "name": "stdout",
     "output_type": "stream",
     "text": [
      "1058 5518 2510\n"
     ]
    },
    {
     "name": "stderr",
     "output_type": "stream",
     "text": [
      "b'Skipping line 33: expected 10 fields, saw 11\\nSkipping line 36: expected 10 fields, saw 11\\n'\n"
     ]
    },
    {
     "name": "stdout",
     "output_type": "stream",
     "text": [
      "1064 5571 2526\n",
      "1065 5573 2528\n",
      "1065 5575 2528\n",
      "1068 5585 2546\n",
      "1068 5588 2547\n"
     ]
    },
    {
     "name": "stderr",
     "output_type": "stream",
     "text": [
      "b'Skipping line 14: expected 10 fields, saw 11\\n'\n"
     ]
    },
    {
     "name": "stdout",
     "output_type": "stream",
     "text": [
      "1070 5602 2553\n",
      "1072 5625 2559\n",
      "1074 5629 2561\n"
     ]
    },
    {
     "name": "stderr",
     "output_type": "stream",
     "text": [
      "b'Skipping line 9: expected 10 fields, saw 11\\n'\n"
     ]
    },
    {
     "name": "stdout",
     "output_type": "stream",
     "text": [
      "1076 5642 2567\n",
      "1077 5644 2574\n",
      "1078 5645 2575\n",
      "1085 5687 2586\n",
      "1085 5690 2587\n",
      "1093 5704 2601\n",
      "1094 5716 2605\n",
      "1094 5718 2610\n",
      "1095 5721 2614\n",
      "1095 5724 2614\n",
      "1096 5728 2616\n",
      "1099 5737 2620\n",
      "1100 5738 2621\n",
      "1100 5742 2622\n",
      "1101 5745 2624\n",
      "1103 5747 2626\n",
      "1104 5749 2628\n"
     ]
    },
    {
     "name": "stderr",
     "output_type": "stream",
     "text": [
      "b'Skipping line 50: expected 10 fields, saw 11\\n'\n"
     ]
    },
    {
     "name": "stdout",
     "output_type": "stream",
     "text": [
      "1108 5807 2653\n",
      "1109 5812 2655\n",
      "1109 5813 2655\n",
      "1115 5823 2662\n",
      "1121 5830 2670\n",
      "1122 5832 2671\n",
      "1123 5845 2673\n",
      "1125 5850 2678\n"
     ]
    },
    {
     "name": "stderr",
     "output_type": "stream",
     "text": [
      "b'Skipping line 3: expected 10 fields, saw 11\\n'\n"
     ]
    },
    {
     "name": "stdout",
     "output_type": "stream",
     "text": [
      "1127 5855 2682\n",
      "1132 5862 2700\n",
      "1134 5868 2706\n",
      "1136 5873 2709\n",
      "1136 5877 2710\n",
      "1148 5927 2738\n",
      "1148 5936 2741\n",
      "1149 5941 2746\n",
      "1149 5943 2750\n"
     ]
    },
    {
     "name": "stderr",
     "output_type": "stream",
     "text": [
      "b'Skipping line 63: expected 10 fields, saw 11\\n'\n"
     ]
    },
    {
     "name": "stdout",
     "output_type": "stream",
     "text": [
      "1154 6014 2772\n",
      "1154 6023 2775\n",
      "1158 6047 2786\n",
      "1159 6053 2788\n",
      "1160 6059 2790\n",
      "1163 6067 2793\n",
      "1165 6076 2796\n"
     ]
    },
    {
     "name": "stderr",
     "output_type": "stream",
     "text": [
      "b'Skipping line 53: expected 10 fields, saw 11\\nSkipping line 61: expected 10 fields, saw 11\\nSkipping line 105: expected 10 fields, saw 11\\nSkipping line 106: expected 10 fields, saw 11\\nSkipping line 108: expected 10 fields, saw 11\\n'\n"
     ]
    },
    {
     "name": "stdout",
     "output_type": "stream",
     "text": [
      "1176 6190 2842\n",
      "1178 6192 2844\n",
      "1178 6200 2846\n",
      "1182 6208 2852\n",
      "1182 6221 2854\n",
      "1182 6225 2856\n",
      "1182 6229 2857\n"
     ]
    },
    {
     "name": "stderr",
     "output_type": "stream",
     "text": [
      "b'Skipping line 8: expected 10 fields, saw 11\\n'\n"
     ]
    },
    {
     "name": "stdout",
     "output_type": "stream",
     "text": [
      "1186 6243 2867\n",
      "1186 6244 2867\n",
      "1188 6253 2871\n",
      "1188 6259 2873\n",
      "1189 6260 2874\n",
      "1190 6262 2876\n"
     ]
    },
    {
     "name": "stderr",
     "output_type": "stream",
     "text": [
      "b'Skipping line 9: expected 10 fields, saw 11\\nSkipping line 20: expected 10 fields, saw 11\\nSkipping line 22: expected 10 fields, saw 11\\n'\n"
     ]
    },
    {
     "name": "stdout",
     "output_type": "stream",
     "text": [
      "1197 6293 2904\n",
      "1198 6315 2907\n",
      "1200 6319 2909\n",
      "1203 6340 2921\n",
      "1204 6343 2923\n",
      "1204 6344 2924\n"
     ]
    },
    {
     "name": "stderr",
     "output_type": "stream",
     "text": [
      "b'Skipping line 2: expected 10 fields, saw 11\\n'\n"
     ]
    },
    {
     "name": "stdout",
     "output_type": "stream",
     "text": [
      "1204 6350 2927\n",
      "1208 6357 2932\n",
      "1210 6361 2935\n",
      "1212 6393 2941\n",
      "1213 6398 2944\n",
      "1214 6402 2949\n"
     ]
    },
    {
     "name": "stderr",
     "output_type": "stream",
     "text": [
      "b'Skipping line 30: expected 10 fields, saw 12\\nSkipping line 32: expected 10 fields, saw 11\\nSkipping line 92: expected 10 fields, saw 11\\nSkipping line 103: expected 10 fields, saw 11\\n'\n"
     ]
    },
    {
     "name": "stdout",
     "output_type": "stream",
     "text": [
      "1252 6537 3020\n",
      "1254 6548 3025\n",
      "1254 6555 3026\n",
      "1258 6561 3030\n"
     ]
    },
    {
     "name": "stderr",
     "output_type": "stream",
     "text": [
      "b'Skipping line 4: expected 10 fields, saw 11\\n'\n"
     ]
    },
    {
     "name": "stdout",
     "output_type": "stream",
     "text": [
      "1261 6565 3034\n",
      "1263 6570 3038\n",
      "1264 6577 3040\n"
     ]
    },
    {
     "name": "stderr",
     "output_type": "stream",
     "text": [
      "b'Skipping line 24: expected 10 fields, saw 11\\n'\n"
     ]
    },
    {
     "name": "stdout",
     "output_type": "stream",
     "text": [
      "1271 6639 3060\n",
      "1274 6666 3067\n"
     ]
    },
    {
     "name": "stderr",
     "output_type": "stream",
     "text": [
      "b'Skipping line 161: expected 10 fields, saw 11\\n'\n"
     ]
    },
    {
     "name": "stdout",
     "output_type": "stream",
     "text": [
      "1309 6828 3131\n",
      "1309 6831 3132\n",
      "1314 6843 3148\n",
      "1314 6849 3150\n",
      "1321 6880 3159\n",
      "1321 6883 3160\n",
      "1323 6885 3162\n",
      "1325 6890 3165\n",
      "1325 6892 3167\n",
      "1327 6895 3169\n",
      "1327 6897 3170\n",
      "1330 6900 3174\n",
      "1330 6917 3180\n",
      "1331 6921 3184\n",
      "1333 6928 3188\n",
      "1334 6929 3189\n",
      "1334 6931 3190\n",
      "1335 6933 3191\n",
      "1336 6975 3197\n",
      "1336 6978 3200\n",
      "1336 6980 3201\n",
      "1336 6983 3202\n",
      "1336 6988 3203\n",
      "1336 6991 3209\n",
      "1337 6995 3211\n"
     ]
    },
    {
     "name": "stderr",
     "output_type": "stream",
     "text": [
      "b'Skipping line 16: expected 10 fields, saw 11\\n'\n"
     ]
    },
    {
     "name": "stdout",
     "output_type": "stream",
     "text": [
      "1350 7012 3233\n",
      "1350 7013 3235\n",
      "1350 7021 3242\n"
     ]
    },
    {
     "name": "stderr",
     "output_type": "stream",
     "text": [
      "b'Skipping line 12: expected 10 fields, saw 11\\n'\n"
     ]
    },
    {
     "name": "stdout",
     "output_type": "stream",
     "text": [
      "1355 7038 3257\n",
      "1356 7050 3262\n",
      "1360 7059 3271\n",
      "1362 7068 3274\n",
      "1363 7074 3275\n",
      "1366 7080 3280\n",
      "1367 7083 3282\n"
     ]
    },
    {
     "name": "stderr",
     "output_type": "stream",
     "text": [
      "b'Skipping line 3: expected 10 fields, saw 11\\n'\n"
     ]
    },
    {
     "name": "stdout",
     "output_type": "stream",
     "text": [
      "1370 7092 3287\n",
      "1370 7095 3292\n",
      "1371 7106 3296\n",
      "1373 7115 3300\n",
      "1380 7133 3317\n",
      "1381 7142 3319\n",
      "1382 7204 3322\n",
      "1382 7206 3323\n",
      "1391 7362 3349\n",
      "1392 7367 3351\n",
      "1392 7368 3353\n",
      "1394 7370 3358\n",
      "1395 7373 3364\n",
      "1396 7384 3365\n",
      "1398 7392 3373\n",
      "1402 7400 3379\n",
      "1403 7403 3382\n",
      "1406 7406 3385\n",
      "1408 7423 3392\n",
      "1408 7424 3392\n",
      "1409 7431 3394\n",
      "1412 7437 3398\n",
      "1412 7445 3400\n",
      "1413 7446 3401\n",
      "1416 7455 3406\n",
      "1421 7494 3415\n",
      "1422 7504 3418\n",
      "1422 7513 3419\n",
      "1423 7516 3421\n",
      "1424 7531 3422\n",
      "1424 7541 3425\n",
      "1427 7544 3429\n",
      "1427 7555 3432\n",
      "1427 7557 3432\n",
      "1429 7559 3434\n",
      "1429 7564 3437\n",
      "1430 7566 3438\n",
      "1432 7569 3441\n",
      "1434 7575 3443\n",
      "1435 7581 3447\n",
      "1435 7585 3447\n",
      "1437 7595 3451\n",
      "1439 7598 3453\n",
      "1440 7601 3454\n",
      "1441 7604 3459\n",
      "1444 7611 3463\n",
      "1445 7612 3464\n",
      "1446 7626 3476\n",
      "1446 7632 3478\n",
      "1447 7636 3480\n",
      "1449 7642 3486\n",
      "1449 7643 3488\n",
      "1449 7647 3490\n",
      "1449 7658 3492\n",
      "1458 7718 3516\n",
      "1469 7732 3541\n",
      "1471 7734 3545\n",
      "1471 7744 3546\n",
      "1472 7750 3548\n",
      "1472 7751 3549\n",
      "1475 7758 3559\n"
     ]
    },
    {
     "name": "stderr",
     "output_type": "stream",
     "text": [
      "b'Skipping line 22: expected 10 fields, saw 11\\nSkipping line 25: expected 10 fields, saw 11\\n'\n"
     ]
    },
    {
     "name": "stdout",
     "output_type": "stream",
     "text": [
      "1484 7783 3586\n",
      "1486 7787 3588\n",
      "1488 7792 3591\n",
      "1490 7800 3594\n",
      "1490 7802 3598\n",
      "1492 7806 3601\n",
      "1507 7836 3622\n",
      "1511 7841 3628\n",
      "1512 7848 3632\n",
      "1512 7851 3634\n",
      "1515 7876 3643\n",
      "1518 7880 3647\n",
      "1518 7883 3654\n",
      "1519 7885 3655\n",
      "1522 7889 3658\n",
      "1522 7896 3660\n",
      "1524 7899 3662\n",
      "1524 7904 3664\n"
     ]
    },
    {
     "name": "stderr",
     "output_type": "stream",
     "text": [
      "b'Skipping line 27: expected 10 fields, saw 11\\nSkipping line 28: expected 10 fields, saw 11\\n'\n"
     ]
    },
    {
     "name": "stdout",
     "output_type": "stream",
     "text": [
      "1532 7940 3680\n",
      "1532 7944 3683\n",
      "1533 7956 3685\n",
      "1534 7975 3691\n",
      "1538 7988 3698\n",
      "1539 7990 3708\n",
      "1540 7993 3710\n",
      "1542 8022 3717\n",
      "1542 8026 3720\n",
      "1544 8038 3723\n",
      "1545 8040 3726\n",
      "1549 8045 3731\n",
      "1553 8049 3735\n",
      "1554 8084 3746\n",
      "1554 8092 3747\n",
      "1554 8099 3749\n",
      "1557 8106 3755\n",
      "1560 8110 3758\n",
      "1569 8131 3771\n",
      "1571 8134 3774\n",
      "1572 8141 3778\n",
      "1580 8188 3794\n",
      "1582 8194 3797\n",
      "1582 8195 3797\n",
      "1583 8200 3802\n",
      "1587 8212 3807\n",
      "1587 8214 3811\n",
      "1589 8230 3821\n",
      "1590 8239 3823\n",
      "1599 8251 3835\n",
      "1601 8254 3839\n",
      "1602 8255 3840\n",
      "1604 8281 3848\n",
      "1605 8285 3850\n",
      "1608 8288 3855\n",
      "1613 8294 3860\n",
      "1617 8300 3864\n",
      "1621 8306 3872\n",
      "1623 8330 3877\n",
      "1628 8348 3886\n",
      "1629 8351 3888\n",
      "1630 8356 3890\n",
      "ep18\n",
      "1 3 2\n",
      "1 5 3\n",
      "2 7 4\n",
      "3 17 8\n"
     ]
    },
    {
     "name": "stderr",
     "output_type": "stream",
     "text": [
      "b'Skipping line 17: expected 10 fields, saw 11\\nSkipping line 37: expected 10 fields, saw 11\\n'\n"
     ]
    },
    {
     "name": "stdout",
     "output_type": "stream",
     "text": [
      "4 105 37\n",
      "25 130 63\n",
      "27 135 65\n",
      "29 148 69\n",
      "29 151 70\n",
      "30 210 72\n",
      "31 212 74\n",
      "38 219 85\n",
      "39 221 88\n",
      "44 235 97\n",
      "44 236 97\n",
      "45 243 101\n",
      "49 248 105\n",
      "49 253 106\n",
      "54 267 114\n",
      "56 269 116\n",
      "57 272 118\n",
      "58 281 120\n",
      "59 285 122\n",
      "61 289 124\n",
      "62 290 126\n"
     ]
    },
    {
     "name": "stderr",
     "output_type": "stream",
     "text": [
      "b'Skipping line 3: expected 10 fields, saw 11\\nSkipping line 5: expected 10 fields, saw 11\\n'\n"
     ]
    },
    {
     "name": "stdout",
     "output_type": "stream",
     "text": [
      "62 293 128\n",
      "64 295 130\n",
      "65 351 139\n",
      "66 353 140\n",
      "66 360 143\n"
     ]
    },
    {
     "name": "stderr",
     "output_type": "stream",
     "text": [
      "b'Skipping line 4: expected 10 fields, saw 11\\n'\n"
     ]
    },
    {
     "name": "stdout",
     "output_type": "stream",
     "text": [
      "67 381 144\n",
      "78 410 161\n",
      "79 415 163\n",
      "79 420 165\n",
      "83 469 185\n",
      "85 480 190\n",
      "85 489 192\n",
      "86 493 195\n",
      "87 502 199\n",
      "87 504 199\n",
      "89 509 201\n",
      "91 518 203\n",
      "91 519 203\n",
      "92 520 204\n",
      "92 527 204\n",
      "94 533 207\n",
      "94 534 207\n",
      "95 535 209\n"
     ]
    },
    {
     "name": "stderr",
     "output_type": "stream",
     "text": [
      "b'Skipping line 4: expected 10 fields, saw 11\\n'\n"
     ]
    },
    {
     "name": "stdout",
     "output_type": "stream",
     "text": [
      "100 543 219\n",
      "100 544 219\n",
      "100 571 222\n",
      "100 574 222\n",
      "105 582 229\n",
      "105 583 231\n",
      "107 589 233\n",
      "108 595 235\n",
      "117 627 255\n",
      "119 631 259\n",
      "119 643 261\n",
      "122 647 264\n",
      "124 651 269\n",
      "125 655 271\n",
      "126 656 272\n",
      "127 694 273\n",
      "128 696 274\n",
      "130 698 277\n"
     ]
    },
    {
     "name": "stderr",
     "output_type": "stream",
     "text": [
      "b'Skipping line 8: expected 10 fields, saw 11\\nSkipping line 9: expected 10 fields, saw 11\\nSkipping line 15: expected 10 fields, saw 11\\n'\n"
     ]
    },
    {
     "name": "stdout",
     "output_type": "stream",
     "text": [
      "137 710 294\n",
      "137 711 295\n",
      "137 719 296\n",
      "137 720 296\n",
      "153 796 342\n",
      "153 799 344\n"
     ]
    },
    {
     "name": "stderr",
     "output_type": "stream",
     "text": [
      "b'Skipping line 2: expected 10 fields, saw 11\\n'\n"
     ]
    },
    {
     "name": "stdout",
     "output_type": "stream",
     "text": [
      "156 821 348\n",
      "157 824 350\n",
      "161 828 354\n"
     ]
    },
    {
     "name": "stderr",
     "output_type": "stream",
     "text": [
      "b'Skipping line 8: expected 10 fields, saw 11\\n'\n"
     ]
    },
    {
     "name": "stdout",
     "output_type": "stream",
     "text": [
      "162 841 356\n",
      "162 846 357\n",
      "164 848 359\n",
      "165 861 360\n",
      "167 867 365\n",
      "167 873 365\n",
      "167 876 367\n",
      "168 879 369\n",
      "172 883 373\n",
      "177 888 378\n",
      "178 889 379\n",
      "178 898 381\n",
      "178 907 382\n",
      "179 908 383\n",
      "183 952 404\n",
      "185 963 407\n",
      "187 965 409\n",
      "187 970 410\n",
      "187 992 431\n",
      "192 1007 438\n",
      "192 1012 439\n",
      "194 1017 443\n",
      "194 1025 449\n",
      "199 1075 465\n",
      "200 1081 467\n",
      "201 1088 470\n",
      "201 1089 471\n",
      "202 1092 472\n",
      "204 1096 489\n",
      "204 1099 490\n",
      "208 1104 496\n",
      "210 1108 499\n",
      "210 1126 502\n",
      "213 1151 512\n",
      "214 1155 514\n",
      "216 1160 517\n",
      "219 1168 521\n",
      "220 1170 522\n",
      "225 1176 527\n",
      "226 1179 532\n",
      "227 1183 534\n",
      "227 1189 535\n",
      "234 1196 544\n",
      "234 1197 546\n",
      "236 1201 548\n",
      "243 1224 560\n",
      "246 1229 563\n",
      "246 1237 567\n",
      "250 1243 572\n",
      "250 1244 573\n",
      "252 1247 576\n",
      "253 1251 577\n",
      "259 1270 588\n",
      "259 1272 589\n",
      "259 1280 590\n",
      "259 1281 591\n",
      "261 1284 593\n",
      "262 1287 596\n",
      "262 1289 598\n",
      "263 1291 599\n",
      "266 1307 604\n",
      "266 1312 605\n",
      "266 1339 606\n",
      "276 1349 616\n",
      "276 1353 616\n",
      "277 1399 624\n",
      "277 1403 625\n",
      "277 1409 625\n",
      "279 1414 637\n",
      "279 1418 639\n",
      "279 1420 639\n",
      "281 1424 642\n",
      "284 1440 650\n",
      "286 1442 652\n",
      "287 1449 654\n",
      "289 1455 658\n",
      "289 1462 658\n",
      "293 1489 665\n",
      "295 1491 667\n",
      "295 1494 668\n"
     ]
    },
    {
     "name": "stderr",
     "output_type": "stream",
     "text": [
      "b'Skipping line 4: expected 10 fields, saw 11\\n'\n"
     ]
    },
    {
     "name": "stdout",
     "output_type": "stream",
     "text": [
      "295 1497 669\n",
      "295 1502 670\n",
      "301 1515 681\n",
      "303 1524 685\n",
      "306 1529 688\n",
      "307 1530 689\n",
      "308 1531 690\n",
      "308 1534 690\n",
      "310 1537 693\n",
      "310 1540 693\n",
      "311 1542 694\n",
      "314 1547 717\n",
      "315 1557 721\n",
      "315 1559 721\n",
      "315 1564 724\n",
      "315 1570 726\n",
      "315 1574 727\n",
      "316 1595 734\n",
      "316 1597 735\n",
      "316 1609 737\n",
      "317 1612 741\n",
      "319 1652 746\n",
      "319 1659 747\n",
      "319 1661 748\n",
      "320 1669 750\n",
      "321 1670 751\n",
      "321 1695 751\n",
      "324 1700 757\n",
      "325 1703 761\n",
      "326 1712 763\n"
     ]
    },
    {
     "name": "stderr",
     "output_type": "stream",
     "text": [
      "b'Skipping line 5: expected 10 fields, saw 11\\n'\n"
     ]
    },
    {
     "name": "stdout",
     "output_type": "stream",
     "text": [
      "330 1724 769\n",
      "337 1737 777\n",
      "339 1746 781\n",
      "341 1750 783\n",
      "341 1776 783\n",
      "343 1781 786\n",
      "345 1784 790\n",
      "345 1790 791\n",
      "345 1795 792\n",
      "348 1799 795\n",
      "349 1807 798\n",
      "352 1810 801\n",
      "352 1813 801\n",
      "353 1818 802\n",
      "356 1821 807\n",
      "360 1832 813\n",
      "360 1834 813\n",
      "363 1839 821\n",
      "366 1852 826\n",
      "369 1857 829\n",
      "370 1861 833\n",
      "375 1866 843\n",
      "376 1889 847\n",
      "377 1890 848\n",
      "378 1934 850\n"
     ]
    },
    {
     "name": "stderr",
     "output_type": "stream",
     "text": [
      "b'Skipping line 31: expected 10 fields, saw 11\\nSkipping line 62: expected 10 fields, saw 11\\nSkipping line 68: expected 10 fields, saw 11\\n'\n"
     ]
    },
    {
     "name": "stdout",
     "output_type": "stream",
     "text": [
      "378 2005 854\n",
      "384 2025 864\n",
      "384 2026 866\n",
      "386 2034 877\n",
      "387 2037 880\n",
      "387 2039 883\n",
      "387 2047 891\n",
      "396 2057 900\n",
      "396 2074 902\n",
      "406 2086 916\n",
      "406 2091 919\n",
      "408 2093 921\n",
      "409 2094 923\n",
      "412 2099 926\n",
      "412 2104 929\n",
      "416 2111 933\n",
      "418 2115 935\n",
      "418 2135 941\n",
      "418 2137 942\n",
      "418 2140 944\n",
      "418 2145 944\n",
      "418 2148 945\n",
      "418 2150 947\n"
     ]
    },
    {
     "name": "stderr",
     "output_type": "stream",
     "text": [
      "b'Skipping line 10: expected 10 fields, saw 11\\nSkipping line 20: expected 10 fields, saw 12\\n'\n"
     ]
    },
    {
     "name": "stdout",
     "output_type": "stream",
     "text": [
      "432 2204 983\n",
      "432 2208 984\n",
      "434 2212 986\n",
      "435 2215 992\n"
     ]
    },
    {
     "name": "stderr",
     "output_type": "stream",
     "text": [
      "b'Skipping line 41: expected 10 fields, saw 11\\nSkipping line 42: expected 10 fields, saw 11\\n'\n"
     ]
    },
    {
     "name": "stdout",
     "output_type": "stream",
     "text": [
      "441 2256 1006\n",
      "441 2262 1008\n",
      "443 2264 1010\n",
      "448 2269 1015\n",
      "449 2270 1016\n",
      "451 2276 1019\n",
      "461 2332 1037\n",
      "462 2337 1038\n",
      "462 2340 1038\n",
      "462 2341 1039\n"
     ]
    },
    {
     "name": "stderr",
     "output_type": "stream",
     "text": [
      "b'Skipping line 12: expected 10 fields, saw 11\\n'\n"
     ]
    },
    {
     "name": "stdout",
     "output_type": "stream",
     "text": [
      "462 2367 1043\n",
      "480 2396 1066\n",
      "481 2404 1071\n",
      "483 2408 1079\n",
      "490 2443 1086\n",
      "490 2446 1087\n",
      "492 2448 1089\n",
      "492 2453 1091\n",
      "495 2458 1097\n",
      "497 2462 1105\n",
      "499 2468 1107\n",
      "501 2490 1114\n",
      "507 2506 1126\n"
     ]
    },
    {
     "name": "stderr",
     "output_type": "stream",
     "text": [
      "b'Skipping line 28: expected 10 fields, saw 11\\n'\n"
     ]
    },
    {
     "name": "stdout",
     "output_type": "stream",
     "text": [
      "520 2582 1154\n",
      "522 2584 1163\n",
      "522 2606 1168\n",
      "522 2612 1186\n",
      "526 2626 1193\n",
      "527 2627 1194\n",
      "530 2642 1200\n"
     ]
    },
    {
     "name": "stderr",
     "output_type": "stream",
     "text": [
      "b'Skipping line 7: expected 10 fields, saw 11\\n'\n",
      "b'Skipping line 5: expected 10 fields, saw 11\\nSkipping line 9: expected 10 fields, saw 11\\n'\n"
     ]
    },
    {
     "name": "stdout",
     "output_type": "stream",
     "text": [
      "531 2649 1203\n",
      "531 2651 1203\n",
      "532 2654 1207\n",
      "532 2657 1207\n",
      "534 2665 1217\n",
      "534 2667 1219\n",
      "536 2673 1222\n",
      "537 2679 1224\n",
      "537 2683 1225\n",
      "537 2698 1228\n"
     ]
    },
    {
     "name": "stderr",
     "output_type": "stream",
     "text": [
      "b'Skipping line 2: expected 10 fields, saw 11\\n'\n"
     ]
    },
    {
     "name": "stdout",
     "output_type": "stream",
     "text": [
      "538 2706 1234\n",
      "542 2712 1242\n",
      "542 2713 1246\n",
      "545 2723 1251\n",
      "549 2727 1255\n",
      "549 2730 1256\n",
      "551 2734 1258\n",
      "551 2737 1260\n",
      "552 2743 1263\n",
      "552 2749 1263\n",
      "552 2750 1263\n",
      "554 2753 1269\n",
      "554 2757 1272\n",
      "557 2763 1276\n",
      "559 2769 1282\n",
      "559 2772 1283\n",
      "561 2774 1285\n",
      "561 2808 1301\n",
      "562 2810 1302\n",
      "565 2821 1308\n",
      "566 2828 1309\n",
      "567 2847 1317\n",
      "567 2852 1320\n",
      "567 2855 1322\n",
      "567 2859 1326\n",
      "569 2863 1340\n",
      "569 2865 1345\n",
      "569 2869 1346\n",
      "571 2875 1349\n",
      "572 2878 1351\n",
      "572 2879 1364\n",
      "573 2882 1366\n",
      "573 2887 1366\n",
      "577 2904 1374\n",
      "582 2911 1388\n",
      "582 3070 1388\n",
      "583 3075 1390\n",
      "589 3081 1400\n"
     ]
    },
    {
     "name": "stderr",
     "output_type": "stream",
     "text": [
      "b'Skipping line 10: expected 10 fields, saw 11\\nSkipping line 11: expected 10 fields, saw 11\\nSkipping line 29: expected 10 fields, saw 11\\n'\n"
     ]
    },
    {
     "name": "stdout",
     "output_type": "stream",
     "text": [
      "594 3118 1413\n",
      "595 3121 1414\n",
      "596 3137 1417\n",
      "597 3139 1419\n",
      "597 3140 1419\n",
      "597 3143 1420\n",
      "597 3145 1421\n",
      "597 3149 1425\n",
      "598 3153 1428\n",
      "598 3156 1428\n",
      "600 3159 1430\n"
     ]
    },
    {
     "name": "stderr",
     "output_type": "stream",
     "text": [
      "b'Skipping line 2: expected 10 fields, saw 11\\n'\n"
     ]
    },
    {
     "name": "stdout",
     "output_type": "stream",
     "text": [
      "602 3162 1437\n",
      "606 3166 1441\n",
      "606 3167 1470\n",
      "611 3197 1483\n",
      "611 3204 1484\n",
      "612 3221 1491\n",
      "612 3223 1492\n",
      "613 3226 1494\n",
      "613 3229 1495\n",
      "615 3235 1499\n",
      "617 3239 1501\n",
      "619 3244 1503\n",
      "621 3248 1506\n",
      "621 3289 1509\n",
      "621 3297 1509\n",
      "625 3307 1515\n",
      "626 3311 1516\n",
      "626 3313 1517\n",
      "626 3320 1534\n",
      "626 3329 1536\n",
      "626 3331 1537\n",
      "627 3332 1538\n",
      "628 3344 1547\n",
      "630 3347 1550\n",
      "633 3459 1558\n",
      "635 3467 1561\n",
      "636 3469 1562\n",
      "636 3472 1563\n",
      "637 3476 1565\n",
      "641 3480 1569\n",
      "646 3486 1575\n",
      "648 3509 1578\n",
      "651 3517 1582\n",
      "653 3521 1585\n",
      "654 3526 1588\n",
      "655 3534 1591\n",
      "662 3550 1601\n",
      "662 3553 1601\n",
      "662 3558 1602\n",
      "663 3561 1610\n",
      "663 3562 1613\n",
      "663 3574 1616\n",
      "664 3576 1620\n",
      "665 3577 1622\n",
      "666 3578 1623\n",
      "671 3597 1632\n",
      "672 3674 1658\n",
      "674 3680 1660\n",
      "674 3687 1663\n",
      "677 3697 1671\n",
      "677 3699 1672\n",
      "677 3704 1672\n",
      "677 3708 1674\n",
      "677 3714 1675\n",
      "678 3718 1677\n",
      "680 3726 1680\n",
      "680 3734 1681\n",
      "682 3738 1683\n",
      "683 3742 1685\n",
      "686 3749 1689\n",
      "688 3760 1693\n",
      "688 3766 1697\n"
     ]
    },
    {
     "name": "stderr",
     "output_type": "stream",
     "text": [
      "b'Skipping line 7: expected 10 fields, saw 11\\n'\n"
     ]
    },
    {
     "name": "stdout",
     "output_type": "stream",
     "text": [
      "689 3768 1699\n",
      "693 3803 1709\n",
      "695 3813 1713\n",
      "695 3820 1716\n",
      "722 4034 1782\n",
      "725 4037 1790\n",
      "726 4044 1793\n"
     ]
    },
    {
     "name": "stderr",
     "output_type": "stream",
     "text": [
      "b'Skipping line 14: expected 10 fields, saw 11\\nSkipping line 15: expected 10 fields, saw 11\\n'\n"
     ]
    },
    {
     "name": "stdout",
     "output_type": "stream",
     "text": [
      "736 4065 1811\n",
      "736 4079 1813\n",
      "736 4084 1814\n",
      "738 4090 1820\n",
      "739 4092 1821\n",
      "740 4113 1823\n"
     ]
    },
    {
     "name": "stderr",
     "output_type": "stream",
     "text": [
      "b'Skipping line 6: expected 10 fields, saw 11\\nSkipping line 8: expected 10 fields, saw 11\\n'\n"
     ]
    },
    {
     "name": "stdout",
     "output_type": "stream",
     "text": [
      "740 4121 1826\n",
      "741 4123 1828\n"
     ]
    },
    {
     "name": "stderr",
     "output_type": "stream",
     "text": [
      "b'Skipping line 2: expected 10 fields, saw 11\\n'\n"
     ]
    },
    {
     "name": "stdout",
     "output_type": "stream",
     "text": [
      "742 4125 1832\n",
      "742 4130 1833\n",
      "742 4132 1833\n",
      "742 4134 1834\n",
      "744 4140 1838\n",
      "749 4169 1854\n",
      "749 4170 1854\n",
      "751 4197 1862\n",
      "751 4198 1864\n",
      "751 4202 1868\n",
      "751 4208 1869\n",
      "754 4212 1873\n",
      "756 4218 1875\n",
      "758 4226 1880\n",
      "758 4228 1880\n",
      "760 4235 1883\n",
      "760 4239 1892\n",
      "760 4241 1893\n",
      "761 4242 1894\n",
      "764 4271 1904\n",
      "764 4275 1905\n",
      "766 4277 1907\n",
      "768 4280 1909\n",
      "770 4288 1912\n",
      "772 4292 1920\n",
      "772 4294 1920\n",
      "773 4296 1921\n",
      "774 4302 1922\n",
      "777 4349 1928\n",
      "781 4388 1933\n",
      "783 4394 1937\n",
      "785 4400 1941\n",
      "785 4406 1942\n",
      "789 4418 1948\n",
      "792 4422 1953\n",
      "797 4430 1958\n",
      "800 4433 1962\n",
      "800 4439 1963\n"
     ]
    },
    {
     "name": "stderr",
     "output_type": "stream",
     "text": [
      "b'Skipping line 2: expected 10 fields, saw 11\\nSkipping line 5: expected 10 fields, saw 11\\n'\n"
     ]
    },
    {
     "name": "stdout",
     "output_type": "stream",
     "text": [
      "802 4444 1970\n",
      "803 4445 1971\n",
      "803 4453 1973\n",
      "803 4459 1974\n"
     ]
    },
    {
     "name": "stderr",
     "output_type": "stream",
     "text": [
      "b'Skipping line 2: expected 10 fields, saw 11\\n'\n"
     ]
    },
    {
     "name": "stdout",
     "output_type": "stream",
     "text": [
      "804 4463 1975\n",
      "810 4506 1981\n",
      "816 4517 1990\n",
      "816 4520 1991\n",
      "818 4523 1993\n"
     ]
    },
    {
     "name": "stderr",
     "output_type": "stream",
     "text": [
      "b'Skipping line 12: expected 10 fields, saw 11\\n'\n"
     ]
    },
    {
     "name": "stdout",
     "output_type": "stream",
     "text": [
      "821 4534 2002\n",
      "826 4566 2013\n",
      "826 4568 2014\n",
      "836 4579 2024\n",
      "837 4580 2025\n",
      "843 4588 2035\n",
      "847 4593 2040\n",
      "848 4597 2042\n",
      "853 4618 2053\n",
      "854 4621 2055\n",
      "854 4623 2072\n",
      "857 4634 2078\n",
      "859 4643 2095\n",
      "860 4654 2098\n",
      "870 4714 2114\n",
      "870 4716 2115\n",
      "873 4723 2122\n",
      "874 4732 2123\n"
     ]
    },
    {
     "name": "stderr",
     "output_type": "stream",
     "text": [
      "b'Skipping line 7: expected 10 fields, saw 11\\n'\n"
     ]
    },
    {
     "name": "stdout",
     "output_type": "stream",
     "text": [
      "875 4744 2127\n",
      "877 4749 2129\n",
      "879 4755 2133\n",
      "881 4757 2135\n",
      "885 4781 2145\n",
      "888 4786 2156\n",
      "888 4793 2158\n",
      "890 4796 2160\n",
      "891 4810 2164\n",
      "893 4824 2170\n",
      "897 4870 2178\n",
      "899 4875 2182\n",
      "899 4893 2191\n",
      "899 4896 2195\n",
      "899 4900 2195\n",
      "900 4902 2199\n",
      "903 4922 2206\n",
      "905 4924 2208\n",
      "906 4932 2211\n",
      "909 4941 2215\n",
      "909 4942 2215\n",
      "909 4947 2216\n",
      "910 4949 2217\n",
      "910 4951 2218\n",
      "912 4954 2220\n",
      "915 4978 2224\n",
      "917 4985 2227\n",
      "920 4997 2233\n",
      "920 4999 2233\n",
      "924 5023 2242\n",
      "924 5028 2245\n",
      "925 5038 2248\n",
      "926 5044 2251\n",
      "926 5053 2254\n",
      "929 5057 2259\n",
      "938 5068 2270\n",
      "938 5070 2277\n",
      "938 5071 2277\n",
      "945 5088 2285\n",
      "946 5091 2286\n",
      "947 5093 2288\n",
      "948 5099 2290\n",
      "953 5119 2298\n",
      "954 5123 2300\n"
     ]
    },
    {
     "name": "stderr",
     "output_type": "stream",
     "text": [
      "b'Skipping line 2: expected 10 fields, saw 11\\n'\n"
     ]
    },
    {
     "name": "stdout",
     "output_type": "stream",
     "text": [
      "958 5127 2305\n",
      "959 5131 2306\n",
      "961 5133 2308\n",
      "963 5138 2311\n"
     ]
    },
    {
     "name": "stderr",
     "output_type": "stream",
     "text": [
      "b'Skipping line 4: expected 10 fields, saw 11\\n'\n"
     ]
    },
    {
     "name": "stdout",
     "output_type": "stream",
     "text": [
      "963 5144 2314\n",
      "964 5152 2316\n",
      "965 5153 2317\n",
      "973 5178 2330\n",
      "973 5180 2332\n",
      "974 5182 2333\n"
     ]
    },
    {
     "name": "stderr",
     "output_type": "stream",
     "text": [
      "b'Skipping line 3: expected 10 fields, saw 11\\n'\n"
     ]
    },
    {
     "name": "stdout",
     "output_type": "stream",
     "text": [
      "976 5206 2336\n",
      "977 5215 2341\n",
      "978 5241 2344\n",
      "979 5247 2346\n",
      "980 5250 2347\n",
      "983 5272 2352\n",
      "983 5276 2355\n",
      "983 5281 2357\n",
      "983 5282 2357\n",
      "984 5284 2359\n",
      "990 5297 2369\n",
      "992 5299 2371\n",
      "999 5307 2379\n",
      "1000 5316 2387\n",
      "1002 5320 2391\n",
      "1002 5322 2392\n",
      "1008 5329 2400\n",
      "1008 5336 2403\n",
      "1008 5337 2403\n",
      "1008 5343 2405\n",
      "1009 5344 2406\n",
      "1013 5399 2416\n",
      "1013 5411 2428\n",
      "1013 5414 2429\n",
      "1016 5448 2439\n",
      "1021 5458 2448\n",
      "1021 5465 2449\n",
      "1023 5469 2452\n",
      "1027 5473 2456\n",
      "1029 5476 2458\n",
      "1031 5481 2461\n",
      "1031 5486 2462\n"
     ]
    },
    {
     "name": "stderr",
     "output_type": "stream",
     "text": [
      "b'Skipping line 5: expected 10 fields, saw 11\\n'\n"
     ]
    },
    {
     "name": "stdout",
     "output_type": "stream",
     "text": [
      "1044 5518 2488\n"
     ]
    },
    {
     "name": "stderr",
     "output_type": "stream",
     "text": [
      "b'Skipping line 33: expected 10 fields, saw 11\\nSkipping line 36: expected 10 fields, saw 11\\n'\n"
     ]
    },
    {
     "name": "stdout",
     "output_type": "stream",
     "text": [
      "1050 5571 2504\n",
      "1051 5573 2506\n",
      "1051 5575 2506\n",
      "1055 5585 2521\n",
      "1055 5588 2521\n"
     ]
    },
    {
     "name": "stderr",
     "output_type": "stream",
     "text": [
      "b'Skipping line 14: expected 10 fields, saw 11\\n'\n"
     ]
    },
    {
     "name": "stdout",
     "output_type": "stream",
     "text": [
      "1057 5602 2527\n",
      "1059 5625 2533\n",
      "1061 5629 2535\n"
     ]
    },
    {
     "name": "stderr",
     "output_type": "stream",
     "text": [
      "b'Skipping line 9: expected 10 fields, saw 11\\n'\n"
     ]
    },
    {
     "name": "stdout",
     "output_type": "stream",
     "text": [
      "1063 5642 2541\n",
      "1064 5644 2544\n",
      "1065 5645 2545\n",
      "1072 5687 2555\n",
      "1072 5690 2556\n",
      "1080 5704 2569\n",
      "1081 5716 2574\n",
      "1081 5718 2579\n",
      "1082 5721 2583\n",
      "1082 5724 2583\n",
      "1083 5728 2585\n",
      "1086 5737 2589\n",
      "1087 5738 2590\n",
      "1087 5742 2591\n",
      "1088 5745 2593\n",
      "1090 5747 2595\n",
      "1091 5749 2597\n"
     ]
    },
    {
     "name": "stderr",
     "output_type": "stream",
     "text": [
      "b'Skipping line 50: expected 10 fields, saw 11\\n'\n"
     ]
    },
    {
     "name": "stdout",
     "output_type": "stream",
     "text": [
      "1095 5807 2620\n",
      "1096 5812 2621\n",
      "1096 5813 2621\n",
      "1103 5823 2629\n",
      "1109 5830 2637\n",
      "1110 5832 2638\n",
      "1110 5845 2639\n",
      "1112 5850 2644\n"
     ]
    },
    {
     "name": "stderr",
     "output_type": "stream",
     "text": [
      "b'Skipping line 3: expected 10 fields, saw 11\\n'\n"
     ]
    },
    {
     "name": "stdout",
     "output_type": "stream",
     "text": [
      "1114 5855 2648\n",
      "1119 5862 2665\n",
      "1120 5868 2668\n",
      "1122 5873 2671\n",
      "1122 5877 2672\n",
      "1134 5927 2697\n",
      "1134 5936 2701\n",
      "1135 5941 2705\n",
      "1135 5943 2709\n"
     ]
    },
    {
     "name": "stderr",
     "output_type": "stream",
     "text": [
      "b'Skipping line 63: expected 10 fields, saw 11\\n'\n"
     ]
    },
    {
     "name": "stdout",
     "output_type": "stream",
     "text": [
      "1140 6014 2729\n",
      "1140 6023 2731\n",
      "1144 6047 2743\n",
      "1145 6053 2745\n",
      "1146 6059 2747\n",
      "1149 6067 2750\n",
      "1151 6076 2752\n"
     ]
    },
    {
     "name": "stderr",
     "output_type": "stream",
     "text": [
      "b'Skipping line 53: expected 10 fields, saw 11\\nSkipping line 61: expected 10 fields, saw 11\\nSkipping line 105: expected 10 fields, saw 11\\nSkipping line 106: expected 10 fields, saw 11\\nSkipping line 108: expected 10 fields, saw 11\\n'\n"
     ]
    },
    {
     "name": "stdout",
     "output_type": "stream",
     "text": [
      "1164 6190 2799\n",
      "1166 6192 2801\n",
      "1166 6200 2803\n",
      "1170 6208 2809\n",
      "1170 6221 2811\n",
      "1170 6225 2813\n",
      "1170 6229 2814\n"
     ]
    },
    {
     "name": "stderr",
     "output_type": "stream",
     "text": [
      "b'Skipping line 8: expected 10 fields, saw 11\\n'\n"
     ]
    },
    {
     "name": "stdout",
     "output_type": "stream",
     "text": [
      "1174 6243 2825\n",
      "1174 6244 2825\n",
      "1176 6253 2829\n",
      "1176 6259 2831\n",
      "1177 6260 2832\n",
      "1178 6262 2834\n"
     ]
    },
    {
     "name": "stderr",
     "output_type": "stream",
     "text": [
      "b'Skipping line 9: expected 10 fields, saw 11\\nSkipping line 20: expected 10 fields, saw 11\\nSkipping line 22: expected 10 fields, saw 11\\n'\n"
     ]
    },
    {
     "name": "stdout",
     "output_type": "stream",
     "text": [
      "1187 6293 2861\n",
      "1188 6315 2864\n",
      "1190 6319 2866\n",
      "1191 6340 2879\n",
      "1192 6343 2881\n",
      "1192 6344 2883\n"
     ]
    },
    {
     "name": "stderr",
     "output_type": "stream",
     "text": [
      "b'Skipping line 2: expected 10 fields, saw 11\\n'\n"
     ]
    },
    {
     "name": "stdout",
     "output_type": "stream",
     "text": [
      "1192 6350 2885\n",
      "1196 6357 2891\n",
      "1198 6361 2894\n",
      "1200 6393 2899\n",
      "1201 6398 2902\n",
      "1202 6402 2907\n"
     ]
    },
    {
     "name": "stderr",
     "output_type": "stream",
     "text": [
      "b'Skipping line 30: expected 10 fields, saw 12\\nSkipping line 32: expected 10 fields, saw 11\\nSkipping line 92: expected 10 fields, saw 11\\nSkipping line 103: expected 10 fields, saw 11\\n'\n"
     ]
    },
    {
     "name": "stdout",
     "output_type": "stream",
     "text": [
      "1239 6537 2968\n",
      "1243 6548 2974\n",
      "1243 6555 2975\n",
      "1246 6561 2980\n"
     ]
    },
    {
     "name": "stderr",
     "output_type": "stream",
     "text": [
      "b'Skipping line 4: expected 10 fields, saw 11\\n'\n"
     ]
    },
    {
     "name": "stdout",
     "output_type": "stream",
     "text": [
      "1248 6565 2985\n",
      "1250 6570 2989\n",
      "1251 6577 2991\n"
     ]
    },
    {
     "name": "stderr",
     "output_type": "stream",
     "text": [
      "b'Skipping line 24: expected 10 fields, saw 11\\n'\n"
     ]
    },
    {
     "name": "stdout",
     "output_type": "stream",
     "text": [
      "1258 6639 3010\n",
      "1264 6666 3017\n"
     ]
    },
    {
     "name": "stderr",
     "output_type": "stream",
     "text": [
      "b'Skipping line 161: expected 10 fields, saw 11\\n'\n"
     ]
    },
    {
     "name": "stdout",
     "output_type": "stream",
     "text": [
      "1296 6828 3081\n",
      "1296 6831 3082\n",
      "1301 6843 3099\n",
      "1301 6849 3101\n",
      "1308 6880 3109\n",
      "1308 6883 3111\n",
      "1310 6885 3113\n",
      "1312 6890 3116\n",
      "1313 6892 3118\n",
      "1313 6895 3120\n",
      "1313 6897 3121\n",
      "1316 6900 3125\n",
      "1316 6917 3130\n",
      "1317 6921 3132\n",
      "1319 6928 3136\n",
      "1320 6929 3137\n",
      "1320 6931 3138\n",
      "1321 6933 3139\n",
      "1322 6975 3144\n",
      "1322 6978 3146\n",
      "1322 6980 3147\n",
      "1323 6983 3148\n",
      "1323 6988 3149\n",
      "1323 6991 3154\n",
      "1324 6995 3156\n"
     ]
    },
    {
     "name": "stderr",
     "output_type": "stream",
     "text": [
      "b'Skipping line 16: expected 10 fields, saw 11\\n'\n"
     ]
    },
    {
     "name": "stdout",
     "output_type": "stream",
     "text": [
      "1338 7012 3183\n",
      "1338 7013 3184\n",
      "1338 7021 3190\n"
     ]
    },
    {
     "name": "stderr",
     "output_type": "stream",
     "text": [
      "b'Skipping line 12: expected 10 fields, saw 11\\n'\n"
     ]
    },
    {
     "name": "stdout",
     "output_type": "stream",
     "text": [
      "1343 7038 3205\n",
      "1344 7050 3209\n",
      "1348 7059 3218\n",
      "1350 7068 3221\n",
      "1351 7074 3222\n",
      "1353 7080 3227\n",
      "1353 7083 3228\n"
     ]
    },
    {
     "name": "stderr",
     "output_type": "stream",
     "text": [
      "b'Skipping line 3: expected 10 fields, saw 11\\n'\n"
     ]
    },
    {
     "name": "stdout",
     "output_type": "stream",
     "text": [
      "1356 7092 3233\n",
      "1356 7095 3238\n",
      "1357 7106 3242\n",
      "1359 7115 3246\n",
      "1362 7133 3269\n",
      "1363 7142 3271\n",
      "1364 7204 3274\n",
      "1364 7206 3275\n",
      "1374 7362 3302\n",
      "1375 7367 3304\n",
      "1375 7368 3305\n",
      "1377 7370 3312\n",
      "1378 7373 3319\n",
      "1378 7384 3320\n",
      "1380 7392 3328\n",
      "1384 7400 3334\n",
      "1385 7403 3337\n",
      "1388 7406 3340\n",
      "1390 7423 3347\n",
      "1390 7424 3347\n",
      "1390 7431 3347\n",
      "1391 7437 3350\n",
      "1391 7445 3352\n",
      "1392 7446 3353\n",
      "1393 7455 3359\n",
      "1398 7494 3368\n",
      "1399 7504 3371\n",
      "1399 7513 3371\n",
      "1400 7516 3373\n",
      "1401 7531 3374\n",
      "1401 7541 3377\n",
      "1404 7544 3381\n",
      "1404 7555 3383\n",
      "1404 7557 3383\n",
      "1406 7559 3385\n",
      "1406 7564 3388\n",
      "1407 7566 3389\n",
      "1409 7569 3393\n",
      "1411 7575 3395\n",
      "1412 7581 3398\n",
      "1412 7585 3398\n",
      "1414 7595 3402\n",
      "1415 7598 3404\n",
      "1415 7601 3405\n",
      "1416 7604 3409\n",
      "1419 7611 3413\n",
      "1420 7612 3414\n",
      "1421 7626 3426\n",
      "1421 7632 3428\n",
      "1422 7636 3430\n",
      "1424 7642 3436\n",
      "1424 7643 3438\n",
      "1424 7647 3440\n",
      "1424 7658 3442\n",
      "1434 7718 3466\n",
      "1445 7732 3488\n",
      "1447 7734 3492\n",
      "1447 7744 3494\n",
      "1448 7750 3496\n",
      "1448 7751 3497\n",
      "1451 7758 3507\n"
     ]
    },
    {
     "name": "stderr",
     "output_type": "stream",
     "text": [
      "b'Skipping line 22: expected 10 fields, saw 11\\nSkipping line 25: expected 10 fields, saw 11\\n'\n"
     ]
    },
    {
     "name": "stdout",
     "output_type": "stream",
     "text": [
      "1459 7783 3533\n",
      "1461 7787 3535\n",
      "1463 7792 3538\n",
      "1465 7800 3542\n",
      "1465 7802 3546\n",
      "1467 7806 3549\n",
      "1479 7836 3569\n",
      "1483 7841 3575\n",
      "1484 7848 3578\n",
      "1484 7851 3580\n",
      "1485 7876 3587\n",
      "1488 7880 3591\n",
      "1488 7883 3598\n",
      "1489 7885 3599\n",
      "1492 7889 3602\n",
      "1492 7896 3604\n",
      "1494 7899 3606\n",
      "1494 7904 3607\n"
     ]
    },
    {
     "name": "stderr",
     "output_type": "stream",
     "text": [
      "b'Skipping line 27: expected 10 fields, saw 11\\nSkipping line 28: expected 10 fields, saw 11\\n'\n"
     ]
    },
    {
     "name": "stdout",
     "output_type": "stream",
     "text": [
      "1502 7940 3624\n",
      "1502 7944 3627\n",
      "1503 7956 3629\n",
      "1504 7975 3635\n",
      "1508 7988 3642\n",
      "1509 7990 3648\n",
      "1510 7993 3650\n",
      "1512 8022 3656\n",
      "1512 8026 3660\n",
      "1514 8038 3663\n",
      "1515 8040 3665\n",
      "1519 8045 3670\n",
      "1523 8049 3674\n",
      "1524 8084 3682\n",
      "1524 8092 3683\n",
      "1524 8099 3685\n",
      "1527 8106 3690\n",
      "1530 8110 3693\n",
      "1539 8131 3706\n",
      "1541 8134 3709\n",
      "1542 8141 3712\n",
      "1550 8188 3728\n",
      "1552 8194 3731\n",
      "1552 8195 3731\n",
      "1553 8200 3736\n",
      "1558 8212 3741\n",
      "1558 8214 3745\n",
      "1559 8230 3751\n",
      "1560 8239 3753\n",
      "1569 8251 3766\n",
      "1571 8254 3770\n",
      "1572 8255 3771\n",
      "1574 8281 3781\n",
      "1575 8285 3783\n",
      "1578 8288 3788\n",
      "1583 8294 3793\n",
      "1586 8300 3796\n",
      "1590 8306 3803\n",
      "1591 8330 3807\n",
      "1596 8348 3816\n",
      "1597 8351 3818\n",
      "1598 8356 3820\n",
      "ep19\n",
      "1 3 2\n",
      "1 5 3\n",
      "2 7 4\n",
      "3 17 8\n"
     ]
    },
    {
     "name": "stderr",
     "output_type": "stream",
     "text": [
      "b'Skipping line 17: expected 10 fields, saw 11\\nSkipping line 37: expected 10 fields, saw 11\\n'\n"
     ]
    },
    {
     "name": "stdout",
     "output_type": "stream",
     "text": [
      "3 105 38\n",
      "24 130 64\n",
      "26 135 66\n",
      "29 148 71\n",
      "29 151 72\n",
      "30 210 75\n",
      "31 212 77\n",
      "38 219 87\n",
      "39 221 90\n",
      "44 235 99\n",
      "44 236 99\n",
      "45 243 103\n",
      "49 248 107\n",
      "49 253 109\n",
      "54 267 117\n",
      "56 269 119\n",
      "57 272 121\n",
      "58 281 124\n",
      "59 285 126\n",
      "61 289 128\n",
      "62 290 130\n"
     ]
    },
    {
     "name": "stderr",
     "output_type": "stream",
     "text": [
      "b'Skipping line 3: expected 10 fields, saw 11\\nSkipping line 5: expected 10 fields, saw 11\\n'\n"
     ]
    },
    {
     "name": "stdout",
     "output_type": "stream",
     "text": [
      "62 293 132\n",
      "64 295 134\n",
      "66 351 142\n",
      "67 353 145\n",
      "67 360 148\n"
     ]
    },
    {
     "name": "stderr",
     "output_type": "stream",
     "text": [
      "b'Skipping line 4: expected 10 fields, saw 11\\n'\n"
     ]
    },
    {
     "name": "stdout",
     "output_type": "stream",
     "text": [
      "68 381 149\n",
      "80 410 166\n",
      "80 415 168\n",
      "80 420 171\n",
      "84 469 195\n",
      "87 480 200\n",
      "87 489 202\n",
      "88 493 205\n",
      "89 502 209\n",
      "89 504 209\n",
      "90 509 211\n",
      "92 518 213\n",
      "92 519 213\n",
      "93 520 214\n",
      "93 527 214\n",
      "95 533 217\n",
      "95 534 217\n",
      "96 535 219\n"
     ]
    },
    {
     "name": "stderr",
     "output_type": "stream",
     "text": [
      "b'Skipping line 4: expected 10 fields, saw 11\\n'\n"
     ]
    },
    {
     "name": "stdout",
     "output_type": "stream",
     "text": [
      "101 543 229\n",
      "101 544 230\n",
      "101 571 233\n",
      "101 574 233\n",
      "107 582 241\n",
      "107 583 244\n",
      "109 589 246\n",
      "110 595 248\n",
      "119 627 267\n",
      "121 631 271\n",
      "121 643 273\n",
      "124 647 276\n",
      "127 651 280\n",
      "128 655 282\n",
      "129 656 283\n",
      "130 694 284\n",
      "131 696 285\n",
      "133 698 287\n"
     ]
    },
    {
     "name": "stderr",
     "output_type": "stream",
     "text": [
      "b'Skipping line 8: expected 10 fields, saw 11\\nSkipping line 9: expected 10 fields, saw 11\\nSkipping line 15: expected 10 fields, saw 11\\n'\n"
     ]
    },
    {
     "name": "stdout",
     "output_type": "stream",
     "text": [
      "140 710 303\n",
      "140 711 304\n",
      "140 719 306\n",
      "140 720 306\n",
      "155 796 352\n",
      "155 799 354\n"
     ]
    },
    {
     "name": "stderr",
     "output_type": "stream",
     "text": [
      "b'Skipping line 2: expected 10 fields, saw 11\\n'\n"
     ]
    },
    {
     "name": "stdout",
     "output_type": "stream",
     "text": [
      "158 821 358\n",
      "159 824 361\n",
      "163 828 365\n"
     ]
    },
    {
     "name": "stderr",
     "output_type": "stream",
     "text": [
      "b'Skipping line 8: expected 10 fields, saw 11\\n'\n"
     ]
    },
    {
     "name": "stdout",
     "output_type": "stream",
     "text": [
      "164 841 367\n",
      "164 846 368\n",
      "166 848 370\n",
      "167 861 371\n",
      "170 867 377\n",
      "170 873 377\n",
      "170 876 379\n",
      "171 879 383\n",
      "175 883 387\n",
      "180 888 392\n",
      "181 889 393\n",
      "181 898 395\n",
      "181 907 397\n",
      "182 908 398\n",
      "186 952 419\n",
      "186 963 422\n",
      "188 965 424\n",
      "188 970 425\n",
      "188 992 448\n",
      "193 1007 455\n",
      "193 1012 456\n",
      "195 1017 460\n",
      "195 1025 464\n",
      "199 1075 479\n",
      "200 1081 481\n",
      "201 1088 484\n",
      "201 1089 485\n",
      "202 1092 487\n",
      "204 1096 502\n",
      "204 1099 503\n",
      "208 1104 509\n",
      "210 1108 512\n",
      "210 1126 515\n",
      "212 1151 530\n",
      "213 1155 532\n",
      "215 1160 535\n",
      "218 1168 539\n",
      "219 1170 540\n",
      "224 1176 545\n",
      "226 1179 549\n",
      "228 1183 552\n",
      "228 1189 553\n",
      "234 1196 560\n",
      "234 1197 562\n",
      "236 1201 564\n",
      "243 1224 576\n",
      "246 1229 579\n",
      "247 1237 583\n",
      "251 1243 588\n",
      "251 1244 589\n",
      "253 1247 592\n",
      "254 1251 594\n",
      "260 1270 605\n",
      "260 1272 606\n",
      "260 1280 607\n",
      "260 1281 608\n",
      "262 1284 610\n",
      "263 1287 613\n",
      "263 1289 614\n",
      "264 1291 616\n",
      "267 1307 621\n",
      "267 1312 622\n",
      "267 1339 623\n",
      "277 1349 633\n",
      "277 1353 633\n",
      "279 1399 639\n",
      "279 1403 640\n",
      "279 1409 640\n",
      "281 1414 654\n",
      "281 1418 656\n",
      "281 1420 656\n",
      "283 1424 658\n",
      "286 1440 667\n",
      "288 1442 669\n",
      "289 1449 671\n",
      "291 1455 675\n",
      "291 1462 675\n",
      "295 1489 682\n",
      "297 1491 684\n",
      "297 1494 685\n"
     ]
    },
    {
     "name": "stderr",
     "output_type": "stream",
     "text": [
      "b'Skipping line 4: expected 10 fields, saw 11\\n'\n"
     ]
    },
    {
     "name": "stdout",
     "output_type": "stream",
     "text": [
      "297 1497 686\n",
      "297 1502 688\n",
      "304 1515 701\n",
      "306 1524 705\n",
      "309 1529 708\n",
      "310 1530 709\n",
      "311 1531 710\n",
      "311 1534 710\n",
      "313 1537 713\n",
      "313 1540 713\n",
      "314 1542 714\n",
      "316 1547 738\n",
      "317 1557 742\n",
      "317 1559 742\n",
      "317 1564 746\n",
      "317 1570 748\n",
      "317 1574 749\n",
      "321 1595 757\n",
      "321 1597 758\n",
      "321 1609 760\n",
      "322 1612 764\n",
      "325 1652 770\n",
      "325 1659 772\n",
      "325 1661 775\n",
      "325 1669 778\n",
      "326 1670 779\n",
      "326 1695 779\n",
      "329 1700 787\n",
      "330 1703 791\n",
      "331 1712 793\n"
     ]
    },
    {
     "name": "stderr",
     "output_type": "stream",
     "text": [
      "b'Skipping line 5: expected 10 fields, saw 11\\n'\n"
     ]
    },
    {
     "name": "stdout",
     "output_type": "stream",
     "text": [
      "336 1724 801\n",
      "343 1737 809\n",
      "345 1746 813\n",
      "347 1750 815\n",
      "347 1776 815\n",
      "348 1781 818\n",
      "350 1784 821\n",
      "350 1790 822\n",
      "350 1795 823\n",
      "353 1799 826\n",
      "354 1807 829\n",
      "357 1810 832\n",
      "357 1813 832\n",
      "358 1818 833\n",
      "361 1821 838\n",
      "365 1832 845\n",
      "365 1834 845\n",
      "368 1839 855\n",
      "371 1852 860\n",
      "374 1857 863\n",
      "375 1861 868\n",
      "380 1866 877\n",
      "381 1889 882\n",
      "382 1890 883\n",
      "383 1934 885\n"
     ]
    },
    {
     "name": "stderr",
     "output_type": "stream",
     "text": [
      "b'Skipping line 31: expected 10 fields, saw 11\\nSkipping line 62: expected 10 fields, saw 11\\nSkipping line 68: expected 10 fields, saw 11\\n'\n"
     ]
    },
    {
     "name": "stdout",
     "output_type": "stream",
     "text": [
      "383 2005 890\n",
      "390 2025 903\n",
      "390 2026 905\n",
      "391 2034 918\n",
      "392 2037 921\n",
      "392 2039 924\n",
      "392 2047 932\n",
      "401 2057 941\n",
      "401 2074 943\n",
      "411 2086 956\n",
      "411 2091 959\n",
      "413 2093 961\n",
      "414 2094 963\n",
      "417 2099 966\n",
      "417 2104 969\n",
      "421 2111 973\n",
      "423 2115 975\n",
      "423 2135 980\n",
      "423 2137 981\n",
      "423 2140 984\n",
      "423 2145 984\n",
      "423 2148 985\n",
      "423 2150 987\n"
     ]
    },
    {
     "name": "stderr",
     "output_type": "stream",
     "text": [
      "b'Skipping line 10: expected 10 fields, saw 11\\nSkipping line 20: expected 10 fields, saw 12\\n'\n"
     ]
    },
    {
     "name": "stdout",
     "output_type": "stream",
     "text": [
      "436 2204 1022\n",
      "436 2208 1023\n",
      "437 2212 1025\n",
      "438 2215 1031\n"
     ]
    },
    {
     "name": "stderr",
     "output_type": "stream",
     "text": [
      "b'Skipping line 41: expected 10 fields, saw 11\\nSkipping line 42: expected 10 fields, saw 11\\n'\n"
     ]
    },
    {
     "name": "stdout",
     "output_type": "stream",
     "text": [
      "444 2256 1045\n",
      "444 2262 1047\n",
      "446 2264 1049\n",
      "451 2269 1054\n",
      "452 2270 1055\n",
      "454 2276 1058\n",
      "465 2332 1076\n",
      "466 2337 1077\n",
      "466 2340 1077\n",
      "467 2341 1078\n"
     ]
    },
    {
     "name": "stderr",
     "output_type": "stream",
     "text": [
      "b'Skipping line 12: expected 10 fields, saw 11\\n'\n"
     ]
    },
    {
     "name": "stdout",
     "output_type": "stream",
     "text": [
      "468 2367 1083\n",
      "485 2396 1109\n",
      "486 2404 1116\n",
      "488 2408 1127\n",
      "494 2443 1135\n",
      "494 2446 1136\n",
      "496 2448 1138\n",
      "496 2453 1140\n",
      "499 2458 1145\n",
      "502 2462 1155\n",
      "504 2468 1158\n",
      "506 2490 1164\n",
      "514 2506 1179\n"
     ]
    },
    {
     "name": "stderr",
     "output_type": "stream",
     "text": [
      "b'Skipping line 28: expected 10 fields, saw 11\\n'\n"
     ]
    },
    {
     "name": "stdout",
     "output_type": "stream",
     "text": [
      "527 2582 1207\n",
      "529 2584 1217\n",
      "529 2606 1222\n",
      "529 2612 1241\n",
      "533 2626 1249\n",
      "534 2627 1250\n",
      "537 2642 1256\n"
     ]
    },
    {
     "name": "stderr",
     "output_type": "stream",
     "text": [
      "b'Skipping line 7: expected 10 fields, saw 11\\n'\n",
      "b'Skipping line 5: expected 10 fields, saw 11\\nSkipping line 9: expected 10 fields, saw 11\\n'\n"
     ]
    },
    {
     "name": "stdout",
     "output_type": "stream",
     "text": [
      "538 2649 1259\n",
      "538 2651 1259\n",
      "539 2654 1262\n",
      "539 2657 1262\n",
      "541 2665 1271\n",
      "542 2667 1273\n",
      "544 2673 1276\n",
      "544 2679 1277\n",
      "544 2683 1278\n",
      "544 2698 1282\n"
     ]
    },
    {
     "name": "stderr",
     "output_type": "stream",
     "text": [
      "b'Skipping line 2: expected 10 fields, saw 11\\n'\n"
     ]
    },
    {
     "name": "stdout",
     "output_type": "stream",
     "text": [
      "545 2706 1288\n",
      "550 2712 1294\n",
      "550 2713 1298\n",
      "553 2723 1303\n",
      "557 2727 1307\n",
      "557 2730 1308\n",
      "559 2734 1310\n",
      "559 2737 1312\n",
      "560 2743 1315\n",
      "560 2749 1315\n",
      "560 2750 1316\n",
      "561 2753 1323\n",
      "561 2757 1326\n",
      "564 2763 1330\n",
      "566 2769 1335\n",
      "566 2772 1336\n",
      "568 2774 1338\n",
      "568 2808 1349\n",
      "569 2810 1350\n",
      "572 2821 1356\n",
      "573 2828 1357\n",
      "575 2847 1365\n",
      "575 2852 1367\n",
      "575 2855 1370\n",
      "577 2859 1375\n",
      "580 2863 1393\n",
      "580 2865 1397\n",
      "580 2869 1398\n",
      "582 2875 1401\n",
      "583 2878 1403\n",
      "583 2879 1415\n",
      "584 2882 1417\n",
      "584 2887 1417\n",
      "586 2904 1426\n",
      "591 2911 1439\n",
      "591 3070 1439\n",
      "592 3075 1441\n",
      "598 3081 1451\n"
     ]
    },
    {
     "name": "stderr",
     "output_type": "stream",
     "text": [
      "b'Skipping line 10: expected 10 fields, saw 11\\nSkipping line 11: expected 10 fields, saw 11\\nSkipping line 29: expected 10 fields, saw 11\\n'\n"
     ]
    },
    {
     "name": "stdout",
     "output_type": "stream",
     "text": [
      "604 3118 1464\n",
      "605 3121 1465\n",
      "606 3137 1468\n",
      "607 3139 1470\n",
      "607 3140 1470\n",
      "607 3143 1471\n",
      "607 3145 1472\n",
      "607 3149 1475\n",
      "608 3153 1478\n",
      "608 3156 1482\n",
      "610 3159 1484\n"
     ]
    },
    {
     "name": "stderr",
     "output_type": "stream",
     "text": [
      "b'Skipping line 2: expected 10 fields, saw 11\\n'\n"
     ]
    },
    {
     "name": "stdout",
     "output_type": "stream",
     "text": [
      "612 3162 1490\n",
      "616 3166 1494\n",
      "616 3167 1521\n",
      "620 3197 1534\n",
      "620 3204 1535\n",
      "621 3221 1541\n",
      "621 3223 1542\n",
      "622 3226 1544\n",
      "622 3229 1545\n",
      "624 3235 1550\n",
      "626 3239 1552\n",
      "628 3244 1554\n",
      "630 3248 1557\n",
      "630 3289 1560\n",
      "630 3297 1560\n",
      "634 3307 1566\n",
      "635 3311 1567\n",
      "635 3313 1568\n",
      "635 3320 1582\n",
      "635 3329 1584\n",
      "635 3331 1585\n",
      "636 3332 1586\n",
      "637 3344 1595\n",
      "640 3347 1598\n",
      "643 3459 1606\n",
      "645 3467 1609\n",
      "646 3469 1610\n",
      "646 3472 1611\n",
      "647 3476 1613\n",
      "651 3480 1617\n",
      "656 3486 1623\n",
      "658 3509 1626\n",
      "661 3517 1630\n",
      "663 3521 1633\n",
      "664 3526 1637\n",
      "665 3534 1640\n",
      "673 3550 1651\n",
      "673 3553 1651\n",
      "673 3558 1652\n",
      "674 3561 1660\n",
      "674 3562 1664\n",
      "674 3574 1667\n",
      "675 3576 1671\n",
      "676 3577 1674\n",
      "677 3578 1675\n",
      "682 3597 1684\n",
      "683 3674 1710\n",
      "685 3680 1712\n",
      "685 3687 1715\n",
      "688 3697 1723\n",
      "688 3699 1724\n",
      "688 3704 1724\n",
      "689 3708 1726\n",
      "689 3714 1727\n",
      "690 3718 1729\n",
      "692 3726 1732\n",
      "692 3734 1733\n",
      "694 3738 1735\n",
      "695 3742 1737\n",
      "698 3749 1742\n",
      "700 3760 1746\n",
      "700 3766 1750\n"
     ]
    },
    {
     "name": "stderr",
     "output_type": "stream",
     "text": [
      "b'Skipping line 7: expected 10 fields, saw 11\\n'\n"
     ]
    },
    {
     "name": "stdout",
     "output_type": "stream",
     "text": [
      "701 3768 1752\n",
      "705 3803 1761\n",
      "706 3813 1764\n",
      "706 3820 1767\n",
      "732 4034 1834\n",
      "735 4037 1842\n",
      "736 4044 1845\n"
     ]
    },
    {
     "name": "stderr",
     "output_type": "stream",
     "text": [
      "b'Skipping line 14: expected 10 fields, saw 11\\nSkipping line 15: expected 10 fields, saw 11\\n'\n"
     ]
    },
    {
     "name": "stdout",
     "output_type": "stream",
     "text": [
      "746 4065 1862\n",
      "746 4079 1864\n",
      "746 4084 1865\n",
      "749 4090 1871\n",
      "750 4092 1872\n",
      "751 4113 1874\n"
     ]
    },
    {
     "name": "stderr",
     "output_type": "stream",
     "text": [
      "b'Skipping line 6: expected 10 fields, saw 11\\nSkipping line 8: expected 10 fields, saw 11\\n'\n"
     ]
    },
    {
     "name": "stdout",
     "output_type": "stream",
     "text": [
      "751 4121 1877\n",
      "752 4123 1879\n"
     ]
    },
    {
     "name": "stderr",
     "output_type": "stream",
     "text": [
      "b'Skipping line 2: expected 10 fields, saw 11\\n'\n"
     ]
    },
    {
     "name": "stdout",
     "output_type": "stream",
     "text": [
      "753 4125 1883\n",
      "753 4130 1884\n",
      "753 4132 1884\n",
      "753 4134 1885\n",
      "755 4140 1889\n",
      "761 4169 1906\n",
      "761 4170 1906\n",
      "762 4197 1914\n",
      "762 4198 1915\n",
      "762 4202 1921\n",
      "762 4208 1922\n",
      "765 4212 1926\n",
      "767 4218 1928\n",
      "769 4226 1933\n",
      "769 4228 1933\n",
      "771 4235 1936\n",
      "771 4239 1945\n",
      "771 4241 1946\n",
      "772 4242 1947\n",
      "775 4271 1957\n",
      "776 4275 1959\n",
      "778 4277 1961\n",
      "780 4280 1963\n",
      "781 4288 1966\n",
      "782 4292 1976\n",
      "782 4294 1976\n",
      "783 4296 1977\n",
      "784 4302 1979\n",
      "787 4349 1986\n",
      "791 4388 1991\n",
      "793 4394 1995\n",
      "795 4400 1999\n",
      "795 4406 2000\n",
      "799 4418 2006\n",
      "802 4422 2011\n",
      "807 4430 2016\n",
      "810 4433 2020\n",
      "810 4439 2021\n"
     ]
    },
    {
     "name": "stderr",
     "output_type": "stream",
     "text": [
      "b'Skipping line 2: expected 10 fields, saw 11\\nSkipping line 5: expected 10 fields, saw 11\\n'\n"
     ]
    },
    {
     "name": "stdout",
     "output_type": "stream",
     "text": [
      "814 4444 2028\n",
      "815 4445 2029\n",
      "815 4453 2031\n",
      "815 4459 2032\n"
     ]
    },
    {
     "name": "stderr",
     "output_type": "stream",
     "text": [
      "b'Skipping line 2: expected 10 fields, saw 11\\n'\n"
     ]
    },
    {
     "name": "stdout",
     "output_type": "stream",
     "text": [
      "816 4463 2033\n",
      "822 4506 2039\n",
      "828 4517 2048\n",
      "828 4520 2049\n",
      "830 4523 2051\n"
     ]
    },
    {
     "name": "stderr",
     "output_type": "stream",
     "text": [
      "b'Skipping line 12: expected 10 fields, saw 11\\n'\n"
     ]
    },
    {
     "name": "stdout",
     "output_type": "stream",
     "text": [
      "833 4534 2061\n",
      "839 4566 2072\n",
      "839 4568 2073\n",
      "849 4579 2083\n",
      "850 4580 2084\n",
      "856 4588 2093\n",
      "860 4593 2098\n",
      "861 4597 2102\n",
      "866 4618 2113\n",
      "868 4621 2116\n",
      "868 4623 2132\n",
      "871 4634 2138\n",
      "873 4643 2155\n",
      "874 4654 2158\n",
      "885 4714 2173\n",
      "885 4716 2174\n",
      "888 4723 2179\n",
      "889 4732 2180\n"
     ]
    },
    {
     "name": "stderr",
     "output_type": "stream",
     "text": [
      "b'Skipping line 7: expected 10 fields, saw 11\\n'\n"
     ]
    },
    {
     "name": "stdout",
     "output_type": "stream",
     "text": [
      "890 4744 2184\n",
      "892 4749 2186\n",
      "894 4755 2191\n",
      "896 4757 2193\n",
      "900 4781 2203\n",
      "903 4786 2213\n",
      "903 4793 2215\n",
      "904 4796 2217\n",
      "905 4810 2221\n",
      "907 4824 2227\n",
      "911 4870 2236\n",
      "913 4875 2240\n",
      "913 4893 2250\n",
      "913 4896 2254\n",
      "913 4900 2254\n",
      "914 4902 2258\n",
      "917 4922 2265\n",
      "919 4924 2267\n",
      "920 4932 2270\n",
      "923 4941 2274\n",
      "923 4942 2274\n",
      "923 4947 2275\n",
      "924 4949 2276\n",
      "924 4951 2277\n",
      "926 4954 2279\n",
      "929 4978 2283\n",
      "931 4985 2286\n",
      "934 4997 2293\n",
      "934 4999 2293\n",
      "938 5023 2302\n",
      "938 5028 2305\n",
      "939 5038 2307\n",
      "940 5044 2310\n",
      "940 5053 2313\n",
      "943 5057 2318\n",
      "952 5068 2329\n",
      "952 5070 2336\n",
      "952 5071 2336\n",
      "960 5088 2345\n",
      "961 5091 2346\n",
      "963 5093 2349\n",
      "964 5099 2351\n",
      "968 5119 2358\n",
      "970 5123 2360\n"
     ]
    },
    {
     "name": "stderr",
     "output_type": "stream",
     "text": [
      "b'Skipping line 2: expected 10 fields, saw 11\\n'\n"
     ]
    },
    {
     "name": "stdout",
     "output_type": "stream",
     "text": [
      "974 5127 2365\n",
      "974 5131 2366\n",
      "976 5133 2368\n",
      "978 5138 2371\n"
     ]
    },
    {
     "name": "stderr",
     "output_type": "stream",
     "text": [
      "b'Skipping line 4: expected 10 fields, saw 11\\n'\n"
     ]
    },
    {
     "name": "stdout",
     "output_type": "stream",
     "text": [
      "978 5144 2374\n",
      "979 5152 2376\n",
      "980 5153 2377\n",
      "988 5178 2391\n",
      "988 5180 2392\n",
      "989 5182 2393\n"
     ]
    },
    {
     "name": "stderr",
     "output_type": "stream",
     "text": [
      "b'Skipping line 3: expected 10 fields, saw 11\\n'\n"
     ]
    },
    {
     "name": "stdout",
     "output_type": "stream",
     "text": [
      "991 5206 2396\n",
      "992 5215 2401\n",
      "993 5241 2403\n",
      "994 5247 2405\n",
      "995 5250 2406\n",
      "998 5272 2411\n",
      "998 5276 2414\n",
      "998 5281 2416\n",
      "998 5282 2416\n",
      "999 5284 2418\n",
      "1005 5297 2428\n",
      "1007 5299 2430\n",
      "1014 5307 2438\n",
      "1015 5316 2448\n",
      "1017 5320 2452\n",
      "1017 5322 2454\n",
      "1023 5329 2462\n",
      "1023 5336 2465\n",
      "1023 5337 2465\n",
      "1023 5343 2467\n",
      "1024 5344 2468\n",
      "1028 5399 2480\n",
      "1028 5411 2493\n",
      "1028 5414 2494\n",
      "1031 5448 2504\n",
      "1036 5458 2516\n",
      "1036 5465 2517\n",
      "1038 5469 2520\n",
      "1042 5473 2524\n",
      "1042 5476 2525\n",
      "1044 5481 2528\n",
      "1044 5486 2529\n"
     ]
    },
    {
     "name": "stderr",
     "output_type": "stream",
     "text": [
      "b'Skipping line 5: expected 10 fields, saw 11\\n'\n"
     ]
    },
    {
     "name": "stdout",
     "output_type": "stream",
     "text": [
      "1057 5518 2554\n"
     ]
    },
    {
     "name": "stderr",
     "output_type": "stream",
     "text": [
      "b'Skipping line 33: expected 10 fields, saw 11\\nSkipping line 36: expected 10 fields, saw 11\\n'\n"
     ]
    },
    {
     "name": "stdout",
     "output_type": "stream",
     "text": [
      "1063 5571 2572\n",
      "1064 5573 2574\n",
      "1064 5575 2574\n",
      "1068 5585 2592\n",
      "1068 5588 2593\n"
     ]
    },
    {
     "name": "stderr",
     "output_type": "stream",
     "text": [
      "b'Skipping line 14: expected 10 fields, saw 11\\n'\n"
     ]
    },
    {
     "name": "stdout",
     "output_type": "stream",
     "text": [
      "1070 5602 2599\n",
      "1073 5625 2605\n",
      "1074 5629 2607\n"
     ]
    },
    {
     "name": "stderr",
     "output_type": "stream",
     "text": [
      "b'Skipping line 9: expected 10 fields, saw 11\\n'\n"
     ]
    },
    {
     "name": "stdout",
     "output_type": "stream",
     "text": [
      "1076 5642 2614\n",
      "1078 5644 2618\n",
      "1079 5645 2619\n",
      "1086 5687 2629\n",
      "1086 5690 2630\n",
      "1094 5704 2643\n",
      "1095 5716 2648\n",
      "1095 5718 2653\n",
      "1096 5721 2657\n",
      "1096 5724 2657\n",
      "1097 5728 2659\n",
      "1100 5737 2663\n",
      "1101 5738 2664\n",
      "1101 5742 2665\n",
      "1102 5745 2667\n",
      "1104 5747 2669\n",
      "1105 5749 2671\n"
     ]
    },
    {
     "name": "stderr",
     "output_type": "stream",
     "text": [
      "b'Skipping line 50: expected 10 fields, saw 11\\n'\n"
     ]
    },
    {
     "name": "stdout",
     "output_type": "stream",
     "text": [
      "1109 5807 2696\n",
      "1110 5812 2697\n",
      "1110 5813 2697\n",
      "1118 5823 2705\n",
      "1124 5830 2713\n",
      "1125 5832 2714\n",
      "1126 5845 2716\n",
      "1129 5850 2719\n"
     ]
    },
    {
     "name": "stderr",
     "output_type": "stream",
     "text": [
      "b'Skipping line 3: expected 10 fields, saw 11\\n'\n"
     ]
    },
    {
     "name": "stdout",
     "output_type": "stream",
     "text": [
      "1131 5855 2723\n",
      "1136 5862 2739\n",
      "1137 5868 2742\n",
      "1139 5873 2745\n",
      "1139 5877 2746\n",
      "1151 5927 2773\n",
      "1151 5936 2777\n",
      "1152 5941 2782\n",
      "1152 5943 2785\n"
     ]
    },
    {
     "name": "stderr",
     "output_type": "stream",
     "text": [
      "b'Skipping line 63: expected 10 fields, saw 11\\n'\n"
     ]
    },
    {
     "name": "stdout",
     "output_type": "stream",
     "text": [
      "1157 6014 2808\n",
      "1157 6023 2811\n",
      "1161 6047 2823\n",
      "1162 6053 2825\n",
      "1163 6059 2827\n",
      "1166 6067 2830\n",
      "1168 6076 2833\n"
     ]
    },
    {
     "name": "stderr",
     "output_type": "stream",
     "text": [
      "b'Skipping line 53: expected 10 fields, saw 11\\nSkipping line 61: expected 10 fields, saw 11\\nSkipping line 105: expected 10 fields, saw 11\\nSkipping line 106: expected 10 fields, saw 11\\nSkipping line 108: expected 10 fields, saw 11\\n'\n"
     ]
    },
    {
     "name": "stdout",
     "output_type": "stream",
     "text": [
      "1180 6190 2879\n",
      "1181 6192 2880\n",
      "1181 6200 2882\n",
      "1186 6208 2888\n",
      "1186 6221 2890\n",
      "1186 6225 2892\n",
      "1186 6229 2893\n"
     ]
    },
    {
     "name": "stderr",
     "output_type": "stream",
     "text": [
      "b'Skipping line 8: expected 10 fields, saw 11\\n'\n"
     ]
    },
    {
     "name": "stdout",
     "output_type": "stream",
     "text": [
      "1190 6243 2905\n",
      "1190 6244 2905\n",
      "1192 6253 2909\n",
      "1192 6259 2911\n",
      "1193 6260 2912\n",
      "1194 6262 2914\n"
     ]
    },
    {
     "name": "stderr",
     "output_type": "stream",
     "text": [
      "b'Skipping line 9: expected 10 fields, saw 11\\nSkipping line 20: expected 10 fields, saw 11\\nSkipping line 22: expected 10 fields, saw 11\\n'\n"
     ]
    },
    {
     "name": "stdout",
     "output_type": "stream",
     "text": [
      "1203 6293 2944\n",
      "1204 6315 2947\n",
      "1206 6319 2949\n",
      "1207 6340 2960\n",
      "1208 6343 2962\n",
      "1208 6344 2964\n"
     ]
    },
    {
     "name": "stderr",
     "output_type": "stream",
     "text": [
      "b'Skipping line 2: expected 10 fields, saw 11\\n'\n"
     ]
    },
    {
     "name": "stdout",
     "output_type": "stream",
     "text": [
      "1208 6350 2966\n",
      "1212 6357 2972\n",
      "1214 6361 2975\n",
      "1216 6393 2980\n",
      "1217 6398 2983\n",
      "1217 6402 2989\n"
     ]
    },
    {
     "name": "stderr",
     "output_type": "stream",
     "text": [
      "b'Skipping line 30: expected 10 fields, saw 12\\nSkipping line 32: expected 10 fields, saw 11\\nSkipping line 92: expected 10 fields, saw 11\\nSkipping line 103: expected 10 fields, saw 11\\n'\n"
     ]
    },
    {
     "name": "stdout",
     "output_type": "stream",
     "text": [
      "1255 6537 3055\n",
      "1257 6548 3060\n",
      "1257 6555 3061\n",
      "1260 6561 3066\n"
     ]
    },
    {
     "name": "stderr",
     "output_type": "stream",
     "text": [
      "b'Skipping line 4: expected 10 fields, saw 11\\n'\n"
     ]
    },
    {
     "name": "stdout",
     "output_type": "stream",
     "text": [
      "1261 6565 3071\n",
      "1263 6570 3075\n",
      "1264 6577 3077\n"
     ]
    },
    {
     "name": "stderr",
     "output_type": "stream",
     "text": [
      "b'Skipping line 24: expected 10 fields, saw 11\\n'\n"
     ]
    },
    {
     "name": "stdout",
     "output_type": "stream",
     "text": [
      "1271 6639 3097\n",
      "1278 6666 3104\n"
     ]
    },
    {
     "name": "stderr",
     "output_type": "stream",
     "text": [
      "b'Skipping line 161: expected 10 fields, saw 11\\n'\n"
     ]
    },
    {
     "name": "stdout",
     "output_type": "stream",
     "text": [
      "1314 6828 3167\n",
      "1314 6831 3168\n",
      "1319 6843 3189\n",
      "1319 6849 3191\n",
      "1326 6880 3200\n",
      "1326 6883 3201\n",
      "1328 6885 3203\n",
      "1329 6890 3205\n",
      "1329 6892 3206\n",
      "1330 6895 3208\n",
      "1330 6897 3209\n",
      "1333 6900 3213\n",
      "1335 6917 3220\n",
      "1336 6921 3222\n",
      "1339 6928 3226\n",
      "1340 6929 3227\n",
      "1340 6931 3228\n",
      "1341 6933 3229\n",
      "1342 6975 3235\n",
      "1342 6978 3239\n",
      "1343 6980 3240\n",
      "1344 6983 3241\n",
      "1344 6988 3243\n",
      "1344 6991 3248\n",
      "1345 6995 3250\n"
     ]
    },
    {
     "name": "stderr",
     "output_type": "stream",
     "text": [
      "b'Skipping line 16: expected 10 fields, saw 11\\n'\n"
     ]
    },
    {
     "name": "stdout",
     "output_type": "stream",
     "text": [
      "1359 7012 3277\n",
      "1359 7013 3278\n",
      "1359 7021 3287\n"
     ]
    },
    {
     "name": "stderr",
     "output_type": "stream",
     "text": [
      "b'Skipping line 12: expected 10 fields, saw 11\\n'\n"
     ]
    },
    {
     "name": "stdout",
     "output_type": "stream",
     "text": [
      "1364 7038 3302\n",
      "1366 7050 3307\n",
      "1370 7059 3316\n",
      "1372 7068 3319\n",
      "1373 7074 3320\n",
      "1376 7080 3325\n",
      "1376 7083 3326\n"
     ]
    },
    {
     "name": "stderr",
     "output_type": "stream",
     "text": [
      "b'Skipping line 3: expected 10 fields, saw 11\\n'\n"
     ]
    },
    {
     "name": "stdout",
     "output_type": "stream",
     "text": [
      "1379 7092 3331\n",
      "1379 7095 3334\n",
      "1380 7106 3338\n",
      "1382 7115 3342\n",
      "1386 7133 3365\n",
      "1387 7142 3367\n",
      "1388 7204 3369\n",
      "1388 7206 3370\n",
      "1397 7362 3397\n",
      "1398 7367 3399\n",
      "1398 7368 3400\n",
      "1400 7370 3408\n",
      "1401 7373 3413\n",
      "1401 7384 3414\n",
      "1403 7392 3425\n",
      "1407 7400 3431\n",
      "1408 7403 3434\n",
      "1411 7406 3437\n",
      "1415 7423 3445\n",
      "1415 7424 3445\n",
      "1415 7431 3445\n",
      "1416 7437 3448\n",
      "1416 7445 3450\n",
      "1417 7446 3451\n",
      "1418 7455 3455\n",
      "1423 7494 3465\n",
      "1424 7504 3468\n",
      "1424 7513 3468\n",
      "1425 7516 3470\n",
      "1426 7531 3471\n",
      "1426 7541 3474\n",
      "1429 7544 3478\n",
      "1429 7555 3481\n",
      "1429 7557 3481\n",
      "1431 7559 3483\n",
      "1431 7564 3486\n",
      "1432 7566 3487\n",
      "1434 7569 3491\n",
      "1436 7575 3493\n",
      "1437 7581 3497\n",
      "1437 7585 3497\n",
      "1440 7595 3501\n",
      "1441 7598 3503\n",
      "1441 7601 3504\n",
      "1442 7604 3509\n",
      "1445 7611 3513\n",
      "1446 7612 3514\n",
      "1447 7626 3526\n",
      "1447 7632 3528\n",
      "1448 7636 3530\n",
      "1450 7642 3539\n",
      "1450 7643 3541\n",
      "1450 7647 3543\n",
      "1450 7658 3545\n",
      "1460 7718 3569\n",
      "1471 7732 3595\n",
      "1473 7734 3599\n",
      "1473 7744 3601\n",
      "1474 7750 3603\n",
      "1474 7751 3604\n",
      "1477 7758 3615\n"
     ]
    },
    {
     "name": "stderr",
     "output_type": "stream",
     "text": [
      "b'Skipping line 22: expected 10 fields, saw 11\\nSkipping line 25: expected 10 fields, saw 11\\n'\n"
     ]
    },
    {
     "name": "stdout",
     "output_type": "stream",
     "text": [
      "1485 7783 3640\n",
      "1487 7787 3642\n",
      "1489 7792 3644\n",
      "1491 7800 3648\n",
      "1491 7802 3652\n",
      "1493 7806 3655\n",
      "1508 7836 3677\n",
      "1512 7841 3683\n",
      "1514 7848 3686\n",
      "1514 7851 3688\n",
      "1516 7876 3697\n",
      "1519 7880 3701\n",
      "1519 7883 3707\n",
      "1520 7885 3708\n",
      "1523 7889 3711\n",
      "1523 7896 3713\n",
      "1525 7899 3715\n",
      "1525 7904 3716\n"
     ]
    },
    {
     "name": "stderr",
     "output_type": "stream",
     "text": [
      "b'Skipping line 27: expected 10 fields, saw 11\\nSkipping line 28: expected 10 fields, saw 11\\n'\n"
     ]
    },
    {
     "name": "stdout",
     "output_type": "stream",
     "text": [
      "1532 7940 3733\n",
      "1532 7944 3736\n",
      "1533 7956 3738\n",
      "1534 7975 3744\n",
      "1538 7988 3751\n",
      "1539 7990 3757\n",
      "1540 7993 3759\n",
      "1542 8022 3765\n",
      "1542 8026 3769\n",
      "1544 8038 3772\n",
      "1545 8040 3775\n",
      "1549 8045 3780\n",
      "1553 8049 3784\n",
      "1554 8084 3794\n",
      "1554 8092 3795\n",
      "1554 8099 3797\n",
      "1557 8106 3803\n",
      "1560 8110 3808\n",
      "1569 8131 3821\n",
      "1571 8134 3824\n",
      "1572 8141 3828\n",
      "1580 8188 3844\n",
      "1582 8194 3847\n",
      "1582 8195 3847\n",
      "1583 8200 3852\n",
      "1588 8212 3857\n",
      "1588 8214 3861\n",
      "1589 8230 3869\n",
      "1590 8239 3872\n",
      "1600 8251 3885\n",
      "1602 8254 3889\n",
      "1603 8255 3890\n",
      "1605 8281 3898\n",
      "1606 8285 3900\n",
      "1609 8288 3905\n",
      "1614 8294 3910\n",
      "1617 8300 3914\n",
      "1621 8306 3921\n",
      "1623 8330 3926\n",
      "1626 8348 3934\n",
      "1627 8351 3936\n",
      "1628 8356 3938\n",
      "ep20\n",
      "1 3 2\n",
      "1 5 3\n",
      "2 7 4\n",
      "3 17 8\n"
     ]
    },
    {
     "name": "stderr",
     "output_type": "stream",
     "text": [
      "b'Skipping line 17: expected 10 fields, saw 11\\nSkipping line 37: expected 10 fields, saw 11\\n'\n"
     ]
    },
    {
     "name": "stdout",
     "output_type": "stream",
     "text": [
      "4 105 39\n",
      "25 130 65\n",
      "27 135 67\n",
      "29 148 71\n",
      "29 151 72\n",
      "30 210 74\n",
      "31 212 76\n",
      "38 219 87\n",
      "39 221 89\n",
      "44 235 98\n",
      "44 236 99\n",
      "45 243 103\n",
      "49 248 107\n",
      "49 253 110\n",
      "54 267 118\n",
      "56 269 120\n",
      "57 272 122\n",
      "58 281 125\n",
      "59 285 127\n",
      "61 289 129\n",
      "62 290 131\n"
     ]
    },
    {
     "name": "stderr",
     "output_type": "stream",
     "text": [
      "b'Skipping line 3: expected 10 fields, saw 11\\nSkipping line 5: expected 10 fields, saw 11\\n'\n"
     ]
    },
    {
     "name": "stdout",
     "output_type": "stream",
     "text": [
      "62 293 133\n",
      "64 295 135\n",
      "66 351 143\n",
      "67 353 146\n",
      "67 360 149\n"
     ]
    },
    {
     "name": "stderr",
     "output_type": "stream",
     "text": [
      "b'Skipping line 4: expected 10 fields, saw 11\\n'\n"
     ]
    },
    {
     "name": "stdout",
     "output_type": "stream",
     "text": [
      "68 381 150\n",
      "80 410 167\n",
      "80 415 169\n",
      "80 420 172\n",
      "84 469 193\n",
      "87 480 198\n",
      "87 489 200\n",
      "88 493 203\n",
      "89 502 207\n",
      "89 504 207\n",
      "91 509 209\n",
      "93 518 211\n",
      "93 519 211\n",
      "94 520 212\n",
      "94 527 212\n",
      "96 533 215\n",
      "96 534 215\n",
      "97 535 217\n"
     ]
    },
    {
     "name": "stderr",
     "output_type": "stream",
     "text": [
      "b'Skipping line 4: expected 10 fields, saw 11\\n'\n"
     ]
    },
    {
     "name": "stdout",
     "output_type": "stream",
     "text": [
      "102 543 227\n",
      "102 544 228\n",
      "102 571 231\n",
      "102 574 231\n",
      "107 582 239\n",
      "107 583 242\n",
      "109 589 244\n",
      "110 595 246\n",
      "117 627 265\n",
      "119 631 269\n",
      "119 643 271\n",
      "122 647 274\n",
      "124 651 278\n",
      "125 655 280\n",
      "126 656 281\n",
      "127 694 282\n",
      "128 696 283\n",
      "130 698 285\n"
     ]
    },
    {
     "name": "stderr",
     "output_type": "stream",
     "text": [
      "b'Skipping line 8: expected 10 fields, saw 11\\nSkipping line 9: expected 10 fields, saw 11\\nSkipping line 15: expected 10 fields, saw 11\\n'\n"
     ]
    },
    {
     "name": "stdout",
     "output_type": "stream",
     "text": [
      "137 710 301\n",
      "137 711 302\n",
      "137 719 304\n",
      "137 720 304\n",
      "155 796 352\n",
      "155 799 354\n"
     ]
    },
    {
     "name": "stderr",
     "output_type": "stream",
     "text": [
      "b'Skipping line 2: expected 10 fields, saw 11\\n'\n"
     ]
    },
    {
     "name": "stdout",
     "output_type": "stream",
     "text": [
      "158 821 358\n",
      "159 824 360\n",
      "163 828 364\n"
     ]
    },
    {
     "name": "stderr",
     "output_type": "stream",
     "text": [
      "b'Skipping line 8: expected 10 fields, saw 11\\n'\n"
     ]
    },
    {
     "name": "stdout",
     "output_type": "stream",
     "text": [
      "164 841 366\n",
      "164 846 367\n",
      "166 848 369\n",
      "167 861 370\n",
      "170 867 376\n",
      "170 873 376\n",
      "170 876 378\n",
      "171 879 380\n",
      "175 883 384\n",
      "180 888 389\n",
      "181 889 390\n",
      "181 898 392\n",
      "181 907 393\n",
      "182 908 394\n",
      "186 952 417\n",
      "187 963 420\n",
      "189 965 423\n",
      "189 970 424\n",
      "189 992 445\n",
      "194 1007 451\n",
      "194 1012 452\n",
      "196 1017 456\n",
      "196 1025 462\n",
      "200 1075 477\n",
      "201 1081 479\n",
      "202 1088 482\n",
      "202 1089 484\n",
      "203 1092 486\n",
      "206 1096 501\n",
      "206 1099 501\n",
      "210 1104 507\n",
      "212 1108 510\n",
      "212 1126 513\n",
      "214 1151 530\n",
      "215 1155 532\n",
      "217 1160 535\n",
      "220 1168 539\n",
      "221 1170 540\n",
      "226 1176 545\n",
      "228 1179 549\n",
      "229 1183 552\n",
      "229 1189 553\n",
      "236 1196 561\n",
      "236 1197 563\n",
      "238 1201 565\n",
      "245 1224 577\n",
      "248 1229 580\n",
      "248 1237 584\n",
      "252 1243 589\n",
      "252 1244 590\n",
      "254 1247 592\n",
      "255 1251 593\n",
      "263 1270 605\n",
      "263 1272 606\n",
      "263 1280 607\n",
      "263 1281 608\n",
      "265 1284 610\n",
      "266 1287 613\n",
      "266 1289 614\n",
      "267 1291 615\n",
      "270 1307 620\n",
      "270 1312 621\n",
      "270 1339 622\n",
      "280 1349 632\n",
      "280 1353 632\n",
      "282 1399 640\n",
      "282 1403 641\n",
      "282 1409 641\n",
      "284 1414 653\n",
      "285 1418 655\n",
      "285 1420 655\n",
      "287 1424 657\n",
      "290 1440 666\n",
      "292 1442 668\n",
      "295 1449 671\n",
      "297 1455 675\n",
      "297 1462 675\n",
      "301 1489 682\n",
      "303 1491 684\n",
      "303 1494 685\n"
     ]
    },
    {
     "name": "stderr",
     "output_type": "stream",
     "text": [
      "b'Skipping line 4: expected 10 fields, saw 11\\n'\n"
     ]
    },
    {
     "name": "stdout",
     "output_type": "stream",
     "text": [
      "303 1497 686\n",
      "303 1502 688\n",
      "309 1515 699\n",
      "311 1524 703\n",
      "314 1529 706\n",
      "315 1530 707\n",
      "316 1531 708\n",
      "316 1534 708\n",
      "318 1537 711\n",
      "318 1540 711\n",
      "319 1542 712\n",
      "321 1547 740\n",
      "322 1557 744\n",
      "322 1559 744\n",
      "322 1564 748\n",
      "322 1570 750\n",
      "322 1574 751\n",
      "324 1595 758\n",
      "324 1597 759\n",
      "324 1609 761\n",
      "325 1612 765\n",
      "328 1652 771\n",
      "328 1659 772\n",
      "328 1661 773\n",
      "328 1669 776\n",
      "329 1670 777\n",
      "329 1695 777\n",
      "332 1700 782\n",
      "333 1703 786\n",
      "334 1712 788\n"
     ]
    },
    {
     "name": "stderr",
     "output_type": "stream",
     "text": [
      "b'Skipping line 5: expected 10 fields, saw 11\\n'\n"
     ]
    },
    {
     "name": "stdout",
     "output_type": "stream",
     "text": [
      "339 1724 794\n",
      "347 1737 802\n",
      "350 1746 806\n",
      "352 1750 809\n",
      "352 1776 809\n",
      "354 1781 812\n",
      "356 1784 815\n",
      "356 1790 816\n",
      "356 1795 817\n",
      "359 1799 820\n",
      "360 1807 823\n",
      "363 1810 826\n",
      "363 1813 826\n",
      "364 1818 827\n",
      "366 1821 833\n",
      "370 1832 838\n",
      "370 1834 838\n",
      "373 1839 846\n",
      "376 1852 851\n",
      "379 1857 854\n",
      "380 1861 859\n",
      "385 1866 868\n",
      "387 1889 874\n",
      "388 1890 875\n",
      "389 1934 877\n"
     ]
    },
    {
     "name": "stderr",
     "output_type": "stream",
     "text": [
      "b'Skipping line 31: expected 10 fields, saw 11\\nSkipping line 62: expected 10 fields, saw 11\\nSkipping line 68: expected 10 fields, saw 11\\n'\n"
     ]
    },
    {
     "name": "stdout",
     "output_type": "stream",
     "text": [
      "389 2005 882\n",
      "396 2025 893\n",
      "396 2026 894\n",
      "397 2034 908\n",
      "398 2037 910\n",
      "398 2039 912\n",
      "398 2047 922\n",
      "407 2057 931\n",
      "407 2074 933\n",
      "416 2086 948\n",
      "416 2091 950\n",
      "418 2093 952\n",
      "419 2094 954\n",
      "422 2099 957\n",
      "422 2104 959\n",
      "426 2111 963\n",
      "428 2115 965\n",
      "428 2135 971\n",
      "428 2137 972\n",
      "428 2140 974\n",
      "428 2145 974\n",
      "428 2148 975\n",
      "428 2150 978\n"
     ]
    },
    {
     "name": "stderr",
     "output_type": "stream",
     "text": [
      "b'Skipping line 10: expected 10 fields, saw 11\\nSkipping line 20: expected 10 fields, saw 12\\n'\n"
     ]
    },
    {
     "name": "stdout",
     "output_type": "stream",
     "text": [
      "442 2204 1011\n",
      "442 2208 1012\n",
      "444 2212 1014\n",
      "445 2215 1019\n"
     ]
    },
    {
     "name": "stderr",
     "output_type": "stream",
     "text": [
      "b'Skipping line 41: expected 10 fields, saw 11\\nSkipping line 42: expected 10 fields, saw 11\\n'\n"
     ]
    },
    {
     "name": "stdout",
     "output_type": "stream",
     "text": [
      "450 2256 1032\n",
      "450 2262 1034\n",
      "452 2264 1036\n",
      "457 2269 1041\n",
      "458 2270 1042\n",
      "460 2276 1045\n",
      "471 2332 1063\n",
      "472 2337 1065\n",
      "472 2340 1065\n",
      "473 2341 1066\n"
     ]
    },
    {
     "name": "stderr",
     "output_type": "stream",
     "text": [
      "b'Skipping line 12: expected 10 fields, saw 11\\n'\n"
     ]
    },
    {
     "name": "stdout",
     "output_type": "stream",
     "text": [
      "474 2367 1071\n",
      "494 2396 1097\n",
      "495 2404 1104\n",
      "497 2408 1112\n",
      "503 2443 1119\n",
      "503 2446 1121\n",
      "505 2448 1123\n",
      "505 2453 1125\n",
      "508 2458 1131\n",
      "511 2462 1141\n",
      "513 2468 1143\n",
      "515 2490 1150\n",
      "522 2506 1166\n"
     ]
    },
    {
     "name": "stderr",
     "output_type": "stream",
     "text": [
      "b'Skipping line 28: expected 10 fields, saw 11\\n'\n"
     ]
    },
    {
     "name": "stdout",
     "output_type": "stream",
     "text": [
      "536 2582 1194\n",
      "538 2584 1203\n",
      "538 2606 1208\n",
      "538 2612 1226\n",
      "543 2626 1236\n",
      "544 2627 1237\n",
      "547 2642 1243\n"
     ]
    },
    {
     "name": "stderr",
     "output_type": "stream",
     "text": [
      "b'Skipping line 7: expected 10 fields, saw 11\\n'\n",
      "b'Skipping line 5: expected 10 fields, saw 11\\nSkipping line 9: expected 10 fields, saw 11\\n'\n"
     ]
    },
    {
     "name": "stdout",
     "output_type": "stream",
     "text": [
      "548 2649 1246\n",
      "548 2651 1246\n",
      "549 2654 1249\n",
      "549 2657 1249\n",
      "551 2665 1257\n",
      "552 2667 1259\n",
      "554 2673 1262\n",
      "555 2679 1264\n",
      "555 2683 1265\n",
      "555 2698 1269\n"
     ]
    },
    {
     "name": "stderr",
     "output_type": "stream",
     "text": [
      "b'Skipping line 2: expected 10 fields, saw 11\\n'\n"
     ]
    },
    {
     "name": "stdout",
     "output_type": "stream",
     "text": [
      "556 2706 1275\n",
      "561 2712 1281\n",
      "561 2713 1284\n",
      "564 2723 1289\n",
      "568 2727 1295\n",
      "568 2730 1296\n",
      "570 2734 1298\n",
      "570 2737 1300\n",
      "571 2743 1303\n",
      "571 2749 1303\n",
      "571 2750 1303\n",
      "573 2753 1309\n",
      "573 2757 1312\n",
      "576 2763 1316\n",
      "578 2769 1320\n",
      "578 2772 1321\n",
      "580 2774 1323\n",
      "580 2808 1336\n",
      "581 2810 1337\n",
      "584 2821 1342\n",
      "585 2828 1343\n",
      "587 2847 1347\n",
      "587 2852 1350\n",
      "587 2855 1352\n",
      "588 2859 1357\n",
      "590 2863 1377\n",
      "590 2865 1381\n",
      "590 2869 1382\n",
      "592 2875 1385\n",
      "593 2878 1387\n",
      "593 2879 1399\n",
      "594 2882 1401\n",
      "594 2887 1401\n",
      "596 2904 1409\n",
      "601 2911 1424\n",
      "601 3070 1424\n",
      "602 3075 1426\n",
      "608 3081 1436\n"
     ]
    },
    {
     "name": "stderr",
     "output_type": "stream",
     "text": [
      "b'Skipping line 10: expected 10 fields, saw 11\\nSkipping line 11: expected 10 fields, saw 11\\nSkipping line 29: expected 10 fields, saw 11\\n'\n"
     ]
    },
    {
     "name": "stdout",
     "output_type": "stream",
     "text": [
      "615 3118 1449\n",
      "616 3121 1450\n",
      "617 3137 1452\n",
      "618 3139 1454\n",
      "618 3140 1454\n",
      "618 3143 1455\n",
      "618 3145 1456\n",
      "618 3149 1459\n",
      "619 3153 1462\n",
      "619 3156 1462\n",
      "621 3159 1464\n"
     ]
    },
    {
     "name": "stderr",
     "output_type": "stream",
     "text": [
      "b'Skipping line 2: expected 10 fields, saw 11\\n'\n"
     ]
    },
    {
     "name": "stdout",
     "output_type": "stream",
     "text": [
      "623 3162 1471\n",
      "627 3166 1475\n",
      "627 3167 1505\n",
      "631 3197 1518\n",
      "631 3204 1519\n",
      "632 3221 1523\n",
      "632 3223 1524\n",
      "633 3226 1526\n",
      "633 3229 1527\n",
      "635 3235 1531\n",
      "637 3239 1533\n",
      "639 3244 1535\n",
      "641 3248 1539\n",
      "641 3289 1542\n",
      "641 3297 1542\n",
      "645 3307 1548\n",
      "646 3311 1549\n",
      "646 3313 1550\n",
      "646 3320 1563\n",
      "646 3329 1565\n",
      "646 3331 1566\n",
      "647 3332 1567\n",
      "648 3344 1575\n",
      "651 3347 1578\n",
      "654 3459 1585\n",
      "656 3467 1588\n",
      "656 3469 1589\n",
      "656 3472 1590\n",
      "657 3476 1592\n",
      "661 3480 1596\n",
      "666 3486 1601\n",
      "668 3509 1604\n",
      "671 3517 1608\n",
      "673 3521 1611\n",
      "675 3526 1614\n",
      "676 3534 1617\n",
      "684 3550 1628\n",
      "684 3553 1629\n",
      "684 3558 1630\n",
      "685 3561 1638\n",
      "685 3562 1641\n",
      "685 3574 1644\n",
      "686 3576 1648\n",
      "687 3577 1650\n",
      "688 3578 1651\n",
      "693 3597 1660\n",
      "694 3674 1678\n",
      "696 3680 1680\n",
      "696 3687 1683\n",
      "699 3697 1691\n",
      "699 3699 1692\n",
      "699 3704 1692\n",
      "700 3708 1694\n",
      "700 3714 1695\n",
      "701 3718 1697\n",
      "703 3726 1700\n",
      "703 3734 1701\n",
      "705 3738 1703\n",
      "706 3742 1705\n",
      "709 3749 1710\n",
      "711 3760 1714\n",
      "711 3766 1718\n"
     ]
    },
    {
     "name": "stderr",
     "output_type": "stream",
     "text": [
      "b'Skipping line 7: expected 10 fields, saw 11\\n'\n"
     ]
    },
    {
     "name": "stdout",
     "output_type": "stream",
     "text": [
      "712 3768 1720\n",
      "716 3803 1728\n",
      "717 3813 1730\n",
      "717 3820 1733\n",
      "744 4034 1800\n",
      "747 4037 1808\n",
      "748 4044 1811\n"
     ]
    },
    {
     "name": "stderr",
     "output_type": "stream",
     "text": [
      "b'Skipping line 14: expected 10 fields, saw 11\\nSkipping line 15: expected 10 fields, saw 11\\n'\n"
     ]
    },
    {
     "name": "stdout",
     "output_type": "stream",
     "text": [
      "758 4065 1829\n",
      "758 4079 1831\n",
      "758 4084 1832\n",
      "761 4090 1838\n",
      "762 4092 1839\n",
      "763 4113 1841\n"
     ]
    },
    {
     "name": "stderr",
     "output_type": "stream",
     "text": [
      "b'Skipping line 6: expected 10 fields, saw 11\\nSkipping line 8: expected 10 fields, saw 11\\n'\n"
     ]
    },
    {
     "name": "stdout",
     "output_type": "stream",
     "text": [
      "763 4121 1843\n",
      "764 4123 1845\n"
     ]
    },
    {
     "name": "stderr",
     "output_type": "stream",
     "text": [
      "b'Skipping line 2: expected 10 fields, saw 11\\n'\n"
     ]
    },
    {
     "name": "stdout",
     "output_type": "stream",
     "text": [
      "765 4125 1849\n",
      "765 4130 1850\n",
      "765 4132 1850\n",
      "765 4134 1851\n",
      "766 4140 1854\n",
      "772 4169 1872\n",
      "772 4170 1872\n",
      "774 4197 1880\n",
      "774 4198 1881\n",
      "774 4202 1886\n",
      "774 4208 1887\n",
      "777 4212 1891\n",
      "779 4218 1893\n",
      "781 4226 1898\n",
      "781 4228 1898\n",
      "783 4235 1901\n",
      "783 4239 1910\n",
      "783 4241 1910\n",
      "784 4242 1911\n",
      "787 4271 1921\n",
      "788 4275 1923\n",
      "790 4277 1925\n",
      "792 4280 1927\n",
      "794 4288 1930\n",
      "795 4292 1939\n",
      "795 4294 1939\n",
      "796 4296 1940\n",
      "797 4302 1941\n",
      "800 4349 1948\n",
      "804 4388 1953\n",
      "806 4394 1957\n",
      "808 4400 1961\n",
      "808 4406 1962\n",
      "812 4418 1968\n",
      "815 4422 1973\n",
      "820 4430 1978\n",
      "823 4433 1982\n",
      "823 4439 1983\n"
     ]
    },
    {
     "name": "stderr",
     "output_type": "stream",
     "text": [
      "b'Skipping line 2: expected 10 fields, saw 11\\nSkipping line 5: expected 10 fields, saw 11\\n'\n"
     ]
    },
    {
     "name": "stdout",
     "output_type": "stream",
     "text": [
      "827 4444 1991\n",
      "828 4445 1992\n",
      "828 4453 1994\n",
      "828 4459 1995\n"
     ]
    },
    {
     "name": "stderr",
     "output_type": "stream",
     "text": [
      "b'Skipping line 2: expected 10 fields, saw 11\\n'\n"
     ]
    },
    {
     "name": "stdout",
     "output_type": "stream",
     "text": [
      "829 4463 1996\n",
      "835 4506 2002\n",
      "841 4517 2011\n",
      "841 4520 2012\n",
      "843 4523 2014\n"
     ]
    },
    {
     "name": "stderr",
     "output_type": "stream",
     "text": [
      "b'Skipping line 12: expected 10 fields, saw 11\\n'\n"
     ]
    },
    {
     "name": "stdout",
     "output_type": "stream",
     "text": [
      "846 4534 2024\n",
      "852 4566 2035\n",
      "852 4568 2036\n",
      "862 4579 2046\n",
      "863 4580 2047\n",
      "869 4588 2057\n",
      "873 4593 2062\n",
      "873 4597 2067\n",
      "878 4618 2078\n",
      "880 4621 2081\n",
      "880 4623 2099\n",
      "883 4634 2105\n",
      "885 4643 2122\n",
      "886 4654 2125\n",
      "896 4714 2141\n",
      "896 4716 2142\n",
      "899 4723 2148\n",
      "900 4732 2149\n"
     ]
    },
    {
     "name": "stderr",
     "output_type": "stream",
     "text": [
      "b'Skipping line 7: expected 10 fields, saw 11\\n'\n"
     ]
    },
    {
     "name": "stdout",
     "output_type": "stream",
     "text": [
      "901 4744 2153\n",
      "903 4749 2155\n",
      "905 4755 2159\n",
      "907 4757 2161\n",
      "912 4781 2172\n",
      "915 4786 2181\n",
      "915 4793 2183\n",
      "917 4796 2185\n",
      "918 4810 2189\n",
      "920 4824 2195\n",
      "924 4870 2204\n",
      "926 4875 2208\n",
      "926 4893 2218\n",
      "926 4896 2222\n",
      "926 4900 2224\n",
      "927 4902 2229\n",
      "931 4922 2236\n",
      "933 4924 2238\n",
      "934 4932 2241\n",
      "939 4941 2246\n",
      "939 4942 2246\n",
      "939 4947 2247\n",
      "940 4949 2248\n",
      "940 4951 2249\n",
      "942 4954 2251\n",
      "945 4978 2255\n",
      "947 4985 2258\n",
      "950 4997 2265\n",
      "950 4999 2265\n",
      "954 5023 2274\n",
      "956 5028 2278\n",
      "957 5038 2281\n",
      "958 5044 2284\n",
      "958 5053 2287\n",
      "961 5057 2292\n",
      "970 5068 2302\n",
      "970 5070 2308\n",
      "970 5071 2308\n",
      "978 5088 2317\n",
      "979 5091 2318\n",
      "981 5093 2321\n",
      "982 5099 2323\n",
      "987 5119 2331\n",
      "989 5123 2333\n"
     ]
    },
    {
     "name": "stderr",
     "output_type": "stream",
     "text": [
      "b'Skipping line 2: expected 10 fields, saw 11\\n'\n"
     ]
    },
    {
     "name": "stdout",
     "output_type": "stream",
     "text": [
      "993 5127 2338\n",
      "994 5131 2339\n",
      "996 5133 2341\n",
      "998 5138 2344\n"
     ]
    },
    {
     "name": "stderr",
     "output_type": "stream",
     "text": [
      "b'Skipping line 4: expected 10 fields, saw 11\\n'\n"
     ]
    },
    {
     "name": "stdout",
     "output_type": "stream",
     "text": [
      "998 5144 2347\n",
      "999 5152 2349\n",
      "1000 5153 2350\n",
      "1008 5178 2363\n",
      "1008 5180 2364\n",
      "1009 5182 2365\n"
     ]
    },
    {
     "name": "stderr",
     "output_type": "stream",
     "text": [
      "b'Skipping line 3: expected 10 fields, saw 11\\n'\n"
     ]
    },
    {
     "name": "stdout",
     "output_type": "stream",
     "text": [
      "1011 5206 2368\n",
      "1014 5215 2373\n",
      "1015 5241 2374\n",
      "1016 5247 2376\n",
      "1017 5250 2377\n",
      "1020 5272 2382\n",
      "1020 5276 2385\n",
      "1020 5281 2387\n",
      "1020 5282 2387\n",
      "1021 5284 2389\n",
      "1027 5297 2398\n",
      "1029 5299 2400\n",
      "1036 5307 2408\n",
      "1037 5316 2418\n",
      "1038 5320 2423\n",
      "1038 5322 2424\n",
      "1044 5329 2432\n",
      "1044 5336 2435\n",
      "1044 5337 2435\n",
      "1044 5343 2437\n",
      "1045 5344 2438\n",
      "1049 5399 2449\n",
      "1049 5411 2457\n",
      "1049 5414 2458\n",
      "1051 5448 2467\n",
      "1054 5458 2476\n",
      "1054 5465 2477\n",
      "1056 5469 2480\n",
      "1060 5473 2484\n",
      "1062 5476 2486\n",
      "1064 5481 2489\n",
      "1064 5486 2490\n"
     ]
    },
    {
     "name": "stderr",
     "output_type": "stream",
     "text": [
      "b'Skipping line 5: expected 10 fields, saw 11\\n'\n"
     ]
    },
    {
     "name": "stdout",
     "output_type": "stream",
     "text": [
      "1077 5518 2514\n"
     ]
    },
    {
     "name": "stderr",
     "output_type": "stream",
     "text": [
      "b'Skipping line 33: expected 10 fields, saw 11\\nSkipping line 36: expected 10 fields, saw 11\\n'\n"
     ]
    },
    {
     "name": "stdout",
     "output_type": "stream",
     "text": [
      "1083 5571 2530\n",
      "1084 5573 2533\n",
      "1084 5575 2533\n",
      "1088 5585 2546\n",
      "1088 5588 2546\n"
     ]
    },
    {
     "name": "stderr",
     "output_type": "stream",
     "text": [
      "b'Skipping line 14: expected 10 fields, saw 11\\n'\n"
     ]
    },
    {
     "name": "stdout",
     "output_type": "stream",
     "text": [
      "1090 5602 2552\n",
      "1093 5625 2558\n",
      "1095 5629 2560\n"
     ]
    },
    {
     "name": "stderr",
     "output_type": "stream",
     "text": [
      "b'Skipping line 9: expected 10 fields, saw 11\\n'\n"
     ]
    },
    {
     "name": "stdout",
     "output_type": "stream",
     "text": [
      "1097 5642 2565\n",
      "1099 5644 2570\n",
      "1100 5645 2571\n",
      "1107 5687 2582\n",
      "1107 5690 2584\n",
      "1115 5704 2596\n",
      "1116 5716 2600\n",
      "1116 5718 2605\n",
      "1117 5721 2610\n",
      "1117 5724 2610\n",
      "1118 5728 2612\n",
      "1121 5737 2616\n",
      "1122 5738 2617\n",
      "1122 5742 2618\n",
      "1123 5745 2620\n",
      "1125 5747 2622\n",
      "1126 5749 2624\n"
     ]
    },
    {
     "name": "stderr",
     "output_type": "stream",
     "text": [
      "b'Skipping line 50: expected 10 fields, saw 11\\n'\n"
     ]
    },
    {
     "name": "stdout",
     "output_type": "stream",
     "text": [
      "1130 5807 2649\n",
      "1131 5812 2650\n",
      "1131 5813 2650\n",
      "1138 5823 2658\n",
      "1144 5830 2666\n",
      "1145 5832 2667\n",
      "1146 5845 2669\n",
      "1149 5850 2673\n"
     ]
    },
    {
     "name": "stderr",
     "output_type": "stream",
     "text": [
      "b'Skipping line 3: expected 10 fields, saw 11\\n'\n"
     ]
    },
    {
     "name": "stdout",
     "output_type": "stream",
     "text": [
      "1151 5855 2677\n",
      "1156 5862 2697\n",
      "1157 5868 2700\n",
      "1159 5873 2703\n",
      "1159 5877 2704\n",
      "1171 5927 2729\n",
      "1171 5936 2732\n",
      "1172 5941 2737\n",
      "1172 5943 2740\n"
     ]
    },
    {
     "name": "stderr",
     "output_type": "stream",
     "text": [
      "b'Skipping line 63: expected 10 fields, saw 11\\n'\n"
     ]
    },
    {
     "name": "stdout",
     "output_type": "stream",
     "text": [
      "1177 6014 2761\n",
      "1177 6023 2764\n",
      "1181 6047 2778\n",
      "1182 6053 2780\n",
      "1183 6059 2782\n",
      "1186 6067 2785\n",
      "1188 6076 2787\n"
     ]
    },
    {
     "name": "stderr",
     "output_type": "stream",
     "text": [
      "b'Skipping line 53: expected 10 fields, saw 11\\nSkipping line 61: expected 10 fields, saw 11\\nSkipping line 105: expected 10 fields, saw 11\\nSkipping line 106: expected 10 fields, saw 11\\nSkipping line 108: expected 10 fields, saw 11\\n'\n"
     ]
    },
    {
     "name": "stdout",
     "output_type": "stream",
     "text": [
      "1200 6190 2827\n",
      "1202 6192 2829\n",
      "1202 6200 2831\n",
      "1206 6208 2837\n",
      "1206 6221 2839\n",
      "1206 6225 2841\n",
      "1206 6229 2842\n"
     ]
    },
    {
     "name": "stderr",
     "output_type": "stream",
     "text": [
      "b'Skipping line 8: expected 10 fields, saw 11\\n'\n"
     ]
    },
    {
     "name": "stdout",
     "output_type": "stream",
     "text": [
      "1210 6243 2854\n",
      "1210 6244 2854\n",
      "1212 6253 2858\n",
      "1212 6259 2860\n",
      "1213 6260 2861\n",
      "1214 6262 2863\n"
     ]
    },
    {
     "name": "stderr",
     "output_type": "stream",
     "text": [
      "b'Skipping line 9: expected 10 fields, saw 11\\nSkipping line 20: expected 10 fields, saw 11\\nSkipping line 22: expected 10 fields, saw 11\\n'\n"
     ]
    },
    {
     "name": "stdout",
     "output_type": "stream",
     "text": [
      "1223 6293 2892\n",
      "1224 6315 2895\n",
      "1226 6319 2897\n",
      "1228 6340 2909\n",
      "1229 6343 2911\n",
      "1229 6344 2913\n"
     ]
    },
    {
     "name": "stderr",
     "output_type": "stream",
     "text": [
      "b'Skipping line 2: expected 10 fields, saw 11\\n'\n"
     ]
    },
    {
     "name": "stdout",
     "output_type": "stream",
     "text": [
      "1229 6350 2915\n",
      "1233 6357 2920\n",
      "1235 6361 2923\n",
      "1237 6393 2927\n",
      "1238 6398 2930\n",
      "1239 6402 2935\n"
     ]
    },
    {
     "name": "stderr",
     "output_type": "stream",
     "text": [
      "b'Skipping line 30: expected 10 fields, saw 12\\nSkipping line 32: expected 10 fields, saw 11\\nSkipping line 92: expected 10 fields, saw 11\\nSkipping line 103: expected 10 fields, saw 11\\n'\n"
     ]
    },
    {
     "name": "stdout",
     "output_type": "stream",
     "text": [
      "1276 6537 2997\n",
      "1278 6548 3002\n",
      "1278 6555 3003\n",
      "1281 6561 3009\n"
     ]
    },
    {
     "name": "stderr",
     "output_type": "stream",
     "text": [
      "b'Skipping line 4: expected 10 fields, saw 11\\n'\n"
     ]
    },
    {
     "name": "stdout",
     "output_type": "stream",
     "text": [
      "1283 6565 3013\n",
      "1285 6570 3017\n",
      "1286 6577 3019\n"
     ]
    },
    {
     "name": "stderr",
     "output_type": "stream",
     "text": [
      "b'Skipping line 24: expected 10 fields, saw 11\\n'\n"
     ]
    },
    {
     "name": "stdout",
     "output_type": "stream",
     "text": [
      "1295 6639 3039\n",
      "1302 6666 3049\n"
     ]
    },
    {
     "name": "stderr",
     "output_type": "stream",
     "text": [
      "b'Skipping line 161: expected 10 fields, saw 11\\n'\n"
     ]
    },
    {
     "name": "stdout",
     "output_type": "stream",
     "text": [
      "1341 6828 3113\n",
      "1341 6831 3114\n",
      "1346 6843 3128\n",
      "1346 6849 3130\n",
      "1353 6880 3138\n",
      "1353 6883 3139\n",
      "1355 6885 3141\n",
      "1357 6890 3144\n",
      "1357 6892 3145\n",
      "1358 6895 3147\n",
      "1358 6897 3148\n",
      "1361 6900 3152\n",
      "1363 6917 3159\n",
      "1364 6921 3161\n",
      "1367 6928 3164\n",
      "1368 6929 3165\n",
      "1368 6931 3166\n",
      "1369 6933 3167\n",
      "1371 6975 3172\n",
      "1371 6978 3174\n",
      "1372 6980 3175\n",
      "1373 6983 3176\n",
      "1373 6988 3178\n",
      "1373 6991 3181\n",
      "1374 6995 3183\n"
     ]
    },
    {
     "name": "stderr",
     "output_type": "stream",
     "text": [
      "b'Skipping line 16: expected 10 fields, saw 11\\n'\n"
     ]
    },
    {
     "name": "stdout",
     "output_type": "stream",
     "text": [
      "1388 7012 3207\n",
      "1388 7013 3208\n",
      "1388 7021 3215\n"
     ]
    },
    {
     "name": "stderr",
     "output_type": "stream",
     "text": [
      "b'Skipping line 12: expected 10 fields, saw 11\\n'\n"
     ]
    },
    {
     "name": "stdout",
     "output_type": "stream",
     "text": [
      "1393 7038 3230\n",
      "1395 7050 3235\n",
      "1398 7059 3243\n",
      "1400 7068 3246\n",
      "1401 7074 3247\n",
      "1403 7080 3251\n",
      "1403 7083 3252\n"
     ]
    },
    {
     "name": "stderr",
     "output_type": "stream",
     "text": [
      "b'Skipping line 3: expected 10 fields, saw 11\\n'\n"
     ]
    },
    {
     "name": "stdout",
     "output_type": "stream",
     "text": [
      "1408 7092 3258\n",
      "1408 7095 3261\n",
      "1411 7106 3266\n",
      "1413 7115 3270\n",
      "1416 7133 3295\n",
      "1417 7142 3297\n",
      "1418 7204 3300\n",
      "1418 7206 3301\n",
      "1429 7362 3328\n",
      "1430 7367 3330\n",
      "1430 7368 3331\n",
      "1432 7370 3337\n",
      "1433 7373 3342\n",
      "1433 7384 3342\n",
      "1435 7392 3353\n",
      "1439 7400 3359\n",
      "1440 7403 3362\n",
      "1443 7406 3365\n",
      "1447 7423 3373\n",
      "1447 7424 3373\n",
      "1447 7431 3373\n",
      "1450 7437 3377\n",
      "1450 7445 3379\n",
      "1451 7446 3380\n",
      "1452 7455 3385\n",
      "1457 7494 3395\n",
      "1458 7504 3398\n",
      "1458 7513 3399\n",
      "1459 7516 3401\n",
      "1460 7531 3402\n",
      "1460 7541 3405\n",
      "1463 7544 3409\n",
      "1463 7555 3411\n",
      "1463 7557 3411\n",
      "1465 7559 3413\n",
      "1465 7564 3416\n",
      "1466 7566 3417\n",
      "1468 7569 3421\n",
      "1470 7575 3423\n",
      "1471 7581 3427\n",
      "1471 7585 3427\n",
      "1474 7595 3431\n",
      "1476 7598 3433\n",
      "1477 7601 3434\n",
      "1478 7604 3438\n",
      "1481 7611 3442\n",
      "1482 7612 3443\n",
      "1483 7626 3453\n",
      "1483 7632 3455\n",
      "1484 7636 3457\n",
      "1486 7642 3463\n",
      "1486 7643 3464\n",
      "1486 7647 3466\n",
      "1486 7658 3468\n",
      "1498 7718 3492\n",
      "1509 7732 3516\n",
      "1511 7734 3520\n",
      "1511 7744 3521\n",
      "1511 7750 3522\n",
      "1511 7751 3523\n",
      "1514 7758 3532\n"
     ]
    },
    {
     "name": "stderr",
     "output_type": "stream",
     "text": [
      "b'Skipping line 22: expected 10 fields, saw 11\\nSkipping line 25: expected 10 fields, saw 11\\n'\n"
     ]
    },
    {
     "name": "stdout",
     "output_type": "stream",
     "text": [
      "1522 7783 3556\n",
      "1524 7787 3558\n",
      "1526 7792 3561\n",
      "1528 7800 3564\n",
      "1528 7802 3568\n",
      "1530 7806 3571\n",
      "1545 7836 3592\n",
      "1549 7841 3598\n",
      "1551 7848 3601\n",
      "1551 7851 3603\n",
      "1554 7876 3611\n",
      "1557 7880 3615\n",
      "1557 7883 3622\n",
      "1558 7885 3623\n",
      "1561 7889 3626\n",
      "1561 7896 3628\n",
      "1563 7899 3630\n",
      "1563 7904 3631\n"
     ]
    },
    {
     "name": "stderr",
     "output_type": "stream",
     "text": [
      "b'Skipping line 27: expected 10 fields, saw 11\\nSkipping line 28: expected 10 fields, saw 11\\n'\n"
     ]
    },
    {
     "name": "stdout",
     "output_type": "stream",
     "text": [
      "1571 7940 3648\n",
      "1571 7944 3651\n",
      "1572 7956 3653\n",
      "1573 7975 3659\n",
      "1577 7988 3666\n",
      "1578 7990 3672\n",
      "1579 7993 3673\n",
      "1581 8022 3680\n",
      "1581 8026 3684\n",
      "1583 8038 3687\n",
      "1584 8040 3690\n",
      "1588 8045 3695\n",
      "1592 8049 3699\n",
      "1593 8084 3708\n",
      "1593 8092 3709\n",
      "1593 8099 3711\n",
      "1596 8106 3717\n",
      "1599 8110 3720\n",
      "1608 8131 3733\n",
      "1610 8134 3736\n",
      "1611 8141 3740\n",
      "1619 8188 3756\n",
      "1621 8194 3759\n",
      "1621 8195 3759\n",
      "1622 8200 3764\n",
      "1626 8212 3769\n",
      "1626 8214 3774\n",
      "1627 8230 3782\n",
      "1628 8239 3785\n",
      "1637 8251 3798\n",
      "1639 8254 3801\n",
      "1640 8255 3802\n",
      "1642 8281 3809\n",
      "1643 8285 3811\n",
      "1646 8288 3816\n",
      "1651 8294 3821\n",
      "1654 8300 3825\n",
      "1658 8306 3832\n",
      "1659 8330 3837\n",
      "1665 8348 3846\n",
      "1666 8351 3848\n",
      "1667 8356 3850\n",
      "ep21\n",
      "1 3 2\n",
      "1 5 3\n",
      "2 7 4\n",
      "3 17 8\n"
     ]
    },
    {
     "name": "stderr",
     "output_type": "stream",
     "text": [
      "b'Skipping line 17: expected 10 fields, saw 11\\nSkipping line 37: expected 10 fields, saw 11\\n'\n"
     ]
    },
    {
     "name": "stdout",
     "output_type": "stream",
     "text": [
      "4 105 38\n",
      "25 130 64\n",
      "27 135 66\n",
      "29 148 70\n",
      "29 151 71\n",
      "30 210 73\n",
      "32 212 76\n",
      "39 219 86\n",
      "40 221 88\n",
      "44 235 98\n",
      "44 236 98\n",
      "45 243 102\n",
      "49 248 106\n",
      "49 253 108\n",
      "54 267 116\n",
      "56 269 118\n",
      "57 272 120\n",
      "58 281 123\n",
      "59 285 125\n",
      "61 289 127\n",
      "62 290 129\n"
     ]
    },
    {
     "name": "stderr",
     "output_type": "stream",
     "text": [
      "b'Skipping line 3: expected 10 fields, saw 11\\nSkipping line 5: expected 10 fields, saw 11\\n'\n"
     ]
    },
    {
     "name": "stdout",
     "output_type": "stream",
     "text": [
      "62 293 131\n",
      "64 295 133\n",
      "66 351 141\n",
      "67 353 144\n",
      "67 360 147\n"
     ]
    },
    {
     "name": "stderr",
     "output_type": "stream",
     "text": [
      "b'Skipping line 4: expected 10 fields, saw 11\\n'\n"
     ]
    },
    {
     "name": "stdout",
     "output_type": "stream",
     "text": [
      "68 381 148\n",
      "80 410 165\n",
      "80 415 167\n",
      "80 420 170\n",
      "84 469 192\n",
      "87 480 197\n",
      "87 489 199\n",
      "88 493 202\n",
      "89 502 205\n",
      "89 504 205\n",
      "91 509 207\n",
      "93 518 209\n",
      "93 519 209\n",
      "94 520 210\n",
      "94 527 210\n",
      "96 533 213\n",
      "96 534 213\n",
      "97 535 215\n"
     ]
    },
    {
     "name": "stderr",
     "output_type": "stream",
     "text": [
      "b'Skipping line 4: expected 10 fields, saw 11\\n'\n"
     ]
    },
    {
     "name": "stdout",
     "output_type": "stream",
     "text": [
      "102 543 225\n",
      "102 544 225\n",
      "102 571 229\n",
      "102 574 229\n",
      "107 582 237\n",
      "107 583 240\n",
      "109 589 242\n",
      "110 595 244\n",
      "116 627 265\n",
      "118 631 269\n",
      "118 643 271\n",
      "121 647 274\n",
      "123 651 278\n",
      "124 655 280\n",
      "125 656 281\n",
      "126 694 282\n",
      "127 696 283\n",
      "129 698 286\n"
     ]
    },
    {
     "name": "stderr",
     "output_type": "stream",
     "text": [
      "b'Skipping line 8: expected 10 fields, saw 11\\nSkipping line 9: expected 10 fields, saw 11\\nSkipping line 15: expected 10 fields, saw 11\\n'\n"
     ]
    },
    {
     "name": "stdout",
     "output_type": "stream",
     "text": [
      "136 710 302\n",
      "136 711 303\n",
      "136 719 304\n",
      "136 720 304\n",
      "153 796 353\n",
      "153 799 355\n"
     ]
    },
    {
     "name": "stderr",
     "output_type": "stream",
     "text": [
      "b'Skipping line 2: expected 10 fields, saw 11\\n'\n"
     ]
    },
    {
     "name": "stdout",
     "output_type": "stream",
     "text": [
      "156 821 359\n",
      "157 824 361\n",
      "161 828 365\n"
     ]
    },
    {
     "name": "stderr",
     "output_type": "stream",
     "text": [
      "b'Skipping line 8: expected 10 fields, saw 11\\n'\n"
     ]
    },
    {
     "name": "stdout",
     "output_type": "stream",
     "text": [
      "161 841 368\n",
      "161 846 369\n",
      "163 848 371\n",
      "164 861 372\n",
      "167 867 378\n",
      "167 873 378\n",
      "167 876 379\n",
      "168 879 381\n",
      "172 883 385\n",
      "177 888 390\n",
      "178 889 391\n",
      "178 898 393\n",
      "178 907 395\n",
      "179 908 396\n",
      "183 952 419\n",
      "184 963 422\n",
      "186 965 425\n",
      "187 970 426\n",
      "187 992 446\n",
      "192 1007 452\n",
      "192 1012 453\n",
      "194 1017 457\n",
      "194 1025 463\n",
      "198 1075 478\n",
      "199 1081 480\n",
      "200 1088 483\n",
      "200 1089 485\n",
      "201 1092 487\n",
      "204 1096 504\n",
      "204 1099 504\n",
      "208 1104 510\n",
      "210 1108 513\n",
      "210 1126 516\n",
      "212 1151 533\n",
      "213 1155 534\n",
      "215 1160 537\n",
      "218 1168 541\n",
      "219 1170 542\n",
      "224 1176 547\n",
      "225 1179 551\n",
      "226 1183 554\n",
      "226 1189 555\n",
      "233 1196 563\n",
      "233 1197 565\n",
      "235 1201 567\n",
      "242 1224 580\n",
      "245 1229 583\n",
      "245 1237 587\n",
      "249 1243 592\n",
      "249 1244 593\n",
      "251 1247 595\n",
      "252 1251 596\n",
      "260 1270 608\n",
      "260 1272 609\n",
      "260 1280 610\n",
      "260 1281 611\n",
      "262 1284 613\n",
      "263 1287 616\n",
      "263 1289 617\n",
      "264 1291 618\n",
      "267 1307 623\n",
      "267 1312 624\n",
      "267 1339 625\n",
      "277 1349 635\n",
      "277 1353 635\n",
      "280 1399 642\n",
      "280 1403 643\n",
      "280 1409 643\n",
      "282 1414 657\n",
      "283 1418 659\n",
      "283 1420 659\n",
      "285 1424 661\n",
      "288 1440 669\n",
      "290 1442 671\n",
      "291 1449 673\n",
      "293 1455 677\n",
      "293 1462 677\n",
      "297 1489 684\n",
      "299 1491 686\n",
      "299 1494 687\n"
     ]
    },
    {
     "name": "stderr",
     "output_type": "stream",
     "text": [
      "b'Skipping line 4: expected 10 fields, saw 11\\n'\n"
     ]
    },
    {
     "name": "stdout",
     "output_type": "stream",
     "text": [
      "299 1497 688\n",
      "299 1502 689\n",
      "305 1515 700\n",
      "307 1524 704\n",
      "310 1529 707\n",
      "311 1530 708\n",
      "312 1531 709\n",
      "312 1534 709\n",
      "314 1537 712\n",
      "314 1540 712\n",
      "315 1542 713\n",
      "317 1547 738\n",
      "318 1557 742\n",
      "318 1559 742\n",
      "318 1564 747\n",
      "318 1570 749\n",
      "318 1574 750\n",
      "320 1595 757\n",
      "320 1597 758\n",
      "320 1609 760\n",
      "321 1612 764\n",
      "324 1652 770\n",
      "324 1659 771\n",
      "324 1661 772\n",
      "324 1669 773\n",
      "325 1670 774\n",
      "325 1695 774\n",
      "328 1700 779\n",
      "329 1703 784\n",
      "330 1712 786\n"
     ]
    },
    {
     "name": "stderr",
     "output_type": "stream",
     "text": [
      "b'Skipping line 5: expected 10 fields, saw 11\\n'\n"
     ]
    },
    {
     "name": "stdout",
     "output_type": "stream",
     "text": [
      "334 1724 793\n",
      "342 1737 801\n",
      "345 1746 805\n",
      "347 1750 808\n",
      "347 1776 808\n",
      "349 1781 811\n",
      "351 1784 814\n",
      "351 1790 815\n",
      "351 1795 816\n",
      "354 1799 819\n",
      "355 1807 822\n",
      "358 1810 825\n",
      "358 1813 825\n",
      "359 1818 826\n",
      "361 1821 832\n",
      "365 1832 837\n",
      "365 1834 837\n",
      "368 1839 847\n",
      "371 1852 852\n",
      "374 1857 855\n",
      "375 1861 859\n",
      "380 1866 868\n",
      "382 1889 873\n",
      "383 1890 874\n",
      "384 1934 876\n"
     ]
    },
    {
     "name": "stderr",
     "output_type": "stream",
     "text": [
      "b'Skipping line 31: expected 10 fields, saw 11\\nSkipping line 62: expected 10 fields, saw 11\\nSkipping line 68: expected 10 fields, saw 11\\n'\n"
     ]
    },
    {
     "name": "stdout",
     "output_type": "stream",
     "text": [
      "384 2005 880\n",
      "391 2025 891\n",
      "391 2026 892\n",
      "392 2034 906\n",
      "393 2037 908\n",
      "393 2039 910\n",
      "393 2047 919\n",
      "402 2057 928\n",
      "402 2074 930\n",
      "411 2086 945\n",
      "411 2091 947\n",
      "413 2093 949\n",
      "414 2094 951\n",
      "417 2099 954\n",
      "417 2104 956\n",
      "421 2111 960\n",
      "423 2115 962\n",
      "423 2135 968\n",
      "423 2137 969\n",
      "423 2140 971\n",
      "423 2145 971\n",
      "423 2148 972\n",
      "423 2150 974\n"
     ]
    },
    {
     "name": "stderr",
     "output_type": "stream",
     "text": [
      "b'Skipping line 10: expected 10 fields, saw 11\\nSkipping line 20: expected 10 fields, saw 12\\n'\n"
     ]
    },
    {
     "name": "stdout",
     "output_type": "stream",
     "text": [
      "438 2204 1006\n",
      "438 2208 1007\n",
      "440 2212 1009\n",
      "441 2215 1014\n"
     ]
    },
    {
     "name": "stderr",
     "output_type": "stream",
     "text": [
      "b'Skipping line 41: expected 10 fields, saw 11\\nSkipping line 42: expected 10 fields, saw 11\\n'\n"
     ]
    },
    {
     "name": "stdout",
     "output_type": "stream",
     "text": [
      "446 2256 1027\n",
      "446 2262 1029\n",
      "448 2264 1031\n",
      "453 2269 1036\n",
      "454 2270 1037\n",
      "456 2276 1040\n",
      "467 2332 1058\n",
      "468 2337 1060\n",
      "468 2340 1060\n",
      "469 2341 1061\n"
     ]
    },
    {
     "name": "stderr",
     "output_type": "stream",
     "text": [
      "b'Skipping line 12: expected 10 fields, saw 11\\n'\n"
     ]
    },
    {
     "name": "stdout",
     "output_type": "stream",
     "text": [
      "470 2367 1066\n",
      "490 2396 1092\n",
      "491 2404 1098\n",
      "493 2408 1106\n",
      "500 2443 1113\n",
      "500 2446 1115\n",
      "502 2448 1117\n",
      "502 2453 1119\n",
      "505 2458 1125\n",
      "508 2462 1134\n",
      "510 2468 1136\n",
      "512 2490 1143\n",
      "519 2506 1159\n"
     ]
    },
    {
     "name": "stderr",
     "output_type": "stream",
     "text": [
      "b'Skipping line 28: expected 10 fields, saw 11\\n'\n"
     ]
    },
    {
     "name": "stdout",
     "output_type": "stream",
     "text": [
      "533 2582 1187\n",
      "535 2584 1196\n",
      "535 2606 1201\n",
      "535 2612 1216\n",
      "540 2626 1225\n",
      "541 2627 1226\n",
      "544 2642 1232\n"
     ]
    },
    {
     "name": "stderr",
     "output_type": "stream",
     "text": [
      "b'Skipping line 7: expected 10 fields, saw 11\\n'\n",
      "b'Skipping line 5: expected 10 fields, saw 11\\nSkipping line 9: expected 10 fields, saw 11\\n'\n"
     ]
    },
    {
     "name": "stdout",
     "output_type": "stream",
     "text": [
      "545 2649 1235\n",
      "545 2651 1235\n",
      "546 2654 1238\n",
      "546 2657 1238\n",
      "548 2665 1248\n",
      "549 2667 1250\n",
      "551 2673 1253\n",
      "552 2679 1255\n",
      "552 2683 1256\n",
      "552 2698 1260\n"
     ]
    },
    {
     "name": "stderr",
     "output_type": "stream",
     "text": [
      "b'Skipping line 2: expected 10 fields, saw 11\\n'\n"
     ]
    },
    {
     "name": "stdout",
     "output_type": "stream",
     "text": [
      "553 2706 1266\n",
      "558 2712 1272\n",
      "558 2713 1276\n",
      "561 2723 1281\n",
      "565 2727 1286\n",
      "565 2730 1287\n",
      "567 2734 1289\n",
      "567 2737 1291\n",
      "568 2743 1294\n",
      "568 2749 1294\n",
      "568 2750 1294\n",
      "570 2753 1300\n",
      "570 2757 1303\n",
      "573 2763 1307\n",
      "575 2769 1311\n",
      "575 2772 1312\n",
      "577 2774 1314\n",
      "577 2808 1325\n",
      "578 2810 1326\n",
      "581 2821 1331\n",
      "582 2828 1332\n",
      "584 2847 1336\n",
      "584 2852 1338\n",
      "584 2855 1341\n",
      "586 2859 1346\n",
      "588 2863 1365\n",
      "588 2865 1369\n",
      "588 2869 1370\n",
      "590 2875 1373\n",
      "591 2878 1375\n",
      "591 2879 1386\n",
      "592 2882 1388\n",
      "592 2887 1388\n",
      "594 2904 1396\n",
      "599 2911 1411\n",
      "599 3070 1411\n",
      "600 3075 1413\n",
      "606 3081 1423\n"
     ]
    },
    {
     "name": "stderr",
     "output_type": "stream",
     "text": [
      "b'Skipping line 10: expected 10 fields, saw 11\\nSkipping line 11: expected 10 fields, saw 11\\nSkipping line 29: expected 10 fields, saw 11\\n'\n"
     ]
    },
    {
     "name": "stdout",
     "output_type": "stream",
     "text": [
      "613 3118 1435\n",
      "614 3121 1436\n",
      "615 3137 1438\n",
      "616 3139 1440\n",
      "616 3140 1440\n",
      "616 3143 1441\n",
      "616 3145 1442\n",
      "616 3149 1445\n",
      "617 3153 1448\n",
      "617 3156 1448\n",
      "619 3159 1450\n"
     ]
    },
    {
     "name": "stderr",
     "output_type": "stream",
     "text": [
      "b'Skipping line 2: expected 10 fields, saw 11\\n'\n"
     ]
    },
    {
     "name": "stdout",
     "output_type": "stream",
     "text": [
      "621 3162 1457\n",
      "625 3166 1461\n",
      "625 3167 1493\n",
      "629 3197 1506\n",
      "629 3204 1507\n",
      "630 3221 1510\n",
      "630 3223 1511\n",
      "631 3226 1513\n",
      "631 3229 1514\n",
      "633 3235 1518\n",
      "635 3239 1520\n",
      "637 3244 1522\n",
      "639 3248 1525\n",
      "639 3289 1527\n",
      "639 3297 1527\n",
      "643 3307 1533\n",
      "644 3311 1534\n",
      "644 3313 1535\n",
      "644 3320 1551\n",
      "644 3329 1553\n",
      "644 3331 1554\n",
      "645 3332 1555\n",
      "646 3344 1563\n",
      "649 3347 1566\n",
      "652 3459 1573\n",
      "654 3467 1576\n",
      "655 3469 1577\n",
      "655 3472 1578\n",
      "656 3476 1580\n",
      "660 3480 1584\n",
      "665 3486 1590\n",
      "667 3509 1593\n",
      "670 3517 1597\n",
      "672 3521 1600\n",
      "674 3526 1603\n",
      "675 3534 1606\n",
      "683 3550 1616\n",
      "683 3553 1617\n",
      "683 3558 1618\n",
      "684 3561 1626\n",
      "684 3562 1628\n",
      "684 3574 1631\n",
      "685 3576 1635\n",
      "686 3577 1637\n",
      "687 3578 1638\n",
      "692 3597 1647\n",
      "694 3674 1663\n",
      "696 3680 1665\n",
      "696 3687 1668\n",
      "699 3697 1676\n",
      "699 3699 1677\n",
      "699 3704 1677\n",
      "700 3708 1679\n",
      "700 3714 1680\n",
      "701 3718 1682\n",
      "704 3726 1686\n",
      "704 3734 1687\n",
      "706 3738 1689\n",
      "707 3742 1691\n",
      "710 3749 1695\n",
      "712 3760 1699\n",
      "712 3766 1703\n"
     ]
    },
    {
     "name": "stderr",
     "output_type": "stream",
     "text": [
      "b'Skipping line 7: expected 10 fields, saw 11\\n'\n"
     ]
    },
    {
     "name": "stdout",
     "output_type": "stream",
     "text": [
      "713 3768 1705\n",
      "717 3803 1713\n",
      "718 3813 1715\n",
      "718 3820 1718\n",
      "744 4034 1787\n",
      "747 4037 1795\n",
      "748 4044 1798\n"
     ]
    },
    {
     "name": "stderr",
     "output_type": "stream",
     "text": [
      "b'Skipping line 14: expected 10 fields, saw 11\\nSkipping line 15: expected 10 fields, saw 11\\n'\n"
     ]
    },
    {
     "name": "stdout",
     "output_type": "stream",
     "text": [
      "758 4065 1816\n",
      "758 4079 1818\n",
      "758 4084 1819\n",
      "761 4090 1825\n",
      "762 4092 1826\n",
      "763 4113 1828\n"
     ]
    },
    {
     "name": "stderr",
     "output_type": "stream",
     "text": [
      "b'Skipping line 6: expected 10 fields, saw 11\\nSkipping line 8: expected 10 fields, saw 11\\n'\n"
     ]
    },
    {
     "name": "stdout",
     "output_type": "stream",
     "text": [
      "763 4121 1830\n",
      "764 4123 1832\n"
     ]
    },
    {
     "name": "stderr",
     "output_type": "stream",
     "text": [
      "b'Skipping line 2: expected 10 fields, saw 11\\n'\n"
     ]
    },
    {
     "name": "stdout",
     "output_type": "stream",
     "text": [
      "765 4125 1836\n",
      "765 4130 1837\n",
      "765 4132 1837\n",
      "765 4134 1838\n",
      "766 4140 1841\n",
      "771 4169 1859\n",
      "771 4170 1859\n",
      "773 4197 1868\n",
      "773 4198 1868\n",
      "773 4202 1871\n",
      "773 4208 1872\n",
      "776 4212 1876\n",
      "778 4218 1878\n",
      "780 4226 1883\n",
      "780 4228 1883\n",
      "782 4235 1887\n",
      "782 4239 1896\n",
      "782 4241 1896\n",
      "783 4242 1897\n",
      "786 4271 1907\n",
      "787 4275 1909\n",
      "789 4277 1911\n",
      "791 4280 1913\n",
      "793 4288 1916\n",
      "794 4292 1925\n",
      "794 4294 1925\n",
      "795 4296 1926\n",
      "796 4302 1927\n",
      "798 4349 1934\n",
      "802 4388 1939\n",
      "804 4394 1943\n",
      "806 4400 1947\n",
      "806 4406 1948\n",
      "810 4418 1954\n",
      "813 4422 1959\n",
      "818 4430 1964\n",
      "821 4433 1968\n",
      "821 4439 1969\n"
     ]
    },
    {
     "name": "stderr",
     "output_type": "stream",
     "text": [
      "b'Skipping line 2: expected 10 fields, saw 11\\nSkipping line 5: expected 10 fields, saw 11\\n'\n"
     ]
    },
    {
     "name": "stdout",
     "output_type": "stream",
     "text": [
      "825 4444 1977\n",
      "826 4445 1978\n",
      "826 4453 1980\n",
      "826 4459 1981\n"
     ]
    },
    {
     "name": "stderr",
     "output_type": "stream",
     "text": [
      "b'Skipping line 2: expected 10 fields, saw 11\\n'\n"
     ]
    },
    {
     "name": "stdout",
     "output_type": "stream",
     "text": [
      "827 4463 1982\n",
      "833 4506 1988\n",
      "839 4517 1997\n",
      "839 4520 1998\n",
      "841 4523 2000\n"
     ]
    },
    {
     "name": "stderr",
     "output_type": "stream",
     "text": [
      "b'Skipping line 12: expected 10 fields, saw 11\\n'\n"
     ]
    },
    {
     "name": "stdout",
     "output_type": "stream",
     "text": [
      "843 4534 2008\n",
      "848 4566 2018\n",
      "848 4568 2019\n",
      "858 4579 2029\n",
      "859 4580 2030\n",
      "865 4588 2040\n",
      "869 4593 2045\n",
      "869 4597 2049\n",
      "874 4618 2060\n",
      "875 4621 2063\n",
      "875 4623 2078\n",
      "878 4634 2084\n",
      "880 4643 2101\n",
      "881 4654 2104\n",
      "891 4714 2118\n",
      "891 4716 2119\n",
      "894 4723 2125\n",
      "895 4732 2126\n"
     ]
    },
    {
     "name": "stderr",
     "output_type": "stream",
     "text": [
      "b'Skipping line 7: expected 10 fields, saw 11\\n'\n"
     ]
    },
    {
     "name": "stdout",
     "output_type": "stream",
     "text": [
      "896 4744 2130\n",
      "898 4749 2132\n",
      "900 4755 2136\n",
      "902 4757 2138\n",
      "907 4781 2149\n",
      "909 4786 2157\n",
      "909 4793 2159\n",
      "911 4796 2161\n",
      "912 4810 2166\n",
      "914 4824 2172\n",
      "918 4870 2181\n",
      "920 4875 2185\n",
      "920 4893 2195\n",
      "920 4896 2199\n",
      "920 4900 2201\n",
      "921 4902 2207\n",
      "925 4922 2214\n",
      "927 4924 2216\n",
      "928 4932 2219\n",
      "933 4941 2224\n",
      "933 4942 2224\n",
      "933 4947 2225\n",
      "934 4949 2226\n",
      "934 4951 2227\n",
      "936 4954 2229\n",
      "939 4978 2233\n",
      "941 4985 2236\n",
      "944 4997 2243\n",
      "944 4999 2243\n",
      "948 5023 2252\n",
      "950 5028 2256\n",
      "951 5038 2258\n",
      "952 5044 2262\n",
      "952 5053 2265\n",
      "955 5057 2270\n",
      "964 5068 2280\n",
      "964 5070 2286\n",
      "964 5071 2286\n",
      "972 5088 2295\n",
      "973 5091 2296\n",
      "974 5093 2298\n",
      "975 5099 2300\n",
      "980 5119 2308\n",
      "982 5123 2310\n"
     ]
    },
    {
     "name": "stderr",
     "output_type": "stream",
     "text": [
      "b'Skipping line 2: expected 10 fields, saw 11\\n'\n"
     ]
    },
    {
     "name": "stdout",
     "output_type": "stream",
     "text": [
      "986 5127 2315\n",
      "986 5131 2316\n",
      "988 5133 2318\n",
      "990 5138 2321\n"
     ]
    },
    {
     "name": "stderr",
     "output_type": "stream",
     "text": [
      "b'Skipping line 4: expected 10 fields, saw 11\\n'\n"
     ]
    },
    {
     "name": "stdout",
     "output_type": "stream",
     "text": [
      "990 5144 2324\n",
      "991 5152 2326\n",
      "992 5153 2327\n",
      "1000 5178 2340\n",
      "1000 5180 2341\n",
      "1001 5182 2342\n"
     ]
    },
    {
     "name": "stderr",
     "output_type": "stream",
     "text": [
      "b'Skipping line 3: expected 10 fields, saw 11\\n'\n"
     ]
    },
    {
     "name": "stdout",
     "output_type": "stream",
     "text": [
      "1003 5206 2345\n",
      "1006 5215 2350\n",
      "1007 5241 2351\n",
      "1008 5247 2353\n",
      "1009 5250 2354\n",
      "1012 5272 2359\n",
      "1012 5276 2362\n",
      "1012 5281 2364\n",
      "1012 5282 2364\n",
      "1013 5284 2365\n",
      "1019 5297 2373\n",
      "1021 5299 2375\n",
      "1028 5307 2383\n",
      "1029 5316 2393\n",
      "1031 5320 2397\n",
      "1032 5322 2399\n",
      "1038 5329 2407\n",
      "1038 5336 2410\n",
      "1038 5337 2410\n",
      "1038 5343 2412\n",
      "1039 5344 2413\n",
      "1043 5399 2425\n",
      "1043 5411 2432\n",
      "1043 5414 2433\n",
      "1045 5448 2442\n",
      "1048 5458 2452\n",
      "1048 5465 2453\n",
      "1050 5469 2456\n",
      "1054 5473 2460\n",
      "1056 5476 2462\n",
      "1057 5481 2465\n",
      "1057 5486 2466\n"
     ]
    },
    {
     "name": "stderr",
     "output_type": "stream",
     "text": [
      "b'Skipping line 5: expected 10 fields, saw 11\\n'\n"
     ]
    },
    {
     "name": "stdout",
     "output_type": "stream",
     "text": [
      "1070 5518 2492\n"
     ]
    },
    {
     "name": "stderr",
     "output_type": "stream",
     "text": [
      "b'Skipping line 33: expected 10 fields, saw 11\\nSkipping line 36: expected 10 fields, saw 11\\n'\n"
     ]
    },
    {
     "name": "stdout",
     "output_type": "stream",
     "text": [
      "1076 5571 2508\n",
      "1077 5573 2511\n",
      "1077 5575 2511\n",
      "1081 5585 2525\n",
      "1081 5588 2525\n"
     ]
    },
    {
     "name": "stderr",
     "output_type": "stream",
     "text": [
      "b'Skipping line 14: expected 10 fields, saw 11\\n'\n"
     ]
    },
    {
     "name": "stdout",
     "output_type": "stream",
     "text": [
      "1083 5602 2531\n",
      "1086 5625 2537\n",
      "1088 5629 2539\n"
     ]
    },
    {
     "name": "stderr",
     "output_type": "stream",
     "text": [
      "b'Skipping line 9: expected 10 fields, saw 11\\n'\n"
     ]
    },
    {
     "name": "stdout",
     "output_type": "stream",
     "text": [
      "1090 5642 2544\n",
      "1092 5644 2550\n",
      "1093 5645 2551\n",
      "1101 5687 2564\n",
      "1101 5690 2566\n",
      "1109 5704 2578\n",
      "1110 5716 2582\n",
      "1110 5718 2588\n",
      "1111 5721 2592\n",
      "1111 5724 2592\n",
      "1112 5728 2594\n",
      "1115 5737 2598\n",
      "1116 5738 2599\n",
      "1116 5742 2600\n",
      "1117 5745 2602\n",
      "1119 5747 2604\n",
      "1120 5749 2606\n"
     ]
    },
    {
     "name": "stderr",
     "output_type": "stream",
     "text": [
      "b'Skipping line 50: expected 10 fields, saw 11\\n'\n"
     ]
    },
    {
     "name": "stdout",
     "output_type": "stream",
     "text": [
      "1124 5807 2631\n",
      "1125 5812 2632\n",
      "1125 5813 2632\n",
      "1132 5823 2640\n",
      "1138 5830 2648\n",
      "1139 5832 2649\n",
      "1140 5845 2651\n",
      "1143 5850 2655\n"
     ]
    },
    {
     "name": "stderr",
     "output_type": "stream",
     "text": [
      "b'Skipping line 3: expected 10 fields, saw 11\\n'\n"
     ]
    },
    {
     "name": "stdout",
     "output_type": "stream",
     "text": [
      "1145 5855 2659\n",
      "1150 5862 2676\n",
      "1151 5868 2679\n",
      "1153 5873 2682\n",
      "1153 5877 2683\n",
      "1166 5927 2709\n",
      "1166 5936 2712\n",
      "1167 5941 2716\n",
      "1167 5943 2718\n"
     ]
    },
    {
     "name": "stderr",
     "output_type": "stream",
     "text": [
      "b'Skipping line 63: expected 10 fields, saw 11\\n'\n"
     ]
    },
    {
     "name": "stdout",
     "output_type": "stream",
     "text": [
      "1173 6014 2739\n",
      "1173 6023 2742\n",
      "1177 6047 2756\n",
      "1178 6053 2758\n",
      "1179 6059 2760\n",
      "1182 6067 2763\n",
      "1184 6076 2765\n"
     ]
    },
    {
     "name": "stderr",
     "output_type": "stream",
     "text": [
      "b'Skipping line 53: expected 10 fields, saw 11\\nSkipping line 61: expected 10 fields, saw 11\\nSkipping line 105: expected 10 fields, saw 11\\nSkipping line 106: expected 10 fields, saw 11\\nSkipping line 108: expected 10 fields, saw 11\\n'\n"
     ]
    },
    {
     "name": "stdout",
     "output_type": "stream",
     "text": [
      "1197 6190 2804\n",
      "1198 6192 2805\n",
      "1198 6200 2807\n",
      "1202 6208 2813\n",
      "1202 6221 2815\n",
      "1202 6225 2817\n",
      "1202 6229 2818\n"
     ]
    },
    {
     "name": "stderr",
     "output_type": "stream",
     "text": [
      "b'Skipping line 8: expected 10 fields, saw 11\\n'\n"
     ]
    },
    {
     "name": "stdout",
     "output_type": "stream",
     "text": [
      "1206 6243 2830\n",
      "1206 6244 2830\n",
      "1208 6253 2834\n",
      "1208 6259 2836\n",
      "1209 6260 2837\n",
      "1210 6262 2839\n"
     ]
    },
    {
     "name": "stderr",
     "output_type": "stream",
     "text": [
      "b'Skipping line 9: expected 10 fields, saw 11\\nSkipping line 20: expected 10 fields, saw 11\\nSkipping line 22: expected 10 fields, saw 11\\n'\n"
     ]
    },
    {
     "name": "stdout",
     "output_type": "stream",
     "text": [
      "1219 6293 2869\n",
      "1220 6315 2872\n",
      "1222 6319 2874\n",
      "1226 6340 2887\n",
      "1227 6343 2889\n",
      "1227 6344 2891\n"
     ]
    },
    {
     "name": "stderr",
     "output_type": "stream",
     "text": [
      "b'Skipping line 2: expected 10 fields, saw 11\\n'\n"
     ]
    },
    {
     "name": "stdout",
     "output_type": "stream",
     "text": [
      "1227 6350 2894\n",
      "1231 6357 2899\n",
      "1233 6361 2902\n",
      "1235 6393 2906\n",
      "1236 6398 2909\n",
      "1238 6402 2914\n"
     ]
    },
    {
     "name": "stderr",
     "output_type": "stream",
     "text": [
      "b'Skipping line 30: expected 10 fields, saw 12\\nSkipping line 32: expected 10 fields, saw 11\\nSkipping line 92: expected 10 fields, saw 11\\nSkipping line 103: expected 10 fields, saw 11\\n'\n"
     ]
    },
    {
     "name": "stdout",
     "output_type": "stream",
     "text": [
      "1274 6537 2975\n",
      "1276 6548 2980\n",
      "1276 6555 2981\n",
      "1279 6561 2987\n"
     ]
    },
    {
     "name": "stderr",
     "output_type": "stream",
     "text": [
      "b'Skipping line 4: expected 10 fields, saw 11\\n'\n"
     ]
    },
    {
     "name": "stdout",
     "output_type": "stream",
     "text": [
      "1281 6565 2991\n",
      "1283 6570 2995\n",
      "1284 6577 2997\n"
     ]
    },
    {
     "name": "stderr",
     "output_type": "stream",
     "text": [
      "b'Skipping line 24: expected 10 fields, saw 11\\n'\n"
     ]
    },
    {
     "name": "stdout",
     "output_type": "stream",
     "text": [
      "1293 6639 3017\n",
      "1300 6666 3027\n"
     ]
    },
    {
     "name": "stderr",
     "output_type": "stream",
     "text": [
      "b'Skipping line 161: expected 10 fields, saw 11\\n'\n"
     ]
    },
    {
     "name": "stdout",
     "output_type": "stream",
     "text": [
      "1338 6828 3091\n",
      "1338 6831 3092\n",
      "1343 6843 3104\n",
      "1343 6849 3106\n",
      "1350 6880 3114\n",
      "1350 6883 3115\n",
      "1352 6885 3117\n",
      "1354 6890 3120\n",
      "1354 6892 3121\n",
      "1355 6895 3123\n",
      "1355 6897 3124\n",
      "1357 6900 3129\n",
      "1359 6917 3136\n",
      "1360 6921 3138\n",
      "1363 6928 3141\n",
      "1364 6929 3142\n",
      "1364 6931 3143\n",
      "1365 6933 3144\n",
      "1366 6975 3149\n",
      "1366 6978 3150\n",
      "1367 6980 3151\n",
      "1368 6983 3152\n",
      "1368 6988 3153\n",
      "1368 6991 3156\n",
      "1369 6995 3158\n"
     ]
    },
    {
     "name": "stderr",
     "output_type": "stream",
     "text": [
      "b'Skipping line 16: expected 10 fields, saw 11\\n'\n"
     ]
    },
    {
     "name": "stdout",
     "output_type": "stream",
     "text": [
      "1383 7012 3186\n",
      "1383 7013 3187\n",
      "1383 7021 3193\n"
     ]
    },
    {
     "name": "stderr",
     "output_type": "stream",
     "text": [
      "b'Skipping line 12: expected 10 fields, saw 11\\n'\n"
     ]
    },
    {
     "name": "stdout",
     "output_type": "stream",
     "text": [
      "1388 7038 3208\n",
      "1390 7050 3213\n",
      "1393 7059 3222\n",
      "1395 7068 3225\n",
      "1396 7074 3226\n",
      "1398 7080 3230\n",
      "1398 7083 3231\n"
     ]
    },
    {
     "name": "stderr",
     "output_type": "stream",
     "text": [
      "b'Skipping line 3: expected 10 fields, saw 11\\n'\n"
     ]
    },
    {
     "name": "stdout",
     "output_type": "stream",
     "text": [
      "1403 7092 3237\n",
      "1403 7095 3240\n",
      "1404 7106 3244\n",
      "1406 7115 3248\n",
      "1409 7133 3272\n",
      "1410 7142 3274\n",
      "1411 7204 3277\n",
      "1411 7206 3278\n",
      "1422 7362 3305\n",
      "1423 7367 3307\n",
      "1423 7368 3308\n",
      "1425 7370 3315\n",
      "1426 7373 3319\n",
      "1426 7384 3319\n",
      "1428 7392 3328\n",
      "1432 7400 3334\n",
      "1433 7403 3337\n",
      "1436 7406 3340\n",
      "1440 7423 3348\n",
      "1440 7424 3348\n",
      "1440 7431 3348\n",
      "1443 7437 3352\n",
      "1443 7445 3354\n",
      "1444 7446 3355\n",
      "1445 7455 3360\n",
      "1450 7494 3370\n",
      "1451 7504 3373\n",
      "1451 7513 3374\n",
      "1452 7516 3376\n",
      "1453 7531 3377\n",
      "1453 7541 3380\n",
      "1456 7544 3384\n",
      "1456 7555 3386\n",
      "1456 7557 3386\n",
      "1458 7559 3388\n",
      "1458 7564 3390\n",
      "1459 7566 3391\n",
      "1461 7569 3395\n",
      "1463 7575 3397\n",
      "1464 7581 3401\n",
      "1464 7585 3401\n",
      "1467 7595 3405\n",
      "1469 7598 3407\n",
      "1470 7601 3408\n",
      "1471 7604 3412\n",
      "1474 7611 3416\n",
      "1475 7612 3417\n",
      "1476 7626 3426\n",
      "1476 7632 3428\n",
      "1477 7636 3430\n",
      "1479 7642 3436\n",
      "1479 7643 3437\n",
      "1479 7647 3439\n",
      "1479 7658 3441\n",
      "1491 7718 3466\n",
      "1502 7732 3483\n",
      "1504 7734 3487\n",
      "1504 7744 3487\n",
      "1504 7750 3488\n",
      "1504 7751 3489\n",
      "1507 7758 3498\n"
     ]
    },
    {
     "name": "stderr",
     "output_type": "stream",
     "text": [
      "b'Skipping line 22: expected 10 fields, saw 11\\nSkipping line 25: expected 10 fields, saw 11\\n'\n"
     ]
    },
    {
     "name": "stdout",
     "output_type": "stream",
     "text": [
      "1515 7783 3522\n",
      "1517 7787 3524\n",
      "1519 7792 3527\n",
      "1521 7800 3530\n",
      "1521 7802 3534\n",
      "1523 7806 3537\n",
      "1538 7836 3557\n",
      "1542 7841 3563\n",
      "1544 7848 3566\n",
      "1544 7851 3568\n",
      "1546 7876 3576\n",
      "1549 7880 3580\n",
      "1549 7883 3587\n",
      "1550 7885 3588\n",
      "1553 7889 3591\n",
      "1553 7896 3593\n",
      "1555 7899 3595\n",
      "1555 7904 3596\n"
     ]
    },
    {
     "name": "stderr",
     "output_type": "stream",
     "text": [
      "b'Skipping line 27: expected 10 fields, saw 11\\nSkipping line 28: expected 10 fields, saw 11\\n'\n"
     ]
    },
    {
     "name": "stdout",
     "output_type": "stream",
     "text": [
      "1563 7940 3613\n",
      "1563 7944 3615\n",
      "1564 7956 3617\n",
      "1565 7975 3623\n",
      "1569 7988 3630\n",
      "1570 7990 3636\n",
      "1571 7993 3637\n",
      "1573 8022 3643\n",
      "1573 8026 3646\n",
      "1575 8038 3649\n",
      "1576 8040 3653\n",
      "1580 8045 3658\n",
      "1584 8049 3662\n",
      "1585 8084 3670\n",
      "1585 8092 3670\n",
      "1585 8099 3672\n",
      "1588 8106 3678\n",
      "1591 8110 3681\n",
      "1600 8131 3694\n",
      "1602 8134 3697\n",
      "1603 8141 3700\n",
      "1611 8188 3715\n",
      "1613 8194 3718\n",
      "1613 8195 3718\n",
      "1614 8200 3724\n",
      "1617 8212 3729\n",
      "1617 8214 3733\n",
      "1618 8230 3740\n",
      "1619 8239 3743\n",
      "1628 8251 3756\n",
      "1630 8254 3759\n",
      "1631 8255 3760\n",
      "1633 8281 3767\n",
      "1634 8285 3769\n",
      "1637 8288 3774\n",
      "1642 8294 3779\n",
      "1645 8300 3783\n",
      "1649 8306 3790\n",
      "1650 8330 3794\n",
      "1657 8348 3804\n",
      "1658 8351 3806\n",
      "1659 8356 3808\n",
      "ep22\n",
      "1 3 2\n",
      "1 5 3\n",
      "2 7 4\n",
      "3 17 8\n"
     ]
    },
    {
     "name": "stderr",
     "output_type": "stream",
     "text": [
      "b'Skipping line 17: expected 10 fields, saw 11\\nSkipping line 37: expected 10 fields, saw 11\\n'\n"
     ]
    },
    {
     "name": "stdout",
     "output_type": "stream",
     "text": [
      "4 105 38\n",
      "26 130 64\n",
      "28 135 67\n",
      "30 148 71\n",
      "30 151 72\n",
      "31 210 74\n",
      "32 212 76\n",
      "39 219 87\n",
      "40 221 89\n",
      "44 235 99\n",
      "44 236 99\n",
      "45 243 103\n",
      "49 248 107\n",
      "49 253 110\n",
      "54 267 118\n",
      "56 269 120\n",
      "57 272 122\n",
      "58 281 125\n",
      "59 285 127\n",
      "61 289 129\n",
      "62 290 131\n"
     ]
    },
    {
     "name": "stderr",
     "output_type": "stream",
     "text": [
      "b'Skipping line 3: expected 10 fields, saw 11\\nSkipping line 5: expected 10 fields, saw 11\\n'\n"
     ]
    },
    {
     "name": "stdout",
     "output_type": "stream",
     "text": [
      "62 293 133\n",
      "64 295 135\n",
      "66 351 143\n",
      "67 353 146\n",
      "67 360 149\n"
     ]
    },
    {
     "name": "stderr",
     "output_type": "stream",
     "text": [
      "b'Skipping line 4: expected 10 fields, saw 11\\n'\n"
     ]
    },
    {
     "name": "stdout",
     "output_type": "stream",
     "text": [
      "68 381 150\n",
      "80 410 167\n",
      "80 415 169\n",
      "80 420 172\n",
      "84 469 196\n",
      "87 480 201\n",
      "87 489 203\n",
      "87 493 206\n",
      "88 502 209\n",
      "88 504 209\n",
      "90 509 211\n",
      "92 518 213\n",
      "92 519 213\n",
      "93 520 214\n",
      "93 527 214\n",
      "95 533 217\n",
      "95 534 217\n",
      "96 535 219\n"
     ]
    },
    {
     "name": "stderr",
     "output_type": "stream",
     "text": [
      "b'Skipping line 4: expected 10 fields, saw 11\\n'\n"
     ]
    },
    {
     "name": "stdout",
     "output_type": "stream",
     "text": [
      "101 543 229\n",
      "101 544 229\n",
      "101 571 233\n",
      "101 574 233\n",
      "106 582 241\n",
      "106 583 244\n",
      "108 589 246\n",
      "109 595 248\n",
      "116 627 268\n",
      "118 631 273\n",
      "118 643 275\n",
      "121 647 278\n",
      "123 651 282\n",
      "124 655 284\n",
      "125 656 285\n",
      "126 694 286\n",
      "127 696 287\n",
      "129 698 290\n"
     ]
    },
    {
     "name": "stderr",
     "output_type": "stream",
     "text": [
      "b'Skipping line 8: expected 10 fields, saw 11\\nSkipping line 9: expected 10 fields, saw 11\\nSkipping line 15: expected 10 fields, saw 11\\n'\n"
     ]
    },
    {
     "name": "stdout",
     "output_type": "stream",
     "text": [
      "136 710 307\n",
      "136 711 308\n",
      "136 719 309\n",
      "136 720 309\n",
      "153 796 356\n",
      "153 799 358\n"
     ]
    },
    {
     "name": "stderr",
     "output_type": "stream",
     "text": [
      "b'Skipping line 2: expected 10 fields, saw 11\\n'\n"
     ]
    },
    {
     "name": "stdout",
     "output_type": "stream",
     "text": [
      "156 821 362\n",
      "157 824 364\n",
      "161 828 368\n"
     ]
    },
    {
     "name": "stderr",
     "output_type": "stream",
     "text": [
      "b'Skipping line 8: expected 10 fields, saw 11\\n'\n"
     ]
    },
    {
     "name": "stdout",
     "output_type": "stream",
     "text": [
      "162 841 371\n",
      "162 846 372\n",
      "164 848 374\n",
      "165 861 375\n",
      "168 867 381\n",
      "168 873 381\n",
      "168 876 382\n",
      "169 879 384\n",
      "173 883 388\n",
      "178 888 393\n",
      "179 889 394\n",
      "179 898 396\n",
      "179 907 397\n",
      "180 908 398\n",
      "185 952 421\n",
      "186 963 424\n",
      "188 965 426\n",
      "189 970 427\n",
      "189 992 448\n",
      "194 1007 454\n",
      "194 1012 455\n",
      "196 1017 459\n",
      "196 1025 466\n",
      "200 1075 481\n",
      "201 1081 483\n",
      "202 1088 486\n",
      "202 1089 488\n",
      "203 1092 490\n",
      "206 1096 509\n",
      "206 1099 509\n",
      "210 1104 515\n",
      "212 1108 518\n",
      "212 1126 521\n",
      "215 1151 539\n",
      "216 1155 540\n",
      "218 1160 543\n",
      "221 1168 547\n",
      "222 1170 548\n",
      "227 1176 553\n",
      "228 1179 558\n",
      "229 1183 561\n",
      "229 1189 562\n",
      "235 1196 570\n",
      "235 1197 573\n",
      "237 1201 575\n",
      "244 1224 587\n",
      "247 1229 590\n",
      "247 1237 594\n",
      "251 1243 599\n",
      "251 1244 600\n",
      "253 1247 602\n",
      "254 1251 603\n",
      "262 1270 616\n",
      "262 1272 617\n",
      "262 1280 618\n",
      "262 1281 619\n",
      "264 1284 621\n",
      "265 1287 624\n",
      "265 1289 625\n",
      "266 1291 626\n",
      "269 1307 631\n",
      "269 1312 632\n",
      "269 1339 633\n",
      "279 1349 643\n",
      "279 1353 643\n",
      "282 1399 650\n",
      "282 1403 651\n",
      "282 1409 651\n",
      "284 1414 663\n",
      "285 1418 665\n",
      "285 1420 665\n",
      "287 1424 667\n",
      "290 1440 675\n",
      "292 1442 677\n",
      "293 1449 679\n",
      "295 1455 683\n",
      "295 1462 683\n",
      "299 1489 690\n",
      "301 1491 692\n",
      "301 1494 693\n"
     ]
    },
    {
     "name": "stderr",
     "output_type": "stream",
     "text": [
      "b'Skipping line 4: expected 10 fields, saw 11\\n'\n"
     ]
    },
    {
     "name": "stdout",
     "output_type": "stream",
     "text": [
      "301 1497 694\n",
      "301 1502 696\n",
      "307 1515 707\n",
      "309 1524 711\n",
      "312 1529 714\n",
      "313 1530 715\n",
      "314 1531 716\n",
      "314 1534 716\n",
      "316 1537 719\n",
      "316 1540 719\n",
      "317 1542 720\n",
      "319 1547 746\n",
      "320 1557 750\n",
      "320 1559 750\n",
      "320 1564 754\n",
      "320 1570 756\n",
      "320 1574 757\n",
      "322 1595 764\n",
      "322 1597 765\n",
      "322 1609 768\n",
      "323 1612 772\n",
      "326 1652 778\n",
      "326 1659 779\n",
      "326 1661 780\n",
      "326 1669 781\n",
      "327 1670 782\n",
      "327 1695 782\n",
      "330 1700 787\n",
      "331 1703 792\n",
      "332 1712 794\n"
     ]
    },
    {
     "name": "stderr",
     "output_type": "stream",
     "text": [
      "b'Skipping line 5: expected 10 fields, saw 11\\n'\n"
     ]
    },
    {
     "name": "stdout",
     "output_type": "stream",
     "text": [
      "336 1724 802\n",
      "344 1737 810\n",
      "347 1746 814\n",
      "349 1750 817\n",
      "349 1776 817\n",
      "351 1781 820\n",
      "353 1784 823\n",
      "353 1790 824\n",
      "353 1795 825\n",
      "356 1799 828\n",
      "357 1807 831\n",
      "360 1810 834\n",
      "360 1813 834\n",
      "361 1818 835\n",
      "363 1821 841\n",
      "367 1832 846\n",
      "367 1834 846\n",
      "370 1839 856\n",
      "373 1852 861\n",
      "376 1857 864\n",
      "377 1861 868\n",
      "382 1866 877\n",
      "384 1889 882\n",
      "385 1890 883\n",
      "386 1934 885\n"
     ]
    },
    {
     "name": "stderr",
     "output_type": "stream",
     "text": [
      "b'Skipping line 31: expected 10 fields, saw 11\\nSkipping line 62: expected 10 fields, saw 11\\nSkipping line 68: expected 10 fields, saw 11\\n'\n"
     ]
    },
    {
     "name": "stdout",
     "output_type": "stream",
     "text": [
      "386 2005 890\n",
      "393 2025 901\n",
      "393 2026 902\n",
      "395 2034 915\n",
      "396 2037 917\n",
      "396 2039 919\n",
      "396 2047 928\n",
      "405 2057 937\n",
      "405 2074 939\n",
      "414 2086 954\n",
      "414 2091 956\n",
      "416 2093 958\n",
      "417 2094 960\n",
      "420 2099 963\n",
      "420 2104 965\n",
      "424 2111 969\n",
      "426 2115 971\n",
      "426 2135 977\n",
      "426 2137 978\n",
      "426 2140 981\n",
      "426 2145 981\n",
      "426 2148 982\n",
      "426 2150 984\n"
     ]
    },
    {
     "name": "stderr",
     "output_type": "stream",
     "text": [
      "b'Skipping line 10: expected 10 fields, saw 11\\nSkipping line 20: expected 10 fields, saw 12\\n'\n"
     ]
    },
    {
     "name": "stdout",
     "output_type": "stream",
     "text": [
      "440 2204 1016\n",
      "440 2208 1017\n",
      "442 2212 1019\n",
      "443 2215 1024\n"
     ]
    },
    {
     "name": "stderr",
     "output_type": "stream",
     "text": [
      "b'Skipping line 41: expected 10 fields, saw 11\\nSkipping line 42: expected 10 fields, saw 11\\n'\n"
     ]
    },
    {
     "name": "stdout",
     "output_type": "stream",
     "text": [
      "448 2256 1037\n",
      "448 2262 1039\n",
      "450 2264 1041\n",
      "455 2269 1046\n",
      "456 2270 1047\n",
      "458 2276 1050\n",
      "469 2332 1068\n",
      "470 2337 1070\n",
      "470 2340 1070\n",
      "471 2341 1071\n"
     ]
    },
    {
     "name": "stderr",
     "output_type": "stream",
     "text": [
      "b'Skipping line 12: expected 10 fields, saw 11\\n'\n"
     ]
    },
    {
     "name": "stdout",
     "output_type": "stream",
     "text": [
      "471 2367 1077\n",
      "492 2396 1102\n",
      "493 2404 1109\n",
      "495 2408 1119\n",
      "501 2443 1126\n",
      "501 2446 1129\n",
      "503 2448 1131\n",
      "503 2453 1133\n",
      "506 2458 1139\n",
      "509 2462 1147\n",
      "511 2468 1149\n",
      "513 2490 1156\n",
      "520 2506 1172\n"
     ]
    },
    {
     "name": "stderr",
     "output_type": "stream",
     "text": [
      "b'Skipping line 28: expected 10 fields, saw 11\\n'\n"
     ]
    },
    {
     "name": "stdout",
     "output_type": "stream",
     "text": [
      "534 2582 1200\n",
      "536 2584 1209\n",
      "536 2606 1214\n",
      "536 2612 1231\n",
      "541 2626 1241\n",
      "542 2627 1242\n",
      "545 2642 1248\n"
     ]
    },
    {
     "name": "stderr",
     "output_type": "stream",
     "text": [
      "b'Skipping line 7: expected 10 fields, saw 11\\n'\n",
      "b'Skipping line 5: expected 10 fields, saw 11\\nSkipping line 9: expected 10 fields, saw 11\\n'\n"
     ]
    },
    {
     "name": "stdout",
     "output_type": "stream",
     "text": [
      "546 2649 1251\n",
      "546 2651 1251\n",
      "547 2654 1254\n",
      "547 2657 1254\n",
      "549 2665 1264\n",
      "550 2667 1266\n",
      "552 2673 1269\n",
      "553 2679 1271\n",
      "553 2683 1272\n",
      "553 2698 1276\n"
     ]
    },
    {
     "name": "stderr",
     "output_type": "stream",
     "text": [
      "b'Skipping line 2: expected 10 fields, saw 11\\n'\n"
     ]
    },
    {
     "name": "stdout",
     "output_type": "stream",
     "text": [
      "554 2706 1282\n",
      "559 2712 1288\n",
      "559 2713 1291\n",
      "562 2723 1296\n",
      "566 2727 1300\n",
      "566 2730 1301\n",
      "568 2734 1303\n",
      "568 2737 1305\n",
      "569 2743 1308\n",
      "569 2749 1308\n",
      "569 2750 1308\n",
      "571 2753 1314\n",
      "571 2757 1317\n",
      "574 2763 1321\n",
      "576 2769 1325\n",
      "576 2772 1326\n",
      "578 2774 1328\n",
      "578 2808 1340\n",
      "579 2810 1341\n",
      "582 2821 1346\n",
      "583 2828 1347\n",
      "585 2847 1351\n",
      "585 2852 1353\n",
      "585 2855 1355\n",
      "586 2859 1360\n",
      "588 2863 1379\n",
      "588 2865 1383\n",
      "588 2869 1384\n",
      "590 2875 1387\n",
      "591 2878 1389\n",
      "591 2879 1401\n",
      "592 2882 1403\n",
      "592 2887 1403\n",
      "594 2904 1411\n",
      "599 2911 1426\n",
      "599 3070 1426\n",
      "600 3075 1428\n",
      "606 3081 1438\n"
     ]
    },
    {
     "name": "stderr",
     "output_type": "stream",
     "text": [
      "b'Skipping line 10: expected 10 fields, saw 11\\nSkipping line 11: expected 10 fields, saw 11\\nSkipping line 29: expected 10 fields, saw 11\\n'\n"
     ]
    },
    {
     "name": "stdout",
     "output_type": "stream",
     "text": [
      "613 3118 1451\n",
      "614 3121 1452\n",
      "614 3137 1454\n",
      "615 3139 1456\n",
      "615 3140 1456\n",
      "615 3143 1457\n",
      "615 3145 1458\n",
      "615 3149 1460\n",
      "616 3153 1463\n",
      "616 3156 1463\n",
      "618 3159 1465\n"
     ]
    },
    {
     "name": "stderr",
     "output_type": "stream",
     "text": [
      "b'Skipping line 2: expected 10 fields, saw 11\\n'\n"
     ]
    },
    {
     "name": "stdout",
     "output_type": "stream",
     "text": [
      "620 3162 1473\n",
      "624 3166 1477\n",
      "624 3167 1510\n",
      "628 3197 1523\n",
      "628 3204 1524\n",
      "629 3221 1528\n",
      "629 3223 1529\n",
      "630 3226 1531\n",
      "630 3229 1532\n",
      "632 3235 1536\n",
      "634 3239 1538\n",
      "636 3244 1540\n",
      "638 3248 1544\n",
      "638 3289 1547\n",
      "638 3297 1547\n",
      "642 3307 1553\n",
      "643 3311 1554\n",
      "643 3313 1555\n",
      "643 3320 1570\n",
      "643 3329 1572\n",
      "643 3331 1573\n",
      "644 3332 1574\n",
      "645 3344 1582\n",
      "648 3347 1586\n",
      "651 3459 1593\n",
      "653 3467 1596\n",
      "654 3469 1597\n",
      "654 3472 1598\n",
      "655 3476 1600\n",
      "659 3480 1604\n",
      "664 3486 1610\n",
      "666 3509 1613\n",
      "669 3517 1617\n",
      "671 3521 1620\n",
      "673 3526 1623\n",
      "674 3534 1626\n",
      "682 3550 1636\n",
      "682 3553 1637\n",
      "682 3558 1638\n",
      "683 3561 1646\n",
      "683 3562 1649\n",
      "683 3574 1652\n",
      "684 3576 1656\n",
      "685 3577 1658\n",
      "686 3578 1659\n",
      "691 3597 1668\n",
      "692 3674 1686\n",
      "694 3680 1688\n",
      "694 3687 1691\n",
      "697 3697 1699\n",
      "697 3699 1700\n",
      "697 3704 1700\n",
      "698 3708 1702\n",
      "698 3714 1703\n",
      "699 3718 1705\n",
      "701 3726 1709\n",
      "701 3734 1710\n",
      "703 3738 1712\n",
      "704 3742 1714\n",
      "707 3749 1718\n",
      "709 3760 1722\n",
      "709 3766 1726\n"
     ]
    },
    {
     "name": "stderr",
     "output_type": "stream",
     "text": [
      "b'Skipping line 7: expected 10 fields, saw 11\\n'\n"
     ]
    },
    {
     "name": "stdout",
     "output_type": "stream",
     "text": [
      "710 3768 1728\n",
      "714 3803 1737\n",
      "715 3813 1739\n",
      "715 3820 1742\n",
      "741 4034 1810\n",
      "744 4037 1819\n",
      "744 4044 1822\n"
     ]
    },
    {
     "name": "stderr",
     "output_type": "stream",
     "text": [
      "b'Skipping line 14: expected 10 fields, saw 11\\nSkipping line 15: expected 10 fields, saw 11\\n'\n"
     ]
    },
    {
     "name": "stdout",
     "output_type": "stream",
     "text": [
      "753 4065 1839\n",
      "753 4079 1841\n",
      "753 4084 1842\n",
      "756 4090 1848\n",
      "757 4092 1849\n",
      "758 4113 1851\n"
     ]
    },
    {
     "name": "stderr",
     "output_type": "stream",
     "text": [
      "b'Skipping line 6: expected 10 fields, saw 11\\nSkipping line 8: expected 10 fields, saw 11\\n'\n"
     ]
    },
    {
     "name": "stdout",
     "output_type": "stream",
     "text": [
      "758 4121 1853\n",
      "759 4123 1855\n"
     ]
    },
    {
     "name": "stderr",
     "output_type": "stream",
     "text": [
      "b'Skipping line 2: expected 10 fields, saw 11\\n'\n"
     ]
    },
    {
     "name": "stdout",
     "output_type": "stream",
     "text": [
      "760 4125 1859\n",
      "760 4130 1860\n",
      "760 4132 1860\n",
      "760 4134 1861\n",
      "761 4140 1864\n",
      "766 4169 1884\n",
      "766 4170 1884\n",
      "767 4197 1892\n",
      "767 4198 1893\n",
      "767 4202 1898\n",
      "767 4208 1899\n",
      "770 4212 1903\n",
      "772 4218 1905\n",
      "774 4226 1910\n",
      "774 4228 1910\n",
      "776 4235 1913\n",
      "776 4239 1922\n",
      "776 4241 1922\n",
      "777 4242 1923\n",
      "780 4271 1933\n",
      "781 4275 1935\n",
      "783 4277 1937\n",
      "785 4280 1939\n",
      "787 4288 1942\n",
      "788 4292 1950\n",
      "788 4294 1950\n",
      "789 4296 1951\n",
      "790 4302 1952\n",
      "792 4349 1959\n",
      "796 4388 1964\n",
      "798 4394 1968\n",
      "800 4400 1972\n",
      "800 4406 1973\n",
      "804 4418 1979\n",
      "807 4422 1984\n",
      "812 4430 1989\n",
      "815 4433 1993\n",
      "815 4439 1994\n"
     ]
    },
    {
     "name": "stderr",
     "output_type": "stream",
     "text": [
      "b'Skipping line 2: expected 10 fields, saw 11\\nSkipping line 5: expected 10 fields, saw 11\\n'\n"
     ]
    },
    {
     "name": "stdout",
     "output_type": "stream",
     "text": [
      "819 4444 2002\n",
      "820 4445 2003\n",
      "820 4453 2005\n",
      "820 4459 2006\n"
     ]
    },
    {
     "name": "stderr",
     "output_type": "stream",
     "text": [
      "b'Skipping line 2: expected 10 fields, saw 11\\n'\n"
     ]
    },
    {
     "name": "stdout",
     "output_type": "stream",
     "text": [
      "821 4463 2007\n",
      "827 4506 2013\n",
      "833 4517 2022\n",
      "833 4520 2023\n",
      "835 4523 2025\n"
     ]
    },
    {
     "name": "stderr",
     "output_type": "stream",
     "text": [
      "b'Skipping line 12: expected 10 fields, saw 11\\n'\n"
     ]
    },
    {
     "name": "stdout",
     "output_type": "stream",
     "text": [
      "837 4534 2033\n",
      "843 4566 2044\n",
      "843 4568 2045\n",
      "853 4579 2055\n",
      "854 4580 2056\n",
      "860 4588 2067\n",
      "864 4593 2072\n",
      "864 4597 2076\n",
      "869 4618 2087\n",
      "871 4621 2090\n",
      "871 4623 2107\n",
      "874 4634 2113\n",
      "876 4643 2130\n",
      "877 4654 2133\n",
      "887 4714 2147\n",
      "887 4716 2148\n",
      "890 4723 2154\n",
      "891 4732 2155\n"
     ]
    },
    {
     "name": "stderr",
     "output_type": "stream",
     "text": [
      "b'Skipping line 7: expected 10 fields, saw 11\\n'\n"
     ]
    },
    {
     "name": "stdout",
     "output_type": "stream",
     "text": [
      "892 4744 2159\n",
      "894 4749 2161\n",
      "896 4755 2165\n",
      "898 4757 2167\n",
      "903 4781 2178\n",
      "905 4786 2186\n",
      "905 4793 2188\n",
      "907 4796 2190\n",
      "908 4810 2194\n",
      "910 4824 2200\n",
      "914 4870 2209\n",
      "916 4875 2213\n",
      "916 4893 2223\n",
      "916 4896 2227\n",
      "916 4900 2229\n",
      "917 4902 2235\n",
      "921 4922 2242\n",
      "923 4924 2244\n",
      "924 4932 2247\n",
      "929 4941 2252\n",
      "929 4942 2252\n",
      "929 4947 2253\n",
      "930 4949 2254\n",
      "930 4951 2255\n",
      "932 4954 2257\n",
      "935 4978 2261\n",
      "937 4985 2264\n",
      "940 4997 2271\n",
      "940 4999 2271\n",
      "944 5023 2280\n",
      "946 5028 2284\n",
      "947 5038 2287\n",
      "948 5044 2290\n",
      "948 5053 2293\n",
      "951 5057 2298\n",
      "960 5068 2308\n",
      "960 5070 2314\n",
      "960 5071 2314\n",
      "968 5088 2323\n",
      "969 5091 2324\n",
      "970 5093 2326\n",
      "971 5099 2328\n",
      "976 5119 2336\n",
      "978 5123 2338\n"
     ]
    },
    {
     "name": "stderr",
     "output_type": "stream",
     "text": [
      "b'Skipping line 2: expected 10 fields, saw 11\\n'\n"
     ]
    },
    {
     "name": "stdout",
     "output_type": "stream",
     "text": [
      "982 5127 2343\n",
      "982 5131 2345\n",
      "984 5133 2347\n",
      "986 5138 2350\n"
     ]
    },
    {
     "name": "stderr",
     "output_type": "stream",
     "text": [
      "b'Skipping line 4: expected 10 fields, saw 11\\n'\n"
     ]
    },
    {
     "name": "stdout",
     "output_type": "stream",
     "text": [
      "986 5144 2353\n",
      "987 5152 2355\n",
      "988 5153 2356\n",
      "996 5178 2369\n",
      "996 5180 2370\n",
      "997 5182 2371\n"
     ]
    },
    {
     "name": "stderr",
     "output_type": "stream",
     "text": [
      "b'Skipping line 3: expected 10 fields, saw 11\\n'\n"
     ]
    },
    {
     "name": "stdout",
     "output_type": "stream",
     "text": [
      "999 5206 2374\n",
      "1002 5215 2379\n",
      "1003 5241 2381\n",
      "1004 5247 2383\n",
      "1005 5250 2384\n",
      "1008 5272 2389\n",
      "1008 5276 2392\n",
      "1008 5281 2394\n",
      "1008 5282 2394\n",
      "1009 5284 2396\n",
      "1015 5297 2404\n",
      "1017 5299 2406\n",
      "1024 5307 2414\n",
      "1025 5316 2424\n",
      "1027 5320 2428\n",
      "1027 5322 2429\n",
      "1033 5329 2437\n",
      "1033 5336 2440\n",
      "1033 5337 2440\n",
      "1033 5343 2442\n",
      "1034 5344 2443\n",
      "1038 5399 2454\n",
      "1038 5411 2462\n",
      "1038 5414 2463\n",
      "1040 5448 2472\n",
      "1043 5458 2482\n",
      "1043 5465 2483\n",
      "1045 5469 2486\n",
      "1049 5473 2490\n",
      "1051 5476 2492\n",
      "1052 5481 2495\n",
      "1052 5486 2496\n"
     ]
    },
    {
     "name": "stderr",
     "output_type": "stream",
     "text": [
      "b'Skipping line 5: expected 10 fields, saw 11\\n'\n"
     ]
    },
    {
     "name": "stdout",
     "output_type": "stream",
     "text": [
      "1065 5518 2523\n"
     ]
    },
    {
     "name": "stderr",
     "output_type": "stream",
     "text": [
      "b'Skipping line 33: expected 10 fields, saw 11\\nSkipping line 36: expected 10 fields, saw 11\\n'\n"
     ]
    },
    {
     "name": "stdout",
     "output_type": "stream",
     "text": [
      "1071 5571 2539\n",
      "1072 5573 2542\n",
      "1072 5575 2542\n",
      "1076 5585 2555\n",
      "1076 5588 2555\n"
     ]
    },
    {
     "name": "stderr",
     "output_type": "stream",
     "text": [
      "b'Skipping line 14: expected 10 fields, saw 11\\n'\n"
     ]
    },
    {
     "name": "stdout",
     "output_type": "stream",
     "text": [
      "1078 5602 2561\n",
      "1081 5625 2567\n",
      "1083 5629 2569\n"
     ]
    },
    {
     "name": "stderr",
     "output_type": "stream",
     "text": [
      "b'Skipping line 9: expected 10 fields, saw 11\\n'\n"
     ]
    },
    {
     "name": "stdout",
     "output_type": "stream",
     "text": [
      "1085 5642 2574\n",
      "1087 5644 2579\n",
      "1088 5645 2580\n",
      "1095 5687 2592\n",
      "1095 5690 2594\n",
      "1103 5704 2606\n",
      "1104 5716 2610\n",
      "1104 5718 2614\n",
      "1105 5721 2619\n",
      "1105 5724 2619\n",
      "1106 5728 2621\n",
      "1109 5737 2625\n",
      "1110 5738 2626\n",
      "1110 5742 2627\n",
      "1111 5745 2629\n",
      "1113 5747 2631\n",
      "1114 5749 2633\n"
     ]
    },
    {
     "name": "stderr",
     "output_type": "stream",
     "text": [
      "b'Skipping line 50: expected 10 fields, saw 11\\n'\n"
     ]
    },
    {
     "name": "stdout",
     "output_type": "stream",
     "text": [
      "1118 5807 2658\n",
      "1119 5812 2659\n",
      "1119 5813 2659\n",
      "1126 5823 2667\n",
      "1132 5830 2675\n",
      "1133 5832 2676\n",
      "1134 5845 2678\n",
      "1137 5850 2681\n"
     ]
    },
    {
     "name": "stderr",
     "output_type": "stream",
     "text": [
      "b'Skipping line 3: expected 10 fields, saw 11\\n'\n"
     ]
    },
    {
     "name": "stdout",
     "output_type": "stream",
     "text": [
      "1139 5855 2685\n",
      "1144 5862 2702\n",
      "1145 5868 2705\n",
      "1147 5873 2708\n",
      "1147 5877 2709\n",
      "1160 5927 2735\n",
      "1160 5936 2738\n",
      "1161 5941 2743\n",
      "1161 5943 2747\n"
     ]
    },
    {
     "name": "stderr",
     "output_type": "stream",
     "text": [
      "b'Skipping line 63: expected 10 fields, saw 11\\n'\n"
     ]
    },
    {
     "name": "stdout",
     "output_type": "stream",
     "text": [
      "1167 6014 2768\n",
      "1167 6023 2771\n",
      "1171 6047 2784\n",
      "1172 6053 2786\n",
      "1173 6059 2788\n",
      "1176 6067 2791\n",
      "1178 6076 2793\n"
     ]
    },
    {
     "name": "stderr",
     "output_type": "stream",
     "text": [
      "b'Skipping line 53: expected 10 fields, saw 11\\nSkipping line 61: expected 10 fields, saw 11\\nSkipping line 105: expected 10 fields, saw 11\\nSkipping line 106: expected 10 fields, saw 11\\nSkipping line 108: expected 10 fields, saw 11\\n'\n"
     ]
    },
    {
     "name": "stdout",
     "output_type": "stream",
     "text": [
      "1190 6190 2832\n",
      "1191 6192 2833\n",
      "1191 6200 2835\n",
      "1195 6208 2841\n",
      "1195 6221 2843\n",
      "1195 6225 2845\n",
      "1195 6229 2846\n"
     ]
    },
    {
     "name": "stderr",
     "output_type": "stream",
     "text": [
      "b'Skipping line 8: expected 10 fields, saw 11\\n'\n"
     ]
    },
    {
     "name": "stdout",
     "output_type": "stream",
     "text": [
      "1199 6243 2858\n",
      "1199 6244 2858\n",
      "1201 6253 2862\n",
      "1201 6259 2864\n",
      "1202 6260 2865\n",
      "1203 6262 2867\n"
     ]
    },
    {
     "name": "stderr",
     "output_type": "stream",
     "text": [
      "b'Skipping line 9: expected 10 fields, saw 11\\nSkipping line 20: expected 10 fields, saw 11\\nSkipping line 22: expected 10 fields, saw 11\\n'\n"
     ]
    },
    {
     "name": "stdout",
     "output_type": "stream",
     "text": [
      "1212 6293 2898\n",
      "1213 6315 2901\n",
      "1215 6319 2903\n",
      "1219 6340 2916\n",
      "1220 6343 2918\n",
      "1220 6344 2920\n"
     ]
    },
    {
     "name": "stderr",
     "output_type": "stream",
     "text": [
      "b'Skipping line 2: expected 10 fields, saw 11\\n'\n"
     ]
    },
    {
     "name": "stdout",
     "output_type": "stream",
     "text": [
      "1220 6350 2923\n",
      "1224 6357 2928\n",
      "1226 6361 2931\n",
      "1228 6393 2935\n",
      "1229 6398 2938\n",
      "1230 6402 2943\n"
     ]
    },
    {
     "name": "stderr",
     "output_type": "stream",
     "text": [
      "b'Skipping line 30: expected 10 fields, saw 12\\nSkipping line 32: expected 10 fields, saw 11\\nSkipping line 92: expected 10 fields, saw 11\\nSkipping line 103: expected 10 fields, saw 11\\n'\n"
     ]
    },
    {
     "name": "stdout",
     "output_type": "stream",
     "text": [
      "1266 6537 3006\n",
      "1268 6548 3011\n",
      "1268 6555 3012\n",
      "1271 6561 3018\n"
     ]
    },
    {
     "name": "stderr",
     "output_type": "stream",
     "text": [
      "b'Skipping line 4: expected 10 fields, saw 11\\n'\n"
     ]
    },
    {
     "name": "stdout",
     "output_type": "stream",
     "text": [
      "1273 6565 3022\n",
      "1275 6570 3026\n",
      "1276 6577 3028\n"
     ]
    },
    {
     "name": "stderr",
     "output_type": "stream",
     "text": [
      "b'Skipping line 24: expected 10 fields, saw 11\\n'\n"
     ]
    },
    {
     "name": "stdout",
     "output_type": "stream",
     "text": [
      "1285 6639 3048\n",
      "1291 6666 3059\n"
     ]
    },
    {
     "name": "stderr",
     "output_type": "stream",
     "text": [
      "b'Skipping line 161: expected 10 fields, saw 11\\n'\n"
     ]
    },
    {
     "name": "stdout",
     "output_type": "stream",
     "text": [
      "1330 6828 3124\n",
      "1330 6831 3125\n",
      "1335 6843 3137\n",
      "1335 6849 3139\n",
      "1342 6880 3147\n",
      "1342 6883 3148\n",
      "1344 6885 3150\n",
      "1346 6890 3153\n",
      "1346 6892 3154\n",
      "1347 6895 3156\n",
      "1347 6897 3157\n",
      "1349 6900 3162\n",
      "1349 6917 3168\n",
      "1350 6921 3170\n",
      "1353 6928 3173\n",
      "1354 6929 3174\n",
      "1354 6931 3175\n",
      "1355 6933 3176\n",
      "1356 6975 3181\n",
      "1356 6978 3183\n",
      "1357 6980 3184\n",
      "1358 6983 3185\n",
      "1358 6988 3186\n",
      "1358 6991 3189\n",
      "1359 6995 3191\n"
     ]
    },
    {
     "name": "stderr",
     "output_type": "stream",
     "text": [
      "b'Skipping line 16: expected 10 fields, saw 11\\n'\n"
     ]
    },
    {
     "name": "stdout",
     "output_type": "stream",
     "text": [
      "1373 7012 3217\n",
      "1373 7013 3219\n",
      "1373 7021 3226\n"
     ]
    },
    {
     "name": "stderr",
     "output_type": "stream",
     "text": [
      "b'Skipping line 12: expected 10 fields, saw 11\\n'\n"
     ]
    },
    {
     "name": "stdout",
     "output_type": "stream",
     "text": [
      "1378 7038 3241\n",
      "1380 7050 3246\n",
      "1383 7059 3255\n",
      "1385 7068 3258\n",
      "1386 7074 3259\n",
      "1388 7080 3263\n",
      "1388 7083 3264\n"
     ]
    },
    {
     "name": "stderr",
     "output_type": "stream",
     "text": [
      "b'Skipping line 3: expected 10 fields, saw 11\\n'\n"
     ]
    },
    {
     "name": "stdout",
     "output_type": "stream",
     "text": [
      "1393 7092 3270\n",
      "1393 7095 3273\n",
      "1394 7106 3277\n",
      "1396 7115 3281\n",
      "1399 7133 3306\n",
      "1400 7142 3308\n",
      "1401 7204 3311\n",
      "1401 7206 3312\n",
      "1412 7362 3339\n",
      "1413 7367 3341\n",
      "1413 7368 3342\n",
      "1415 7370 3349\n",
      "1416 7373 3353\n",
      "1416 7384 3353\n",
      "1418 7392 3362\n",
      "1422 7400 3368\n",
      "1423 7403 3371\n",
      "1426 7406 3374\n",
      "1430 7423 3382\n",
      "1430 7424 3382\n",
      "1430 7431 3382\n",
      "1433 7437 3386\n",
      "1433 7445 3388\n",
      "1434 7446 3389\n",
      "1435 7455 3393\n",
      "1440 7494 3403\n",
      "1441 7504 3406\n",
      "1441 7513 3407\n",
      "1442 7516 3409\n",
      "1443 7531 3410\n",
      "1443 7541 3413\n",
      "1446 7544 3417\n",
      "1446 7555 3419\n",
      "1446 7557 3419\n",
      "1448 7559 3421\n",
      "1448 7564 3423\n",
      "1449 7566 3424\n",
      "1451 7569 3428\n",
      "1453 7575 3430\n",
      "1454 7581 3434\n",
      "1454 7585 3434\n",
      "1457 7595 3438\n",
      "1459 7598 3440\n",
      "1460 7601 3441\n",
      "1461 7604 3445\n",
      "1464 7611 3449\n",
      "1465 7612 3450\n",
      "1466 7626 3459\n",
      "1466 7632 3461\n",
      "1467 7636 3463\n",
      "1469 7642 3469\n",
      "1469 7643 3470\n",
      "1469 7647 3472\n",
      "1469 7658 3474\n",
      "1481 7718 3499\n",
      "1492 7732 3523\n",
      "1494 7734 3527\n",
      "1494 7744 3528\n",
      "1494 7750 3529\n",
      "1494 7751 3530\n",
      "1497 7758 3539\n"
     ]
    },
    {
     "name": "stderr",
     "output_type": "stream",
     "text": [
      "b'Skipping line 22: expected 10 fields, saw 11\\nSkipping line 25: expected 10 fields, saw 11\\n'\n"
     ]
    },
    {
     "name": "stdout",
     "output_type": "stream",
     "text": [
      "1505 7783 3563\n",
      "1507 7787 3565\n",
      "1509 7792 3568\n",
      "1511 7800 3571\n",
      "1511 7802 3575\n",
      "1513 7806 3578\n",
      "1528 7836 3599\n",
      "1532 7841 3605\n",
      "1534 7848 3608\n",
      "1534 7851 3610\n",
      "1537 7876 3618\n",
      "1540 7880 3622\n",
      "1540 7883 3629\n",
      "1541 7885 3630\n",
      "1544 7889 3633\n",
      "1544 7896 3635\n",
      "1546 7899 3637\n",
      "1546 7904 3638\n"
     ]
    },
    {
     "name": "stderr",
     "output_type": "stream",
     "text": [
      "b'Skipping line 27: expected 10 fields, saw 11\\nSkipping line 28: expected 10 fields, saw 11\\n'\n"
     ]
    },
    {
     "name": "stdout",
     "output_type": "stream",
     "text": [
      "1554 7940 3655\n",
      "1554 7944 3657\n",
      "1555 7956 3659\n",
      "1556 7975 3665\n",
      "1559 7988 3671\n",
      "1560 7990 3677\n",
      "1561 7993 3678\n",
      "1563 8022 3685\n",
      "1563 8026 3688\n",
      "1565 8038 3691\n",
      "1566 8040 3694\n",
      "1570 8045 3699\n",
      "1574 8049 3703\n",
      "1575 8084 3710\n",
      "1575 8092 3710\n",
      "1575 8099 3712\n",
      "1578 8106 3718\n",
      "1581 8110 3721\n",
      "1590 8131 3734\n",
      "1592 8134 3737\n",
      "1593 8141 3741\n",
      "1601 8188 3757\n",
      "1603 8194 3760\n",
      "1603 8195 3760\n",
      "1603 8200 3765\n",
      "1606 8212 3770\n",
      "1606 8214 3774\n",
      "1607 8230 3782\n",
      "1608 8239 3785\n",
      "1617 8251 3798\n",
      "1619 8254 3801\n",
      "1620 8255 3802\n",
      "1622 8281 3809\n",
      "1623 8285 3811\n",
      "1625 8288 3816\n",
      "1630 8294 3821\n",
      "1633 8300 3825\n",
      "1637 8306 3832\n",
      "1639 8330 3836\n",
      "1646 8348 3846\n",
      "1647 8351 3848\n",
      "1648 8356 3850\n"
     ]
    }
   ],
   "source": [
    "# iou 合适的\n",
    "for model_name in model_list[3:]:\n",
    "    torch.cuda.empty_cache()\n",
    "    epoch = model_name.split(\"_\")[2]\n",
    "    print(epoch)\n",
    "    weights = model_dir + model_name\n",
    "\n",
    "    model = CTPN_Model()\n",
    "    model.load_state_dict(torch.load(weights, map_location=device)['model_state_dict'])\n",
    "    model.to(device)\n",
    "    model.eval()\n",
    "    \n",
    "    iou_num = 0\n",
    "    txt_num = 0\n",
    "    pred_num = 0\n",
    "    df = pd.DataFrame()\n",
    "    iou_num_list = []\n",
    "    txt_num_list = []\n",
    "    pred_num_list = []\n",
    "\n",
    "    val_img_dir = \"/remote-home/my/final/train/img-val/\"\n",
    "    val_gt_dir = \"/remote-home/my/final/train/gt-val/\"\n",
    "\n",
    "    # df_record_num = pd.DataFrame(columns = ['iou_num','txt_num','pred_num'])\n",
    "\n",
    "    for idx in range(len(os.listdir(val_img_dir))):\n",
    "        jpg = os.listdir(val_img_dir)[idx]\n",
    "        txtname = jpg.replace(\"jpg\",\"txt\")\n",
    "\n",
    "        torch.cuda.empty_cache()\n",
    "\n",
    "    #     print(val_gt_dir + txtname)\n",
    "        txt = pd.read_csv(val_gt_dir + txtname,header=None,error_bad_lines=False)\n",
    "        txt_num += len(txt)\n",
    "        image = cv2.imread(val_img_dir+jpg)\n",
    "\n",
    "        try:\n",
    "            text,image_after = get_det_boxes(model,image)\n",
    "        except:\n",
    "\n",
    "            print(\"cuda error\")\n",
    "            torch.cuda.empty_cache()\n",
    "            continue\n",
    "        pred_num += len(text)\n",
    "\n",
    "        dfnew = pd.DataFrame(text)\n",
    "        dfnew[\"origin_jpg\"] = str(jpg).zfill(5)+\".jpg\"\n",
    "        dfnew[\"index\"] = dfnew.index\n",
    "\n",
    "        df = pd.concat([df, dfnew], axis=0)\n",
    "        for j in range(len(text)):\n",
    "            torch.cuda.empty_cache()\n",
    "            for i in range(len(txt)):\n",
    "                torch.cuda.empty_cache()\n",
    "                gt = list(txt.iloc[i][0:8])\n",
    "                iou = cal_iou(text[j][0:8],gt)\n",
    "                if iou > 0.5:\n",
    "    #                 print(j)\n",
    "                    iou_num += 1\n",
    "        iou_num_list.append(iou_num)\n",
    "        txt_num_list.append(txt_num)\n",
    "        pred_num_list.append(pred_num)\n",
    "        print(iou_num,txt_num,pred_num)\n",
    "    df_record_num = pd.DataFrame()\n",
    "    df_record_num[\"iou_num\"]=iou_num_list\n",
    "    df_record_num[\"txt_num\"]=txt_num_list\n",
    "    df_record_num[\"pred_num\"]=pred_num_list\n",
    "    df_record_num.to_csv(epoch+\"_df_record_num.txt\")"
   ]
  },
  {
   "cell_type": "code",
   "execution_count": 12,
   "metadata": {},
   "outputs": [],
   "source": [
    "df = pd.DataFrame()\n",
    "for model_name in model_list[3:]:\n",
    "    epoch = model_name.split(\"_\")[2]\n",
    "    num = int(epoch.replace(\"ep\",\"\"))\n",
    "    df_new = pd.read_csv(epoch+\"_df_record_num.txt\")\n",
    "    df_new[\"ep\"] = num\n",
    "    df = pd.concat([df, df_new], axis=0)"
   ]
  },
  {
   "cell_type": "code",
   "execution_count": 17,
   "metadata": {},
   "outputs": [],
   "source": [
    "df.columns = ['pic_index', 'iou_num', 'txt_num', 'pred_num', 'ep']\n",
    "df.to_csv(\"total_df_record_num.txt\")"
   ]
  },
  {
   "cell_type": "code",
   "execution_count": null,
   "metadata": {},
   "outputs": [],
   "source": [
    "torch.cuda.empty_cache()"
   ]
  },
  {
   "cell_type": "code",
   "execution_count": null,
   "metadata": {},
   "outputs": [],
   "source": [
    "!nvidia-smi"
   ]
  },
  {
   "cell_type": "code",
   "execution_count": null,
   "metadata": {},
   "outputs": [],
   "source": [
    "!fuser -v /dev/nvidia*   "
   ]
  },
  {
   "cell_type": "code",
   "execution_count": null,
   "metadata": {},
   "outputs": [],
   "source": [
    "!kill 5504"
   ]
  },
  {
   "cell_type": "code",
   "execution_count": null,
   "metadata": {},
   "outputs": [],
   "source": [
    "!cat /usr/local/cuda/version.txt"
   ]
  },
  {
   "cell_type": "code",
   "execution_count": null,
   "metadata": {},
   "outputs": [],
   "source": [
    "np.set_printoptions(suppress=True)\n",
    "\n",
    "np.around(text, decimals=2)"
   ]
  }
 ],
 "metadata": {
  "kernelspec": {
   "display_name": "Python 3",
   "language": "python",
   "name": "python3"
  },
  "language_info": {
   "codemirror_mode": {
    "name": "ipython",
    "version": 3
   },
   "file_extension": ".py",
   "mimetype": "text/x-python",
   "name": "python",
   "nbconvert_exporter": "python",
   "pygments_lexer": "ipython3",
   "version": "3.7.3"
  }
 },
 "nbformat": 4,
 "nbformat_minor": 2
}
